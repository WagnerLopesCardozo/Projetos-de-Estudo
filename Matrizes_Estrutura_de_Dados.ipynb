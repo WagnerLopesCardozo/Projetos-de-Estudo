{
  "nbformat": 4,
  "nbformat_minor": 0,
  "metadata": {
    "colab": {
      "name": "Matrizes_Estrutura_de_Dados.ipynb",
      "provenance": [],
      "authorship_tag": "ABX9TyPJOEJczdTewHbr9YoKSrby",
      "include_colab_link": true
    },
    "kernelspec": {
      "name": "python3",
      "display_name": "Python 3"
    },
    "language_info": {
      "name": "python"
    }
  },
  "cells": [
    {
      "cell_type": "markdown",
      "metadata": {
        "id": "view-in-github",
        "colab_type": "text"
      },
      "source": [
        "<a href=\"https://colab.research.google.com/github/WagnerLopesCardozo/Projetos-de-Estudo-CD-FaTec-Ourinhos/blob/main/Matrizes_Estrutura_de_Dados.ipynb\" target=\"_parent\"><img src=\"https://colab.research.google.com/assets/colab-badge.svg\" alt=\"Open In Colab\"/></a>"
      ]
    },
    {
      "cell_type": "code",
      "execution_count": 1,
      "metadata": {
        "colab": {
          "base_uri": "https://localhost:8080/"
        },
        "id": "s8OUbA1pw5Pi",
        "outputId": "2911838f-7fce-4ced-917e-8959843030d4"
      },
      "outputs": [
        {
          "output_type": "stream",
          "name": "stdout",
          "text": [
            "Digite um número: 89\n",
            "Digite um número: 7\n",
            "Digite um número: 49\n",
            "Digite um número: 72\n",
            "Digite um número: 9\n",
            "[89.0, 7.0, 49.0, 72.0, 9.0]\n"
          ]
        }
      ],
      "source": [
        "num1=float(input('Digite um número: '))\n",
        "num2=float(input('Digite um número: '))\n",
        "num3=float(input('Digite um número: '))\n",
        "num4=float(input('Digite um número: '))\n",
        "num5=float(input('Digite um número: '))\n",
        "\n",
        "vetor=[num1, num2, num3, num4, num5]\n",
        "\n",
        "print(vetor)"
      ]
    },
    {
      "cell_type": "markdown",
      "source": [
        "#Manipulando Matrizes - Estrutura de Dados\n"
      ],
      "metadata": {
        "id": "aJt_2MQW23jG"
      }
    },
    {
      "cell_type": "code",
      "source": [
        "matriz=[[2,4,8], [32,1,-7]]\n",
        "print(matriz)\n",
        "matriz[1][0]=44\n",
        "print(matriz)\n"
      ],
      "metadata": {
        "colab": {
          "base_uri": "https://localhost:8080/"
        },
        "id": "KdnrP4SYzUUb",
        "outputId": "80517c59-714b-4c3b-904c-4b4e2b19d9c3"
      },
      "execution_count": 8,
      "outputs": [
        {
          "output_type": "stream",
          "name": "stdout",
          "text": [
            "[[2, 4, 8], [32, 1, -7]]\n",
            "[[2, 4, 8], [44, 1, -7]]\n"
          ]
        }
      ]
    },
    {
      "cell_type": "code",
      "source": [
        "import random\n",
        "m=[]\n",
        "i=0\n",
        "j=0\n",
        "max_i=3\n",
        "max_j=3\n",
        "\n",
        "for i in range (max_i):\n",
        "  linha=[]\n",
        "  for j in range (max_j):\n",
        "    linha.append([])\n",
        "m.append(linha)\n",
        "print=(m)"
      ],
      "metadata": {
        "id": "-bmZlUWn13QK"
      },
      "execution_count": 14,
      "outputs": []
    },
    {
      "cell_type": "code",
      "source": [
        ""
      ],
      "metadata": {
        "id": "TcToymvGGza6"
      },
      "execution_count": null,
      "outputs": []
    }
  ]
}