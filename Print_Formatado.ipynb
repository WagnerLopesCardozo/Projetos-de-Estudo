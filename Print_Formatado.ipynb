{
  "nbformat": 4,
  "nbformat_minor": 0,
  "metadata": {
    "colab": {
      "name": "Print_Formatado.ipynb",
      "provenance": [],
      "collapsed_sections": [],
      "authorship_tag": "ABX9TyN2+V9CIc+H//AmH4/arHDv",
      "include_colab_link": true
    },
    "kernelspec": {
      "name": "python3",
      "display_name": "Python 3"
    },
    "language_info": {
      "name": "python"
    }
  },
  "cells": [
    {
      "cell_type": "markdown",
      "metadata": {
        "id": "view-in-github",
        "colab_type": "text"
      },
      "source": [
        "<a href=\"https://colab.research.google.com/github/WagnerLopesCardozo/Projetos-de-Estudo-CD-FaTec-Ourinhos/blob/main/Print_Formatado.ipynb\" target=\"_parent\"><img src=\"https://colab.research.google.com/assets/colab-badge.svg\" alt=\"Open In Colab\"/></a>"
      ]
    },
    {
      "cell_type": "code",
      "metadata": {
        "colab": {
          "base_uri": "https://localhost:8080/"
        },
        "id": "H8NEG30D1ixk",
        "outputId": "1c9c9326-3422-493b-8ff5-fffea63c4d25"
      },
      "source": [
        "'''\n",
        "Código que lê o nome, idade e salário de uma pessoa\n",
        "'''\n",
        "\n",
        "nome = str ( input ('Digite seu nome: '))\n",
        "idade = int ( input ('Digite sua idade: '))\n",
        "salario = float ( input ('Digite seu dalário: '))\n",
        "\n",
        "print (f'O(a) {nome} tem {idade} anos de idade e recebe um salário de R$ {salario:.2f}')"
      ],
      "execution_count": 2,
      "outputs": [
        {
          "output_type": "stream",
          "name": "stdout",
          "text": [
            "Digite seu nome: Wagner\n",
            "Digite sua idade: 49\n",
            "Digite seu dalário: 8700\n",
            "O(a) Wagner tem 49 anos de idade e recebe um salário de R$ 8700.00\n"
          ]
        }
      ]
    },
    {
      "cell_type": "code",
      "metadata": {
        "colab": {
          "base_uri": "https://localhost:8080/"
        },
        "id": "7LdcpZPP2FPx",
        "outputId": "2632e403-eff1-4b88-a853-2373caec3618"
      },
      "source": [
        "'''\n",
        "Print formatado para colocar acabamento no código, colocando 40 sinais de iguais\n",
        "um ao lado do outro ex: ========================================.\n",
        "'''\n",
        "\n",
        "print ('='*40)\n",
        "\n",
        "print ('Testando Formatação')\n",
        "\n",
        "print ('='*40) # Bom para colocar título na saída outpup do código.\n",
        "\n",
        "curso = 'CD'\n",
        "\n",
        "print (f'O nosso curso é {curso}!') # Print sem formatação\n",
        "print (f'O nosso curso é {curso:20}!') # Print formata o código 20 espaços depois do curso ou com 20 espaços depois do curso.\n",
        "print (f'O nosso curso é {curso:>20}!') # Print alinha a direita depois de 20 espaços.\n",
        "print (f'O nosso curso é {curso:<20}!') # Print alinha a esquerda com 20 espaços depois.\n",
        "print (f'O nosso curso é {curso:^20}!') # Print centraliza dentro de 20 espaços.\n",
        "print (f'O nosso curso é {curso:=^20}!') # Print centraliza o curso entre o sinal \"=\".\n",
        "print (f'O nosso curso é {curso:.>20}!') # Print alinha a direita depois de 20 pontos."
      ],
      "execution_count": 4,
      "outputs": [
        {
          "output_type": "stream",
          "name": "stdout",
          "text": [
            "========================================\n",
            "Testando Formatação\n",
            "========================================\n",
            "O nosso curso é CD!\n",
            "O nosso curso é CD                  !\n",
            "O nosso curso é                   CD!\n",
            "O nosso curso é CD                  !\n",
            "O nosso curso é          CD         !\n",
            "O nosso curso é =========CD=========!\n",
            "O nosso curso é ..................CD!\n"
          ]
        }
      ]
    },
    {
      "cell_type": "code",
      "metadata": {
        "colab": {
          "base_uri": "https://localhost:8080/"
        },
        "id": "QXEArI3v2RGK",
        "outputId": "01d0ac87-748c-4780-a8cd-5720ca7173b1"
      },
      "source": [
        "'''\n",
        "Print que cria uma lista tabulada\n",
        "'''\n",
        "\n",
        "print ('-'*30)\n",
        "print (f'{\"Listagem das Notas\":^30}')\n",
        "print ('-'*30) # Print para formatar o título.\n",
        "\n",
        "nome1 = str ( input ('Digite o nome do 1º aluno: '))\n",
        "nota1 = float ( input ('Digite a nota do 1º aluno: '))\n",
        "nome2 = str ( input ('Digite o nome do 2º aluno: '))\n",
        "nota2 = float ( input ('Digite a nota do 2º aluno: '))\n",
        "\n",
        "print (f'{nome1:.<25}{nota1:.2f}') # O nome fica a esquerda e depois vem 25 pontos \".\"\n",
        "print (f'{nome2:.<25}{nota2:.2f}') # A nota fica a direita e com duas casas decimais."
      ],
      "execution_count": 6,
      "outputs": [
        {
          "output_type": "stream",
          "name": "stdout",
          "text": [
            "------------------------------\n",
            "      Listagem das Notas      \n",
            "------------------------------\n",
            "Digite o nome do 1º aluno: Wagner\n",
            "Digite a nota do 1º aluno: 9.0\n",
            "Digite o nome do 2º aluno: Marcos\n",
            "Digite a nota do 2º aluno: 8.5\n",
            "Wagner...................9.00\n",
            "Marcos...................8.50\n"
          ]
        }
      ]
    }
  ]
}