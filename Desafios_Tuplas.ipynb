{
  "nbformat": 4,
  "nbformat_minor": 0,
  "metadata": {
    "colab": {
      "name": "Desafios_Tuplas.ipynb",
      "provenance": [],
      "authorship_tag": "ABX9TyOiKDz05SAL4TRPSAq8+jDR",
      "include_colab_link": true
    },
    "kernelspec": {
      "name": "python3",
      "display_name": "Python 3"
    },
    "language_info": {
      "name": "python"
    }
  },
  "cells": [
    {
      "cell_type": "markdown",
      "metadata": {
        "id": "view-in-github",
        "colab_type": "text"
      },
      "source": [
        "<a href=\"https://colab.research.google.com/github/WagnerLopesCardozo/Projetos-de-Estudo-CD-FaTec-Ourinhos/blob/main/Desafios_Tuplas.ipynb\" target=\"_parent\"><img src=\"https://colab.research.google.com/assets/colab-badge.svg\" alt=\"Open In Colab\"/></a>"
      ]
    },
    {
      "cell_type": "markdown",
      "source": [
        "Primeiro Desafio"
      ],
      "metadata": {
        "id": "uIyXdsBvGkYb"
      }
    },
    {
      "cell_type": "code",
      "execution_count": 2,
      "metadata": {
        "colab": {
          "base_uri": "https://localhost:8080/"
        },
        "id": "rARrZqc9GUFj",
        "outputId": "b948116a-976c-4868-c783-2e2e9a6f44bd"
      },
      "outputs": [
        {
          "output_type": "stream",
          "name": "stdout",
          "text": [
            "(6, 9, 9, 7, 2)\n",
            "O maior numero: 9\n",
            "O menor numero: 2\n"
          ]
        }
      ],
      "source": [
        "from random import randint\n",
        "tupla = (randint(1,10),randint(1,10),randint(1,10),randint(1,10),randint(1,10))\n",
        "print (tupla)\n",
        "print (f'O maior numero: {max(tupla)}')\n",
        "print (f'O menor numero: {min(tupla)}')"
      ]
    }
  ]
}