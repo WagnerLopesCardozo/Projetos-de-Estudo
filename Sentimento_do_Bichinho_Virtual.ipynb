{
  "nbformat": 4,
  "nbformat_minor": 0,
  "metadata": {
    "colab": {
      "name": "Sentimento_do_Bichinho_Virtual.ipynb",
      "provenance": [],
      "collapsed_sections": [],
      "authorship_tag": "ABX9TyPvexEDiqfq0ZciMSFM26JW",
      "include_colab_link": true
    },
    "kernelspec": {
      "name": "python3",
      "display_name": "Python 3"
    },
    "language_info": {
      "name": "python"
    }
  },
  "cells": [
    {
      "cell_type": "markdown",
      "metadata": {
        "id": "view-in-github",
        "colab_type": "text"
      },
      "source": [
        "<a href=\"https://colab.research.google.com/github/WagnerLopesCardozo/Projetos-de-Estudo-CD-FaTec-Ourinhos/blob/main/Sentimento_do_Bichinho_Virtual.ipynb\" target=\"_parent\"><img src=\"https://colab.research.google.com/assets/colab-badge.svg\" alt=\"Open In Colab\"/></a>"
      ]
    },
    {
      "cell_type": "code",
      "execution_count": 1,
      "metadata": {
        "colab": {
          "base_uri": "https://localhost:8080/"
        },
        "id": "YlE-RygReWqW",
        "outputId": "cf5de0ea-5612-4897-a0af-76662920b0a4"
      },
      "outputs": [
        {
          "output_type": "stream",
          "name": "stdout",
          "text": [
            "****************************\n",
            "Programa do Bichinho Virtual\n",
            "****************************\n",
            "Wagner\n",
            "50\n",
            "Eu estou feliz!\n",
            "Eu estou tão fraco que não consigo pensar numa resposta!\n",
            "\n",
            "FIM DO PROGRAMA\n"
          ]
        }
      ],
      "source": [
        "print('*'*28)\n",
        "print('Programa do Bichinho Virtual')\n",
        "print('*'*28)\n",
        "\n",
        "class BichinhoVirtual:\n",
        "\tdef __init__(self, nome, idade):\n",
        "\t\tself.__nome = nome\n",
        "\t\tself.__idade = idade\n",
        "\t\tself.__fome = 100\n",
        "\t\tself.__saude = 100\n",
        "\n",
        "\tdef get_nome(self):\n",
        "\t\treturn self.__nome\n",
        "\n",
        "\tdef set_nome(self, novo_nome):\n",
        "\t\tself.__nome = novo_nome\n",
        "\n",
        "\tdef get_idade(self):\n",
        "\t\treturn self.__idade\n",
        "\n",
        "\tdef set_idade(self, novo_idade):\n",
        "\t\tself.__idade = novo_idade\n",
        "\n",
        "\tdef get_fome(self):\n",
        "\t\treturn self.__fome\n",
        "\n",
        "\tdef set_fome(self, novo_fome):\n",
        "\t\tself.__fome = novo_fome\n",
        "\n",
        "\tdef get_saude(self):\n",
        "\t\treturn self.__saude\n",
        "\n",
        "\tdef set_saude(self, novo_saude):\n",
        "\t\tself.__saude = novo_saude\n",
        "\n",
        "\tdef get_humor(self):\n",
        "\t\tif self.get_fome() >= 70 and self.get_saude() >= 70:\n",
        "\t\t\treturn \"Eu estou feliz!\"\n",
        "\n",
        "\t\telif self.get_fome() >= 50 and self.get_saude() >= 50:\n",
        "\t\t\treturn \"Não estou simpático!\"\n",
        "\n",
        "\t\telif self.get_fome() >= 30 and self.get_saude() >= 30:\n",
        "\t\t\treturn \"Eu estou triste!\"\n",
        "\n",
        "\t\telse:\n",
        "\t\t\treturn \"Eu estou tão fraco que não consigo pensar numa resposta!\"\n",
        "\n",
        "bichinho = BichinhoVirtual(\"Wagner\", 50)\n",
        "\n",
        "print( bichinho.get_nome() )\n",
        "print( bichinho.get_idade() )\n",
        "print( bichinho.get_humor() )\n",
        "\n",
        "bichinho.set_saude(60)\n",
        "bichinho.set_fome(10)\n",
        "\n",
        "print( bichinho.get_humor() )\n",
        "\n",
        "print()\n",
        "print('FIM DO PROGRAMA')"
      ]
    }
  ]
}