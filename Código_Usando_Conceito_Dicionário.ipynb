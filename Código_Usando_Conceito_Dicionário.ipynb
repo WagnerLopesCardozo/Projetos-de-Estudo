{
  "nbformat": 4,
  "nbformat_minor": 0,
  "metadata": {
    "colab": {
      "name": "Código_Usando_Conceito_Dicionário.ipynb",
      "provenance": [],
      "authorship_tag": "ABX9TyP88nFwNvfuVzF1A+Afpx9z",
      "include_colab_link": true
    },
    "kernelspec": {
      "name": "python3",
      "display_name": "Python 3"
    },
    "language_info": {
      "name": "python"
    }
  },
  "cells": [
    {
      "cell_type": "markdown",
      "metadata": {
        "id": "view-in-github",
        "colab_type": "text"
      },
      "source": [
        "<a href=\"https://colab.research.google.com/github/WagnerLopesCardozo/Projetos-de-Estudo-CD-FaTec-Ourinhos/blob/main/C%C3%B3digo_Usando_Conceito_Dicion%C3%A1rio.ipynb\" target=\"_parent\"><img src=\"https://colab.research.google.com/assets/colab-badge.svg\" alt=\"Open In Colab\"/></a>"
      ]
    },
    {
      "cell_type": "markdown",
      "source": [
        "#Códigos em Python Utilizando o Conceito de Dicionários"
      ],
      "metadata": {
        "id": "bZOq7T_423f5"
      }
    },
    {
      "cell_type": "markdown",
      "source": [
        "Código que represente o saldo de gols de um time de futebol. Ler o nome do time, número de partidas jogadas e a quantidade de gols feitos em cada partida, guardando tudo em um dicionário, inclusive o total de gols feitos durante todo o campeonato."
      ],
      "metadata": {
        "id": "YlT2mBSFePbk"
      }
    },
    {
      "cell_type": "code",
      "execution_count": 16,
      "metadata": {
        "colab": {
          "base_uri": "https://localhost:8080/"
        },
        "id": "LRyQ4ho7eNAq",
        "outputId": "9122e95e-47b4-468f-e7da-139839dfebab"
      },
      "outputs": [
        {
          "output_type": "stream",
          "name": "stdout",
          "text": [
            "**************************************************************************\n",
            "Programa que represente o saldo de gols de um time de futebol. Ler o nome\n",
            "do time, número de partidas jogadas e a quantidade de gols feitos em cada\n",
            "partida, guardando tudo em um dicionário, inclusive o total de gols feitos\n",
            "durante todo o campeonato.\n",
            "**************************************************************************\n",
            "\n",
            "Digite o nome do time: Flamengo\n",
            "Quantas partidas o time Flamengo jogou? 4\n",
            "Quantos gols o time fez na partida 0 ?2\n",
            "Quantos gols o time fez na partida 1 ?3\n",
            "Quantos gols o time fez na partida 2 ?4\n",
            "Quantos gols o time fez na partida 3 ?2\n",
            "\n",
            "*******************************************************\n",
            "\n",
            "{'nome': 'Flamengo', 'gols': [2, 3, 4, 2], 'total': 11}\n",
            "\n",
            "*******************************************************\n",
            "\n",
            "O campo nome tem o valor Flamengo.\n",
            "O campo gols tem o valor [2, 3, 4, 2].\n",
            "O campo total tem o valor 11.\n",
            "\n",
            "**************************************\n",
            "\n",
            "O time Flamengo jogou 4 partidas.\n",
            "Na partida 0 o time fez 2 gols.\n",
            "Na partida 1 o time fez 3 gols.\n",
            "Na partida 2 o time fez 4 gols.\n",
            "Na partida 3 o time fez 2 gols.\n",
            "O time fez um total de 11 gols\n",
            "\n",
            "FIM DO PROGRAMA\n"
          ]
        }
      ],
      "source": [
        "print('*'*74)\n",
        "print('Programa que represente o saldo de gols de um time de futebol. Ler o nome\\ndo time, número de partidas jogadas e a quantidade de gols feitos em cada\\npartida, guardando tudo em um dicionário, inclusive o total de gols feitos\\ndurante todo o campeonato.')\n",
        "print('*'*74)\n",
        "\n",
        "\n",
        "time = dict()\n",
        "partidas = list()\n",
        "\n",
        "print()\n",
        "\n",
        "time ['nome'] = str(input('Digite o nome do time: '))\n",
        "\n",
        "totalPartidas = int(input(f'Quantas partidas o time {time[\"nome\"]} jogou? '))\n",
        "\n",
        "for c in range (0, totalPartidas):\n",
        "  partidas.append(int(input(f'Quantos gols o time fez na partida {c} ?')))\n",
        "\n",
        "time ['gols'] = partidas [:]\n",
        "time ['total'] = sum(partidas)\n",
        "\n",
        "print()\n",
        "print('*'*55)\n",
        "print()\n",
        "print(time)\n",
        "print()\n",
        "print('*'*55)\n",
        "print()\n",
        "\n",
        "for k, v in time.items():\n",
        "  print(f'O campo {k} tem o valor {v}.')\n",
        "\n",
        "print()\n",
        "print('*'*38)\n",
        "print()\n",
        "\n",
        "print(f'O time {time[\"nome\"]} jogou {len(time[\"gols\"])} partidas.')\n",
        "\n",
        "for i, v in enumerate(time['gols']):\n",
        "  print(f'Na partida {i} o time fez {v} gols.')\n",
        "print(f'O time fez um total de {time[\"total\"]} gols')\n",
        "\n",
        "print()\n",
        "print('FIM DO PROGRAMA')"
      ]
    },
    {
      "cell_type": "markdown",
      "source": [
        "Código que lê nome, curso e idade de várias pessoas, guardando os dados de cada pessoa em um dicionário e o dicionário em uma lista. Mostre no final os dados de todas as pessoas tabulados, a quantidade de pessoas cadastradas, uma lista com os maiores de idade e uma lista com os menores de idade."
      ],
      "metadata": {
        "id": "g73Fz8x8kqep"
      }
    },
    {
      "cell_type": "code",
      "source": [
        "print('*'*73)\n",
        "print('Programa que lê nome, curso e idade de várias pessoas, guardando os dados\\nde cada  pessoa em um dicionário e o dicionário em uma lista. Mostre no\\nfinal osdados de todas as pessoas tabulados, a quantidade de pessoas\\ncadastradas, uma lista com os maiores de idade e uma lista com os menores\\nde idade.')\n",
        "print('*'*73)\n",
        "\n",
        "\n",
        "dadosLista = list()\n",
        "dadosDicionario = dict()\n",
        "\n",
        "while True:\n",
        "  dadosDicionario.clear()\n",
        "  dadosDicionario ['nome'] = str(input('Digite o nome do aluno: '))\n",
        "  dadosDicionario ['curso'] = str(input('Digite o curso do aluno: '))\n",
        "  dadosDicionario ['idade'] = int(input('Digite a idade do aluno: '))\n",
        "  dadosLista.append(dadosDicionario.copy())\n",
        "\n",
        "  while True:\n",
        "    resposta = str(input('Você que continuar (S ou N)?')).upper()[0]\n",
        "\n",
        "    if resposta in 'SN':\n",
        "      break\n",
        "    print('Você ERROU, responda apenas S ou N.')\n",
        "    \n",
        "  if resposta == 'N':\n",
        "      break\n",
        "  print()\n",
        "\n",
        "print(dadosLista)\n",
        "print()\n",
        "print('*'*28)\n",
        "print(f'Foram cadastradas {len(dadosLista)} pessoas.')\n",
        "print('*'*28)\n",
        "\n",
        "maiorIdade = []\n",
        "menorIdade = []\n",
        "\n",
        "\n",
        "for c in range (0,len(dadosLista)):\n",
        "  if dadosLista[c]['idade'] >= 18:\n",
        "    maiorIdade.append(dadosLista[c])\n",
        "\n",
        "\n",
        "  else:\n",
        "    menorIdade.append(dadosLista[c])\n",
        "\n",
        "print()\n",
        "print('maiores')\n",
        "print(maiorIdade)\n",
        "print()\n",
        "print('menores')\n",
        "print(menorIdade)\n",
        "\n",
        "\n",
        "print()\n",
        "print('FIM DO PROGRAMA')"
      ],
      "metadata": {
        "colab": {
          "base_uri": "https://localhost:8080/"
        },
        "id": "nHiLZNTZymxF",
        "outputId": "998d92a5-988d-4669-fe8a-f8e10d217308"
      },
      "execution_count": 19,
      "outputs": [
        {
          "output_type": "stream",
          "name": "stdout",
          "text": [
            "*************************************************************************\n",
            "Programa que lê nome, curso e idade de várias pessoas, guardando os dados\n",
            "de cada  pessoa em um dicionário e o dicionário em uma lista. Mostre no\n",
            "final osdados de todas as pessoas tabulados, a quantidade de pessoas\n",
            "cadastradas, uma lista com os maiores de idade e uma lista com os menores\n",
            "de idade.\n",
            "*************************************************************************\n",
            "Digite o nome do aluno: Wagner\n",
            "Digite o curso do aluno: CD\n",
            "Digite a idade do aluno: 39\n",
            "Você que continuar (S ou N)?s\n",
            "\n",
            "Digite o nome do aluno: Rose\n",
            "Digite o curso do aluno: CD\n",
            "Digite a idade do aluno: 17\n",
            "Você que continuar (S ou N)?s\n",
            "\n",
            "Digite o nome do aluno: André\n",
            "Digite o curso do aluno: CD\n",
            "Digite a idade do aluno: 15\n",
            "Você que continuar (S ou N)?s\n",
            "\n",
            "Digite o nome do aluno: José\n",
            "Digite o curso do aluno: CD\n",
            "Digite a idade do aluno: 57\n",
            "Você que continuar (S ou N)?n\n",
            "[{'nome': 'Wagner', 'curso': 'CD', 'idade': 39}, {'nome': 'Rose', 'curso': 'CD', 'idade': 17}, {'nome': 'André', 'curso': 'CD', 'idade': 15}, {'nome': 'José', 'curso': 'CD', 'idade': 57}]\n",
            "\n",
            "****************************\n",
            "Foram cadastradas 4 pessoas.\n",
            "****************************\n",
            "\n",
            "maiores\n",
            "[{'nome': 'Wagner', 'curso': 'CD', 'idade': 39}, {'nome': 'José', 'curso': 'CD', 'idade': 57}]\n",
            "\n",
            "menores\n",
            "[{'nome': 'Rose', 'curso': 'CD', 'idade': 17}, {'nome': 'André', 'curso': 'CD', 'idade': 15}]\n",
            "\n",
            "FIM DO PROGRAMA\n"
          ]
        }
      ]
    },
    {
      "cell_type": "markdown",
      "source": [
        "Código adptado para vários times mostrando no final: o nome do time, a quantidade de gols por partida e o saldo de gols de cada time em todo o campeonato."
      ],
      "metadata": {
        "id": "uYVvREy0JXV9"
      }
    },
    {
      "cell_type": "code",
      "source": [
        "print('*'*83)\n",
        "print('Programa adptado para vários times mostrando no final: o nome do time, a quantidade\\nde gols por partida e o saldo de gols de cada time em todo o campeonato')\n",
        "print('*'*83)\n",
        "\n",
        "\n",
        "timeSoma = list()\n",
        "time = dict()\n",
        "partidas = list()\n",
        "\n",
        "while True:\n",
        "  time.clear()\n",
        "  time['nome'] = str(input('Digite o nome do time: '))\n",
        "  print()\n",
        "  totalPartidas = int(input(f'Quantas partidas o {time[\"nome\"]} jogou?'))\n",
        "  print()\n",
        "  partidas.clear()\n",
        "\n",
        "  for c in range(0, totalPartidas):\n",
        "    partidas.append(int(input(f'Quantos gols na partida {c} foram feitos?')))\n",
        "  time['gols'] = partidas[:]\n",
        "  time['total'] = sum(partidas)\n",
        "  timeSoma.append(time.copy())\n",
        "  print()\n",
        "  \n",
        "  while True:\n",
        "    resposta = str(input('Quer continuar ( S ou N )?')).upper()[0]\n",
        "    if resposta in 'SN':\n",
        "      break\n",
        "      print('Você errou, digite somente S ou N:')\n",
        "  print('*'*41)      \n",
        "  if resposta == 'N':\n",
        "    break\n",
        "  \n",
        "  print()\n",
        "\n",
        "print()\n",
        "print(timeSoma)\n",
        "\n",
        "print()\n",
        "print('FIM DO PROGRAMA')\n",
        "\n",
        "\n"
      ],
      "metadata": {
        "colab": {
          "base_uri": "https://localhost:8080/"
        },
        "id": "HfZrpSdWJByW",
        "outputId": "9fd1ced2-4b6d-4b8b-c8d9-336747ff6648"
      },
      "execution_count": 40,
      "outputs": [
        {
          "output_type": "stream",
          "name": "stdout",
          "text": [
            "***********************************************************************************\n",
            "Programa adptado para vários times mostrando no final: o nome do time, a quantidade\n",
            "de gols por partida e o saldo de gols de cada time em todo o campeonato\n",
            "***********************************************************************************\n",
            "Digite o nome do time: vcd\n",
            "\n",
            "Quantas partidas o vcd jogou?2\n",
            "\n",
            "Quantos gols na partida 0 foram feitos?1\n",
            "Quantos gols na partida 1 foram feitos?2\n",
            "\n",
            "Quer continuar ( S ou N )?s\n",
            "*****************************************\n",
            "\n",
            "Digite o nome do time: der\n",
            "\n",
            "Quantas partidas o der jogou?2\n",
            "\n",
            "Quantos gols na partida 0 foram feitos?2\n",
            "Quantos gols na partida 1 foram feitos?3\n",
            "\n",
            "Quer continuar ( S ou N )?n\n",
            "*****************************************\n",
            "\n",
            "[{'nome': 'vcd', 'gols': [1, 2], 'total': 3}, {'nome': 'der', 'gols': [2, 3], 'total': 5}]\n",
            "\n",
            "FIM DO PROGRAMA\n"
          ]
        }
      ]
    }
  ]
}