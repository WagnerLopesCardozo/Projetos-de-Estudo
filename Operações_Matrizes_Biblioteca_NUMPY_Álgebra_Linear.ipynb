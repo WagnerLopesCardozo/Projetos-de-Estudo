{
  "nbformat": 4,
  "nbformat_minor": 0,
  "metadata": {
    "colab": {
      "name": "Operações_Matrizes_Biblioteca_NUMPY_Álgebra_Linear.ipynb",
      "provenance": [],
      "authorship_tag": "ABX9TyPaLXHqR0OBs9tY3+s7crLQ",
      "include_colab_link": true
    },
    "kernelspec": {
      "name": "python3",
      "display_name": "Python 3"
    },
    "language_info": {
      "name": "python"
    }
  },
  "cells": [
    {
      "cell_type": "markdown",
      "metadata": {
        "id": "view-in-github",
        "colab_type": "text"
      },
      "source": [
        "<a href=\"https://colab.research.google.com/github/WagnerLopesCardozo/Projetos-de-Estudo-CD-FaTec-Ourinhos/blob/main/Opera%C3%A7%C3%B5es_Matrizes_Biblioteca_NUMPY_%C3%81lgebra_Linear.ipynb\" target=\"_parent\"><img src=\"https://colab.research.google.com/assets/colab-badge.svg\" alt=\"Open In Colab\"/></a>"
      ]
    },
    {
      "cell_type": "markdown",
      "source": [
        "#Operações com Matrizes Usando a Biblioteca NumPy - Álgebra Linear"
      ],
      "metadata": {
        "id": "5m73F-ko5ap2"
      }
    },
    {
      "cell_type": "code",
      "execution_count": 2,
      "metadata": {
        "id": "0B1GSwKEmubU"
      },
      "outputs": [],
      "source": [
        "import numpy as np"
      ]
    },
    {
      "cell_type": "code",
      "source": [
        "A = np.array([[9, 7, 49], [1, 5, 7], [72, 4, 3]]) #criando a matriz"
      ],
      "metadata": {
        "id": "EaB9sQ4jnHDI"
      },
      "execution_count": 3,
      "outputs": []
    },
    {
      "cell_type": "code",
      "source": [
        "A #mostrando a matriz"
      ],
      "metadata": {
        "colab": {
          "base_uri": "https://localhost:8080/"
        },
        "id": "sJRF6Qq3n2MZ",
        "outputId": "fa996468-aa63-430d-a4d5-cd86111cf30e"
      },
      "execution_count": 4,
      "outputs": [
        {
          "output_type": "execute_result",
          "data": {
            "text/plain": [
              "array([[ 9,  7, 49],\n",
              "       [ 1,  5,  7],\n",
              "       [72,  4,  3]])"
            ]
          },
          "metadata": {},
          "execution_count": 4
        }
      ]
    },
    {
      "cell_type": "code",
      "source": [
        "print(A) #mostrando a matriz"
      ],
      "metadata": {
        "colab": {
          "base_uri": "https://localhost:8080/"
        },
        "id": "2cBOG-_ZoCkq",
        "outputId": "dbfb36ff-84e2-45ec-9de0-fb2e25c76314"
      },
      "execution_count": 5,
      "outputs": [
        {
          "output_type": "stream",
          "name": "stdout",
          "text": [
            "[[ 9  7 49]\n",
            " [ 1  5  7]\n",
            " [72  4  3]]\n"
          ]
        }
      ]
    },
    {
      "cell_type": "code",
      "source": [
        "A.shape #mostrando ordem da matriz"
      ],
      "metadata": {
        "colab": {
          "base_uri": "https://localhost:8080/"
        },
        "id": "ciyy7w37oFdy",
        "outputId": "7d155e68-c4c2-4cbe-efcd-6e25229f88a9"
      },
      "execution_count": 6,
      "outputs": [
        {
          "output_type": "execute_result",
          "data": {
            "text/plain": [
              "(3, 3)"
            ]
          },
          "metadata": {},
          "execution_count": 6
        }
      ]
    },
    {
      "cell_type": "code",
      "source": [
        "A = np.array([[9, 7, 49], [1, 5, 7], [72, 4, 3]], dtype = float) #definindo como números decimais"
      ],
      "metadata": {
        "id": "LzJ5RXXsoxy3"
      },
      "execution_count": 8,
      "outputs": []
    },
    {
      "cell_type": "code",
      "source": [
        "A"
      ],
      "metadata": {
        "colab": {
          "base_uri": "https://localhost:8080/"
        },
        "id": "D-ZsBV2fpTTN",
        "outputId": "de6f5e7b-8d69-44a7-eb7f-95c34dd5fa49"
      },
      "execution_count": 9,
      "outputs": [
        {
          "output_type": "execute_result",
          "data": {
            "text/plain": [
              "array([[ 9.,  7., 49.],\n",
              "       [ 1.,  5.,  7.],\n",
              "       [72.,  4.,  3.]])"
            ]
          },
          "metadata": {},
          "execution_count": 9
        }
      ]
    },
    {
      "cell_type": "code",
      "source": [
        "print(A)"
      ],
      "metadata": {
        "colab": {
          "base_uri": "https://localhost:8080/"
        },
        "id": "D8pqIi4lpb6A",
        "outputId": "c3812c47-a237-4b19-a676-8a138a135e67"
      },
      "execution_count": 10,
      "outputs": [
        {
          "output_type": "stream",
          "name": "stdout",
          "text": [
            "[[ 9.  7. 49.]\n",
            " [ 1.  5.  7.]\n",
            " [72.  4.  3.]]\n"
          ]
        }
      ]
    },
    {
      "cell_type": "code",
      "source": [
        "A = np.array([[9, 7, 49], [1, 5, 7], [72, 4, 3]], dtype = complex)"
      ],
      "metadata": {
        "id": "YUKLbxKMpewJ"
      },
      "execution_count": 11,
      "outputs": []
    },
    {
      "cell_type": "code",
      "source": [
        "A"
      ],
      "metadata": {
        "colab": {
          "base_uri": "https://localhost:8080/"
        },
        "id": "8IaxHO0Wp7Cs",
        "outputId": "d35e4fb7-7bb5-4146-a5c8-15ac2045d7a0"
      },
      "execution_count": 12,
      "outputs": [
        {
          "output_type": "execute_result",
          "data": {
            "text/plain": [
              "array([[ 9.+0.j,  7.+0.j, 49.+0.j],\n",
              "       [ 1.+0.j,  5.+0.j,  7.+0.j],\n",
              "       [72.+0.j,  4.+0.j,  3.+0.j]])"
            ]
          },
          "metadata": {},
          "execution_count": 12
        }
      ]
    },
    {
      "cell_type": "code",
      "source": [
        "print(A)"
      ],
      "metadata": {
        "colab": {
          "base_uri": "https://localhost:8080/"
        },
        "id": "hlsD-G3ip8h2",
        "outputId": "ff671249-518d-42b2-c033-387ee069c215"
      },
      "execution_count": 13,
      "outputs": [
        {
          "output_type": "stream",
          "name": "stdout",
          "text": [
            "[[ 9.+0.j  7.+0.j 49.+0.j]\n",
            " [ 1.+0.j  5.+0.j  7.+0.j]\n",
            " [72.+0.j  4.+0.j  3.+0.j]]\n"
          ]
        }
      ]
    },
    {
      "cell_type": "code",
      "source": [
        "A = np.random.rand(3, 3) #gerando uma matriz aleatória"
      ],
      "metadata": {
        "id": "fAlJi-13qAkP"
      },
      "execution_count": 14,
      "outputs": []
    },
    {
      "cell_type": "code",
      "source": [
        "A"
      ],
      "metadata": {
        "colab": {
          "base_uri": "https://localhost:8080/"
        },
        "id": "Me_uvNvWqYFn",
        "outputId": "a631e51a-b272-40b8-dc4b-465966ed4600"
      },
      "execution_count": 16,
      "outputs": [
        {
          "output_type": "execute_result",
          "data": {
            "text/plain": [
              "array([[0.18602199, 0.99570726, 0.51667036],\n",
              "       [0.07130001, 0.76451808, 0.32577674],\n",
              "       [0.79179148, 0.06597493, 0.44551755]])"
            ]
          },
          "metadata": {},
          "execution_count": 16
        }
      ]
    },
    {
      "cell_type": "code",
      "source": [
        "np.zeros((3, 4)) #gerando uma matriz nula"
      ],
      "metadata": {
        "colab": {
          "base_uri": "https://localhost:8080/"
        },
        "id": "G0Xny8V7qZGc",
        "outputId": "7c6bf416-3e70-45b2-ff3d-0a951c1ca270"
      },
      "execution_count": 18,
      "outputs": [
        {
          "output_type": "execute_result",
          "data": {
            "text/plain": [
              "array([[0., 0., 0., 0.],\n",
              "       [0., 0., 0., 0.],\n",
              "       [0., 0., 0., 0.]])"
            ]
          },
          "metadata": {},
          "execution_count": 18
        }
      ]
    },
    {
      "cell_type": "code",
      "source": [
        "np.ones((3, 4)) #gerando matriz unitária"
      ],
      "metadata": {
        "colab": {
          "base_uri": "https://localhost:8080/"
        },
        "id": "oQrcgPOUqz8_",
        "outputId": "2b5f352b-3873-403f-b110-7269549c36cc"
      },
      "execution_count": 19,
      "outputs": [
        {
          "output_type": "execute_result",
          "data": {
            "text/plain": [
              "array([[1., 1., 1., 1.],\n",
              "       [1., 1., 1., 1.],\n",
              "       [1., 1., 1., 1.]])"
            ]
          },
          "metadata": {},
          "execution_count": 19
        }
      ]
    },
    {
      "cell_type": "code",
      "source": [
        "np.ones((3, 4))*7 #gerando matriz unitária com mesmo número"
      ],
      "metadata": {
        "colab": {
          "base_uri": "https://localhost:8080/"
        },
        "id": "4DM6QVb6rL-N",
        "outputId": "a44b2891-d14e-4014-990f-bd00a02dec8c"
      },
      "execution_count": 20,
      "outputs": [
        {
          "output_type": "execute_result",
          "data": {
            "text/plain": [
              "array([[7., 7., 7., 7.],\n",
              "       [7., 7., 7., 7.],\n",
              "       [7., 7., 7., 7.]])"
            ]
          },
          "metadata": {},
          "execution_count": 20
        }
      ]
    },
    {
      "cell_type": "code",
      "source": [
        "from numpy.core.fromnumeric import reshape\n",
        "A = np.arange (12).reshape(6, 2) #outra forma de declarar uma matriz com o comando RESHAPE"
      ],
      "metadata": {
        "id": "C2R4yKXlrcIj"
      },
      "execution_count": 21,
      "outputs": []
    },
    {
      "cell_type": "code",
      "source": [
        "A"
      ],
      "metadata": {
        "colab": {
          "base_uri": "https://localhost:8080/"
        },
        "id": "PWGEhHQmsAgn",
        "outputId": "d5536fcf-eb9d-422c-dfa2-f071ad04cf94"
      },
      "execution_count": 22,
      "outputs": [
        {
          "output_type": "execute_result",
          "data": {
            "text/plain": [
              "array([[ 0,  1],\n",
              "       [ 2,  3],\n",
              "       [ 4,  5],\n",
              "       [ 6,  7],\n",
              "       [ 8,  9],\n",
              "       [10, 11]])"
            ]
          },
          "metadata": {},
          "execution_count": 22
        }
      ]
    },
    {
      "cell_type": "code",
      "source": [
        "np.diag([1, 2, 3, 4, 5, 6, 7]) #declarando uma matriz escolhnedo a diagonal principal"
      ],
      "metadata": {
        "colab": {
          "base_uri": "https://localhost:8080/"
        },
        "id": "MgimHUnGsBws",
        "outputId": "3e15a446-9763-4dfa-c3ac-1c12f7eab8cd"
      },
      "execution_count": 23,
      "outputs": [
        {
          "output_type": "execute_result",
          "data": {
            "text/plain": [
              "array([[1, 0, 0, 0, 0, 0, 0],\n",
              "       [0, 2, 0, 0, 0, 0, 0],\n",
              "       [0, 0, 3, 0, 0, 0, 0],\n",
              "       [0, 0, 0, 4, 0, 0, 0],\n",
              "       [0, 0, 0, 0, 5, 0, 0],\n",
              "       [0, 0, 0, 0, 0, 6, 0],\n",
              "       [0, 0, 0, 0, 0, 0, 7]])"
            ]
          },
          "metadata": {},
          "execution_count": 23
        }
      ]
    },
    {
      "cell_type": "code",
      "source": [
        "np.identity(5) #declarando uma matriz identidade"
      ],
      "metadata": {
        "colab": {
          "base_uri": "https://localhost:8080/"
        },
        "id": "ZJ8kMPEtsxGR",
        "outputId": "904a8c8e-2310-4723-fafd-b662d341dd48"
      },
      "execution_count": 24,
      "outputs": [
        {
          "output_type": "execute_result",
          "data": {
            "text/plain": [
              "array([[1., 0., 0., 0., 0.],\n",
              "       [0., 1., 0., 0., 0.],\n",
              "       [0., 0., 1., 0., 0.],\n",
              "       [0., 0., 0., 1., 0.],\n",
              "       [0., 0., 0., 0., 1.]])"
            ]
          },
          "metadata": {},
          "execution_count": 24
        }
      ]
    },
    {
      "cell_type": "code",
      "source": [
        "A"
      ],
      "metadata": {
        "colab": {
          "base_uri": "https://localhost:8080/"
        },
        "id": "aMRBSolRtLAW",
        "outputId": "fe06a078-d648-447f-d286-a98ca6b20c1e"
      },
      "execution_count": 25,
      "outputs": [
        {
          "output_type": "execute_result",
          "data": {
            "text/plain": [
              "array([[ 0,  1],\n",
              "       [ 2,  3],\n",
              "       [ 4,  5],\n",
              "       [ 6,  7],\n",
              "       [ 8,  9],\n",
              "       [10, 11]])"
            ]
          },
          "metadata": {},
          "execution_count": 25
        }
      ]
    },
    {
      "cell_type": "code",
      "source": [
        "A[3, 1] #recuperando um determinado elemento da matriz"
      ],
      "metadata": {
        "colab": {
          "base_uri": "https://localhost:8080/"
        },
        "id": "tsurKm4Rt-SU",
        "outputId": "27b23cc6-8435-46bc-b07b-c7dc20902266"
      },
      "execution_count": 27,
      "outputs": [
        {
          "output_type": "execute_result",
          "data": {
            "text/plain": [
              "7"
            ]
          },
          "metadata": {},
          "execution_count": 27
        }
      ]
    },
    {
      "cell_type": "code",
      "source": [
        "A[:, 1] #recuperando elementos de uma determinada coluna"
      ],
      "metadata": {
        "colab": {
          "base_uri": "https://localhost:8080/"
        },
        "id": "_zkAzIeKuH3s",
        "outputId": "30d46240-d1fa-4e23-f23a-bbeac191d03d"
      },
      "execution_count": 28,
      "outputs": [
        {
          "output_type": "execute_result",
          "data": {
            "text/plain": [
              "array([ 1,  3,  5,  7,  9, 11])"
            ]
          },
          "metadata": {},
          "execution_count": 28
        }
      ]
    },
    {
      "cell_type": "code",
      "source": [
        "A[3, :] #recuperando elementos de uma determinada linha"
      ],
      "metadata": {
        "colab": {
          "base_uri": "https://localhost:8080/"
        },
        "id": "VzPZPPiwueHi",
        "outputId": "7f1da38a-aaec-428d-b07b-abea68376510"
      },
      "execution_count": 29,
      "outputs": [
        {
          "output_type": "execute_result",
          "data": {
            "text/plain": [
              "array([6, 7])"
            ]
          },
          "metadata": {},
          "execution_count": 29
        }
      ]
    },
    {
      "cell_type": "code",
      "source": [
        "Xinv = np.array([[2, 3], [4, 5]]) #declarando uma matriz para operações"
      ],
      "metadata": {
        "id": "i4Sh4CeYukJF"
      },
      "execution_count": 46,
      "outputs": []
    },
    {
      "cell_type": "code",
      "source": [
        "Xinv"
      ],
      "metadata": {
        "colab": {
          "base_uri": "https://localhost:8080/"
        },
        "id": "cDRRv_AowD4E",
        "outputId": "4c2f6812-954a-429d-c8ac-23f65d298a48"
      },
      "execution_count": 47,
      "outputs": [
        {
          "output_type": "execute_result",
          "data": {
            "text/plain": [
              "array([[2, 3],\n",
              "       [4, 5]])"
            ]
          },
          "metadata": {},
          "execution_count": 47
        }
      ]
    },
    {
      "cell_type": "code",
      "source": [
        "Xinv = np.linalg.inv(Xinv) #calculando a inversa da matriz \n",
        "                           #linalg é um subpacote dentro do NUMPY para cálculo de inver. e determinantes (linalg - linear álgebra)"
      ],
      "metadata": {
        "id": "QWAuB5rNwF87"
      },
      "execution_count": 48,
      "outputs": []
    },
    {
      "cell_type": "code",
      "source": [
        "Xinv"
      ],
      "metadata": {
        "colab": {
          "base_uri": "https://localhost:8080/"
        },
        "id": "pWb_VKf6wdPf",
        "outputId": "4bd469ff-c107-4cbc-f076-85fbba1b5a4d"
      },
      "execution_count": 49,
      "outputs": [
        {
          "output_type": "execute_result",
          "data": {
            "text/plain": [
              "array([[-2.5,  1.5],\n",
              "       [ 2. , -1. ]])"
            ]
          },
          "metadata": {},
          "execution_count": 49
        }
      ]
    },
    {
      "cell_type": "code",
      "source": [
        "Xdet = np.array([[2, 3], [4, 5]])"
      ],
      "metadata": {
        "id": "yNtykSeFxYI3"
      },
      "execution_count": 53,
      "outputs": []
    },
    {
      "cell_type": "code",
      "source": [
        "Xdet"
      ],
      "metadata": {
        "colab": {
          "base_uri": "https://localhost:8080/"
        },
        "id": "DyxrHXpRxx_B",
        "outputId": "1218ea03-8ed8-4067-ca1c-dd739d6949f9"
      },
      "execution_count": 54,
      "outputs": [
        {
          "output_type": "execute_result",
          "data": {
            "text/plain": [
              "array([[2, 3],\n",
              "       [4, 5]])"
            ]
          },
          "metadata": {},
          "execution_count": 54
        }
      ]
    },
    {
      "cell_type": "code",
      "source": [
        "Xdet = np.linalg.det(Xdet) #calculando o determinante da matriz"
      ],
      "metadata": {
        "id": "D5xa2Q67x5Nh"
      },
      "execution_count": 55,
      "outputs": []
    },
    {
      "cell_type": "code",
      "source": [
        "Xdet"
      ],
      "metadata": {
        "colab": {
          "base_uri": "https://localhost:8080/"
        },
        "id": "oXazyGw4yiBW",
        "outputId": "a391df3f-7ef1-46d6-eeb1-13dc695e831c"
      },
      "execution_count": 56,
      "outputs": [
        {
          "output_type": "execute_result",
          "data": {
            "text/plain": [
              "-2.0"
            ]
          },
          "metadata": {},
          "execution_count": 56
        }
      ]
    },
    {
      "cell_type": "code",
      "source": [
        "Xt = np.array([[2, 3], [4, 5]])"
      ],
      "metadata": {
        "id": "itS6xcdKyk_i"
      },
      "execution_count": 57,
      "outputs": []
    },
    {
      "cell_type": "code",
      "source": [
        "Xt"
      ],
      "metadata": {
        "colab": {
          "base_uri": "https://localhost:8080/"
        },
        "id": "HhdQ4bESza-B",
        "outputId": "92c8c6d9-25ce-4d97-c97b-e33ee676852b"
      },
      "execution_count": 58,
      "outputs": [
        {
          "output_type": "execute_result",
          "data": {
            "text/plain": [
              "array([[2, 3],\n",
              "       [4, 5]])"
            ]
          },
          "metadata": {},
          "execution_count": 58
        }
      ]
    },
    {
      "cell_type": "code",
      "source": [
        "Xt = np.transpose(Xt) #mostrando a matriz transposta"
      ],
      "metadata": {
        "id": "ywTG1POuzcHF"
      },
      "execution_count": 60,
      "outputs": []
    },
    {
      "cell_type": "code",
      "source": [
        "Xt\n"
      ],
      "metadata": {
        "colab": {
          "base_uri": "https://localhost:8080/"
        },
        "id": "vrx90AhEzuEC",
        "outputId": "9c4e6dfc-0d26-45da-ae6a-b470cdf075c3"
      },
      "execution_count": 61,
      "outputs": [
        {
          "output_type": "execute_result",
          "data": {
            "text/plain": [
              "array([[2, 4],\n",
              "       [3, 5]])"
            ]
          },
          "metadata": {},
          "execution_count": 61
        }
      ]
    },
    {
      "cell_type": "code",
      "source": [
        "Y = np.array([[2, 3, 4], [5, 6, 7]]) #declarando nova matriz"
      ],
      "metadata": {
        "id": "VzfSmPNmz1PD"
      },
      "execution_count": 63,
      "outputs": []
    },
    {
      "cell_type": "code",
      "source": [
        "Y"
      ],
      "metadata": {
        "colab": {
          "base_uri": "https://localhost:8080/"
        },
        "id": "sL6taAin0WAu",
        "outputId": "237822b7-ffcf-4eb2-9d17-7370948765ed"
      },
      "execution_count": 64,
      "outputs": [
        {
          "output_type": "execute_result",
          "data": {
            "text/plain": [
              "array([[2, 3, 4],\n",
              "       [5, 6, 7]])"
            ]
          },
          "metadata": {},
          "execution_count": 64
        }
      ]
    },
    {
      "cell_type": "code",
      "source": [
        "Z = np.array([[1, 2, 3], [4, 5, 6]]) #declarando nova matriz"
      ],
      "metadata": {
        "id": "M53Os7K50eoh"
      },
      "execution_count": 73,
      "outputs": []
    },
    {
      "cell_type": "code",
      "source": [
        "Z"
      ],
      "metadata": {
        "colab": {
          "base_uri": "https://localhost:8080/"
        },
        "id": "dNTxGb4r0wd_",
        "outputId": "e8987e13-d64a-4e7a-d5a0-fa0ef670166b"
      },
      "execution_count": 74,
      "outputs": [
        {
          "output_type": "execute_result",
          "data": {
            "text/plain": [
              "array([[1, 2, 3],\n",
              "       [4, 5, 6]])"
            ]
          },
          "metadata": {},
          "execution_count": 74
        }
      ]
    },
    {
      "cell_type": "code",
      "source": [
        "Y + Z"
      ],
      "metadata": {
        "colab": {
          "base_uri": "https://localhost:8080/"
        },
        "id": "_nHR5eIA0x2o",
        "outputId": "4d3a126e-d298-45d4-8c0a-7cad9e5106bb"
      },
      "execution_count": 75,
      "outputs": [
        {
          "output_type": "execute_result",
          "data": {
            "text/plain": [
              "array([[ 3,  5,  7],\n",
              "       [ 9, 11, 13]])"
            ]
          },
          "metadata": {},
          "execution_count": 75
        }
      ]
    },
    {
      "cell_type": "code",
      "source": [
        "Y - Z"
      ],
      "metadata": {
        "colab": {
          "base_uri": "https://localhost:8080/"
        },
        "id": "U_UVL_rZ1CFq",
        "outputId": "72da0755-ee6e-48b7-cbc8-823fbfd77ebf"
      },
      "execution_count": 76,
      "outputs": [
        {
          "output_type": "execute_result",
          "data": {
            "text/plain": [
              "array([[1, 1, 1],\n",
              "       [1, 1, 1]])"
            ]
          },
          "metadata": {},
          "execution_count": 76
        }
      ]
    },
    {
      "cell_type": "code",
      "source": [
        "M = np.array([[2, 3, 4], [5, 6, 7]]) #declarando novas matrizes"
      ],
      "metadata": {
        "id": "AbSGuyPd1HUH"
      },
      "execution_count": 77,
      "outputs": []
    },
    {
      "cell_type": "code",
      "source": [
        "M"
      ],
      "metadata": {
        "colab": {
          "base_uri": "https://localhost:8080/"
        },
        "id": "FH4mmVic1n06",
        "outputId": "beb6b691-bfb1-41d2-98f3-414cc417091c"
      },
      "execution_count": 78,
      "outputs": [
        {
          "output_type": "execute_result",
          "data": {
            "text/plain": [
              "array([[2, 3, 4],\n",
              "       [5, 6, 7]])"
            ]
          },
          "metadata": {},
          "execution_count": 78
        }
      ]
    },
    {
      "cell_type": "code",
      "source": [
        "N = np.array([[2, 3], [4, 5], [6, 7]]) #declarando novas matrizes"
      ],
      "metadata": {
        "id": "cI1v1ZS_2hjl"
      },
      "execution_count": 79,
      "outputs": []
    },
    {
      "cell_type": "code",
      "source": [
        "N\n"
      ],
      "metadata": {
        "colab": {
          "base_uri": "https://localhost:8080/"
        },
        "id": "6l5xx7sB24Kq",
        "outputId": "4aed820d-700c-44ee-b543-c50be7af52cf"
      },
      "execution_count": 80,
      "outputs": [
        {
          "output_type": "execute_result",
          "data": {
            "text/plain": [
              "array([[2, 3],\n",
              "       [4, 5],\n",
              "       [6, 7]])"
            ]
          },
          "metadata": {},
          "execution_count": 80
        }
      ]
    },
    {
      "cell_type": "code",
      "source": [
        "np.dot(M, N) #multiplicando matrizes"
      ],
      "metadata": {
        "colab": {
          "base_uri": "https://localhost:8080/"
        },
        "id": "JpU3sLKT25dt",
        "outputId": "999b0cc4-53c9-4b9e-c899-62f8fe7772fd"
      },
      "execution_count": 81,
      "outputs": [
        {
          "output_type": "execute_result",
          "data": {
            "text/plain": [
              "array([[40, 49],\n",
              "       [76, 94]])"
            ]
          },
          "metadata": {},
          "execution_count": 81
        }
      ]
    },
    {
      "cell_type": "code",
      "source": [
        "W = np.array([[2, 3], [5, 6]])"
      ],
      "metadata": {
        "id": "FmV8DlaJ3A8U"
      },
      "execution_count": 9,
      "outputs": []
    },
    {
      "cell_type": "code",
      "source": [
        "W"
      ],
      "metadata": {
        "colab": {
          "base_uri": "https://localhost:8080/"
        },
        "id": "CYRMd1xo3q3I",
        "outputId": "028018da-e5ca-454f-bdc4-29ae1ee59258"
      },
      "execution_count": 10,
      "outputs": [
        {
          "output_type": "execute_result",
          "data": {
            "text/plain": [
              "array([[2, 3],\n",
              "       [5, 6]])"
            ]
          },
          "metadata": {},
          "execution_count": 10
        }
      ]
    },
    {
      "cell_type": "code",
      "source": [
        "U = np.array([[8, 9], [11, 12]])"
      ],
      "metadata": {
        "id": "r02qEDuM4D3z"
      },
      "execution_count": 11,
      "outputs": []
    },
    {
      "cell_type": "code",
      "source": [
        "U"
      ],
      "metadata": {
        "colab": {
          "base_uri": "https://localhost:8080/"
        },
        "id": "Vg_eBijT4Pq5",
        "outputId": "68282086-2f21-4162-cd61-5462c853a885"
      },
      "execution_count": 12,
      "outputs": [
        {
          "output_type": "execute_result",
          "data": {
            "text/plain": [
              "array([[ 8,  9],\n",
              "       [11, 12]])"
            ]
          },
          "metadata": {},
          "execution_count": 12
        }
      ]
    },
    {
      "cell_type": "markdown",
      "source": [
        "W / U = W * U -¹"
      ],
      "metadata": {
        "id": "HnCxnTyo4wt_"
      }
    },
    {
      "cell_type": "code",
      "source": [
        "np.dot(W, np.linalg.inv(U)) #divisão de matrizes"
      ],
      "metadata": {
        "colab": {
          "base_uri": "https://localhost:8080/"
        },
        "id": "0KwOX0g44QoY",
        "outputId": "25b77c1d-01d7-4001-c2a7-94b2342d5c66"
      },
      "execution_count": 13,
      "outputs": [
        {
          "output_type": "execute_result",
          "data": {
            "text/plain": [
              "array([[ 3., -2.],\n",
              "       [ 2., -1.]])"
            ]
          },
          "metadata": {},
          "execution_count": 13
        }
      ]
    },
    {
      "cell_type": "code",
      "source": [
        "S = np.array([[3, 4, 5], [7, 8, 9]])"
      ],
      "metadata": {
        "id": "rpu4UiYlbeCs"
      },
      "execution_count": 14,
      "outputs": []
    },
    {
      "cell_type": "code",
      "source": [
        "S"
      ],
      "metadata": {
        "colab": {
          "base_uri": "https://localhost:8080/"
        },
        "id": "G2AJRNLZcAyi",
        "outputId": "d5c7cd36-525a-4f87-b6f5-aca570f01d12"
      },
      "execution_count": 15,
      "outputs": [
        {
          "output_type": "execute_result",
          "data": {
            "text/plain": [
              "array([[3, 4, 5],\n",
              "       [7, 8, 9]])"
            ]
          },
          "metadata": {},
          "execution_count": 15
        }
      ]
    },
    {
      "cell_type": "code",
      "source": [
        "F = np.array([[12, 23, 34], [45, 56, 67]])"
      ],
      "metadata": {
        "id": "MMQ0k1Y3cCL3"
      },
      "execution_count": 16,
      "outputs": []
    },
    {
      "cell_type": "code",
      "source": [
        "F"
      ],
      "metadata": {
        "colab": {
          "base_uri": "https://localhost:8080/"
        },
        "id": "54k6hTYVcPFr",
        "outputId": "70ff39bd-512f-49d5-9a02-5c028599aea0"
      },
      "execution_count": 17,
      "outputs": [
        {
          "output_type": "execute_result",
          "data": {
            "text/plain": [
              "array([[12, 23, 34],\n",
              "       [45, 56, 67]])"
            ]
          },
          "metadata": {},
          "execution_count": 17
        }
      ]
    },
    {
      "cell_type": "code",
      "source": [
        "H = np.array([[89, 78, 67], [56, 45, 34]])"
      ],
      "metadata": {
        "id": "Em1-VEQzcQir"
      },
      "execution_count": 18,
      "outputs": []
    },
    {
      "cell_type": "code",
      "source": [
        "H"
      ],
      "metadata": {
        "colab": {
          "base_uri": "https://localhost:8080/"
        },
        "id": "W9rKTxuOcdOP",
        "outputId": "14d14d87-6ff4-4240-f301-5dac432029dd"
      },
      "execution_count": 19,
      "outputs": [
        {
          "output_type": "execute_result",
          "data": {
            "text/plain": [
              "array([[89, 78, 67],\n",
              "       [56, 45, 34]])"
            ]
          },
          "metadata": {},
          "execution_count": 19
        }
      ]
    },
    {
      "cell_type": "code",
      "source": [
        "K = S + F * H #operação de soma e multiplicação de matrizes"
      ],
      "metadata": {
        "id": "w3KoqBWXceuK"
      },
      "execution_count": 20,
      "outputs": []
    },
    {
      "cell_type": "code",
      "source": [
        "K"
      ],
      "metadata": {
        "colab": {
          "base_uri": "https://localhost:8080/"
        },
        "id": "YugXd-g6cn_K",
        "outputId": "a6c5f2e1-43db-4350-c519-b6a9c68f0b85"
      },
      "execution_count": 21,
      "outputs": [
        {
          "output_type": "execute_result",
          "data": {
            "text/plain": [
              "array([[1071, 1798, 2283],\n",
              "       [2527, 2528, 2287]])"
            ]
          },
          "metadata": {},
          "execution_count": 21
        }
      ]
    },
    {
      "cell_type": "code",
      "source": [
        ""
      ],
      "metadata": {
        "id": "aH33eX34cpXW"
      },
      "execution_count": null,
      "outputs": []
    }
  ]
}