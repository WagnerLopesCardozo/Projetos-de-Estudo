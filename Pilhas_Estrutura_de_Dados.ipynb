{
  "nbformat": 4,
  "nbformat_minor": 0,
  "metadata": {
    "colab": {
      "name": "Pilhas_Estrutura_de_Dados.ipynb",
      "provenance": [],
      "authorship_tag": "ABX9TyOwx18YEJLKgA6aFo3AvgRV",
      "include_colab_link": true
    },
    "kernelspec": {
      "name": "python3",
      "display_name": "Python 3"
    },
    "language_info": {
      "name": "python"
    }
  },
  "cells": [
    {
      "cell_type": "markdown",
      "metadata": {
        "id": "view-in-github",
        "colab_type": "text"
      },
      "source": [
        "<a href=\"https://colab.research.google.com/github/WagnerLopesCardozo/Projetos-de-Estudo-CD-FaTec-Ourinhos/blob/main/Pilhas_Estrutura_de_Dados.ipynb\" target=\"_parent\"><img src=\"https://colab.research.google.com/assets/colab-badge.svg\" alt=\"Open In Colab\"/></a>"
      ]
    },
    {
      "cell_type": "markdown",
      "source": [
        "#Pilhas Estrutura de Dados"
      ],
      "metadata": {
        "id": "xFXCk2bBQ-9O"
      }
    },
    {
      "cell_type": "markdown",
      "source": [
        "Desafio 1:"
      ],
      "metadata": {
        "id": "eIFBiCsgq9kC"
      }
    },
    {
      "cell_type": "code",
      "execution_count": 51,
      "metadata": {
        "id": "71AsY18yQ8pC"
      },
      "outputs": [],
      "source": [
        ""
      ]
    },
    {
      "cell_type": "markdown",
      "source": [
        "Desafio 2 - Código que inverte a ordem dos elementos de uma pilha"
      ],
      "metadata": {
        "id": "_hWgRbQhZVi0"
      }
    },
    {
      "cell_type": "code",
      "source": [
        "print('-='*23)\n",
        "print('Programa que inverte os elementos de uma pilha')\n",
        "print('-='*23)\n",
        "\n",
        "pilha1 = int(input('Digite um número: '))\n",
        "pilha2 = int(input('Digite um número: '))\n",
        "pilha3 = int(input('Digite um número: '))\n",
        "pilha4 = int(input('Digite um número: '))\n",
        "pilha5 = int(input('Digite um número: '))\n",
        "\n",
        "pilhatotal = [pilha1, pilha2, pilha3, pilha4, pilha5]\n",
        "\n",
        "\n",
        "def inverter(pilhatotal):\n",
        "  if not pilhatotal: #se a lista estiver vazia retorna ela mesma\n",
        "    return pilhatotal\n",
        "  return pilhatotal [-1:] + inverter(pilhatotal[:-1])\n",
        "\n",
        "pilhatotal = inverter([pilha1, pilha2, pilha3, pilha4, pilha5])\n",
        "print(pilhatotal)\n",
        "print('FIM DO PROGRAMA')\n",
        "\n",
        "\n"
      ],
      "metadata": {
        "colab": {
          "base_uri": "https://localhost:8080/"
        },
        "id": "TboYz0u1v_A8",
        "outputId": "d0450ce5-a26f-408f-bfe0-aaf26c0f19ad"
      },
      "execution_count": 24,
      "outputs": [
        {
          "output_type": "stream",
          "name": "stdout",
          "text": [
            "-=-=-=-=-=-=-=-=-=-=-=-=-=-=-=-=-=-=-=-=-=-=-=\n",
            "Programa que inverte os elementos de uma pilha\n",
            "-=-=-=-=-=-=-=-=-=-=-=-=-=-=-=-=-=-=-=-=-=-=-=\n",
            "Digite um número: 89\n",
            "Digite um número: 49\n",
            "Digite um número: 7\n",
            "Digite um número: 8\n",
            "Digite um número: 72\n",
            "[72, 8, 7, 49, 89]\n",
            "FIM DO PROGRAMA\n"
          ]
        }
      ]
    },
    {
      "cell_type": "markdown",
      "source": [
        "Desafio 5 - Código que converte um número decimal em binário"
      ],
      "metadata": {
        "id": "-4nOnAxax6d3"
      }
    },
    {
      "cell_type": "code",
      "source": [
        "print('-='*28)\n",
        "print('Programa que transforma um número decimal para binário:')\n",
        "print('-='*28)\n",
        "\n",
        "valornumerico = int(input('Digite o número que deseja transformar para binário: '))\n",
        "\n",
        "def decimalparabinario (valornumerico):\n",
        "  if valornumerico >= 1:\n",
        "    decimalparabinario(valornumerico // 2)\n",
        "  print(valornumerico % 2, end='')\n",
        "\n",
        "if __name__ == '__main__':\n",
        "  \n",
        "  decimalparabinario(valornumerico)\n"
      ],
      "metadata": {
        "colab": {
          "base_uri": "https://localhost:8080/"
        },
        "id": "ydJPSZg6x4qE",
        "outputId": "cd4cb72a-4418-4514-ce44-6844eaa5ff97"
      },
      "execution_count": 51,
      "outputs": [
        {
          "output_type": "stream",
          "name": "stdout",
          "text": [
            "-=-=-=-=-=-=-=-=-=-=-=-=-=-=-=-=-=-=-=-=-=-=-=-=-=-=-=-=\n",
            "Programa que transforma um número decimal para binário:\n",
            "-=-=-=-=-=-=-=-=-=-=-=-=-=-=-=-=-=-=-=-=-=-=-=-=-=-=-=-=\n",
            "Digite o número que deseja transformar para binário: 49\n",
            "0110001"
          ]
        }
      ]
    },
    {
      "cell_type": "markdown",
      "source": [
        "Desafio 6 - Código que mostra a situação de uma pilha após executar as operações: Push (P,a); Push (P,b); Push (P,c); Push (P,Top(P)); Push (P,Pop(P)); Pop (P); Push (P,e) e Pop (P)"
      ],
      "metadata": {
        "id": "rBlQ5i5Q1OMk"
      }
    },
    {
      "cell_type": "code",
      "source": [
        "print('-='*25)\n",
        "print('Programa que mostra o comportamento de uma pilha:')\n",
        "print('-='*25)\n",
        "\n",
        "\n",
        "lista = []\n",
        "max = 4\n",
        "topoAtual = 0\n",
        "\n",
        "def push(lista, valor):\n",
        "    global topoAtual\n",
        "    if (topoAtual >= max):\n",
        "        print('Pilha Cheia')\n",
        "    else:\n",
        "        lista.append(valor)\n",
        "        topoAtual = topoAtual + 1\n",
        "\n",
        "    return lista\n",
        "\n",
        "\n",
        "def pop(lista):\n",
        "    global topoAtual\n",
        "    if (topoAtual < 0):\n",
        "        print('Pilha vazia')\n",
        "    else:\n",
        "        lista.pop()\n",
        "        topoAtual = topoAtual - 1\n",
        "    return lista\n",
        "\n",
        "\n",
        "\n",
        "print(f'Pilha inicial: {lista}')\n",
        "push(lista, 'a')\n",
        "print(f'Pilha atual: {lista}')\n",
        "push(lista, 'b')\n",
        "print(f'Pilha atual: {lista}')\n",
        "push(lista, 'c')\n",
        "print(f'Pilha atual: {lista}')\n",
        "push(lista, pop(lista))\n",
        "print(f'Pilha atual: {lista}')\n",
        "pop(lista)\n",
        "print(f'Pilha atual: {lista}')\n",
        "push(lista, 'e')\n",
        "print(f'Pilha atual: {lista}')\n",
        "pop(lista)\n",
        "print(f'Pilha atual: {lista}')\n",
        "print('FIM DO PROGRAMA')"
      ],
      "metadata": {
        "colab": {
          "base_uri": "https://localhost:8080/"
        },
        "id": "Ia-ITGMV1MvH",
        "outputId": "0c490eb0-e3dc-4d2c-d539-eeed490bd6b1"
      },
      "execution_count": 26,
      "outputs": [
        {
          "output_type": "stream",
          "name": "stdout",
          "text": [
            "-=-=-=-=-=-=-=-=-=-=-=-=-=-=-=-=-=-=-=-=-=-=-=-=-=\n",
            "Programa que mostra o comportamento de uma pilha:\n",
            "-=-=-=-=-=-=-=-=-=-=-=-=-=-=-=-=-=-=-=-=-=-=-=-=-=\n",
            "Pilha inicial: []\n",
            "Pilha atual: ['a']\n",
            "Pilha atual: ['a', 'b']\n",
            "Pilha atual: ['a', 'b', 'c']\n",
            "Pilha atual: ['a', 'b', [...]]\n",
            "Pilha atual: ['a', 'b']\n",
            "Pilha atual: ['a', 'b', 'e']\n",
            "Pilha atual: ['a', 'b']\n",
            "FIM DO PROGRAMA\n"
          ]
        }
      ]
    }
  ]
}