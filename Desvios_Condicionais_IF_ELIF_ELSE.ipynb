{
  "nbformat": 4,
  "nbformat_minor": 0,
  "metadata": {
    "colab": {
      "name": "Desvios_Condicionais_IF_ELIF_ELSE.ipynb",
      "provenance": [],
      "authorship_tag": "ABX9TyPx+nFnp9hbppPaHHZMar00",
      "include_colab_link": true
    },
    "kernelspec": {
      "name": "python3",
      "display_name": "Python 3"
    },
    "language_info": {
      "name": "python"
    }
  },
  "cells": [
    {
      "cell_type": "markdown",
      "metadata": {
        "id": "view-in-github",
        "colab_type": "text"
      },
      "source": [
        "<a href=\"https://colab.research.google.com/github/WagnerLopesCardozo/Projetos-de-Estudo-CD-FaTec-Ourinhos/blob/main/Desvios_Condicionais_IF_ELIF_ELSE.ipynb\" target=\"_parent\"><img src=\"https://colab.research.google.com/assets/colab-badge.svg\" alt=\"Open In Colab\"/></a>"
      ]
    },
    {
      "cell_type": "markdown",
      "source": [
        "# Códigos de Desvios Condicionais\n"
      ],
      "metadata": {
        "id": "0Z-eY3hcFKwR"
      }
    },
    {
      "cell_type": "markdown",
      "source": [
        "Código que lê três números A, B e C e informa se a soma de A e B é maior que C"
      ],
      "metadata": {
        "id": "h8QZ6eVsFS2t"
      }
    },
    {
      "cell_type": "code",
      "execution_count": null,
      "metadata": {
        "id": "UXxkBPxp4vr-",
        "colab": {
          "base_uri": "https://localhost:8080/"
        },
        "outputId": "00eeb9b8-10bc-4cb1-a959-83eac27ef67d"
      },
      "outputs": [
        {
          "output_type": "stream",
          "name": "stdout",
          "text": [
            "==============================================================================\n",
            "Código que lê três números A, B e C e informa se a soma de A e B é maior que C\n",
            "==============================================================================\n",
            "Digite o primeiro número: 40\n",
            "Digite o segundo número: 20\n",
            "Digite o terceiro número: 60\n",
            "A soma de A = 40.0 com B = 20.0 é menor que C = 60.0\n",
            "Fim do programa\n"
          ]
        }
      ],
      "source": [
        "print ('=' * 78)\n",
        "print ('Código que lê três números A, B e C e informa se a soma de A e B é maior que C')\n",
        "print ('=' * 78)\n",
        "\n",
        "num1 = float ( input ('Digite o primeiro número: '))\n",
        "num2 = float ( input ('Digite o segundo número: '))\n",
        "num3 = float ( input ('Digite o terceiro número: '))\n",
        "\n",
        "if (num1 + num2) > num3:\n",
        "  print (f'A soma de A = {num1} com B = {num2} é maior que C = {num3}')\n",
        "\n",
        "else:\n",
        "  print (f'A soma de A = {num1} com B = {num2} é menor que C = {num3}')\n",
        "\n",
        "print ('Fim do programa')    \n",
        "\n"
      ]
    },
    {
      "cell_type": "markdown",
      "source": [
        "código que recebe um número inteiro e verifica se ele é par ou ínpar"
      ],
      "metadata": {
        "id": "XuUB0Er0Jvla"
      }
    },
    {
      "cell_type": "code",
      "source": [
        "print ('=' * 68)\n",
        "print ('Código que recebe um número inteiro e verifica se ele é par ou ímpar')\n",
        "print ('=' * 68)\n",
        "\n",
        "num = int ( input ('Digite um número: '))\n",
        "\n",
        "if (num % 2) != 0:\n",
        "  print (f'O número digitado {num} é ÍMPAR.')\n",
        "else:\n",
        "  print (f'O número digitado {num} é PAR.')\n"
      ],
      "metadata": {
        "colab": {
          "base_uri": "https://localhost:8080/"
        },
        "id": "R7FJMBXGF-1R",
        "outputId": "d700b55d-acc3-4c96-a7b3-9589f35352e7"
      },
      "execution_count": null,
      "outputs": [
        {
          "output_type": "stream",
          "name": "stdout",
          "text": [
            "====================================================================\n",
            "Código que recebe um número inteiro e verifica se ele é par ou ímpar\n",
            "====================================================================\n",
            "Digite um número: 92\n",
            "O número digitado 92 é PAR.\n"
          ]
        }
      ]
    },
    {
      "cell_type": "markdown",
      "source": [
        "Código que recebe dois números inteiros, e se A for igual a B, soma esses dois valores, e mostra na tela, e se A for diferente de B, multiplica esses dois valores, e também mostra na tela"
      ],
      "metadata": {
        "id": "PpB3jl8zNwgx"
      }
    },
    {
      "cell_type": "code",
      "source": [
        ""
      ],
      "metadata": {
        "id": "KDI26VPtOewA"
      },
      "execution_count": null,
      "outputs": []
    },
    {
      "cell_type": "code",
      "source": [
        "print ('*' * 106)\n",
        "print ('Código que recebe dois números inteiros, e se A for igual a B, soma esses dois valores, e mostra na tela,\\n' \n",
        "       'e se A for diferente de B, multiplica esses dois valores, e também mostra na tela')\n",
        "print ('*' * 106)\n",
        "\n",
        "num_1 = int ( input ('Digite o 1º número: '))\n",
        "num_2 = int ( input ('Digite o 2º número: '))\n",
        "\n",
        "if num_1 == num_2:\n",
        "  num_3 = num_1 + num_2\n",
        "  print (f'O valor da soma entre o 1º e o 2º número é: {num_3}.')\n",
        "else:\n",
        "  num_3 = num_1 * num_2\n",
        "  print (f'O valor da multiplicação entre o 1º e o 2º número é: {num_3}')  \n",
        "  \n",
        "\n"
      ],
      "metadata": {
        "colab": {
          "base_uri": "https://localhost:8080/"
        },
        "id": "_lQdeyh5KoEU",
        "outputId": "326fbab9-cb02-40d5-9ae0-0ec08e79fa39"
      },
      "execution_count": null,
      "outputs": [
        {
          "output_type": "stream",
          "name": "stdout",
          "text": [
            "**********************************************************************************************************\n",
            "Código que recebe dois números inteiros, e se A for igual a B, soma esses dois valores, e mostra na tela,\n",
            "e se A for diferente de B, multiplica esses dois valores, e também mostra na tela\n",
            "**********************************************************************************************************\n",
            "Digite o 1º número: 12\n",
            "Digite o 2º número: 5\n",
            "O valor da multiplicação entre o 1º e o 2º número é: 60\n"
          ]
        }
      ]
    },
    {
      "cell_type": "markdown",
      "source": [
        "Código que calcula o dobro de um número se ele for positivo ou o seu triplo se ele for negativo"
      ],
      "metadata": {
        "id": "t6rs8mW-UXKP"
      }
    },
    {
      "cell_type": "code",
      "source": [
        "print ('*' * 95)\n",
        "print ('Código que calcula o dobro de um número se ele for positivo ou o seu triplo se ele for negativo')\n",
        "print ('*' * 95)\n",
        "\n",
        "numero = float ( input ('Digite um número: '))\n",
        "\n",
        "if  numero >= 0:\n",
        "  print (f'O número {numero} é positivo e seu dobro é: {numero * 2}.')\n",
        "else:\n",
        "  print (f'O número {numero} é negativo e seu triplo é: {numero * 3}.')\n",
        "\n",
        "print ('FIM DO PROGRAMA')    "
      ],
      "metadata": {
        "colab": {
          "base_uri": "https://localhost:8080/"
        },
        "id": "niHLFlbtUV3o",
        "outputId": "7a43375a-8773-4e22-fd97-c38d590f82da"
      },
      "execution_count": null,
      "outputs": [
        {
          "output_type": "stream",
          "name": "stdout",
          "text": [
            "***********************************************************************************************\n",
            "Código que calcula o dobro de um número se ele for positivo ou o seu triplo se ele for negativo\n",
            "***********************************************************************************************\n",
            "Digite um número: -78\n",
            "O número -78.0 é negativo e seu triplo é: -234.0.\n",
            "FIM DO PROGRAMA\n"
          ]
        }
      ]
    },
    {
      "cell_type": "code",
      "source": [
        ""
      ],
      "metadata": {
        "id": "4G_u6-JaU8Vv"
      },
      "execution_count": null,
      "outputs": []
    },
    {
      "cell_type": "code",
      "source": [
        ""
      ],
      "metadata": {
        "id": "IYKw_XF-PWMf"
      },
      "execution_count": null,
      "outputs": []
    }
  ]
}