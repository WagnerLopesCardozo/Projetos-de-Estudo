{
  "nbformat": 4,
  "nbformat_minor": 0,
  "metadata": {
    "colab": {
      "name": "Desvios_Condicionais_IF_ELIF_ELSE.ipynb",
      "provenance": [],
      "authorship_tag": "ABX9TyMKpsiDNqFgfoFmykV2FQ0O",
      "include_colab_link": true
    },
    "kernelspec": {
      "name": "python3",
      "display_name": "Python 3"
    },
    "language_info": {
      "name": "python"
    }
  },
  "cells": [
    {
      "cell_type": "markdown",
      "metadata": {
        "id": "view-in-github",
        "colab_type": "text"
      },
      "source": [
        "<a href=\"https://colab.research.google.com/github/WagnerLopesCardozo/Projetos-de-Estudo-CD-FaTec-Ourinhos/blob/main/Desvios_Condicionais_IF_ELIF_ELSE.ipynb\" target=\"_parent\"><img src=\"https://colab.research.google.com/assets/colab-badge.svg\" alt=\"Open In Colab\"/></a>"
      ]
    },
    {
      "cell_type": "markdown",
      "source": [
        "# Códigos de Desvios Condicionais\n"
      ],
      "metadata": {
        "id": "0Z-eY3hcFKwR"
      }
    },
    {
      "cell_type": "markdown",
      "source": [
        "##Mais Fácil"
      ],
      "metadata": {
        "id": "EargXshLxDX0"
      }
    },
    {
      "cell_type": "markdown",
      "source": [
        "Código que lê três números A, B e C e informa se a soma de A e B é maior que C"
      ],
      "metadata": {
        "id": "h8QZ6eVsFS2t"
      }
    },
    {
      "cell_type": "code",
      "execution_count": null,
      "metadata": {
        "id": "UXxkBPxp4vr-",
        "colab": {
          "base_uri": "https://localhost:8080/"
        },
        "outputId": "00eeb9b8-10bc-4cb1-a959-83eac27ef67d"
      },
      "outputs": [
        {
          "output_type": "stream",
          "name": "stdout",
          "text": [
            "==============================================================================\n",
            "Código que lê três números A, B e C e informa se a soma de A e B é maior que C\n",
            "==============================================================================\n",
            "Digite o primeiro número: 40\n",
            "Digite o segundo número: 20\n",
            "Digite o terceiro número: 60\n",
            "A soma de A = 40.0 com B = 20.0 é menor que C = 60.0\n",
            "Fim do programa\n"
          ]
        }
      ],
      "source": [
        "print ('=' * 78)\n",
        "print ('Código que lê três números A, B e C e informa se a soma de A e B é maior que C')\n",
        "print ('=' * 78)\n",
        "\n",
        "num1 = float ( input ('Digite o primeiro número: '))\n",
        "num2 = float ( input ('Digite o segundo número: '))\n",
        "num3 = float ( input ('Digite o terceiro número: '))\n",
        "\n",
        "if (num1 + num2) > num3:\n",
        "  print (f'A soma de A = {num1} com B = {num2} é maior que C = {num3}')\n",
        "\n",
        "else:\n",
        "  print (f'A soma de A = {num1} com B = {num2} é menor que C = {num3}')\n",
        "\n",
        "print ('Fim do programa')    \n",
        "\n"
      ]
    },
    {
      "cell_type": "markdown",
      "source": [
        ""
      ],
      "metadata": {
        "id": "bw2CG_88w-YH"
      }
    },
    {
      "cell_type": "markdown",
      "source": [
        "código que recebe um número inteiro e verifica se ele é par ou ínpar"
      ],
      "metadata": {
        "id": "XuUB0Er0Jvla"
      }
    },
    {
      "cell_type": "code",
      "source": [
        "print ('=' * 68)\n",
        "print ('Código que recebe um número inteiro e verifica se ele é par ou ímpar')\n",
        "print ('=' * 68)\n",
        "\n",
        "num = int ( input ('Digite um número: '))\n",
        "\n",
        "if (num % 2) != 0:\n",
        "  print (f'O número digitado {num} é ÍMPAR.')\n",
        "else:\n",
        "  print (f'O número digitado {num} é PAR.')\n"
      ],
      "metadata": {
        "colab": {
          "base_uri": "https://localhost:8080/"
        },
        "id": "R7FJMBXGF-1R",
        "outputId": "d700b55d-acc3-4c96-a7b3-9589f35352e7"
      },
      "execution_count": null,
      "outputs": [
        {
          "output_type": "stream",
          "name": "stdout",
          "text": [
            "====================================================================\n",
            "Código que recebe um número inteiro e verifica se ele é par ou ímpar\n",
            "====================================================================\n",
            "Digite um número: 92\n",
            "O número digitado 92 é PAR.\n"
          ]
        }
      ]
    },
    {
      "cell_type": "markdown",
      "source": [
        "Código que recebe dois números inteiros, e se A for igual a B, soma esses dois valores, e mostra na tela, e se A for diferente de B, multiplica esses dois valores, e também mostra na tela"
      ],
      "metadata": {
        "id": "PpB3jl8zNwgx"
      }
    },
    {
      "cell_type": "code",
      "source": [
        ""
      ],
      "metadata": {
        "id": "KDI26VPtOewA"
      },
      "execution_count": null,
      "outputs": []
    },
    {
      "cell_type": "code",
      "source": [
        "print ('*' * 106)\n",
        "print ('Código que recebe dois números inteiros, e se A for igual a B, soma esses dois valores, e mostra na tela,\\n' \n",
        "       'e se A for diferente de B, multiplica esses dois valores, e também mostra na tela')\n",
        "print ('*' * 106)\n",
        "\n",
        "num_1 = int ( input ('Digite o 1º número: '))\n",
        "num_2 = int ( input ('Digite o 2º número: '))\n",
        "\n",
        "if num_1 == num_2:\n",
        "  num_3 = num_1 + num_2\n",
        "  print (f'O valor da soma entre o 1º e o 2º número é: {num_3}.')\n",
        "else:\n",
        "  num_3 = num_1 * num_2\n",
        "  print (f'O valor da multiplicação entre o 1º e o 2º número é: {num_3}')  \n",
        "  \n",
        "\n"
      ],
      "metadata": {
        "colab": {
          "base_uri": "https://localhost:8080/"
        },
        "id": "_lQdeyh5KoEU",
        "outputId": "326fbab9-cb02-40d5-9ae0-0ec08e79fa39"
      },
      "execution_count": null,
      "outputs": [
        {
          "output_type": "stream",
          "name": "stdout",
          "text": [
            "**********************************************************************************************************\n",
            "Código que recebe dois números inteiros, e se A for igual a B, soma esses dois valores, e mostra na tela,\n",
            "e se A for diferente de B, multiplica esses dois valores, e também mostra na tela\n",
            "**********************************************************************************************************\n",
            "Digite o 1º número: 12\n",
            "Digite o 2º número: 5\n",
            "O valor da multiplicação entre o 1º e o 2º número é: 60\n"
          ]
        }
      ]
    },
    {
      "cell_type": "markdown",
      "source": [
        "Código que calcula o dobro de um número se ele for positivo ou o seu triplo se ele for negativo"
      ],
      "metadata": {
        "id": "t6rs8mW-UXKP"
      }
    },
    {
      "cell_type": "code",
      "source": [
        "print ('*' * 95)\n",
        "print ('Código que calcula o dobro de um número se ele for positivo ou o seu triplo se ele for negativo')\n",
        "print ('*' * 95)\n",
        "\n",
        "numero = float ( input ('Digite um número: '))\n",
        "\n",
        "if  numero >= 0:\n",
        "  print (f'O número {numero} é positivo e seu dobro é: {numero * 2}.')\n",
        "else:\n",
        "  print (f'O número {numero} é negativo e seu triplo é: {numero * 3}.')\n",
        "\n",
        "print ('FIM DO PROGRAMA')    "
      ],
      "metadata": {
        "colab": {
          "base_uri": "https://localhost:8080/"
        },
        "id": "niHLFlbtUV3o",
        "outputId": "7a43375a-8773-4e22-fd97-c38d590f82da"
      },
      "execution_count": null,
      "outputs": [
        {
          "output_type": "stream",
          "name": "stdout",
          "text": [
            "***********************************************************************************************\n",
            "Código que calcula o dobro de um número se ele for positivo ou o seu triplo se ele for negativo\n",
            "***********************************************************************************************\n",
            "Digite um número: -78\n",
            "O número -78.0 é negativo e seu triplo é: -234.0.\n",
            "FIM DO PROGRAMA\n"
          ]
        }
      ]
    },
    {
      "cell_type": "markdown",
      "source": [
        "Código que calcula a média de um aluno e classifica se ele está aprovado ou reprovado"
      ],
      "metadata": {
        "id": "A4Wh2BcyiMzv"
      }
    },
    {
      "cell_type": "code",
      "source": [
        "print ('#' * 85)\n",
        "print ('Código que calcula a média de um aluno e classifica se ele está aprovado ou reprovado')\n",
        "print ('#' * 85)\n",
        "\n",
        "p1 = float ( input ('Digite a primeira nota: '))\n",
        "p2 = float ( input ('Digite a segunda nota: '))\n",
        "\n",
        "media = (p1 + p2)/2\n",
        "\n",
        "if media >= 7:\n",
        "  print (f'O aluno está APROVADO com média {media}.')\n",
        "\n",
        "else:\n",
        "  print (f'O aluno está REPROVADO com média {media}')  "
      ],
      "metadata": {
        "id": "4G_u6-JaU8Vv",
        "colab": {
          "base_uri": "https://localhost:8080/"
        },
        "outputId": "f4be3e16-1552-4377-ad0c-74b8a52f4f80"
      },
      "execution_count": 5,
      "outputs": [
        {
          "output_type": "stream",
          "name": "stdout",
          "text": [
            "#####################################################################################\n",
            "Código que calcula a média de um aluno e classifica se ele está aprovado ou reprovado\n",
            "#####################################################################################\n",
            "Digite a primeira nota: 8.5\n",
            "Digite a segunda nota: 9.8\n",
            "O aluno está APROVADO com média 9.15.\n"
          ]
        }
      ]
    },
    {
      "cell_type": "markdown",
      "source": [
        "Código que lê uma variável inteira e caso seja par soma 5 e caso seja ímpar soma 8"
      ],
      "metadata": {
        "id": "wFvFI5RIkJda"
      }
    },
    {
      "cell_type": "code",
      "source": [
        "print ('*' * 82)\n",
        "print ('Código que lê uma variável inteira e caso seja par soma 5 e caso seja ímpar soma 8')\n",
        "print ('*' * 82)\n",
        "\n",
        "variavel = int ( input ('Digite uma variável inteira: '))\n",
        "\n",
        "if variavel >= 0:\n",
        "  print (f'A variável é positiva e seu valor é: {variavel + 5}.')\n",
        "else:\n",
        "  print (f'A variável é negativa e seu valor é: {variavel - 8}.')  "
      ],
      "metadata": {
        "colab": {
          "base_uri": "https://localhost:8080/"
        },
        "id": "jHU_HSIejlT5",
        "outputId": "6388ba8b-7b4f-4bcf-e42e-212e6e6c0426"
      },
      "execution_count": 11,
      "outputs": [
        {
          "output_type": "stream",
          "name": "stdout",
          "text": [
            "**********************************************************************************\n",
            "Código que lê uma variável inteira e caso seja par soma 5 e caso seja ímpar soma 8\n",
            "**********************************************************************************\n",
            "Digite uma variável inteira: 49\n",
            "A variável é positiva e seu valor é: 54.\n"
          ]
        }
      ]
    },
    {
      "cell_type": "markdown",
      "source": [
        "Código que calcula o peso ideal levando em consideração de é homem ou mulher"
      ],
      "metadata": {
        "id": "gKNU5dS9m7qC"
      }
    },
    {
      "cell_type": "code",
      "source": [
        "print ('+' * 78)\n",
        "print ('Código que calcula o peso ideal levando em consideração de é homem ou mulher')\n",
        "print ('+' * 78)\n",
        "\n",
        "#homens: (72.7 * h) – 58\n",
        "#mulheres: (62.1 * h) – 44.7\n",
        "\n",
        "h = float ( input ('Digite a sua altura: '))\n",
        "sexo = int ( input ('Digite 1 para masculino e 2 para feminino: '))\n",
        "\n",
        "homem = (72.7 * h) - 58\n",
        "mulher = (62.1 * h) - 44.7\n",
        "\n",
        "if sexo == 1:\n",
        "  print (f'O peso ideal deste homem é: {(72.7 * h) - 58}.')\n",
        "\n",
        "else:\n",
        "  print (f'O peso ideal desta mulher é: {(62.1 * h) - 44.7}')  "
      ],
      "metadata": {
        "colab": {
          "base_uri": "https://localhost:8080/"
        },
        "id": "9OJoF70_lhxW",
        "outputId": "4aed4eae-b571-4a64-a9cf-b85834cf217c"
      },
      "execution_count": 16,
      "outputs": [
        {
          "output_type": "stream",
          "name": "stdout",
          "text": [
            "++++++++++++++++++++++++++++++++++++++++++++++++++++++++++++++++++++++++++++++\n",
            "Código que calcula o peso ideal levando em consideração de é homem ou mulher\n",
            "++++++++++++++++++++++++++++++++++++++++++++++++++++++++++++++++++++++++++++++\n",
            "Digite a sua altura: 1.84\n",
            "Digite 1 para masculino e 2 para feminino: 1\n",
            "O peso ideal deste homem é: 75.768.\n"
          ]
        }
      ]
    },
    {
      "cell_type": "markdown",
      "source": [
        "Código que calcula como deve ser cobrado por um produto confome\n",
        "forma de pagamento escolhida pelo cliente"
      ],
      "metadata": {
        "id": "_FEFRWbBoxZh"
      }
    },
    {
      "cell_type": "code",
      "source": [
        "print ('*' * 105)\n",
        "print ('Código que calcula como deve ser cobrado por um produto confome forma de pagamento escolhida pelo cliente')\n",
        "print ('*' * 105)\n",
        "\n",
        "valorini = float ( input ('Digite o valor da etiqueta: '))\n",
        "codigo = int ( input ('Digite 1 para a vista no dinheiro ou cheque; 2 para a vista no cartão de crédito; 3 para 2X e 4 para 3X:'))\n",
        "\n",
        "if codigo < 1 or codigo > 4:\n",
        "  print ('Código inválido!')\n",
        "\n",
        "else:\n",
        "  if codigo == 1:\n",
        "    print (f'O cliente ganhou um desconto de 10 % e o valor a ser pago é: {valorini * 0.90}.')\n",
        "\n",
        "  elif codigo == 2:\n",
        "    print (f'O cliente ganhou um desconto de 15 % e o valor a ser pago é: {valorini * 0.85}.')\n",
        "\n",
        "  elif codigo == 3:\n",
        "    print (f'O valor a ser pago é: {valorini}.') \n",
        "\n",
        "  else:\n",
        "    print (f'O cliente terá um acréscimo de 10 % e o valor a ser pago é: {valorini * 1.10}')\n",
        "\n",
        "print ('FIM DO PROGRAMA')    \n"
      ],
      "metadata": {
        "colab": {
          "base_uri": "https://localhost:8080/"
        },
        "id": "l8TmwOnGowHZ",
        "outputId": "3f2bc8d9-14ba-4e14-889d-cbd695227ac5"
      },
      "execution_count": 30,
      "outputs": [
        {
          "output_type": "stream",
          "name": "stdout",
          "text": [
            "*********************************************************************************************************\n",
            "Código que calcula como deve ser cobrado por um produto confome forma de pagamento escolhida pelo cliente\n",
            "*********************************************************************************************************\n",
            "Digite o valor da etiqueta: 40.0\n",
            "Digite 1 para a vista no dinheiro ou cheque; 2 para a vista no cartão de crédito; 3 para 2X e 4 para 3X:4\n",
            "O cliente terá um acréscimo de 10 % e o valor a ser pago é: 44.0\n",
            "FIM DO PROGRAMA\n"
          ]
        }
      ]
    },
    {
      "cell_type": "markdown",
      "source": [
        "##Mais Complexo"
      ],
      "metadata": {
        "id": "P_1dh200xQFn"
      }
    },
    {
      "cell_type": "markdown",
      "source": [
        "Código que lê nome, sexo e estado civil de uma pessoa e\n",
        "caso seja feminino e casada pergunta quanto tempo de casada"
      ],
      "metadata": {
        "id": "GjH3l_w26y6k"
      }
    },
    {
      "cell_type": "code",
      "source": [
        "print ('*' * 115)\n",
        "print ('Código que lê nome, sexo e estado civil de uma pessoa e caso seja feminino e casada pergunta quanto tempo de casada')\n",
        "print ('*' * 115)\n",
        "\n",
        "nome = str ( input ('Digite o seu nome: '))\n",
        "sexo = str ( input ('Digite o seu sexo: ')).upper ()[0]\n",
        "estado_civil = str ( input ('Digite seu estado civil: ')).upper ()\n",
        "\n",
        "\n",
        "if sexo == 'F' and estado_civil == 'CASADA':\n",
        "  mulher_casada = int ( input ('Quantos anos você é casada?'))\n",
        "  print (f'Você com {mulher_casada} de casada, obrigado por participar da pesquisa!')\n",
        "\n",
        "else:\n",
        "  print ('Obrigado por participar da pesquisa!')  "
      ],
      "metadata": {
        "colab": {
          "base_uri": "https://localhost:8080/"
        },
        "id": "47Z5YfRduMla",
        "outputId": "1021946e-4adc-46bc-dbe6-3e4425a78df7"
      },
      "execution_count": 38,
      "outputs": [
        {
          "output_type": "stream",
          "name": "stdout",
          "text": [
            "*******************************************************************************************************************\n",
            "Código que lê nome, sexo e estado civil de uma pessoa e caso seja feminino e casada pergunta quanto tempo de casada\n",
            "*******************************************************************************************************************\n",
            "Digite o seu nome: Maria\n",
            "Digite o seu sexo: f\n",
            "Digite seu estado civil: casada\n",
            "Quantos anos você é casada?20\n",
            "Você com 20 de casada, obrigado por participar da pesquisa!\n"
          ]
        }
      ]
    },
    {
      "cell_type": "markdown",
      "source": [
        "Código que lê três valores inteiros diferentes e mostra estes valores na ordem decrscente\n",
        "\n"
      ],
      "metadata": {
        "id": "8JIjEHfi_zuy"
      }
    },
    {
      "cell_type": "code",
      "source": [
        "print ('=' * 89)\n",
        "print ('Código que lê três valores inteiros diferentes e mostra estes valores na ordem decrscente')\n",
        "print ('=' * 89)\n",
        "\n",
        "num1 = int ( input ('Digite o primeiro número: '))\n",
        "num2 = int ( input ('Digite o segundo número: '))\n",
        "num3 = int ( input ('Digite o terceiro número: '))\n",
        "\n",
        "if num1 != num2 and num1 != num3 and num2 != num3:\n",
        "  print (f'A sequência decrescente dos 3 números inteiros diferentes é: {num3}, {num2} e {num1}.')\n",
        "\n",
        "else:\n",
        "  print ('A sequência dos números inteiros não é diferente, digite novamente!')  \n"
      ],
      "metadata": {
        "colab": {
          "base_uri": "https://localhost:8080/"
        },
        "id": "bITQf-t6-dnn",
        "outputId": "1a0741a9-7af7-4838-b0ef-c4c1ad2be68c"
      },
      "execution_count": 48,
      "outputs": [
        {
          "output_type": "stream",
          "name": "stdout",
          "text": [
            "=========================================================================================\n",
            "Código que lê três valores inteiros diferentes e mostra estes valores na ordem decrscente\n",
            "=========================================================================================\n",
            "Digite o primeiro número: 5\n",
            "Digite o segundo número: 9\n",
            "Digite o terceiro número: 5\n",
            "A sequência dos números inteiros não é diferente, digite novamente!\n"
          ]
        }
      ]
    },
    {
      "cell_type": "markdown",
      "source": [
        "Código que calcula o IMC de uma pessoa baseado no peso e altura e classifica como abaixo do peso,\n",
        "peso normal, acima do peso ou obeso"
      ],
      "metadata": {
        "id": "3vZi2UIMIYco"
      }
    },
    {
      "cell_type": "code",
      "source": [
        "print ('=' * 133)\n",
        "print ('Código que calcula o IMC de uma pessoa baseado no peso e altura e classifica como abaixo do peso, peso normal, acima do peso ou obeso')\n",
        "print ('=' * 133)\n",
        "\n",
        "peso = float ( input ('Digite o seu peso; '))\n",
        "altura = float ( input ('Digite a sua altura: '))\n",
        "\n",
        "#imc = (peso) / (altura)²\n",
        "\n",
        "#Abaixo de 18,5 \t\t\t\t\t                Abaixo do peso\n",
        "#Entre     18,5 e 25 (18,5 <= imc < 25) \tPeso normal\n",
        "#Entre     25 e 30 \t(25 <= imc < 30)\t\t    Acima do peso\n",
        "#Acima de  30 \t\t\t\t\t                  Obeso\n",
        "\n",
        "\n",
        "imc = (peso) / (altura) ** 2\n",
        "\n",
        "if imc < 18.5:\n",
        "  print ('O paciente está abaixo do peso!')\n",
        "elif 18.5 <= imc < 25:\n",
        "  print ('O paciente está com peso normal!')\n",
        "elif 25 <= imc < 30:\n",
        "  print ('O paciente está acima do peso!')\n",
        "else:\n",
        "  print ('O paciente está obeso!')      "
      ],
      "metadata": {
        "colab": {
          "base_uri": "https://localhost:8080/"
        },
        "id": "uhexbYErCqWs",
        "outputId": "0ba24ddc-661c-4b13-9988-4cc74f375409"
      },
      "execution_count": 51,
      "outputs": [
        {
          "output_type": "stream",
          "name": "stdout",
          "text": [
            "=====================================================================================================================================\n",
            "Código que calcula o IMC de uma pessoa baseado no peso e altura e classifica como abaixo do peso, peso normal, acima do peso ou obeso\n",
            "=====================================================================================================================================\n",
            "Digite o seu peso; 75.0\n",
            "Digite a sua altura: 1.84\n",
            "O paciente está com peso normal!\n"
          ]
        }
      ]
    },
    {
      "cell_type": "markdown",
      "source": [
        "Código que lê a Id de um aluno, as 3 notas obtidas nas 3 avaliações, a média dos exercícios,\n",
        "calcula a média de aproveitamento, mostra a cituação do aluno aprovado ou reprovado e o\n",
        "conceito do aluno, a média de aproveitamento além das 3 notas e da média dos exercícios"
      ],
      "metadata": {
        "id": "JhYvj6kLJeNL"
      }
    },
    {
      "cell_type": "code",
      "source": [
        ""
      ],
      "metadata": {
        "id": "wuVxmWEcJoF4"
      },
      "execution_count": null,
      "outputs": []
    },
    {
      "cell_type": "code",
      "source": [
        "print ('*' * 92)\n",
        "print ('Código que lê a Id de um aluno, as 3 notas obtidas nas 3 avaliações, a média dos exercícios,\\n''calcula a média de aproveitamento, mostra a cituação do aluno aprovado ou reprovado\\n''e o conceito do aluno, a média de aproveitamento além das 3 notas e da média dos exercícios')\n",
        "print ('*' * 92)\n",
        "\n",
        "id = str ( input ('Digite a ID do aluno: '))\n",
        "nota1 = float ( input ('Digite a 1ª nota: '))\n",
        "nota2 = float ( input ('Digite a 2ª nota: '))\n",
        "nota3 = float ( input ('Digite a 3ª nota: '))\n",
        "me = float ( input ('Digite a Média dos Exercícios: '))\n",
        "\n",
        "ma = (nota1 + nota2 * 2 + nota3 * 3 + me)/7\n",
        "\n",
        "if me >= 9.0:\n",
        "    print (f'O aluno ID {id} , obteve conceito A e está APROVADO '\n",
        "           f'com Média de Aproveitamento {ma :.2f}.')\n",
        "    print (f'A 1ª, 2ª e 3ª notas consecutivas do aluno'\n",
        "           f' são {nota1 :.2f}, {nota2 :.2f} e {nota3 :.2f}, com Média dos Exercícos {me :.2f}.')\n",
        "\n",
        "elif me >= 7.5 and me < 9.0:\n",
        "    print(f'O aluno ID {id} , obteve conceito B e está APROVADO '\n",
        "          f'com Média de Aproveitamento {ma :.2f}.')\n",
        "    print(f'A 1ª, 2ª e 3ª notas consecutivas do aluno'\n",
        "          f' são {nota1 :.2f}, {nota2 :.2f} e {nota3 :.2f}, com Média dos Exercícos {me :.2f}.')\n",
        "\n",
        "elif me >= 6.0 and me < 7.5:\n",
        "    print(f'O aluno ID {id} , obteve conceito C e está APROVADO '\n",
        "          f'com Média de Aproveitamento {ma :.2f}.')\n",
        "    print(f'A 1ª, 2ª e 3ª notas consecutivas do aluno'\n",
        "          f' são {nota1 :.2f}, {nota2 :.2f} e {nota3 :.2f}, com Média dos Exercícos {me :.2f}.')\n",
        "\n",
        "elif me >= 4.0 and me < 6.0:\n",
        "    print(f'O aluno ID {id} , obteve conceito D e está REPROVADO '\n",
        "          f'com Média de Aproveitamento {ma :.2f}.')\n",
        "    print(f'A 1ª, 2ª e 3ª notas consecutivas do aluno'\n",
        "          f' são {nota1 :.2f}, {nota2 :.2f} e {nota3 :.2f}, com Média dos Exercícos {me :.2f}.')\n",
        "\n",
        "elif me < 4.0:\n",
        "    print(f'O aluno ID {id} , obteve conceito E e está REPROVADO '\n",
        "          f'com Média de Aproveitamento {ma :.2f}.')\n",
        "    print(f'A 1ª, 2ª e 3ª notas consecutivas do aluno'\n",
        "          f' são {nota1 :.2f}, {nota2 :.2f} e {nota3 :.2f}, com Média dos Exercícos {me :.2f}.')\n",
        "\n",
        "else:\n",
        "    print ('Procure a administração pedagógica na secretaria da istituição.')"
      ],
      "metadata": {
        "colab": {
          "base_uri": "https://localhost:8080/"
        },
        "id": "wcNRdfQXJF2f",
        "outputId": "16d12e28-6274-4ef7-dc41-2d66b5362690"
      },
      "execution_count": 57,
      "outputs": [
        {
          "output_type": "stream",
          "name": "stdout",
          "text": [
            "********************************************************************************************\n",
            "Código que lê a Id de um aluno, as 3 notas obtidas nas 3 avaliações, a média dos exercícios,\n",
            "calcula a média de aproveitamento, mostra a cituação do aluno aprovado ou reprovado\n",
            "e o conceito do aluno, a média de aproveitamento além das 3 notas e da média dos exercícios\n",
            "********************************************************************************************\n",
            "Digite a ID do aluno: wagner\n",
            "Digite a 1ª nota: 9.4\n",
            "Digite a 2ª nota: 9.0\n",
            "Digite a 3ª nota: 8.5\n",
            "Digite a Média dos Exercícios: 8.9\n",
            "O aluno ID wagner , obteve conceito B e está APROVADO com Média de Aproveitamento 8.83.\n",
            "A 1ª, 2ª e 3ª notas consecutivas do aluno são 9.40, 9.00 e 8.50, com Média dos Exercícos 8.90.\n"
          ]
        }
      ]
    },
    {
      "cell_type": "markdown",
      "source": [
        "Código que lê e verifica se 3 números inteiros formam um triângulo"
      ],
      "metadata": {
        "id": "ZaWocXEbLMwT"
      }
    },
    {
      "cell_type": "code",
      "source": [
        "print ('*' * 66)\n",
        "print ('Código que lê e verifica se 3 números inteiros formam um triângulo')\n",
        "print ('*' * 66)\n",
        "\n",
        "num1 = int ( input ('Digite o primeiro nº inteiro: '))\n",
        "num2 = int ( input ('Digite o segundo nº inteiro: '))\n",
        "num3 = int ( input ('Digite o terceiro nº inteiro: '))\n",
        "\n",
        "if num1 < (num2 + num3):\n",
        "    print (f'Os números {num1}, {num2} e {num3} formam um triângulo.')\n",
        "\n",
        "else:\n",
        "    print (f'Os números {num1}, {num2} e {num3} não formam um triângulo.')"
      ],
      "metadata": {
        "colab": {
          "base_uri": "https://localhost:8080/"
        },
        "id": "HN2O_qVsK8Mm",
        "outputId": "8d4af884-4456-4f05-9ed9-93ddd055f092"
      },
      "execution_count": 61,
      "outputs": [
        {
          "output_type": "stream",
          "name": "stdout",
          "text": [
            "******************************************************************\n",
            "Código que lê e verifica se 3 números inteiros formam um triângulo\n",
            "******************************************************************\n",
            "Digite o primeiro nº inteiro: 89\n",
            "Digite o segundo nº inteiro: 10\n",
            "Digite o terceiro nº inteiro: 12\n",
            "Os números 89, 10 e 12 não formam um triângulo.\n"
          ]
        }
      ]
    }
  ]
}