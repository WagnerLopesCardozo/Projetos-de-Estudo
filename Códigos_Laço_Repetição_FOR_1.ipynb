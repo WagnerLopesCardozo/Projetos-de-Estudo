{
  "nbformat": 4,
  "nbformat_minor": 0,
  "metadata": {
    "colab": {
      "name": "Códigos_Laço_Repetição_FOR_1.ipynb",
      "provenance": [],
      "authorship_tag": "ABX9TyNIG9x3EPl33I7xJ+lCUeYO",
      "include_colab_link": true
    },
    "kernelspec": {
      "name": "python3",
      "display_name": "Python 3"
    },
    "language_info": {
      "name": "python"
    }
  },
  "cells": [
    {
      "cell_type": "markdown",
      "metadata": {
        "id": "view-in-github",
        "colab_type": "text"
      },
      "source": [
        "<a href=\"https://colab.research.google.com/github/WagnerLopesCardozo/Projetos-de-Estudo-CD-FaTec-Ourinhos/blob/main/C%C3%B3digos_La%C3%A7o_Repeti%C3%A7%C3%A3o_FOR_1.ipynb\" target=\"_parent\"><img src=\"https://colab.research.google.com/assets/colab-badge.svg\" alt=\"Open In Colab\"/></a>"
      ]
    },
    {
      "cell_type": "markdown",
      "source": [
        "#Código de Laços de Repetição com o Comando FOR Nível Fácil"
      ],
      "metadata": {
        "id": "2iLcnMdtO4dk"
      }
    },
    {
      "cell_type": "markdown",
      "source": [
        "Código que exibe 10 linhas com a mensagem Olá Mundo"
      ],
      "metadata": {
        "id": "gsPX7LFsUH6y"
      }
    },
    {
      "cell_type": "code",
      "execution_count": 1,
      "metadata": {
        "colab": {
          "base_uri": "https://localhost:8080/"
        },
        "id": "3m-ATAiTOmD1",
        "outputId": "64d29a1a-951c-4cd4-bcfb-b3f7317de6b4"
      },
      "outputs": [
        {
          "output_type": "stream",
          "name": "stdout",
          "text": [
            "Olá Mundo\n",
            "Olá Mundo\n",
            "Olá Mundo\n",
            "Olá Mundo\n",
            "Olá Mundo\n",
            "Olá Mundo\n",
            "Olá Mundo\n",
            "Olá Mundo\n",
            "Olá Mundo\n",
            "Olá Mundo\n"
          ]
        }
      ],
      "source": [
        "'''\n",
        "Código que exibe 10 linhas com a mensagem Olá Mundo\n",
        "'''\n",
        "\n",
        "for count in range (0, 10): #count é a variável que irá receber cada mensagem\n",
        "    print ('Olá Mundo')"
      ]
    },
    {
      "cell_type": "markdown",
      "source": [
        "Código que exibe de 1 até 25 na horizontal"
      ],
      "metadata": {
        "id": "RGA0AwQqVAcZ"
      }
    },
    {
      "cell_type": "code",
      "source": [
        "'''\n",
        "Código que exibe de 1 até 25 na horizontal\n",
        "'''\n",
        "\n",
        "for count in range (1, 26): #26 porque no python exibe até o 25, se for até 26 teria que colocar do 1 até 27 por exemplo\n",
        "    print (f'{count}', end= ' ') #end= ' ' para exibir na horizontal"
      ],
      "metadata": {
        "colab": {
          "base_uri": "https://localhost:8080/"
        },
        "id": "BffYoYcwUJeW",
        "outputId": "b7af0e48-a6af-42f3-fcfe-d190d0d1173e"
      },
      "execution_count": 2,
      "outputs": [
        {
          "output_type": "stream",
          "name": "stdout",
          "text": [
            "1 2 3 4 5 6 7 8 9 10 11 12 13 14 15 16 17 18 19 20 21 22 23 24 25 "
          ]
        }
      ]
    },
    {
      "cell_type": "markdown",
      "source": [
        "Código que exibe os pares de 0 até 10"
      ],
      "metadata": {
        "id": "d64AorcTVR9v"
      }
    },
    {
      "cell_type": "code",
      "source": [
        "'''\n",
        "Código que exibe os pares de 0 até 10\n",
        "'''\n",
        "\n",
        "for count in range (0, 11, 2): # o terceiro número 2 para informar que são os pares ou seja de 2 em 2 o 2 é o imcremento\n",
        "    print (f'{count}', end=' - ') # na horizontal separado por ífem"
      ],
      "metadata": {
        "colab": {
          "base_uri": "https://localhost:8080/"
        },
        "id": "7_AxZRL_VHIE",
        "outputId": "01c890a1-86b5-4cd2-c88c-1a6c727c700e"
      },
      "execution_count": 3,
      "outputs": [
        {
          "output_type": "stream",
          "name": "stdout",
          "text": [
            "0 - 2 - 4 - 6 - 8 - 10 - "
          ]
        }
      ]
    },
    {
      "cell_type": "markdown",
      "source": [
        "Código que lê um valor inicial e final e exibe do inicial até o final"
      ],
      "metadata": {
        "id": "wAvzsSYaVxGb"
      }
    },
    {
      "cell_type": "code",
      "source": [
        "'''\n",
        "Código que lê um valor inicial e final e exibe do inicial até o final\n",
        "'''\n",
        "\n",
        "print ('Código que lê um valor inicial e final e exibe do inicial até o final')\n",
        "\n",
        "inicial = int (input ('Digite o valor inicial: '))\n",
        "final = int (input ('Digite o valor final: '))\n",
        "\n",
        "for count in range (inicial, final+1):\n",
        "    print (f'{count}', end= '  ')"
      ],
      "metadata": {
        "colab": {
          "base_uri": "https://localhost:8080/"
        },
        "id": "UNA4keoDVmoU",
        "outputId": "1ad50462-27ba-47cb-c286-a0b27ea555cd"
      },
      "execution_count": 4,
      "outputs": [
        {
          "output_type": "stream",
          "name": "stdout",
          "text": [
            "Código que lê um valor inicial e final e exibe do inicial até o final\n",
            "Digite o valor inicial: 2\n",
            "Digite o valor final: 20\n",
            "2  3  4  5  6  7  8  9  10  11  12  13  14  15  16  17  18  19  20  "
          ]
        }
      ]
    },
    {
      "cell_type": "markdown",
      "source": [
        "Código que lê um valor inicial e final e exibe esses valores inicial e final mais o incremento"
      ],
      "metadata": {
        "id": "XnpBnu5dWE43"
      }
    },
    {
      "cell_type": "code",
      "source": [
        "'''\n",
        "Código que lê um valor inicial e final e exibe esses valores inicial e final mais o incremento\n",
        "'''\n",
        "\n",
        "inicial = int (input ('Digite o valor inicial: '))\n",
        "final = int (input ('Digite o valor final: '))\n",
        "incremento = int (input ('Digite o incremento: '))\n",
        "\n",
        "for count in range (inicial, final+1, incremento):\n",
        "    print (f'{count}', end='  ')"
      ],
      "metadata": {
        "colab": {
          "base_uri": "https://localhost:8080/"
        },
        "id": "AoYektW9V7df",
        "outputId": "5ec445f2-befd-4b26-fdd2-a76d3be786d7"
      },
      "execution_count": 5,
      "outputs": [
        {
          "output_type": "stream",
          "name": "stdout",
          "text": [
            "Digite o valor inicial: 2\n",
            "Digite o valor final: 40\n",
            "Digite o incremento: 3\n",
            "2  5  8  11  14  17  20  23  26  29  32  35  38  "
          ]
        }
      ]
    },
    {
      "cell_type": "markdown",
      "source": [
        "Código que lê um valor inicial e final e exibe esses valores inicial e final mais o incremento\n",
        " um após o outro no tempo de 1 segundo"
      ],
      "metadata": {
        "id": "9MPgiRQPWVAY"
      }
    },
    {
      "cell_type": "code",
      "source": [
        "'''\n",
        "Código que lê um valor inicial e final e exibe esses valores inicial e final mais o incremento\n",
        " um após o outro no tempo de 1 segundo\n",
        "'''\n",
        "\n",
        "from time import sleep\n",
        "\n",
        "inicial = int (input ('Digite o valor inicial: '))\n",
        "final = int (input ('Digite o valor final: '))\n",
        "incremento = int (input ('Digite o incremento: '))\n",
        "\n",
        "for count in range (inicial, final+1, incremento):\n",
        "    print (f'{count}', end= ' ')\n",
        "    sleep (1)"
      ],
      "metadata": {
        "colab": {
          "base_uri": "https://localhost:8080/"
        },
        "id": "1WkLE_U7WKEK",
        "outputId": "8a47d7b5-121f-429d-f04c-e64bb38c925c"
      },
      "execution_count": 6,
      "outputs": [
        {
          "output_type": "stream",
          "name": "stdout",
          "text": [
            "Digite o valor inicial: 2\n",
            "Digite o valor final: 20\n",
            "Digite o incremento: 2\n",
            "2 4 6 8 10 12 14 16 18 20 "
          ]
        }
      ]
    },
    {
      "cell_type": "markdown",
      "source": [
        "Código que lê 5 números digitados pelo usuário e exibe a média entre eles"
      ],
      "metadata": {
        "id": "SQAxV_kWXBHX"
      }
    },
    {
      "cell_type": "code",
      "source": [
        "'''\n",
        "Código que lê 5 números digitados pelo usuário e exibe a média entre eles.\n",
        "'''\n",
        "\n",
        "soma = 0\n",
        "\n",
        "for count in range (1, 6):\n",
        "    num = int(input('Digite um número: ')) # a variável num é definida dentro do FOR porque criamos uma variável contadora soma=0\n",
        "    soma = soma + num\n",
        "print (f'A soma dos números digitados é: {soma} ')\n",
        "print (f'A média dos números digitados é: {soma/5:.2f}') #o print tem que ser recuado fora\n",
        "                                                         #da identação do for porque se não, ele\n",
        "                                                         #vai calcular a média de cada número\n",
        "                                                         #separadamente."
      ],
      "metadata": {
        "colab": {
          "base_uri": "https://localhost:8080/"
        },
        "id": "BnOF7fWUW64D",
        "outputId": "175d326a-bb65-4529-c768-e972a022dd9f"
      },
      "execution_count": 7,
      "outputs": [
        {
          "output_type": "stream",
          "name": "stdout",
          "text": [
            "Digite um número: 8\n",
            "Digite um número: 3\n",
            "Digite um número: 9\n",
            "Digite um número: 2\n",
            "Digite um número: 4\n",
            "A soma dos números digitados é: 26 \n",
            "A média dos números digitados é: 5.20\n"
          ]
        }
      ]
    },
    {
      "cell_type": "markdown",
      "source": [
        "Código que lê 10 números e exibe a soma e média entre eles"
      ],
      "metadata": {
        "id": "ej42LYVnXdpx"
      }
    },
    {
      "cell_type": "code",
      "source": [
        "'''\n",
        "Código que lê 10 números e exibe a soma e média entre eles.\n",
        "'''\n",
        "\n",
        "soma = 0\n",
        "\n",
        "for count in range (1, 11):\n",
        "    num = int (input ('Digite um número: '))\n",
        "    soma = soma + num\n",
        "print (f'A soma dos números digitados é: {soma}')\n",
        "print (f'A média dos números digitdos é: {soma/10 :.2f}')"
      ],
      "metadata": {
        "colab": {
          "base_uri": "https://localhost:8080/"
        },
        "id": "DKXAees_Xa89",
        "outputId": "cdc50677-4604-49b0-d15a-57a06a6567ca"
      },
      "execution_count": 8,
      "outputs": [
        {
          "output_type": "stream",
          "name": "stdout",
          "text": [
            "Digite um número: 4\n",
            "Digite um número: 9\n",
            "Digite um número: 1\n",
            "Digite um número: 6\n",
            "Digite um número: 3\n",
            "Digite um número: 4\n",
            "Digite um número: 7\n",
            "Digite um número: 1\n",
            "Digite um número: 3\n",
            "Digite um número: 2\n",
            "A soma dos números digitados é: 40\n",
            "A média dos números digitdos é: 4.00\n"
          ]
        }
      ]
    },
    {
      "cell_type": "markdown",
      "source": [
        "Código que Lê um número e exibe sua tabuada"
      ],
      "metadata": {
        "id": "-LAv199cYMlt"
      }
    },
    {
      "cell_type": "code",
      "source": [
        "'''\n",
        "Código que Lê um número e exibe sua tabuada\n",
        "'''\n",
        "\n",
        "num = int (input ('Digite um número: '))\n",
        "\n",
        "print (f'A tabuada de {num} é: ')\n",
        "\n",
        "for count in range (1, 11):\n",
        "    print (f'{count} X {num} = {count*num}')"
      ],
      "metadata": {
        "colab": {
          "base_uri": "https://localhost:8080/"
        },
        "id": "moJ0h03tX98I",
        "outputId": "17284b07-0478-4520-b622-26c1c8095d2e"
      },
      "execution_count": 9,
      "outputs": [
        {
          "output_type": "stream",
          "name": "stdout",
          "text": [
            "Digite um número: 4\n",
            "A tabuada de 4 é: \n",
            "1 X 4 = 4\n",
            "2 X 4 = 8\n",
            "3 X 4 = 12\n",
            "4 X 4 = 16\n",
            "5 X 4 = 20\n",
            "6 X 4 = 24\n",
            "7 X 4 = 28\n",
            "8 X 4 = 32\n",
            "9 X 4 = 36\n",
            "10 X 4 = 40\n"
          ]
        }
      ]
    }
  ]
}