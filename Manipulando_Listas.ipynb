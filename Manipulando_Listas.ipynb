{
  "nbformat": 4,
  "nbformat_minor": 0,
  "metadata": {
    "colab": {
      "name": "Manipulando_Listas.ipynb",
      "provenance": [],
      "authorship_tag": "ABX9TyM13g0GQ9nEqf7P40Y1ynaQ",
      "include_colab_link": true
    },
    "kernelspec": {
      "name": "python3",
      "display_name": "Python 3"
    },
    "language_info": {
      "name": "python"
    }
  },
  "cells": [
    {
      "cell_type": "markdown",
      "metadata": {
        "id": "view-in-github",
        "colab_type": "text"
      },
      "source": [
        "<a href=\"https://colab.research.google.com/github/WagnerLopesCardozo/Projetos-de-Estudo-CD-FaTec-Ourinhos/blob/main/Manipulando_Listas.ipynb\" target=\"_parent\"><img src=\"https://colab.research.google.com/assets/colab-badge.svg\" alt=\"Open In Colab\"/></a>"
      ]
    },
    {
      "cell_type": "markdown",
      "source": [
        "Primeiros Passos com Listas"
      ],
      "metadata": {
        "id": "ypYEFBHc5OIh"
      }
    },
    {
      "cell_type": "markdown",
      "source": [
        "#Manipulando Listas e Fazendo Uso da Biblioteca RANDOM "
      ],
      "metadata": {
        "id": "n17RvvMR43_b"
      }
    },
    {
      "cell_type": "markdown",
      "source": [
        "Lista vazia"
      ],
      "metadata": {
        "id": "5vxFSwcWO9VF"
      }
    },
    {
      "cell_type": "code",
      "execution_count": 3,
      "metadata": {
        "colab": {
          "base_uri": "https://localhost:8080/"
        },
        "id": "dCKNXJuK42pW",
        "outputId": "173eceb4-7dc6-4480-a621-019289737762"
      },
      "outputs": [
        {
          "output_type": "execute_result",
          "data": {
            "text/plain": [
              "[]"
            ]
          },
          "metadata": {},
          "execution_count": 3
        }
      ],
      "source": [
        "lista = []\n",
        "lista #lista vazia"
      ]
    },
    {
      "cell_type": "markdown",
      "source": [
        "Criando uma lista e mostrando os seus elementos"
      ],
      "metadata": {
        "id": "erCGujkFPHRT"
      }
    },
    {
      "cell_type": "code",
      "source": [
        "lista = ['Ciência de Dados', 'Agronegócio', 49, 1972]\n",
        "lista #mostrando o que tem na lista"
      ],
      "metadata": {
        "colab": {
          "base_uri": "https://localhost:8080/"
        },
        "id": "TTEhr5pP5iYw",
        "outputId": "6db70db5-524b-4d33-d356-7d832337e7a3"
      },
      "execution_count": 4,
      "outputs": [
        {
          "output_type": "execute_result",
          "data": {
            "text/plain": [
              "['Ciência de Dados', 'Agronegócio', 49, 1972]"
            ]
          },
          "metadata": {},
          "execution_count": 4
        }
      ]
    },
    {
      "cell_type": "markdown",
      "source": [
        "Criando uma nova lista e mostrando seus elementos"
      ],
      "metadata": {
        "id": "X8vxSCoDPP9F"
      }
    },
    {
      "cell_type": "code",
      "source": [
        "nova_lista = ['fatec',lista]\n",
        "nova_lista #adicionando a lista dentro de outra lista"
      ],
      "metadata": {
        "colab": {
          "base_uri": "https://localhost:8080/"
        },
        "id": "MnhGwEov6TeH",
        "outputId": "86da7908-9828-4b79-8c19-fe5f3f7f338e"
      },
      "execution_count": 5,
      "outputs": [
        {
          "output_type": "execute_result",
          "data": {
            "text/plain": [
              "['fatec', ['Ciência de Dados', 'Agronegócio', 49, 1972]]"
            ]
          },
          "metadata": {},
          "execution_count": 5
        }
      ]
    },
    {
      "cell_type": "markdown",
      "source": [
        "Mostrando o elemento na posição três da lista"
      ],
      "metadata": {
        "id": "4-UnMxB6PeMO"
      }
    },
    {
      "cell_type": "code",
      "source": [
        "lista = ['Ciência de Dados', 'Agronegócio', 49, 1972]\n",
        "lista\n",
        "lista[0]\n",
        "lista[3] #mostando o elemento na posição 3 da lista"
      ],
      "metadata": {
        "colab": {
          "base_uri": "https://localhost:8080/"
        },
        "id": "CvMypLBU6psg",
        "outputId": "490e240d-886a-4819-f838-d580ced74fc4"
      },
      "execution_count": 11,
      "outputs": [
        {
          "output_type": "execute_result",
          "data": {
            "text/plain": [
              "1972"
            ]
          },
          "metadata": {},
          "execution_count": 11
        }
      ]
    },
    {
      "cell_type": "markdown",
      "source": [
        "Criando nova lista e colocando a lista dentro da nova lista"
      ],
      "metadata": {
        "id": "_WcWOjIoP_RW"
      }
    },
    {
      "cell_type": "code",
      "source": [
        "nova_lista = ['fatec',lista]\n",
        "nova_lista[0]"
      ],
      "metadata": {
        "colab": {
          "base_uri": "https://localhost:8080/",
          "height": 35
        },
        "id": "vW-w55nV7JIT",
        "outputId": "96bb7087-86ec-437c-e99f-04bc4fcace6b"
      },
      "execution_count": 12,
      "outputs": [
        {
          "output_type": "execute_result",
          "data": {
            "application/vnd.google.colaboratory.intrinsic+json": {
              "type": "string"
            },
            "text/plain": [
              "'fatec'"
            ]
          },
          "metadata": {},
          "execution_count": 12
        }
      ]
    },
    {
      "cell_type": "markdown",
      "source": [
        "Mostrando a lista dentro da nova lista"
      ],
      "metadata": {
        "id": "FaDOTDeWQNCm"
      }
    },
    {
      "cell_type": "code",
      "source": [
        "nova_lista[1] #mostrando a lista (lista nova) na posição 1 que está dentro da lista"
      ],
      "metadata": {
        "colab": {
          "base_uri": "https://localhost:8080/"
        },
        "id": "6cHkTNFz8Mpy",
        "outputId": "f5338677-6b65-4ed6-b9fc-08287851cefd"
      },
      "execution_count": 13,
      "outputs": [
        {
          "output_type": "execute_result",
          "data": {
            "text/plain": [
              "['Ciência de Dados', 'Agronegócio', 49, 1972]"
            ]
          },
          "metadata": {},
          "execution_count": 13
        }
      ]
    },
    {
      "cell_type": "markdown",
      "source": [
        "Contando o número de elementos da lista"
      ],
      "metadata": {
        "id": "7VYlfnK6QrE9"
      }
    },
    {
      "cell_type": "code",
      "source": [
        "len (lista) #contando o número de elementos de uma lista"
      ],
      "metadata": {
        "colab": {
          "base_uri": "https://localhost:8080/"
        },
        "id": "q5xvuvgb8RuJ",
        "outputId": "2339aaa0-a169-420f-f75b-fd4374e8cfa8"
      },
      "execution_count": 14,
      "outputs": [
        {
          "output_type": "execute_result",
          "data": {
            "text/plain": [
              "4"
            ]
          },
          "metadata": {},
          "execution_count": 14
        }
      ]
    },
    {
      "cell_type": "code",
      "source": [
        "len (nova_lista)"
      ],
      "metadata": {
        "colab": {
          "base_uri": "https://localhost:8080/"
        },
        "id": "PwcLKyD086aE",
        "outputId": "fe5ca548-1965-474f-d417-54c9f4cc0f54"
      },
      "execution_count": 15,
      "outputs": [
        {
          "output_type": "execute_result",
          "data": {
            "text/plain": [
              "2"
            ]
          },
          "metadata": {},
          "execution_count": 15
        }
      ]
    },
    {
      "cell_type": "markdown",
      "source": [
        "Concatenando duas lista"
      ],
      "metadata": {
        "id": "6m5S8zJTQy3I"
      }
    },
    {
      "cell_type": "code",
      "source": [
        "lista = ['Ciência de Dados', 'Agronegócio', 49, 1972]\n",
        "nova_lista = ['fatec',lista]\n",
        "\n",
        "lista+nova_lista #Concatenando duas listas"
      ],
      "metadata": {
        "colab": {
          "base_uri": "https://localhost:8080/"
        },
        "id": "wDPjNuPz899o",
        "outputId": "59464a68-7b6f-43be-f113-cd8ef07d7876"
      },
      "execution_count": 19,
      "outputs": [
        {
          "output_type": "execute_result",
          "data": {
            "text/plain": [
              "['Ciência de Dados',\n",
              " 'Agronegócio',\n",
              " 49,\n",
              " 1972,\n",
              " 'fatec',\n",
              " ['Ciência de Dados', 'Agronegócio', 49, 1972]]"
            ]
          },
          "metadata": {},
          "execution_count": 19
        }
      ]
    },
    {
      "cell_type": "markdown",
      "source": [
        "Multiplicando listas"
      ],
      "metadata": {
        "id": "gt869AFIRSzl"
      }
    },
    {
      "cell_type": "code",
      "source": [
        "lista*3 #Multiplicando lista"
      ],
      "metadata": {
        "colab": {
          "base_uri": "https://localhost:8080/"
        },
        "id": "tLt0HE1G9sT_",
        "outputId": "40f9b6a5-9ba8-482e-b3d7-213f7ea5cf34"
      },
      "execution_count": 20,
      "outputs": [
        {
          "output_type": "execute_result",
          "data": {
            "text/plain": [
              "['Ciência de Dados',\n",
              " 'Agronegócio',\n",
              " 49,\n",
              " 1972,\n",
              " 'Ciência de Dados',\n",
              " 'Agronegócio',\n",
              " 49,\n",
              " 1972,\n",
              " 'Ciência de Dados',\n",
              " 'Agronegócio',\n",
              " 49,\n",
              " 1972]"
            ]
          },
          "metadata": {},
          "execution_count": 20
        }
      ]
    },
    {
      "cell_type": "markdown",
      "source": [
        "Verificando elementos de uma lista"
      ],
      "metadata": {
        "id": "ZXKZRI6VRaMI"
      }
    },
    {
      "cell_type": "code",
      "source": [
        "lista = ['Ciência de Dados', 'Agronegócio', 49, 1972]\n",
        "\n",
        "49 in lista #Verificando elementos na lista"
      ],
      "metadata": {
        "colab": {
          "base_uri": "https://localhost:8080/"
        },
        "id": "hpJLmrk6-XRS",
        "outputId": "1771b5c9-9bd3-4446-d1f7-46d9041e9aed"
      },
      "execution_count": 25,
      "outputs": [
        {
          "output_type": "execute_result",
          "data": {
            "text/plain": [
              "True"
            ]
          },
          "metadata": {},
          "execution_count": 25
        }
      ]
    },
    {
      "cell_type": "code",
      "source": [
        "2022 in lista #Verificando elentos na lista"
      ],
      "metadata": {
        "colab": {
          "base_uri": "https://localhost:8080/"
        },
        "id": "UGg6NhMc_FJS",
        "outputId": "3c533d1c-a44e-455d-a722-59a5e196d6cc"
      },
      "execution_count": 26,
      "outputs": [
        {
          "output_type": "execute_result",
          "data": {
            "text/plain": [
              "False"
            ]
          },
          "metadata": {},
          "execution_count": 26
        }
      ]
    },
    {
      "cell_type": "markdown",
      "source": [
        "Mostrando o valor mínimo de uma lista"
      ],
      "metadata": {
        "id": "sJ8O9GfdRjeu"
      }
    },
    {
      "cell_type": "code",
      "source": [
        "lista = [2022, 7, 49, 1972]\n",
        "\n",
        "min(lista) #Mostrando valor mínimo da lista"
      ],
      "metadata": {
        "colab": {
          "base_uri": "https://localhost:8080/"
        },
        "id": "lXSCEvZp_lzA",
        "outputId": "901ac46a-d15a-4162-c639-6cbe404be4d6"
      },
      "execution_count": 28,
      "outputs": [
        {
          "output_type": "execute_result",
          "data": {
            "text/plain": [
              "7"
            ]
          },
          "metadata": {},
          "execution_count": 28
        }
      ]
    },
    {
      "cell_type": "markdown",
      "source": [
        "Mostrando o valor máximo de uma lista"
      ],
      "metadata": {
        "id": "dfDB8l6MRnup"
      }
    },
    {
      "cell_type": "code",
      "source": [
        "max(lista) #Mostrando valor máximo da lista"
      ],
      "metadata": {
        "colab": {
          "base_uri": "https://localhost:8080/"
        },
        "id": "yVCpBGiBAZUv",
        "outputId": "d7e3bfb9-6f6a-48d4-b75c-fdec7b285590"
      },
      "execution_count": 29,
      "outputs": [
        {
          "output_type": "execute_result",
          "data": {
            "text/plain": [
              "2022"
            ]
          },
          "metadata": {},
          "execution_count": 29
        }
      ]
    },
    {
      "cell_type": "markdown",
      "source": [
        "Método APPEND () que adiciona um elemento no final da lista"
      ],
      "metadata": {
        "id": "e8g9qN6N7Fva"
      }
    },
    {
      "cell_type": "code",
      "source": [
        "lista = ['ciencia_de_dados', 'agronegocio', 'ourinhos', 'fatec']\n",
        "lista"
      ],
      "metadata": {
        "colab": {
          "base_uri": "https://localhost:8080/"
        },
        "id": "zwaML1sNAlLK",
        "outputId": "ae0dfc29-6555-4027-8ab0-f70bbe028caa"
      },
      "execution_count": 3,
      "outputs": [
        {
          "output_type": "execute_result",
          "data": {
            "text/plain": [
              "['ciencia_de_dados', 'agronegocio', 'ourinhos', 'fatec']"
            ]
          },
          "metadata": {},
          "execution_count": 3
        }
      ]
    },
    {
      "cell_type": "code",
      "source": [
        "lista.append ('dados')"
      ],
      "metadata": {
        "id": "bzMwSomb7h3G"
      },
      "execution_count": 4,
      "outputs": []
    },
    {
      "cell_type": "code",
      "source": [
        "lista"
      ],
      "metadata": {
        "colab": {
          "base_uri": "https://localhost:8080/"
        },
        "id": "uwsNZdnn8EpY",
        "outputId": "85fc4bc2-4353-4a40-81aa-03d8e45aedb1"
      },
      "execution_count": 5,
      "outputs": [
        {
          "output_type": "execute_result",
          "data": {
            "text/plain": [
              "['ciencia_de_dados', 'agronegocio', 'ourinhos', 'fatec', 'dados']"
            ]
          },
          "metadata": {},
          "execution_count": 5
        }
      ]
    },
    {
      "cell_type": "markdown",
      "source": [
        "Método INSERT () que adiciona um elemento numa posição escolhida dentro da lista"
      ],
      "metadata": {
        "id": "xzLWYQct82OF"
      }
    },
    {
      "cell_type": "code",
      "source": [
        "lista.insert (0, 'dados')"
      ],
      "metadata": {
        "id": "0HRR78Ss8GYM"
      },
      "execution_count": 7,
      "outputs": []
    },
    {
      "cell_type": "code",
      "source": [
        "lista"
      ],
      "metadata": {
        "colab": {
          "base_uri": "https://localhost:8080/"
        },
        "id": "Mg4ffWag8daM",
        "outputId": "17e11dea-5c7e-4ff4-ccfb-ae69efa050d5"
      },
      "execution_count": 8,
      "outputs": [
        {
          "output_type": "execute_result",
          "data": {
            "text/plain": [
              "['dados', 'ciencia_de_dados', 'agronegocio', 'ourinhos', 'fatec', 'dados']"
            ]
          },
          "metadata": {},
          "execution_count": 8
        }
      ]
    },
    {
      "cell_type": "code",
      "source": [
        "lista.insert (2, 'dados')"
      ],
      "metadata": {
        "id": "zF3bytxg8kge"
      },
      "execution_count": 9,
      "outputs": []
    },
    {
      "cell_type": "code",
      "source": [
        "lista"
      ],
      "metadata": {
        "colab": {
          "base_uri": "https://localhost:8080/"
        },
        "id": "Kz-96Rnt8s_W",
        "outputId": "fc940b0a-b352-4eab-e0ea-04d2697ed8f1"
      },
      "execution_count": 10,
      "outputs": [
        {
          "output_type": "execute_result",
          "data": {
            "text/plain": [
              "['dados',\n",
              " 'ciencia_de_dados',\n",
              " 'dados',\n",
              " 'agronegocio',\n",
              " 'ourinhos',\n",
              " 'fatec',\n",
              " 'dados']"
            ]
          },
          "metadata": {},
          "execution_count": 10
        }
      ]
    },
    {
      "cell_type": "markdown",
      "source": [
        "Método POP () que remove o último elemento da lista ou um elemnto que seja indicado a posição retornando este elemento como resultado da operação"
      ],
      "metadata": {
        "id": "BrXIlQle9VvL"
      }
    },
    {
      "cell_type": "code",
      "source": [
        "lista = ['ciencia_de_dados', 'estatistica', 'matematica', 'agronegocio', 'dados', 'fatec', 'ourinhos']"
      ],
      "metadata": {
        "id": "W6BXJsrY-vBn"
      },
      "execution_count": 20,
      "outputs": []
    },
    {
      "cell_type": "code",
      "source": [
        "lista"
      ],
      "metadata": {
        "colab": {
          "base_uri": "https://localhost:8080/"
        },
        "id": "2rPsEQj7_BGy",
        "outputId": "9d81a96a-4915-49d9-bc97-a9ad2bf30b2c"
      },
      "execution_count": 21,
      "outputs": [
        {
          "output_type": "execute_result",
          "data": {
            "text/plain": [
              "['ciencia_de_dados',\n",
              " 'estatistica',\n",
              " 'matematica',\n",
              " 'agronegocio',\n",
              " 'dados',\n",
              " 'fatec',\n",
              " 'ourinhos']"
            ]
          },
          "metadata": {},
          "execution_count": 21
        }
      ]
    },
    {
      "cell_type": "code",
      "source": [
        "lista.pop (3)"
      ],
      "metadata": {
        "colab": {
          "base_uri": "https://localhost:8080/",
          "height": 35
        },
        "id": "USG0rRxF_D0b",
        "outputId": "21bd3046-fa23-4849-ef80-49e9ecead45b"
      },
      "execution_count": 22,
      "outputs": [
        {
          "output_type": "execute_result",
          "data": {
            "application/vnd.google.colaboratory.intrinsic+json": {
              "type": "string"
            },
            "text/plain": [
              "'agronegocio'"
            ]
          },
          "metadata": {},
          "execution_count": 22
        }
      ]
    },
    {
      "cell_type": "code",
      "source": [
        "lista"
      ],
      "metadata": {
        "colab": {
          "base_uri": "https://localhost:8080/"
        },
        "id": "GsHYKrbW_LCL",
        "outputId": "a35a9afc-a766-4c9c-98f1-dad7cd23c6b5"
      },
      "execution_count": 23,
      "outputs": [
        {
          "output_type": "execute_result",
          "data": {
            "text/plain": [
              "['ciencia_de_dados', 'estatistica', 'matematica', 'dados', 'fatec', 'ourinhos']"
            ]
          },
          "metadata": {},
          "execution_count": 23
        }
      ]
    },
    {
      "cell_type": "markdown",
      "source": [
        "Método REMOVE (ITEM) que remove um elemento especifico da lista quando não sabemos sua posição"
      ],
      "metadata": {
        "id": "W27ca2H7AO3E"
      }
    },
    {
      "cell_type": "code",
      "source": [
        "lista"
      ],
      "metadata": {
        "colab": {
          "base_uri": "https://localhost:8080/"
        },
        "id": "2RqQmfLE_Mjn",
        "outputId": "7614f7c6-56e6-4e19-afc6-264f9dee3b87"
      },
      "execution_count": 24,
      "outputs": [
        {
          "output_type": "execute_result",
          "data": {
            "text/plain": [
              "['ciencia_de_dados', 'estatistica', 'matematica', 'dados', 'fatec', 'ourinhos']"
            ]
          },
          "metadata": {},
          "execution_count": 24
        }
      ]
    },
    {
      "cell_type": "code",
      "source": [
        "lista.remove ('fatec')"
      ],
      "metadata": {
        "id": "Sjset9ehBAbY"
      },
      "execution_count": 28,
      "outputs": []
    },
    {
      "cell_type": "code",
      "source": [
        "lista"
      ],
      "metadata": {
        "colab": {
          "base_uri": "https://localhost:8080/"
        },
        "id": "1mNXyFhiBK57",
        "outputId": "75f9ff3e-93c0-406e-b5ca-940ad2e04cb1"
      },
      "execution_count": 29,
      "outputs": [
        {
          "output_type": "execute_result",
          "data": {
            "text/plain": [
              "['ciencia_de_dados', 'estatistica', 'matematica', 'dados', 'ourinhos']"
            ]
          },
          "metadata": {},
          "execution_count": 29
        }
      ]
    },
    {
      "cell_type": "code",
      "source": [
        "lista.remove ('estatistica')"
      ],
      "metadata": {
        "id": "mIDT7m6TBOSK"
      },
      "execution_count": 30,
      "outputs": []
    },
    {
      "cell_type": "code",
      "source": [
        "lista"
      ],
      "metadata": {
        "colab": {
          "base_uri": "https://localhost:8080/"
        },
        "id": "9uaIc4rQBWcw",
        "outputId": "63382c9d-218f-47fc-fbd8-7da4d64e1bca"
      },
      "execution_count": 31,
      "outputs": [
        {
          "output_type": "execute_result",
          "data": {
            "text/plain": [
              "['ciencia_de_dados', 'matematica', 'dados', 'ourinhos']"
            ]
          },
          "metadata": {},
          "execution_count": 31
        }
      ]
    },
    {
      "cell_type": "markdown",
      "source": [
        "Método SORT () que ordena a lista sendo que para números a ordenação é em ordem crescente e para strings a ordenação e da forma lexicográfica (ordem alfabética ou ordem do dicionário)"
      ],
      "metadata": {
        "id": "dP9f8yPLCTQc"
      }
    },
    {
      "cell_type": "code",
      "source": [
        "lista = ['ciencia_de_dados', 'estatistica', 'matematica', 'agronegocio', 'dados', 'fatec', 'ourinhos']"
      ],
      "metadata": {
        "id": "RGKvw1N5BjB5"
      },
      "execution_count": 33,
      "outputs": []
    },
    {
      "cell_type": "code",
      "source": [
        "lista.sort ()"
      ],
      "metadata": {
        "id": "o8iIdBzpC_7x"
      },
      "execution_count": 34,
      "outputs": []
    },
    {
      "cell_type": "code",
      "source": [
        "lista"
      ],
      "metadata": {
        "colab": {
          "base_uri": "https://localhost:8080/"
        },
        "id": "J2M52I-CDMW7",
        "outputId": "0381248b-c53e-4975-c02b-beb34e33e647"
      },
      "execution_count": 35,
      "outputs": [
        {
          "output_type": "execute_result",
          "data": {
            "text/plain": [
              "['agronegocio',\n",
              " 'ciencia_de_dados',\n",
              " 'dados',\n",
              " 'estatistica',\n",
              " 'fatec',\n",
              " 'matematica',\n",
              " 'ourinhos']"
            ]
          },
          "metadata": {},
          "execution_count": 35
        }
      ]
    },
    {
      "cell_type": "markdown",
      "source": [
        "Método REVERSE() que inverte os elementos de uma lista"
      ],
      "metadata": {
        "id": "TkjRFzG8DWyA"
      }
    },
    {
      "cell_type": "code",
      "source": [
        "lista"
      ],
      "metadata": {
        "colab": {
          "base_uri": "https://localhost:8080/"
        },
        "id": "WUM1Ly1jDN9j",
        "outputId": "0bd4fac9-1ada-4f96-d5f9-ee4353014531"
      },
      "execution_count": 36,
      "outputs": [
        {
          "output_type": "execute_result",
          "data": {
            "text/plain": [
              "['agronegocio',\n",
              " 'ciencia_de_dados',\n",
              " 'dados',\n",
              " 'estatistica',\n",
              " 'fatec',\n",
              " 'matematica',\n",
              " 'ourinhos']"
            ]
          },
          "metadata": {},
          "execution_count": 36
        }
      ]
    },
    {
      "cell_type": "code",
      "source": [
        "lista.reverse ()"
      ],
      "metadata": {
        "id": "63V2h1PoDosm"
      },
      "execution_count": 37,
      "outputs": []
    },
    {
      "cell_type": "code",
      "source": [
        "lista"
      ],
      "metadata": {
        "colab": {
          "base_uri": "https://localhost:8080/"
        },
        "id": "pcvEG08MDuZx",
        "outputId": "e0e6f5b2-6ab7-421b-9b37-68ab03a6aca4"
      },
      "execution_count": 38,
      "outputs": [
        {
          "output_type": "execute_result",
          "data": {
            "text/plain": [
              "['ourinhos',\n",
              " 'matematica',\n",
              " 'fatec',\n",
              " 'estatistica',\n",
              " 'dados',\n",
              " 'ciencia_de_dados',\n",
              " 'agronegocio']"
            ]
          },
          "metadata": {},
          "execution_count": 38
        }
      ]
    },
    {
      "cell_type": "markdown",
      "source": [
        "Método COUNT () que conta quantos elementos tem numa lista"
      ],
      "metadata": {
        "id": "StOUThpBD7Re"
      }
    },
    {
      "cell_type": "code",
      "source": [
        "lista = ['ciencia_de_dados', 'estatistica', 'matematica', 'agronegocio', 'dados', 'fatec', 'ourinhos', 'ciencia_de_dados', 'matematica', 'matematica']"
      ],
      "metadata": {
        "id": "3z8lDvDNECtj"
      },
      "execution_count": 40,
      "outputs": []
    },
    {
      "cell_type": "code",
      "source": [
        "lista"
      ],
      "metadata": {
        "colab": {
          "base_uri": "https://localhost:8080/"
        },
        "id": "5oJ0hb9ZEfzw",
        "outputId": "71f28a60-f6f7-4902-d8b9-c7e1a688c65b"
      },
      "execution_count": 41,
      "outputs": [
        {
          "output_type": "execute_result",
          "data": {
            "text/plain": [
              "['ciencia_de_dados',\n",
              " 'estatistica',\n",
              " 'matematica',\n",
              " 'agronegocio',\n",
              " 'dados',\n",
              " 'fatec',\n",
              " 'ourinhos',\n",
              " 'ciencia_de_dados',\n",
              " 'matematica',\n",
              " 'matematica']"
            ]
          },
          "metadata": {},
          "execution_count": 41
        }
      ]
    },
    {
      "cell_type": "code",
      "source": [
        "lista.count ('agronegocio')"
      ],
      "metadata": {
        "colab": {
          "base_uri": "https://localhost:8080/"
        },
        "id": "W1L4dDh0EhF6",
        "outputId": "c55893fa-1f0a-4c16-a5b9-54ba592f14f2"
      },
      "execution_count": 43,
      "outputs": [
        {
          "output_type": "execute_result",
          "data": {
            "text/plain": [
              "1"
            ]
          },
          "metadata": {},
          "execution_count": 43
        }
      ]
    },
    {
      "cell_type": "code",
      "source": [
        "lista.count ('matematica')"
      ],
      "metadata": {
        "colab": {
          "base_uri": "https://localhost:8080/"
        },
        "id": "vJnPvTlGE26e",
        "outputId": "8c424c81-ee33-4e5e-ba01-6f79a0df1939"
      },
      "execution_count": 45,
      "outputs": [
        {
          "output_type": "execute_result",
          "data": {
            "text/plain": [
              "3"
            ]
          },
          "metadata": {},
          "execution_count": 45
        }
      ]
    },
    {
      "cell_type": "code",
      "source": [
        "lista.count ('ciencia_de_dados')"
      ],
      "metadata": {
        "colab": {
          "base_uri": "https://localhost:8080/"
        },
        "id": "vQ3tpqjmE_tQ",
        "outputId": "950903ef-0967-4b4a-8868-385bb72c44ea"
      },
      "execution_count": 46,
      "outputs": [
        {
          "output_type": "execute_result",
          "data": {
            "text/plain": [
              "2"
            ]
          },
          "metadata": {},
          "execution_count": 46
        }
      ]
    },
    {
      "cell_type": "markdown",
      "source": [
        "Recebendo elementos e colocando-os numa lista"
      ],
      "metadata": {
        "id": "scHMQwxvYoSs"
      }
    },
    {
      "cell_type": "code",
      "source": [
        "import random\n",
        "\n",
        "nome1 = input ('Digite o primeiro aluno: ')\n",
        "nome2 = input ('Digite o segundo aluno: ')\n",
        "nome3 = input ('Digite o terceiro aluno: ')\n",
        "nome4 = input ('Digite o quarto aluno: ')\n",
        "\n",
        "lista = [nome1, nome2, nome3, nome4]"
      ],
      "metadata": {
        "colab": {
          "base_uri": "https://localhost:8080/"
        },
        "id": "-wogo7RfWuSY",
        "outputId": "8eca0dcb-da41-4a9d-c9bf-64e00099600d"
      },
      "execution_count": 51,
      "outputs": [
        {
          "name": "stdout",
          "output_type": "stream",
          "text": [
            "Digite o primeiro aluno: wagner\n",
            "Digite o segundo aluno: andre\n",
            "Digite o terceiro aluno: jose\n",
            "Digite o quarto aluno: pedro\n"
          ]
        }
      ]
    },
    {
      "cell_type": "code",
      "source": [
        "lista"
      ],
      "metadata": {
        "colab": {
          "base_uri": "https://localhost:8080/"
        },
        "id": "KMPaTLX9XTG3",
        "outputId": "8b08cf24-50da-4e4a-a9b5-f24631387209"
      },
      "execution_count": 52,
      "outputs": [
        {
          "output_type": "execute_result",
          "data": {
            "text/plain": [
              "['wagner', 'andre', 'jose', 'pedro']"
            ]
          },
          "metadata": {},
          "execution_count": 52
        }
      ]
    },
    {
      "cell_type": "markdown",
      "source": [
        "Escolhendo um elemento da lista com o comando CHOICE da biblioteca RANDOM"
      ],
      "metadata": {
        "id": "SxN8VkdmYzXm"
      }
    },
    {
      "cell_type": "code",
      "source": [
        "print (random.choice(lista))"
      ],
      "metadata": {
        "colab": {
          "base_uri": "https://localhost:8080/"
        },
        "id": "-G0B9OE3XUIY",
        "outputId": "c29b8fcf-3927-430a-9ac5-b0539bd92f1c"
      },
      "execution_count": 71,
      "outputs": [
        {
          "output_type": "stream",
          "name": "stdout",
          "text": [
            "wagner\n"
          ]
        }
      ]
    },
    {
      "cell_type": "markdown",
      "source": [
        "Mudando a ordem inicial da lista embaralhando os elementos"
      ],
      "metadata": {
        "id": "4mr6kDoqZsFE"
      }
    },
    {
      "cell_type": "code",
      "source": [
        "print (random.shuffle(lista))"
      ],
      "metadata": {
        "colab": {
          "base_uri": "https://localhost:8080/"
        },
        "id": "3fTN_cyoZH6J",
        "outputId": "6ca4399f-1579-4be4-9f68-0c1e6852538f"
      },
      "execution_count": 76,
      "outputs": [
        {
          "output_type": "stream",
          "name": "stdout",
          "text": [
            "None\n"
          ]
        }
      ]
    },
    {
      "cell_type": "code",
      "source": [
        "lista"
      ],
      "metadata": {
        "colab": {
          "base_uri": "https://localhost:8080/"
        },
        "id": "TTNcBFF0ZOc6",
        "outputId": "d6a825c7-e4e5-40f7-c90e-433829ad1f37"
      },
      "execution_count": 77,
      "outputs": [
        {
          "output_type": "execute_result",
          "data": {
            "text/plain": [
              "['andre', 'pedro', 'jose', 'wagner']"
            ]
          },
          "metadata": {},
          "execution_count": 77
        }
      ]
    },
    {
      "cell_type": "code",
      "source": [
        "lista"
      ],
      "metadata": {
        "colab": {
          "base_uri": "https://localhost:8080/"
        },
        "id": "KSSO3r78ZgjZ",
        "outputId": "6c70e323-2f12-40af-e0f8-ec844c0d099c"
      },
      "execution_count": 78,
      "outputs": [
        {
          "output_type": "execute_result",
          "data": {
            "text/plain": [
              "['andre', 'pedro', 'jose', 'wagner']"
            ]
          },
          "metadata": {},
          "execution_count": 78
        }
      ]
    },
    {
      "cell_type": "code",
      "source": [
        ""
      ],
      "metadata": {
        "id": "yTm08pmvZiqt"
      },
      "execution_count": null,
      "outputs": []
    }
  ]
}