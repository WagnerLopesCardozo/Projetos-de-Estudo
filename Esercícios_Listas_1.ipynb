{
  "nbformat": 4,
  "nbformat_minor": 0,
  "metadata": {
    "colab": {
      "name": "Esercícios_Listas_1.ipynb",
      "provenance": [],
      "authorship_tag": "ABX9TyMfl8/aUJRKeOE74N8WCWPp",
      "include_colab_link": true
    },
    "kernelspec": {
      "name": "python3",
      "display_name": "Python 3"
    },
    "language_info": {
      "name": "python"
    }
  },
  "cells": [
    {
      "cell_type": "markdown",
      "metadata": {
        "id": "view-in-github",
        "colab_type": "text"
      },
      "source": [
        "<a href=\"https://colab.research.google.com/github/WagnerLopesCardozo/Projetos-de-Estudo-CD-FaTec-Ourinhos/blob/main/Eserc%C3%ADcios_Listas_1.ipynb\" target=\"_parent\"><img src=\"https://colab.research.google.com/assets/colab-badge.svg\" alt=\"Open In Colab\"/></a>"
      ]
    },
    {
      "cell_type": "markdown",
      "source": [
        "#Exercícios Lista 1"
      ],
      "metadata": {
        "id": "JElRLn5a12vq"
      }
    },
    {
      "cell_type": "markdown",
      "source": [
        "Código que lê 5 números em uma lista e no final mostra o maior e o menor Valor lido"
      ],
      "metadata": {
        "id": "t7LcYIWY176u"
      }
    },
    {
      "cell_type": "code",
      "execution_count": null,
      "metadata": {
        "colab": {
          "base_uri": "https://localhost:8080/"
        },
        "id": "_eJGeqXZ1oxa",
        "outputId": "77bb6f7d-1180-4f09-dfed-d3e4d59aa558"
      },
      "outputs": [
        {
          "output_type": "stream",
          "name": "stdout",
          "text": [
            "***********************************************************************************\n",
            "Código que lê 5 números em uma lista e no final mostra o maior e o menor Valor lido\n",
            "***********************************************************************************\n",
            "Digite o 1º número da lista: 2\n",
            "Digite o 2º número da lista: 89\n",
            "Digite o 3º número da lista: 43\n",
            "Digite o 4º número da lista: 67\n",
            "Digite o 5º número da lista: 12\n",
            "O maior valor da lista de 5 números é: 89.0.\n",
            "O menor valor da lista de 5 números é: 2.0.\n",
            "FIM DO PROGRAMA\n"
          ]
        }
      ],
      "source": [
        "print ('*' * 83)\n",
        "print ('Código que lê 5 números em uma lista e no final mostra o maior e o menor Valor lido')\n",
        "print ('*' * 83)\n",
        "\n",
        "num1 = float ( input ('Digite o 1º número da lista: '))\n",
        "num2 = float ( input ('Digite o 2º número da lista: '))\n",
        "num3 = float ( input ('Digite o 3º número da lista: '))\n",
        "num4 = float ( input ('Digite o 4º número da lista: '))\n",
        "num5 = float ( input ('Digite o 5º número da lista: '))\n",
        "\n",
        "lista = [num1, num2, num3, num4, num5]\n",
        "\n",
        "print (f'O maior valor da lista de 5 números é: {max(lista)}.')\n",
        "print (f'O menor valor da lista de 5 números é: {min(lista)}.')\n",
        "\n",
        "print ('FIM DO PROGRAMA')"
      ]
    },
    {
      "cell_type": "markdown",
      "source": [
        "Código que recebe valores digitados pelo usuário, e coloca numa lista, e quando um valor\n",
        "é repetido, pergunta se o usuário quer continuar ou não, se sim continua acrescentando valores a lista, se não para de acrescentar e finaliza o programa"
      ],
      "metadata": {
        "id": "_Mn6KEdn2mIP"
      }
    },
    {
      "cell_type": "code",
      "source": [
        "print ('&' * 88)\n",
        "print ('Código que recebe valores digitados pelo usuário, e coloca numa lista, e quando um valor é\\n''repetido, pergunta se o usuário quer continuar ou não acrescentando valores a lista.')\n",
        "print ('&' * 88)\n",
        "\n",
        "num = list()\n",
        "\n",
        "while True:\n",
        "    valor = int ( input ('Digite um valor: '))\n",
        "    if valor not in num:\n",
        "        num.append(valor)\n",
        "        print ('Número adicionado com sucesso.')\n",
        "    else:\n",
        "        print ('Número duplicado, logo não vai ser adicionado!')\n",
        "        valor_duplicado = str ( input ('Você quer continuar S ou N?'))\n",
        "        if valor_duplicado in 'Nn':\n",
        "            break\n",
        "num.sort ()\n",
        "print (f'Você adicionou os valores {num}.')\n",
        "print ('FIM DO PROGRAMA')"
      ],
      "metadata": {
        "colab": {
          "base_uri": "https://localhost:8080/"
        },
        "id": "gME7URT42lPQ",
        "outputId": "b7049e9a-83b9-42bd-82dd-366c1565e381"
      },
      "execution_count": null,
      "outputs": [
        {
          "output_type": "stream",
          "name": "stdout",
          "text": [
            "&&&&&&&&&&&&&&&&&&&&&&&&&&&&&&&&&&&&&&&&&&&&&&&&&&&&&&&&&&&&&&&&&&&&&&&&&&&&&&&&&&&&&&&&\n",
            "Código que recebe valores digitados pelo usuário, e coloca numa lista, e quando um valor é\n",
            "repetido, pergunta se o usuário quer continuar ou não acrescentando valores a lista.\n",
            "&&&&&&&&&&&&&&&&&&&&&&&&&&&&&&&&&&&&&&&&&&&&&&&&&&&&&&&&&&&&&&&&&&&&&&&&&&&&&&&&&&&&&&&&\n",
            "Digite um valor: 7\n",
            "Número adicionado com sucesso.\n",
            "Digite um valor: 79\n",
            "Número adicionado com sucesso.\n",
            "Digite um valor: 49\n",
            "Número adicionado com sucesso.\n",
            "Digite um valor: 7\n",
            "Número duplicado, logo não vai ser adicionado!\n",
            "Você quer continuar S ou N?n\n",
            "Você adicionou os valores [7, 49, 79].\n",
            "FIM DO PROGRAMA\n"
          ]
        }
      ]
    }
  ]
}