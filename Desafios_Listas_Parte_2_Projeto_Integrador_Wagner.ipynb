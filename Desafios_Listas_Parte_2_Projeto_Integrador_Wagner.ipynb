{
  "nbformat": 4,
  "nbformat_minor": 0,
  "metadata": {
    "colab": {
      "name": "Desafios_Listas_Parte_2_Projeto_Integrador_Wagner.ipynb",
      "provenance": [],
      "authorship_tag": "ABX9TyMavc95hYADivuZ5GQeRf9s",
      "include_colab_link": true
    },
    "kernelspec": {
      "name": "python3",
      "display_name": "Python 3"
    },
    "language_info": {
      "name": "python"
    }
  },
  "cells": [
    {
      "cell_type": "markdown",
      "metadata": {
        "id": "view-in-github",
        "colab_type": "text"
      },
      "source": [
        "<a href=\"https://colab.research.google.com/github/WagnerLopesCardozo/Projetos-de-Estudo-CD-FaTec-Ourinhos/blob/main/Desafios_Listas_Parte_2_Projeto_Integrador_Wagner.ipynb\" target=\"_parent\"><img src=\"https://colab.research.google.com/assets/colab-badge.svg\" alt=\"Open In Colab\"/></a>"
      ]
    },
    {
      "cell_type": "markdown",
      "source": [
        "Desafio 2 - Código que solicita a entrada de números inteiros ao usuário e ordena esses números de forma crescente em uma lista sempre perguntando se o usuário quer continuar entrando com os números."
      ],
      "metadata": {
        "id": "Tpwc_YZpI-3O"
      }
    },
    {
      "cell_type": "code",
      "source": [
        "print ('*'*137)\n",
        "print ('Programa que solicita a entrada de números inteiros ao usuário e ordena nesses números de forma crescente em uma lista sempre perguntando\\nse o usuário quer continuar entrando com os números.')\n",
        "print ('*'*137)\n",
        "\n",
        "lista = []\n",
        "\n",
        "while True:\n",
        "  x = int(input('Digite um número: '))\n",
        "  if x in lista: # Procurando se o x já está na lista\n",
        "    print('Número rejeitado!')\n",
        "  else:\n",
        "    print('Número aceito!')\n",
        "    lista.append(x)\n",
        "\n",
        "  resp = str(input('Deseja continuar? (S/N) ')).upper()[0]\n",
        "  if resp == 'N':\n",
        "    break\n",
        "\n",
        "lista.sort()\n",
        "print(f'Lista digitada em ordem crescente: {lista}')\n",
        "print('FIM DO PROGRAMA') "
      ],
      "metadata": {
        "colab": {
          "base_uri": "https://localhost:8080/"
        },
        "id": "nEHdb58BI080",
        "outputId": "ebd4437b-03d9-4ca1-cd64-3cd7e54f386c"
      },
      "execution_count": 22,
      "outputs": [
        {
          "output_type": "stream",
          "name": "stdout",
          "text": [
            "*****************************************************************************************************************************************\n",
            "Programa que solicita a entrada de números inteiros ao usuário e ordena nesses números de forma crescente em uma lista sempre perguntando\n",
            "se o usuário quer continuar entrando com os números.\n",
            "*****************************************************************************************************************************************\n",
            "Digite um número: 89\n",
            "Número aceito!\n",
            "Deseja continuar? (S/N) s\n",
            "Digite um número: 7\n",
            "Número aceito!\n",
            "Deseja continuar? (S/N) s\n",
            "Digite um número: 49\n",
            "Número aceito!\n",
            "Deseja continuar? (S/N) s\n",
            "Digite um número: 72\n",
            "Número aceito!\n",
            "Deseja continuar? (S/N) n\n",
            "Lista digitada em ordem crescente: [7, 49, 72, 89]\n",
            "FIM DO PROGRAMA\n"
          ]
        }
      ]
    },
    {
      "cell_type": "markdown",
      "source": [
        "Desafio 3 - Código que solicita a entrada de números inteiros ao usuário e vai organizando esses números de forma crescente em um lista, até alcançar 5 números no total apresentando no final a lista com os 5 números ordenados sem usar o comando SORT()."
      ],
      "metadata": {
        "id": "8N53MPGTHOKq"
      }
    },
    {
      "cell_type": "code",
      "source": [
        "print ('*'*158)\n",
        "print ('Programa que solicita a entrada de números inteiros ao usuário e vai organizando esses números de forma crescente em um lista, até alcançar 5 números no total\\napresentando no final a lista com os 5 números ordenados sem usar o comando SORT().')\n",
        "print ('*'*158)\n",
        "\n",
        "lista = []\n",
        "\n",
        "for x in range(5):\n",
        "    n = int(input(\"Digite um número inteiro: \"))\n",
        "\n",
        "    inseriu = False\n",
        "    for i in range(len(lista)):\n",
        "        if n<lista[i]:\n",
        "            lista.insert(i, n)\n",
        "            inseriu = True\n",
        "            break\n",
        "\n",
        "    if not inseriu:\n",
        "        lista.append(n)\n",
        "        \n",
        "    print(lista)\n",
        "\n",
        "print('FIM DO PROGRAMA')        "
      ],
      "metadata": {
        "colab": {
          "base_uri": "https://localhost:8080/"
        },
        "id": "seFdHnTMHGRF",
        "outputId": "c946a400-dc79-4d26-98a2-a7d18e6d9f5a"
      },
      "execution_count": 21,
      "outputs": [
        {
          "output_type": "stream",
          "name": "stdout",
          "text": [
            "**************************************************************************************************************************************************************\n",
            "Programa que solicita a entrada de números inteiros ao usuário e vai organizando esses números de forma crescente em um lista, até alcançar 5 números no total\n",
            "apresentando no final a lista com os 5 números ordenados sem usar o comando SORT().\n",
            "**************************************************************************************************************************************************************\n",
            "Digite um número inteiro: 89\n",
            "[89]\n",
            "Digite um número inteiro: 72\n",
            "[72, 89]\n",
            "Digite um número inteiro: 7\n",
            "[7, 72, 89]\n",
            "Digite um número inteiro: -9\n",
            "[-9, 7, 72, 89]\n",
            "Digite um número inteiro: 49\n",
            "[-9, 7, 49, 72, 89]\n",
            "FIM DO PROGRAMA\n"
          ]
        }
      ]
    },
    {
      "cell_type": "markdown",
      "source": [
        "Desafio 4 - Código que solicita a entrada de números inteiros ao usuário e ordena esses números em uma lista de forma decrescente, faz a contagem da quantidade de números digitados e quantos números são pares e ímpares, além de perguntar ao usuário se ele quer continuar entrando ou não com os números."
      ],
      "metadata": {
        "id": "dPHTWOG5ERjX"
      }
    },
    {
      "cell_type": "code",
      "execution_count": 5,
      "metadata": {
        "colab": {
          "base_uri": "https://localhost:8080/"
        },
        "id": "2FZ6jvhnB3-k",
        "outputId": "bb477667-758a-4b2f-86d8-995144dfe613"
      },
      "outputs": [
        {
          "output_type": "stream",
          "name": "stdout",
          "text": [
            "***************************************************************************************************************************************************\n",
            "Código que solicita a entrada de números inteiros ao usuário e ordena esses números em uma lista de forma decrescente, faz a contagem da quantidade\n",
            "de números digitados e quantos números são pares e ímpares, além de perguntar ao usuário se ele quer continuar entrando ou não com os números\n",
            "***************************************************************************************************************************************************\n",
            "Digite um número: 87\n",
            "Deseja continuar? (S/N) s\n",
            "Digite um número: 34\n",
            "Deseja continuar? (S/N) s\n",
            "Digite um número: 2\n",
            "Deseja continuar? (S/N) n\n",
            "Lista digitada em ordem decrescente: [87, 34, 2]\n",
            "Quantidade de números digitados ----------> 3\n",
            "Quantidade de números pares digitados ----> 2\n",
            "Quantidade de números impares digitados --> 1\n",
            "FIM DO PROGRAMA\n"
          ]
        }
      ],
      "source": [
        "print('*'*147)\n",
        "print('Código que solicita a entrada de números inteiros ao usuário e ordena esses números em uma lista de forma decrescente, faz a contagem da quantidade\\nde números digitados e quantos números são pares e ímpares, além de perguntar ao usuário se ele quer continuar entrando ou não com os números')\n",
        "print('*'*147)\n",
        "\n",
        "\n",
        "lista1 = []\n",
        "\n",
        "cont = 0\n",
        "contp = 0\n",
        "conti = 0\n",
        "\n",
        "while True:\n",
        "  num = int(input('Digite um número: '))\n",
        "  lista1.append(num)\n",
        "  cont +=1   #contabilizando números digitados\n",
        "\n",
        "  if num % 2 == 0:\n",
        "    contp +=1\n",
        "\n",
        "  else:\n",
        "    conti +=1\n",
        "\n",
        "  resp = str(input('Deseja continuar? (S/N) ')).upper()[0]\n",
        "  if resp == 'N':\n",
        "      break\n",
        "\n",
        "lista1.sort(reverse=True)\n",
        "print(f'Lista digitada em ordem decrescente: {lista1}')\n",
        "print(f'Quantidade de números digitados ----------> {cont}')\n",
        "print(f'Quantidade de números pares digitados ----> {contp}')\n",
        "print(f'Quantidade de números impares digitados --> {conti}')\n",
        "\n",
        "print('FIM DO PROGRAMA')"
      ]
    },
    {
      "cell_type": "markdown",
      "source": [
        "Desafio 5 - Código que solicita a entrada de números inteiros ao usuário, e armazena esses números numa lista, mostrando a lista ordenada de forma crescente e decrescente, e mostra separadamente uma lista com os números páres e outra lista com os números ímpares."
      ],
      "metadata": {
        "id": "7ptVG1zfFcD-"
      }
    },
    {
      "cell_type": "code",
      "source": [
        "print('*' * 159)\n",
        "print('Programa que solicita a entrada de números inteiros ao usuário, e armazena esses números numa lista, mostrando a lista ordenada de forma crescente e decrescente, \\ne mostra separadamente uma lista com os números páres e outra lista com os números ímpares')\n",
        "print('*' * 159)\n",
        "\n",
        "listageral = []\n",
        "listaPar = []\n",
        "listaImpar = []\n",
        "\n",
        "cont = 0\n",
        "contp = 0\n",
        "conti = 0\n",
        "\n",
        "while True:\n",
        "  num = int(input('Digite um número: '))\n",
        "  listageral.append(num)    # litsa de todos os números digitados \n",
        "  \n",
        "\n",
        "  if num % 2 == 0:\n",
        "    listaPar.append(num)\n",
        "\n",
        "  else:\n",
        "    listaImpar.append(num)\n",
        "\n",
        "  resp = str(input('Deseja continuar? (S/N) ')).upper()[0]\n",
        "  if resp == 'N':\n",
        "      break\n",
        "\n",
        "\n",
        "print(f'Lista geral: {sorted(listageral)}')\n",
        "print(f'Lista geral: {sorted(listageral, reverse=True)}')\n",
        "print(f'Lista de números Par {listaPar}')\n",
        "print(f'Lista de números Impar {listaImpar}')\n",
        "\n",
        "print('FIM DO PROGRAMA')"
      ],
      "metadata": {
        "colab": {
          "base_uri": "https://localhost:8080/"
        },
        "id": "NN2iJ6tbEZ75",
        "outputId": "af95a9fb-d429-4691-8cd4-2ad161b0664a"
      },
      "execution_count": 15,
      "outputs": [
        {
          "output_type": "stream",
          "name": "stdout",
          "text": [
            "***************************************************************************************************************************************************************\n",
            "Programa que solicita a entrada de números inteiros ao usuário, e armazena esses números numa lista, mostrando a lista ordenada de forma crescente e decrescente, \n",
            "e mostra separadamente uma lista com os números páres e outra lista com os números ímpares\n",
            "***************************************************************************************************************************************************************\n",
            "Digite um número: 89\n",
            "Deseja continuar? (S/N) s\n",
            "Digite um número: 7\n",
            "Deseja continuar? (S/N) s\n",
            "Digite um número: 49\n",
            "Deseja continuar? (S/N) s\n",
            "Digite um número: 2\n",
            "Deseja continuar? (S/N) n\n",
            "Lista geral: [2, 7, 49, 89]\n",
            "Lista geral: [89, 49, 7, 2]\n",
            "Lista de números Par [2]\n",
            "Lista de números Impar [89, 7, 49]\n",
            "FIM DO PROGRAMA\n"
          ]
        }
      ]
    },
    {
      "cell_type": "markdown",
      "source": [
        "Desafio 6 - Código que solicita uma expressão matemática ao usuário, e verifica a conformidade dos parenteses, sendo que, se estiver faltando um parentese no início ou final da expressão, o código retorna uma mensagem informando não conformidade e se estiver tudo ok, o código retorna uma mensagem de expressão válida."
      ],
      "metadata": {
        "id": "lj7OP5XMGjhw"
      }
    },
    {
      "cell_type": "code",
      "source": [
        "print('*' * 164)\n",
        "print('Programa que solicita uma expressão matemática ao usuário, e verifica a conformidade dos parenteses, sendo que, se estiver faltando um parentese no início ou final da\\nexpressão, o código retorna uma mensagem informando não conformidade e se estiver tudo ok, o código retorna uma mensagem de expressão válida')\n",
        "print('*' * 164)\n",
        "\n",
        "contpa = 0\n",
        "contpf = 0\n",
        "\n",
        "expressao = str(input('Digite uma expressão matemática'))\n",
        "for caracter in expressao:\n",
        "  if caracter == '(':\n",
        "    contpa += 1\n",
        "  elif caracter == ')':\n",
        "    contpf += 1\n",
        "\n",
        "if contpa == contpf:\n",
        "  print(\"Expressão válida!\")\n",
        "\n",
        "else:\n",
        "  print('Expressão não é válida!')\n",
        "\n",
        "  print('FIM DO PROGRAMA')"
      ],
      "metadata": {
        "colab": {
          "base_uri": "https://localhost:8080/"
        },
        "id": "p4CK2MJgFhkJ",
        "outputId": "7aac24cb-8d09-4414-e495-14b105d7dd68"
      },
      "execution_count": 14,
      "outputs": [
        {
          "output_type": "stream",
          "name": "stdout",
          "text": [
            "********************************************************************************************************************************************************************\n",
            "Programa que solicita uma expressão matemática ao usuário, e verifica a conformidade dos parenteses, sendo que, se estiver faltando um parentese no início ou final da\n",
            "expressão, o código retorna uma mensagem informando não conformidade e se estiver tudo ok, o código retorna uma mensagem de expressão válida\n",
            "********************************************************************************************************************************************************************\n",
            "Digite uma expressão matemática(ax² + by + c = 0\n",
            "Expressão não é válida!\n",
            "FIM DO PROGRAMA\n"
          ]
        }
      ]
    }
  ]
}