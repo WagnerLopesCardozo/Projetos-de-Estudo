{
  "nbformat": 4,
  "nbformat_minor": 0,
  "metadata": {
    "colab": {
      "name": "Manipulando Dicionários.ipynb",
      "provenance": [],
      "authorship_tag": "ABX9TyPp474MG/1OKUQRsL9BPFyY",
      "include_colab_link": true
    },
    "kernelspec": {
      "name": "python3",
      "display_name": "Python 3"
    },
    "language_info": {
      "name": "python"
    }
  },
  "cells": [
    {
      "cell_type": "markdown",
      "metadata": {
        "id": "view-in-github",
        "colab_type": "text"
      },
      "source": [
        "<a href=\"https://colab.research.google.com/github/WagnerLopesCardozo/Projetos-de-Estudo-CD-FaTec-Ourinhos/blob/main/Manipulando_Dicion%C3%A1rios.ipynb\" target=\"_parent\"><img src=\"https://colab.research.google.com/assets/colab-badge.svg\" alt=\"Open In Colab\"/></a>"
      ]
    },
    {
      "cell_type": "markdown",
      "source": [
        "#Manipulando Dicionários"
      ],
      "metadata": {
        "id": "ycrd7797DqMJ"
      }
    },
    {
      "cell_type": "markdown",
      "source": [
        "Declarando uma dicionário"
      ],
      "metadata": {
        "id": "Sy-G-NbHDkai"
      }
    },
    {
      "cell_type": "code",
      "execution_count": null,
      "metadata": {
        "colab": {
          "base_uri": "https://localhost:8080/"
        },
        "id": "KuT_oxqeBPg1",
        "outputId": "28c689a7-06ae-4881-a13a-52fb0ee36c4e"
      },
      "outputs": [
        {
          "output_type": "stream",
          "name": "stdout",
          "text": [
            "{'nome': 'Wagner', 'sexo': 'masculino', 'idade': 49}\n"
          ]
        }
      ],
      "source": [
        "pessoas = {'nome': 'Wagner', 'sexo': 'masculino', 'idade': 49}\n",
        "print(pessoas)"
      ]
    },
    {
      "cell_type": "code",
      "source": [
        "pessoas = {'nome': 'Wagner', 'sexo': 'masculino', 'idade': 49}\n",
        "print(pessoas['nome'])"
      ],
      "metadata": {
        "colab": {
          "base_uri": "https://localhost:8080/"
        },
        "id": "0S3Ne22hFZex",
        "outputId": "640ef48f-483d-4e64-84b8-768a6acf1a3f"
      },
      "execution_count": null,
      "outputs": [
        {
          "output_type": "stream",
          "name": "stdout",
          "text": [
            "Wagner\n"
          ]
        }
      ]
    },
    {
      "cell_type": "code",
      "source": [
        "pessoas = {'nome': 'Wagner', 'sexo': 'masculino', 'idade': 49}\n",
        "print(pessoas['idade'])"
      ],
      "metadata": {
        "colab": {
          "base_uri": "https://localhost:8080/"
        },
        "id": "i9p_hJudGwhp",
        "outputId": "ae13fa85-7280-4b6b-93d5-2b511d4560a2"
      },
      "execution_count": null,
      "outputs": [
        {
          "output_type": "stream",
          "name": "stdout",
          "text": [
            "49\n"
          ]
        }
      ]
    },
    {
      "cell_type": "code",
      "source": [
        "print(pessoas['sexo'])"
      ],
      "metadata": {
        "colab": {
          "base_uri": "https://localhost:8080/"
        },
        "id": "Lf2BTtZxHATe",
        "outputId": "02271f7f-30eb-478e-8ef1-63e082c428c4"
      },
      "execution_count": null,
      "outputs": [
        {
          "output_type": "stream",
          "name": "stdout",
          "text": [
            "masculino\n"
          ]
        }
      ]
    },
    {
      "cell_type": "code",
      "source": [
        "print(f'O {pessoas[\"nome\"]} do sexo {pessoas[\"sexo\"]} tem {pessoas[\"idade\"]}')"
      ],
      "metadata": {
        "colab": {
          "base_uri": "https://localhost:8080/"
        },
        "id": "IaB3qeArHJjD",
        "outputId": "1162b553-bd9c-4b14-e98f-38f405044e7a"
      },
      "execution_count": null,
      "outputs": [
        {
          "output_type": "stream",
          "name": "stdout",
          "text": [
            "O Wagner do sexo masculino tem 49\n"
          ]
        }
      ]
    },
    {
      "cell_type": "code",
      "source": [
        "print(pessoas.keys())"
      ],
      "metadata": {
        "colab": {
          "base_uri": "https://localhost:8080/"
        },
        "id": "V6jmXyB4H0eT",
        "outputId": "73238573-0cbf-4283-ab8a-bec345d27b0a"
      },
      "execution_count": null,
      "outputs": [
        {
          "output_type": "stream",
          "name": "stdout",
          "text": [
            "dict_keys(['nome', 'sexo', 'idade'])\n"
          ]
        }
      ]
    },
    {
      "cell_type": "code",
      "source": [
        "print(pessoas.values())"
      ],
      "metadata": {
        "colab": {
          "base_uri": "https://localhost:8080/"
        },
        "id": "_klexj5pIHhG",
        "outputId": "6df11c05-86be-47f4-9f92-8571f1c80fbb"
      },
      "execution_count": null,
      "outputs": [
        {
          "output_type": "stream",
          "name": "stdout",
          "text": [
            "dict_values(['Wagner', 'masculino', 49])\n"
          ]
        }
      ]
    },
    {
      "cell_type": "code",
      "source": [
        "print(pessoas.items())"
      ],
      "metadata": {
        "colab": {
          "base_uri": "https://localhost:8080/"
        },
        "id": "-PHfLMb8ITVH",
        "outputId": "55edf218-1485-431d-8bfc-9acbd01a972d"
      },
      "execution_count": null,
      "outputs": [
        {
          "output_type": "stream",
          "name": "stdout",
          "text": [
            "dict_items([('nome', 'Wagner'), ('sexo', 'masculino'), ('idade', 49)])\n"
          ]
        }
      ]
    },
    {
      "cell_type": "code",
      "source": [
        "for k in pessoas.keys():\n",
        "  print(k)"
      ],
      "metadata": {
        "colab": {
          "base_uri": "https://localhost:8080/"
        },
        "id": "hKahxqApIk1x",
        "outputId": "479c751c-d79a-415d-88d3-15ea6b165963"
      },
      "execution_count": null,
      "outputs": [
        {
          "output_type": "stream",
          "name": "stdout",
          "text": [
            "nome\n",
            "sexo\n",
            "idade\n"
          ]
        }
      ]
    },
    {
      "cell_type": "code",
      "source": [
        "for k, v in pessoas.items():\n",
        "  print(f'{k} = {v}')"
      ],
      "metadata": {
        "colab": {
          "base_uri": "https://localhost:8080/"
        },
        "id": "22iDc-FaJO2V",
        "outputId": "bb93cf63-c876-4422-ba4e-9babe69bb083"
      },
      "execution_count": null,
      "outputs": [
        {
          "output_type": "stream",
          "name": "stdout",
          "text": [
            "nome = Wagner\n",
            "sexo = masculino\n",
            "idade = 49\n"
          ]
        }
      ]
    },
    {
      "cell_type": "code",
      "source": [
        "del pessoas ['sexo']\n",
        "for k, v in pessoas.items():\n",
        "  print(f'{k} = {v}')"
      ],
      "metadata": {
        "colab": {
          "base_uri": "https://localhost:8080/"
        },
        "id": "r-CFMAnFJaeo",
        "outputId": "3a5b78c6-202d-4763-eaa4-58f508f85280"
      },
      "execution_count": null,
      "outputs": [
        {
          "output_type": "stream",
          "name": "stdout",
          "text": [
            "nome = Wagner\n",
            "idade = 49\n"
          ]
        }
      ]
    },
    {
      "cell_type": "code",
      "source": [
        "pessoas ['nome'] = 'Sérgio'\n",
        "for k, v in pessoas.items():\n",
        "  print(f'{k} = {v}')"
      ],
      "metadata": {
        "colab": {
          "base_uri": "https://localhost:8080/"
        },
        "id": "p0lDrSbLKu2B",
        "outputId": "a2bd5be6-ce54-4897-dd20-10bf59459647"
      },
      "execution_count": null,
      "outputs": [
        {
          "output_type": "stream",
          "name": "stdout",
          "text": [
            "nome = Sérgio\n",
            "idade = 49\n"
          ]
        }
      ]
    },
    {
      "cell_type": "code",
      "source": [
        "pessoas = {'nome': 'Wagner', 'sexo': 'masculino', 'idade': 49}\n",
        "pessoas ['nome'] = 'Sérgio'\n",
        "pessoas ['peso'] = 93.6\n",
        "for k, v in pessoas.items():\n",
        "  print(f'{k} = {v}')"
      ],
      "metadata": {
        "colab": {
          "base_uri": "https://localhost:8080/"
        },
        "id": "vrrVNJRNLSpN",
        "outputId": "9f83cf6e-668d-41dc-824e-6ef9a74b2662"
      },
      "execution_count": null,
      "outputs": [
        {
          "output_type": "stream",
          "name": "stdout",
          "text": [
            "nome = Sérgio\n",
            "sexo = masculino\n",
            "idade = 49\n",
            "peso = 93.6\n"
          ]
        }
      ]
    },
    {
      "cell_type": "code",
      "source": [
        "brasil = []\n",
        "estado1 = {'uf': 'Rio de Janeiro', 'sigla': 'RJ'}\n",
        "estado2 = {'uf': 'São Paulo', 'sigla': 'SP'}\n",
        "brasil.append(estado1)\n",
        "brasil.append(estado2)\n",
        "\n",
        "print(estado1)\n",
        "print(estado2)\n",
        "print(brasil)\n",
        "print(brasil[0])\n",
        "print(brasil[1])"
      ],
      "metadata": {
        "colab": {
          "base_uri": "https://localhost:8080/"
        },
        "id": "dcDnE614L9WL",
        "outputId": "a86b79fd-3c6d-4b56-fd11-ac5ed61f9f8b"
      },
      "execution_count": null,
      "outputs": [
        {
          "output_type": "stream",
          "name": "stdout",
          "text": [
            "{'uf': 'Rio de Janeiro', 'sigla': 'RJ'}\n",
            "{'uf': 'São Paulo', 'sigla': 'SP'}\n",
            "[{'uf': 'Rio de Janeiro', 'sigla': 'RJ'}, {'uf': 'São Paulo', 'sigla': 'SP'}]\n",
            "{'uf': 'Rio de Janeiro', 'sigla': 'RJ'}\n",
            "{'uf': 'São Paulo', 'sigla': 'SP'}\n"
          ]
        }
      ]
    },
    {
      "cell_type": "code",
      "source": [
        "estado = dict()\n",
        "brasil = list()\n",
        "\n",
        "for c in range (0, 3):\n",
        "  estado ['uf'] = str(input('A unidade federativa é:'))\n",
        "  estado ['sigla'] = str(input('A sigla do estado é:'))\n",
        "  brasil.append(estado.copy())\n",
        "\n",
        "print(brasil)\n",
        "\n",
        "for e in brasil:  \n",
        "  for k, v in e.items():\n",
        "    print(f'O campo {k} tem valor {v}.')\n"
      ],
      "metadata": {
        "colab": {
          "base_uri": "https://localhost:8080/"
        },
        "id": "UpcviS9cNLVg",
        "outputId": "32a47c5a-91b2-4674-f29f-d222c127be17"
      },
      "execution_count": null,
      "outputs": [
        {
          "output_type": "stream",
          "name": "stdout",
          "text": [
            "A unidade federativa é:Rio de Janeiro\n",
            "A sigla do estado é:RJ\n",
            "A unidade federativa é:São Paulo\n",
            "A sigla do estado é:SP\n",
            "A unidade federativa é:Minas Gerais\n",
            "A sigla do estado é:MG\n",
            "[{'uf': 'Rio de Janeiro', 'sigla': 'RJ'}, {'uf': 'São Paulo', 'sigla': 'SP'}, {'uf': 'Minas Gerais', 'sigla': 'MG'}]\n",
            "O campo uf tem valor Rio de Janeiro.\n",
            "O campo sigla tem valor RJ.\n",
            "O campo uf tem valor São Paulo.\n",
            "O campo sigla tem valor SP.\n",
            "O campo uf tem valor Minas Gerais.\n",
            "O campo sigla tem valor MG.\n"
          ]
        }
      ]
    },
    {
      "cell_type": "code",
      "source": [
        ""
      ],
      "metadata": {
        "id": "-fnABIKCQI8A"
      },
      "execution_count": null,
      "outputs": []
    }
  ]
}