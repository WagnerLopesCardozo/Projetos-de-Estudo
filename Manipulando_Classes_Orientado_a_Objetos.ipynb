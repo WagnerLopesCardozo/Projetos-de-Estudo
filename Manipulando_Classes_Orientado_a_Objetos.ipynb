{
  "nbformat": 4,
  "nbformat_minor": 0,
  "metadata": {
    "colab": {
      "name": "Manipulando_Classes_Orientado_a_Objetos.ipynb",
      "provenance": [],
      "authorship_tag": "ABX9TyNwNIjtqnHhgP72iOU6DYvT",
      "include_colab_link": true
    },
    "kernelspec": {
      "name": "python3",
      "display_name": "Python 3"
    },
    "language_info": {
      "name": "python"
    }
  },
  "cells": [
    {
      "cell_type": "markdown",
      "metadata": {
        "id": "view-in-github",
        "colab_type": "text"
      },
      "source": [
        "<a href=\"https://colab.research.google.com/github/WagnerLopesCardozo/Projetos-de-Estudo-CD-FaTec-Ourinhos/blob/main/Manipulando_Classes_Orientado_a_Objetos.ipynb\" target=\"_parent\"><img src=\"https://colab.research.google.com/assets/colab-badge.svg\" alt=\"Open In Colab\"/></a>"
      ]
    },
    {
      "cell_type": "markdown",
      "source": [
        "#Manipulando Classes Programação Orientada a Objetos."
      ],
      "metadata": {
        "id": "7jqzsQMcX03D"
      }
    },
    {
      "cell_type": "markdown",
      "source": [
        "Código que cria uma classe restaurante e usa o método INIT para armazenar o nome e estilo da cozinha do restaurante, cria também os métodos EXIBIRDADOS que exibirá as duas informações anteriores e o método ABRIRESTAURANTE que exibirá que o restaurante está aberto"
      ],
      "metadata": {
        "id": "7x0AYs1pYCDh"
      }
    },
    {
      "cell_type": "code",
      "source": [
        "print('*'*77)\n",
        "print('Programa que cria uma classe restaurante e usa o método INIT para armazenar\\no nome e estilo da cozinha do restaurante, cria também os métodos EXIBIRDADOS\\nque exibirá as duas informações anteriores e o método ABRIRESTAURANTE\\nque exibirá que o restaurante está aberto')\n",
        "print('*'*77)\n",
        "\n",
        "class restaurante:\n",
        "\n",
        "    def __init__(self, nome):\n",
        "        self.nome = nome\n",
        "\n",
        "    def __str__(self):\n",
        "        return self.nome\n",
        "\n",
        "    def __init__(self, aberto):\n",
        "        self.aberto = aberto\n",
        "\n",
        "    def __str__(self):\n",
        "        return self.aberto\n",
        "\n",
        "    \n",
        "LaParrilha = restaurante('LaParrilha')\n",
        "print(LaParrilha)\n",
        "print()\n",
        "churrasco_argentino = restaurante('Churrasco Argentino')\n",
        "print(churrasco_argentino)\n",
        "print()\n",
        "esta_aberto = restaurante('O restaurante La Parrilha se enconta aberto neste momento!!!')\n",
        "print(esta_aberto)\n",
        "\n",
        "print()\n",
        "print('FIM DO PROGRAMA')"
      ],
      "metadata": {
        "colab": {
          "base_uri": "https://localhost:8080/"
        },
        "id": "TNi34CutBQPK",
        "outputId": "5e7bd211-0dc1-4902-a735-ec0e448fdab4"
      },
      "execution_count": 31,
      "outputs": [
        {
          "output_type": "stream",
          "name": "stdout",
          "text": [
            "*****************************************************************************\n",
            "Programa que cria uma classe restaurante e usa o método INIT para armazenar\n",
            "o nome e estilo da cozinha do restaurante, cria também os métodos EXIBIRDADOS\n",
            "que exibirá as duas informações anteriores e o método ABRIRESTAURANTE\n",
            "que exibirá que o restaurante está aberto\n",
            "*****************************************************************************\n",
            "LaParrilha\n",
            "\n",
            "Churrasco Argentino\n",
            "\n",
            "O restaurante La Parrilha se enconta aberto neste momento!!!\n",
            "\n",
            "FIM DO PROGRAMA\n"
          ]
        }
      ]
    },
    {
      "cell_type": "markdown",
      "source": [
        "Código que cria uma classe nome e usa o método INIT para armazenar\n",
        "o nome e sobrenome, cria também os métodos EXIBIRDADOS\n",
        "que exibirá as duas informações anteriores e o método SAUDAÇÃO\n",
        "que irá saudar o usuário"
      ],
      "metadata": {
        "id": "z2goUQf9YRoR"
      }
    },
    {
      "cell_type": "code",
      "source": [
        "print('*'*68)\n",
        "print('Programa que cria uma classe nome e usa o método INIT para armazenar\\no nome e sobrenome, cria também os métodos EXIBIRDADOS\\nque exibirá as duas informações anteriores e o método SAUDAÇÃO\\nque irá saudar o usuário')\n",
        "print('*'*68)\n",
        "\n",
        "class usuario:\n",
        "\n",
        "    def __init__(self, nome):\n",
        "        self.nome = nome\n",
        "        \n",
        "    def __str__(self):\n",
        "        return self.nome\n",
        "\n",
        "    def __init__(self, saudacao):\n",
        "        self.saudacao = saudacao\n",
        "        \n",
        "    def __str__(self):\n",
        "        return self.saudacao\n",
        "        \n",
        "\n",
        "Wagner = usuario('Wagner')\n",
        "print(Wagner)\n",
        "print()\n",
        "Lopes_Cardozo = usuario('Lopes Cardozo')\n",
        "print(Lopes_Cardozo)\n",
        "print()\n",
        "boasVindas = usuario('Olá usuário!!!\\nTudo bem com você?\\nEspero que esteja bem!!')\n",
        "print(boasVindas)\n",
        "\n",
        "print()\n",
        "print('FIM DO PROGRAMA')"
      ],
      "metadata": {
        "colab": {
          "base_uri": "https://localhost:8080/"
        },
        "id": "9FNq7wN2FQAX",
        "outputId": "4642ecc0-5bcf-4a70-ce1c-6c627ca2cf69"
      },
      "execution_count": 36,
      "outputs": [
        {
          "output_type": "stream",
          "name": "stdout",
          "text": [
            "********************************************************************\n",
            "Programa que cria uma classe nome e usa o método INIT para armazenar\n",
            "o nome e sobrenome, cria também os métodos EXIBIRDADOS\n",
            "que exibirá as duas informações anteriores e o método SAUDAÇÃO\n",
            "que irá saudar o usuário\n",
            "********************************************************************\n",
            "Wagner\n",
            "\n",
            "Lopes Cardozo\n",
            "\n",
            "Olá usuário!!!\n",
            "Tudo bem com você?\n",
            "Espero que esteja bem!!\n",
            "\n",
            "FIM DO PROGRAMA\n"
          ]
        }
      ]
    }
  ]
}