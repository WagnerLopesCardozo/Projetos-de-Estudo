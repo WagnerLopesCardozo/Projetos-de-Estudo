{
  "nbformat": 4,
  "nbformat_minor": 0,
  "metadata": {
    "colab": {
      "name": "Shell_Sort.ipynb",
      "provenance": [],
      "authorship_tag": "ABX9TyNLFJOgqMo8zA/3k+AgI/HR",
      "include_colab_link": true
    },
    "kernelspec": {
      "name": "python3",
      "display_name": "Python 3"
    },
    "language_info": {
      "name": "python"
    }
  },
  "cells": [
    {
      "cell_type": "markdown",
      "metadata": {
        "id": "view-in-github",
        "colab_type": "text"
      },
      "source": [
        "<a href=\"https://colab.research.google.com/github/WagnerLopesCardozo/Projetos-de-Estudo-CD-FaTec-Ourinhos/blob/main/Shell_Sort.ipynb\" target=\"_parent\"><img src=\"https://colab.research.google.com/assets/colab-badge.svg\" alt=\"Open In Colab\"/></a>"
      ]
    },
    {
      "cell_type": "code",
      "execution_count": 5,
      "metadata": {
        "colab": {
          "base_uri": "https://localhost:8080/"
        },
        "id": "he0BraY9ZDPW",
        "outputId": "27f81127-705e-4a9b-a4a6-63b9797a6fbf"
      },
      "outputs": [
        {
          "output_type": "stream",
          "name": "stdout",
          "text": [
            "++++++++++++++++++++++++++++++++++++++++++++++++++++++++++++++++++++\n",
            "Programa que ordena os elementos de uma lista pelo método Shell Sort\n",
            "++++++++++++++++++++++++++++++++++++++++++++++++++++++++++++++++++++\n",
            "A lista desordenada é:  [9, 8, 3, 7, 5, 6, 4, 1]\n",
            "A lista ordenada é:  [1, 3, 4, 5, 6, 7, 8, 9]\n",
            "FIM DO PROGRAMA\n"
          ]
        }
      ],
      "source": [
        "print('+' * 68)\n",
        "print('Programa que ordena os elementos de uma lista pelo método Shell Sort')\n",
        "print('+' * 68)\n",
        "\n",
        "def shellSort(array, n):\n",
        "\n",
        "    # Reorganizar os elementos em cada intervalo n/2, n/4, n/8, ...\n",
        "    interval = n // 2\n",
        "    while interval > 0:\n",
        "        for i in range(interval, n):\n",
        "            temp = array[i]\n",
        "            j = i\n",
        "            while j >= interval and array[j - interval] > temp:\n",
        "                array[j] = array[j - interval]\n",
        "                j -= interval\n",
        "\n",
        "            array[j] = temp\n",
        "        interval //= 2\n",
        "\n",
        "\n",
        "data = [9, 8, 3, 7, 5, 6, 4, 1]\n",
        "print('A lista desordenada é: ', data)\n",
        "size = len(data)\n",
        "shellSort(data, size)\n",
        "print('A lista ordenada é: ', data)\n",
        "print('FIM DO PROGRAMA')"
      ]
    }
  ]
}