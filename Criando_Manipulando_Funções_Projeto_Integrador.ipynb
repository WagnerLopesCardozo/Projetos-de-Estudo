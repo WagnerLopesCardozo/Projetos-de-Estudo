{
  "nbformat": 4,
  "nbformat_minor": 0,
  "metadata": {
    "colab": {
      "name": "Criando_Manipulando_Funções_Projeto_Integrador.ipynb",
      "provenance": [],
      "authorship_tag": "ABX9TyO5nGmy5VOY4yyLOZF5JbEx",
      "include_colab_link": true
    },
    "kernelspec": {
      "name": "python3",
      "display_name": "Python 3"
    },
    "language_info": {
      "name": "python"
    }
  },
  "cells": [
    {
      "cell_type": "markdown",
      "metadata": {
        "id": "view-in-github",
        "colab_type": "text"
      },
      "source": [
        "<a href=\"https://colab.research.google.com/github/WagnerLopesCardozo/Projetos-de-Estudo-CD-FaTec-Ourinhos/blob/main/Criando_Manipulando_Fun%C3%A7%C3%B5es_Projeto_Integrador.ipynb\" target=\"_parent\"><img src=\"https://colab.research.google.com/assets/colab-badge.svg\" alt=\"Open In Colab\"/></a>"
      ]
    },
    {
      "cell_type": "markdown",
      "source": [
        "#Criando e Manipulando Funções:"
      ],
      "metadata": {
        "id": "-6iC1lZjRH6J"
      }
    },
    {
      "cell_type": "markdown",
      "source": [
        "Código que usa uma função para receber n números e faz a soma desses números\n"
      ],
      "metadata": {
        "id": "Phq9ETcvQy5x"
      }
    },
    {
      "cell_type": "code",
      "source": [
        "print('*' * 78)\n",
        "print('Programa que usa uma função para receber n números e faz a soma desses números')\n",
        "print('*' * 78)\n",
        "\n",
        "def recebeNum(n):  \n",
        "     \n",
        "  soma = 0\n",
        "\n",
        "  while (n != 0):  \n",
        "    \n",
        "      soma = soma + (n % 10) \n",
        "      n = n//10\n",
        "        \n",
        "  return soma\n",
        "\n",
        "n = int(input('Digite os valores para serem somados: '))\n",
        "\n",
        "print()\n",
        "print(f'O valor da soma dos números é: {recebeNum(n)}')\n",
        "\n",
        "print()\n",
        "print('FIM DO PROGRAMA')\n"
      ],
      "metadata": {
        "colab": {
          "base_uri": "https://localhost:8080/"
        },
        "id": "MPFbsBm1SNZG",
        "outputId": "7acd8b77-e645-4a76-c69c-a3b10fe2cee8"
      },
      "execution_count": 48,
      "outputs": [
        {
          "output_type": "stream",
          "name": "stdout",
          "text": [
            "******************************************************************************\n",
            "Programa que usa uma função para receber n números e faz a soma desses números\n",
            "******************************************************************************\n",
            "Digite os valores para serem somados: 12345\n",
            "\n",
            "O valor da soma dos números é: 15\n",
            "\n",
            "FIM DO PROGRAMA\n"
          ]
        }
      ]
    },
    {
      "cell_type": "markdown",
      "source": [
        "Código que calcula a área de um terreno usando funções"
      ],
      "metadata": {
        "id": "831Na2LucLgY"
      }
    },
    {
      "cell_type": "code",
      "source": [
        "print('*' * 56)\n",
        "print('Programa que calcula a área de um terreno usando funções')\n",
        "print('*' * 56)\n",
        "\n",
        "def area(largura, comprimento):\n",
        "\n",
        "  #l = float(input('Digite a largura do terreno em m: '))\n",
        "  #c = float(input('Digite o comprimento do terreno em m: '))\n",
        "\n",
        "  a = largura * comprimento\n",
        "\n",
        "  print(f'A área de um terreno ({largura} X {comprimento}) m é de {a} m²')\n",
        "\n",
        "l = float(input('Digite a largura do terreno em m: '))\n",
        "c = float(input('Digite o comprimento do terreno em m: '))\n",
        "\n",
        "area(l, c)\n",
        "\n",
        "print()\n",
        "print('FIM DO PROGRAMA')\n"
      ],
      "metadata": {
        "colab": {
          "base_uri": "https://localhost:8080/"
        },
        "id": "MChuGPPbadCg",
        "outputId": "1387d1b2-1bc4-4618-cccd-c46ed866ed25"
      },
      "execution_count": 53,
      "outputs": [
        {
          "output_type": "stream",
          "name": "stdout",
          "text": [
            "********************************************************\n",
            "Programa que calcula a área de um terreno usando funções\n",
            "********************************************************\n",
            "Digite a largura do terreno em m: 25\n",
            "Digite o comprimento do terreno em m: 70\n",
            "A área de um terreno (25.0 X 70.0) m é de 1750.0 m²\n",
            "\n",
            "FIM DO PROGRAMA\n"
          ]
        }
      ]
    },
    {
      "cell_type": "markdown",
      "source": [
        "Código que escreve uma mensagem formatada usando função"
      ],
      "metadata": {
        "id": "2UASzfM_hKEN"
      }
    },
    {
      "cell_type": "code",
      "source": [
        "print('*' * 57)\n",
        "print('Programa que escreve uma mensagem formatada usando função')  #Cabeçalho formatado sem função\n",
        "print('*' * 57)\n",
        "\n",
        "def tipografia(mensagem):  #Cabeçalho formatado com função\n",
        "\n",
        "  tamanhoTipografia = len(mensagem) + 8\n",
        "  print('*' * tamanhoTipografia)\n",
        "  print(f'    {mensagem}')\n",
        "  print('*' * tamanhoTipografia)\n",
        "\n",
        "tipografia('Wagner Lopes Cardozo')\n",
        "\n",
        "print()\n",
        "print('FIM DO PROGRAMA')\n"
      ],
      "metadata": {
        "colab": {
          "base_uri": "https://localhost:8080/"
        },
        "id": "WB1nxn4PhHiR",
        "outputId": "dfb39051-54be-4739-e8d4-78e80e6654bc"
      },
      "execution_count": 55,
      "outputs": [
        {
          "output_type": "stream",
          "name": "stdout",
          "text": [
            "*********************************************************\n",
            "Programa que escreve uma mensagem formatada usando função\n",
            "*********************************************************\n",
            "****************************\n",
            "    Wagner Lopes Cardozo\n",
            "****************************\n",
            "\n",
            "FIM DO PROGRAMA\n"
          ]
        }
      ]
    },
    {
      "cell_type": "markdown",
      "source": [
        "Código que recebe n números informados pelo usuário e mostra o inicial, o final conforme passo escolhido pelo usuário usando função"
      ],
      "metadata": {
        "id": "vv2p39mx3Ebk"
      }
    },
    {
      "cell_type": "code",
      "source": [
        "print('*' * 100)\n",
        "print('Código que recebe n números informados pelo usuário e mostra o inicial, o final conforme passo escolhido pelo usuário usando função')\n",
        "print('*' * 100)\n",
        "\n",
        "def recebe(inicio, fim, passo):\n",
        "\n",
        "  if passo < 0:\n",
        "    passo == -1\n",
        "  \n",
        "  if passo == 0:\n",
        "    passo = 1\n",
        "\n",
        "  print()\n",
        "  print(f'Contagem de {inicio} até {fim} de {passo} em {passo}')\n",
        "  print()\n",
        "\n",
        "  if inicio < fim:\n",
        "    cont = inicio\n",
        "    while cont <= fim:\n",
        "      print(f'{cont} ', end='')\n",
        "      cont += passo\n",
        "\n",
        "  else:\n",
        "    cont = inicio\n",
        "    while cont >= fim:\n",
        "      print(f'{cont}', end='')\n",
        "      cont -= passo\n",
        "      \n",
        "print('Números selecionados pelo usuário')\n",
        "print()\n",
        "inicio = int(input('Digite um número inicial: '))\n",
        "print()\n",
        "fim = int(input('Digite um número final: '))\n",
        "print()\n",
        "passo = int(input('Digite o número de passos: '))\n",
        "\n",
        "recebe(inicio, fim, passo)\n",
        "\n",
        "print()\n",
        "print('FIM DO PROGRAMA')\n"
      ],
      "metadata": {
        "id": "4stkVjdHjC6s",
        "colab": {
          "base_uri": "https://localhost:8080/"
        },
        "outputId": "2c66f851-c4bc-47e6-df6a-f6aaf4c2233b"
      },
      "execution_count": 60,
      "outputs": [
        {
          "output_type": "stream",
          "name": "stdout",
          "text": [
            "****************************************************************************************************\n",
            "Código que recebe n números informados pelo usuário e mostra o inicial, o final conforme passo escolhido pelo usuário usando função\n",
            "****************************************************************************************************\n",
            "Números selecionados pelo usuário\n",
            "\n",
            "Digite um número inicial: 2\n",
            "\n",
            "Digite um número final: 10\n",
            "\n",
            "Digite o número de passos: 2\n",
            "\n",
            "\n",
            "Contagem de 2 até 10 de 2 em 2\n",
            "\n",
            "2 4 6 8 10 \n",
            "FIM DO PROGRAMA\n"
          ]
        }
      ]
    },
    {
      "cell_type": "markdown",
      "source": [
        "Código que recebe n números inteiros e mostra o maior e menor valor do conjunto de números"
      ],
      "metadata": {
        "id": "DqYZnqZi56P0"
      }
    },
    {
      "cell_type": "code",
      "source": [
        "print('*' * 92)\n",
        "print('Programa que recebe n números inteiros e mostra o maior e menor valor do conjunto de números')\n",
        "print('*' * 92)\n",
        "\n",
        "numerosInteiros = []\n",
        "\n",
        "maior = 0\n",
        "menor = 0\n",
        "\n",
        "for x in range(0, 10):\n",
        "  numerosInteiros.append(int(input('Digite um número inteiro: ')))\n",
        "  if x == 0:\n",
        "    maior = menor = numerosInteiros[x]\n",
        "  else:\n",
        "    if numerosInteiros[x] > maior:\n",
        "      maior = numerosInteiros[x]\n",
        "    if numerosInteiros[x] < menor:\n",
        "      menor = numerosInteiros[x]\n",
        "\n",
        "print()\n",
        "print(f'Os números inteiros digitados foram: {numerosInteiros}.')\n",
        "print()\n",
        "print(f'O maior número inteiro é: {maior}.')\n",
        "print()\n",
        "print(f'O menor valor digitado é: {menor}.')\n",
        "\n",
        "\n",
        "print()\n",
        "print('FIM DO PROGRAMA')\n"
      ],
      "metadata": {
        "colab": {
          "base_uri": "https://localhost:8080/"
        },
        "id": "3uAag8yQjMTv",
        "outputId": "18ffe41c-eeed-43a4-9323-8458edb273c1"
      },
      "execution_count": 34,
      "outputs": [
        {
          "output_type": "stream",
          "name": "stdout",
          "text": [
            "********************************************************************************************\n",
            "Programa que recebe n números inteiros e mostra o maior e menor valor do conjunto de números\n",
            "********************************************************************************************\n",
            "Digite um número inteiro: 2\n",
            "Digite um número inteiro: 90\n",
            "Digite um número inteiro: 23\n",
            "Digite um número inteiro: 45\n",
            "Digite um número inteiro: 67\n",
            "Digite um número inteiro: 89\n",
            "Digite um número inteiro: 7\n",
            "Digite um número inteiro: 8\n",
            "Digite um número inteiro: 72\n",
            "Digite um número inteiro: 1\n",
            "\n",
            "Os números inteiros digitados foram: [2, 90, 23, 45, 67, 89, 7, 8, 72, 1].\n",
            "\n",
            "O maior número inteiro é: 90.\n",
            "\n",
            "O menor valor digitado é: 1.\n",
            "\n",
            "FIM DO PROGRAMA\n"
          ]
        }
      ]
    },
    {
      "cell_type": "markdown",
      "source": [
        "Código que usa três funções para sortear 10 números inteiros guardando os números sorteados numa lista. A segunda função retorna o somatório dos números inteiros pares e a terceira função retorna a contagem dos números inteiros pares."
      ],
      "metadata": {
        "id": "rir4XvHO5FD3"
      }
    },
    {
      "cell_type": "code",
      "source": [
        "print('*' * 75)\n",
        "print('Programa que usa duas funções para sortear 10 números inteiros guardando os\\nsorteados numa lista e a segunda função conta a quantidade de números\\npares sorteados na lista criada.')\n",
        "print('*' * 75)\n",
        "\n",
        "from random import randint\n",
        "\n",
        "def sorteio(lista):\n",
        "  for cont in range(0, 10):\n",
        "    num = randint(1, 10)\n",
        "    lista.append(num)\n",
        "    print(f'{num}', end = '')\n",
        "  print('--> Números inteiros sorteados.')\n",
        "\n",
        "def somatorioPares(lista):\n",
        "  soma = 0\n",
        "  for valor in lista:\n",
        "    if valor % 2 == 0:\n",
        "      soma += valor\n",
        "  print()\n",
        "  print(f'Somando os números inteiros pares da lista {lista} temos como resultado: {soma}.')\n",
        "\n",
        "def contaPares(lista):\n",
        "  conta = 0\n",
        "  for valor in lista:\n",
        "    if valor % 2 == 0:\n",
        "      conta = valor\n",
        "  print()\n",
        "  print(f'Temos {conta} valores pares.')\n",
        "\n",
        "numeros = list()\n",
        "\n",
        "sorteio(numeros)\n",
        "somatorioPares(numeros)\n",
        "contaPares(numeros)\n",
        "\n",
        "print()\n",
        "print('FIM DO PROGRAMA')\n"
      ],
      "metadata": {
        "id": "SsJQ97Kc8L7C",
        "colab": {
          "base_uri": "https://localhost:8080/"
        },
        "outputId": "67bf9d4a-74fa-4eec-a86b-34c42258ae33"
      },
      "execution_count": 35,
      "outputs": [
        {
          "output_type": "stream",
          "name": "stdout",
          "text": [
            "***************************************************************************\n",
            "Programa que usa duas funções para sortear 10 números inteiros guardando os\n",
            "sorteados numa lista e a segunda função conta a quantidade de números\n",
            "pares sorteados na lista criada.\n",
            "***************************************************************************\n",
            "9828589572--> Números inteiros sorteados.\n",
            "\n",
            "Somando os números inteiros pares da lista [9, 8, 2, 8, 5, 8, 9, 5, 7, 2] temos como resultado: 28.\n",
            "\n",
            "Temos 2 valores pares.\n",
            "\n",
            "FIM DO PROGRAMA\n"
          ]
        }
      ]
    },
    {
      "cell_type": "code",
      "source": [
        ""
      ],
      "metadata": {
        "id": "jPnLaQBu-lwE"
      },
      "execution_count": null,
      "outputs": []
    }
  ]
}