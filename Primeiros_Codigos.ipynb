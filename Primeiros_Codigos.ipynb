{
  "nbformat": 4,
  "nbformat_minor": 0,
  "metadata": {
    "colab": {
      "name": "Primeiros Codigos.ipynb",
      "provenance": [],
      "collapsed_sections": []
    },
    "kernelspec": {
      "name": "python3",
      "display_name": "Python 3"
    },
    "language_info": {
      "name": "python"
    }
  },
  "cells": [
    {
      "cell_type": "code",
      "metadata": {
        "colab": {
          "base_uri": "https://localhost:8080/"
        },
        "id": "wZFDRGdNzjEq",
        "outputId": "12a09284-b51f-4e8d-e9f8-9dd9c47b11ee"
      },
      "source": [
        "print ('Olá Mundo')"
      ],
      "execution_count": 1,
      "outputs": [
        {
          "output_type": "stream",
          "name": "stdout",
          "text": [
            "Olá Mundo\n"
          ]
        }
      ]
    },
    {
      "cell_type": "code",
      "metadata": {
        "colab": {
          "base_uri": "https://localhost:8080/"
        },
        "id": "O3Qfn6WR0IUn",
        "outputId": "77fd499d-02f2-4489-a665-26d791405970"
      },
      "source": [
        "print ('Como vai você?')"
      ],
      "execution_count": 2,
      "outputs": [
        {
          "output_type": "stream",
          "name": "stdout",
          "text": [
            "Como vai você?\n"
          ]
        }
      ]
    },
    {
      "cell_type": "code",
      "metadata": {
        "colab": {
          "base_uri": "https://localhost:8080/"
        },
        "id": "bihNiA2h0SNN",
        "outputId": "59da3d6b-3a3b-467e-d2eb-958722fb0d2f"
      },
      "source": [
        "# Código que calcula a soma entre dois números\n",
        "\n",
        "n1 = float ( input ('Digite o primeiro número: '))\n",
        "n2 = float ( input ('Digite o segundo número: '))\n",
        "\n",
        "soma = n1 + n2\n",
        "\n",
        "print ('A soma entre n1 e n2 é: ', soma)"
      ],
      "execution_count": 5,
      "outputs": [
        {
          "output_type": "stream",
          "name": "stdout",
          "text": [
            "Digite o primeiro número: 7.345\n",
            "Digite o segundo número: 10.567\n",
            "A soma entre n1 e n2 é:  17.912\n"
          ]
        }
      ]
    },
    {
      "cell_type": "code",
      "metadata": {
        "colab": {
          "base_uri": "https://localhost:8080/"
        },
        "id": "u0rEBt7R1xw8",
        "outputId": "e2116d6d-1b0d-4da9-fc54-c1e1bb5b14c9"
      },
      "source": [
        "# Código que calcula a subtração entre dois número\n",
        "n1 = float ( input ('Digite o primeiro número: '))\n",
        "n2 = float ( input ('Digite o segundo número: '))\n",
        "\n",
        "subtração = n1 - n2\n",
        "\n",
        "print ('A subtração entre n1 e n2 é: ', subtração)"
      ],
      "execution_count": 11,
      "outputs": [
        {
          "output_type": "stream",
          "name": "stdout",
          "text": [
            "Digite o primeiro número: 10.567\n",
            "Digite o segundo número: 7.345\n",
            "A subtração entre n1 e n2 é:  3.2220000000000004\n"
          ]
        }
      ]
    },
    {
      "cell_type": "code",
      "metadata": {
        "colab": {
          "base_uri": "https://localhost:8080/"
        },
        "id": "n9O2rVBH4jtI",
        "outputId": "4698ae20-4636-4f5b-b92b-23ebc55aa2d8"
      },
      "source": [
        "# Código que calcula a multiplicação entre dois números\n",
        "\n",
        "n1 = float ( input ('Digite o primeiro número: '))\n",
        "n2 = float ( input ('Digite o segund número: '))\n",
        "\n",
        "multiplicação = n1 * n2\n",
        "\n",
        "print ('A multiplicação entre n1 e n2 é: ', multiplicação)"
      ],
      "execution_count": 14,
      "outputs": [
        {
          "output_type": "stream",
          "name": "stdout",
          "text": [
            "Digite o primeiro número: 10.567\n",
            "Digite o segund número: 7.345\n",
            "A multiplicação entre n1 e n2 é:  77.614615\n"
          ]
        }
      ]
    },
    {
      "cell_type": "code",
      "metadata": {
        "colab": {
          "base_uri": "https://localhost:8080/"
        },
        "id": "hqc4kRKs6E1x",
        "outputId": "84cbafad-e79f-47f2-cb5f-d98b99898114"
      },
      "source": [
        "# Código que calcula a divisão entre dois números\n",
        "\n",
        "n1 = float ( input ('Digite o primeiro número: '))\n",
        "n2 = float ( input ('Digite o segundo número: '))\n",
        "\n",
        "divisão = n1 / n2\n",
        "\n",
        "print ('A divisão entre n1 e n2 é: ', divisão)"
      ],
      "execution_count": 15,
      "outputs": [
        {
          "output_type": "stream",
          "name": "stdout",
          "text": [
            "Digite o primeiro número: 10.567\n",
            "Digite o segundo número: 7.345\n",
            "A divisão entre n1 e n2 é:  1.4386657590197414\n"
          ]
        }
      ]
    },
    {
      "cell_type": "code",
      "metadata": {
        "colab": {
          "base_uri": "https://localhost:8080/"
        },
        "id": "3hFlH1uC7Jww",
        "outputId": "840629e0-14cb-485b-8b12-8fc99e3192f4"
      },
      "source": [
        "# Código que calcula a potência entre dois números\n",
        "\n",
        "n1 = int ( input ('Digite o primeiro número: '))\n",
        "n2 = int ( input ('Digite o segundo número: '))\n",
        "\n",
        "potencia = n1 ** n2\n",
        "\n",
        "print ('A potência entre n1 e n2 é: ', potencia)\n"
      ],
      "execution_count": 19,
      "outputs": [
        {
          "output_type": "stream",
          "name": "stdout",
          "text": [
            "Digite o primeiro número: 7\n",
            "Digite o segundo número: 10\n",
            "A potência entre n1 e n2 é:  282475249\n"
          ]
        }
      ]
    },
    {
      "cell_type": "code",
      "metadata": {
        "colab": {
          "base_uri": "https://localhost:8080/"
        },
        "id": "hq53UsXw9zow",
        "outputId": "339e3d74-bb4e-4491-a655-a91c30ba3e0a"
      },
      "source": [
        "# Código que calcula o resto da divisão entre dois números\n",
        "\n",
        "n1 = int ( input ('Digite o primeiro número: '))\n",
        "n2 = int ( input ('Digite o segundo némero: '))\n",
        "\n",
        "restodadivisao = n1 % n2\n",
        "\n",
        "print ('O resto da divisão entre n1 e n2 é: ', restodadivisao)"
      ],
      "execution_count": 23,
      "outputs": [
        {
          "output_type": "stream",
          "name": "stdout",
          "text": [
            "Digite o primeiro número: 10\n",
            "Digite o segundo némero: 7\n",
            "O resto da divisão entre n1 e n2 é:  3\n"
          ]
        }
      ]
    },
    {
      "cell_type": "code",
      "metadata": {
        "colab": {
          "base_uri": "https://localhost:8080/"
        },
        "id": "asqDnuue_wvt",
        "outputId": "fbe917ab-acc4-4602-d181-166e444c42b1"
      },
      "source": [
        "# Código que calcula a divisão inteira entre dois números\n",
        "\n",
        "n1 = int ( input ('Digite o primeiro número: '))\n",
        "n2 = int ( input ('Digite o segundo número: '))\n",
        "\n",
        "divisaointeira = n1 // n2\n",
        "\n",
        "print ('A divisão inteira entre n1 e n2 é: ', divisaointeira)"
      ],
      "execution_count": 26,
      "outputs": [
        {
          "output_type": "stream",
          "name": "stdout",
          "text": [
            "Digite o primeiro número: 10\n",
            "Digite o segundo número: 7\n",
            "A divisão inteira entre n1 e n2 é:  1\n"
          ]
        }
      ]
    },
    {
      "cell_type": "code",
      "metadata": {
        "colab": {
          "base_uri": "https://localhost:8080/"
        },
        "id": "WeVqBmjUAxXK",
        "outputId": "1b035967-8998-48a9-f245-13c90a8593f7"
      },
      "source": [
        "# Código que calcula a raiz quadrada entre dois números\n",
        "\n",
        "n1 = int ( input ('Digite o número:'))\n",
        "n2 = 1/2\n",
        "\n",
        "raizquadrada = n1 ** n2\n",
        "\n",
        "print ('A raiz quadrada do número é: ', raizquadrada)"
      ],
      "execution_count": 29,
      "outputs": [
        {
          "output_type": "stream",
          "name": "stdout",
          "text": [
            "Digite o número:81\n",
            "A raiz quadrada do número é:  9.0\n"
          ]
        }
      ]
    },
    {
      "cell_type": "code",
      "metadata": {
        "colab": {
          "base_uri": "https://localhost:8080/"
        },
        "id": "WS1phOXNC-wB",
        "outputId": "0558c599-1150-4844-c017-7fbc60bfa2d4"
      },
      "source": [
        "# Código que calcula a raiz cúbica entre dois números\n",
        "\n",
        "n1 = int ( input ('Digite o número: '))\n",
        "n2 = 1/3\n",
        "\n",
        "raizcubica = n1 ** n2\n",
        "\n",
        "print ('A raiz cúbica do número é: ', raizcubica)"
      ],
      "execution_count": 30,
      "outputs": [
        {
          "output_type": "stream",
          "name": "stdout",
          "text": [
            "Digite o número: 27\n",
            "A raiz cúbica do número é:  3.0\n"
          ]
        }
      ]
    },
    {
      "cell_type": "code",
      "metadata": {
        "colab": {
          "base_uri": "https://localhost:8080/"
        },
        "id": "KbB-MKcWEDRw",
        "outputId": "2e5111e5-b0e9-4b1c-dddf-ccef2d113665"
      },
      "source": [
        "# Código que calcula todas as operações com operadores lógicos\n",
        "\n",
        "n1 = float ( input ('Digite o primeiro número: '))\n",
        "n2 = float ( input ('Digite o segundo número: '))\n",
        "\n",
        "soma = n1 + n2\n",
        "subtraçao = n1 - n2\n",
        "multiplicaçao = n1 * n2\n",
        "divisao = n1 / n2\n",
        "\n",
        "print ('A soma é: ', soma)\n",
        "print ('A subtração é: ', subtraçao)\n",
        "print ('A multiplicação é: ', multiplicaçao)\n",
        "print ('A divisão é: ', divisao)"
      ],
      "execution_count": 32,
      "outputs": [
        {
          "output_type": "stream",
          "name": "stdout",
          "text": [
            "Digite o primeiro número: 10\n",
            "Digite o segundo número: 7\n",
            "A soma é:  17.0\n",
            "A subtração é:  3.0\n",
            "A multiplicação é:  70.0\n",
            "A divisão é:  1.4285714285714286\n"
          ]
        }
      ]
    },
    {
      "cell_type": "code",
      "metadata": {
        "colab": {
          "base_uri": "https://localhost:8080/"
        },
        "id": "t-U74DS4S9rk",
        "outputId": "aff74c11-4d0d-4bde-9fcb-e32d3f6a399a"
      },
      "source": [
        "'''\n",
        "Código que recebe as dimenções de um terreno e calcula a área deste terreno\n",
        "'''\n",
        "\n",
        "comprimento = float ( input ('Digite o comprimento do terreno: '))\n",
        "largura = float ( input ('Digite a largura doterreno:'))\n",
        "\n",
        "print ('O comprimento de {} m² pela largura de {} m² é a área do terreno = {:.2f} m²'.\n",
        "       format (comprimento, largura, (comprimento * largura)))"
      ],
      "execution_count": 42,
      "outputs": [
        {
          "output_type": "stream",
          "name": "stdout",
          "text": [
            "Digite o comprimento do terreno: 40\n",
            "Digite a largura doterreno:25\n",
            "O comprimento de 40.0 m² pela largura de 25.0 m² é a área do terreno = 1000.00 m²\n"
          ]
        }
      ]
    },
    {
      "cell_type": "code",
      "metadata": {
        "colab": {
          "base_uri": "https://localhost:8080/"
        },
        "id": "vJyGBpLkWqgh",
        "outputId": "6db5d8e1-89e8-4b7c-f239-100a046bc9de"
      },
      "source": [
        "'''\n",
        "Código que calcula a quantidade de ferraduras em relação a quantidade de cavalos adquiridos\n",
        "'''\n",
        "ncavalos = int ( input ('Digite o número de cavalos: '))\n",
        "\n",
        "print ('Para a quantidade de {} cavalos, será necessário {} ferraduras.'. format (ncavalos, (ncavalos * 4)))"
      ],
      "execution_count": 43,
      "outputs": [
        {
          "output_type": "stream",
          "name": "stdout",
          "text": [
            "Digite o número de cavalos: 8\n",
            "Para a quantidade de 8 cavalos, será necessário 32 ferraduras.\n"
          ]
        }
      ]
    },
    {
      "cell_type": "code",
      "metadata": {
        "colab": {
          "base_uri": "https://localhost:8080/"
        },
        "id": "uistTi6HXxnq",
        "outputId": "4a3eb6e0-bdcc-4265-f501-a0920e57443b"
      },
      "source": [
        "'''\n",
        "Código que calcula o lucro total da venda de pães francêses e pães broa em um dia e deste lucro investe 10% em uma determinada aplicação\n",
        "'''\n",
        "\n",
        "pfrances = int ( input ('Digite a quantidade de pães francêses vendidos: '))\n",
        "pbroa = int ( input ('Digite a quantidade de pães broa vendidos: '))\n",
        "\n",
        "print ('O lucro total de {} pães francêses e {} pães broa é de: R$ {}'.\n",
        "       format (pfrances, pbroa, (pfrances * 0.12 + pbroa * 1.50)))\n",
        "\n",
        "print ('O valor em R$ referente a 10% do lucro total de R$ {} para ser investio é de: R$ {:.2f}'.\n",
        "       format (pfrances * 0.12 + pbroa * 1.50, (pfrances * 0.12 + pbroa * 1.50) * 0.1))"
      ],
      "execution_count": 45,
      "outputs": [
        {
          "output_type": "stream",
          "name": "stdout",
          "text": [
            "Digite a quantidade de pães francêses vendidos: 250\n",
            "Digite a quantidade de pães broa vendidos: 120\n",
            "O lucro total de 250 pães francêses e 120 pães broa é de: R$ 210.0\n",
            "O valor em R$ referente a 10% do lucro total de R$ 210.0 para ser investio é de: R$ 21.00\n"
          ]
        }
      ]
    },
    {
      "cell_type": "code",
      "metadata": {
        "colab": {
          "base_uri": "https://localhost:8080/"
        },
        "id": "ml9FigxpcRDa",
        "outputId": "dee0c684-6f0d-4c2a-e49f-b3a26977f17c"
      },
      "source": [
        "'''\n",
        "Código que recebe o nome e idade de uma pessoa e calcula a quantidade de dias que ela já viveu\n",
        "'''\n",
        "\n",
        "nome = str ( input ('Digite o seu nome'))\n",
        "idade = int ( input ('Digite a sua idade'))\n",
        "\n",
        "print ('Você {}, com {} anos de vida, já viveu {} dias'.\n",
        "       format (nome, idade, (idade * 365)))"
      ],
      "execution_count": 46,
      "outputs": [
        {
          "output_type": "stream",
          "name": "stdout",
          "text": [
            "Digite o seu nomeWagner\n",
            "Digite a sua idade49\n",
            "Você Wagner, com 49 anos de vida, já viveu 17885 dias\n"
          ]
        }
      ]
    },
    {
      "cell_type": "code",
      "metadata": {
        "colab": {
          "base_uri": "https://localhost:8080/"
        },
        "id": "vwD-2GfXdrXU",
        "outputId": "c5800280-de51-4b60-b73a-22939a0f5b98"
      },
      "source": [
        "'''\n",
        "Código que calcula a quantidade de litros de gasolina abastecido, conforme o valor do preço do litro e valor pago no abastecimento\n",
        "'''\n",
        "\n",
        "plitro = float ( input ('Digite o valor do litro do combustível: '))\n",
        "vpago = float ( input ('Digite o valor pago pelo abastecimento: '))\n",
        "\n",
        "qabastecido = vpago / plitro\n",
        "\n",
        "print ('Com o litro custando R$ {} e tendo para pagar R$ {} pelo abastecimento, então a quantidade de litros abastecido será de: {:.2f} litros'.\n",
        "       format (plitro, vpago, (qabastecido)))\n",
        "\n"
      ],
      "execution_count": 48,
      "outputs": [
        {
          "output_type": "stream",
          "name": "stdout",
          "text": [
            "Digite o valor do litro do combustível: 5.89\n",
            "Digite o valor pago pelo abastecimento: 100\n",
            "Com o litro custando R$ 5.89 e tendo para pagar R$ 100.0 pelo abastecimento, então a quantidade de litros abastecido será de: 16.98 litros\n"
          ]
        }
      ]
    },
    {
      "cell_type": "code",
      "metadata": {
        "colab": {
          "base_uri": "https://localhost:8080/"
        },
        "id": "QTPQMwKQhHHW",
        "outputId": "4395ffda-cdff-4909-d702-477b2e10fa88"
      },
      "source": [
        "'''\n",
        "Código que calcula o preço da refeição cobrada por cliente, relacionando peso medido pela tara com o valor cobrado pelo quilo, descontando o peso do prato\n",
        "'''\n",
        "\n",
        "ppratomontado = float ( input ('Digite o peso indicado pela tara: '))\n",
        "\n",
        "p_a_pagar = ppratomontado * 12.00\n",
        "\n",
        "print ('O valor a pagar pelo prato montado será de: R$ {:.2f}'. format (p_a_pagar))"
      ],
      "execution_count": 49,
      "outputs": [
        {
          "output_type": "stream",
          "name": "stdout",
          "text": [
            "Digite o peso indicado pela tara: 0.84\n",
            "O valor a pagar pelo prato montado será de: R$ 10.08\n"
          ]
        }
      ]
    }
  ]
}