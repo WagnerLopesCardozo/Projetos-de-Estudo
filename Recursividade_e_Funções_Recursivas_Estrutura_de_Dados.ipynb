{
  "nbformat": 4,
  "nbformat_minor": 0,
  "metadata": {
    "colab": {
      "name": "Recursividade_e_Funções_Recursivas_Estrutura_de_Dados.ipynb",
      "provenance": [],
      "authorship_tag": "ABX9TyNREM3f0tiIxX+JypcwibQK",
      "include_colab_link": true
    },
    "kernelspec": {
      "name": "python3",
      "display_name": "Python 3"
    },
    "language_info": {
      "name": "python"
    }
  },
  "cells": [
    {
      "cell_type": "markdown",
      "metadata": {
        "id": "view-in-github",
        "colab_type": "text"
      },
      "source": [
        "<a href=\"https://colab.research.google.com/github/WagnerLopesCardozo/Projetos-de-Estudo-CD-FaTec-Ourinhos/blob/main/Recursividade_e_Fun%C3%A7%C3%B5es_Recursivas_Estrutura_de_Dados.ipynb\" target=\"_parent\"><img src=\"https://colab.research.google.com/assets/colab-badge.svg\" alt=\"Open In Colab\"/></a>"
      ]
    },
    {
      "cell_type": "markdown",
      "source": [
        "#Recursividade e Funções Recursivas no Python - Estrutura de Dados:"
      ],
      "metadata": {
        "id": "KLkw0utFO25B"
      }
    },
    {
      "cell_type": "markdown",
      "source": [
        "Código que usa uma função recursiva para inverter os elementos de uma lista encadeada."
      ],
      "metadata": {
        "id": "tV-TR8ewF8hm"
      }
    },
    {
      "cell_type": "code",
      "execution_count": null,
      "metadata": {
        "colab": {
          "base_uri": "https://localhost:8080/"
        },
        "id": "-eYILRwZF4N8",
        "outputId": "148a07e4-914c-49db-fe3a-7bf1ee129f78"
      },
      "outputs": [
        {
          "output_type": "stream",
          "name": "stdout",
          "text": [
            "***********************************************************************\n",
            "Programa que inverte os elementos de uma lista usando função recursiva:\n",
            "***********************************************************************\n",
            "Digite um numero: 1\n",
            "Digite um numero: 2\n",
            "Digite um numero: 3\n",
            "Digite um numero: 4\n",
            "Digite um numero: 5\n",
            "Digite um numero: 6\n",
            "Digite um numero: 7\n",
            "Digite um numero: 8\n",
            "Digite um numero: 9\n",
            "Digite um numero: 10\n",
            "-=-=-=-=-=-=-=-=-=-=-=-=-=-=-=-=-=-=-=-=-=-=-=-=-=-=-=-=\n",
            "A na ordem crescente é: [1, 2, 3, 4, 5, 6, 7, 8, 9, 10]\n",
            "\n",
            "A lista invertida é: [10, 9, 8, 7, 6, 5, 4, 3, 2, 1]\n",
            "\n",
            "FIM DO PROGRAMA\n"
          ]
        }
      ],
      "source": [
        "print('*'*71)\n",
        "print('Programa que inverte os elementos de uma lista usando função recursiva:')\n",
        "print('*'*71)  #front end\n",
        "\n",
        "def inverter(lista, primeiro=0, ultimo=-1):  #definindo os parametros de inverção, a lista, o primeiro elemento até o último elemento\n",
        "\n",
        "    if primeiro >= len(lista) / 2:  #IF que estabelece a condição para o primeiro elemento\n",
        "\n",
        "        return  #retornando nas condições abaixo a lista invertida\n",
        "    lista[primeiro], lista[ultimo] = lista[ultimo], lista[primeiro]\n",
        "    inverter(lista, primeiro + 1, ultimo - 1)\n",
        "\n",
        "lista = []  #lista vazia para armazenar os elementos inseridos pelo usuário\n",
        "while len(lista) < 10:  #Achei melhor usar o WHILE por ser limite indefinido apesar de estarmos limitando em 10, talvéz poderia usar o FOR também.\n",
        "    x = int(input(\"Digite um numero: \"))  #entrada dos números inteiros pelo usuário\n",
        "    if x in lista:  #condição para se o número digitado pelo usuário for maior que o limite da lista\n",
        "        print(\"Ultrapassou o limite da lista.\")  \n",
        "    else:  \n",
        "        lista.append(x)\n",
        "\n",
        "print('-='*28)\n",
        "\n",
        "print(f'A na ordem crescente é: {lista}')\n",
        "\n",
        "inverter(lista)\n",
        "\n",
        "print()\n",
        "\n",
        "print(f'A lista invertida é: {lista}')\n",
        "\n",
        "print()\n",
        "\n",
        "print('FIM DO PROGRAMA')"
      ]
    },
    {
      "cell_type": "markdown",
      "source": [
        "Código que usa uma função recursiva para retirar elementos de uma lista:"
      ],
      "metadata": {
        "id": "Mogl40-nU1qP"
      }
    },
    {
      "cell_type": "code",
      "source": [
        "print('*'*42)\n",
        "print('Programa que retira elemntos de uma lista:')\n",
        "print('*'*42)\n",
        "\n",
        "def subtrai(lista1,lista2,contador):\n",
        "\n",
        "    if len(lista1) >contador:\n",
        "\n",
        "        if not lista1[contador] in lista2:\n",
        "\n",
        "            listaderetorno.append(lista1[contador])\n",
        "\n",
        "        contador += 1\n",
        "        subtrai(lista1,lista2,contador)\n",
        "\n",
        "    return listaderetorno\n",
        "\n",
        "def lista_principal(): \n",
        "\n",
        "  lista1 = []\n",
        "  lista2 = []\n",
        "  \n",
        "listaderetorno = []\n",
        "lista_principal = ()\n",
        "\n",
        "lista1 = [7, 49, 72, 'Wagner', 2022, 8, 'Estrutura de Dados', 'Professor Marink', 203, 'FaTec']\n",
        "\n",
        "print()\n",
        "\n",
        "lista2 = [49, 72, 'Wagner', 'Professor Marink', 203]\n",
        "\n",
        "contador=0\n",
        "\n",
        "novalista = subtrai(lista1,lista2, contador) \n",
        "\n",
        "print(f'A lista original é: {lista1}')\n",
        "\n",
        "print()\n",
        "\n",
        "print(f'A nova lista sem os elementos retirados é: {novalista}')\n",
        "\n",
        "print()\n",
        "\n",
        "print('FIM DO PROGRAMA')\n",
        "\n"
      ],
      "metadata": {
        "colab": {
          "base_uri": "https://localhost:8080/"
        },
        "id": "peIjYVIWUz85",
        "outputId": "96d6197f-5cd7-4c29-cb6c-42c8a4749262"
      },
      "execution_count": 3,
      "outputs": [
        {
          "output_type": "stream",
          "name": "stdout",
          "text": [
            "******************************************\n",
            "Programa que retira elemntos de uma lista:\n",
            "******************************************\n",
            "\n",
            "A lista original é: [7, 49, 72, 'Wagner', 2022, 8, 'Estrutura de Dados', 'Professor Marink', 203, 'FaTec']\n",
            "\n",
            "A nova lista sem os elementos retirados é: [7, 2022, 8, 'Estrutura de Dados', 'FaTec']\n",
            "\n",
            "FIM DO PROGRAMA\n"
          ]
        }
      ]
    },
    {
      "cell_type": "markdown",
      "source": [
        "Código que usa uma função recursiva que mostra os elementos numa lista encadeada na ordem inversa em que aparecem na lista."
      ],
      "metadata": {
        "id": "vRfLolhcuJk1"
      }
    },
    {
      "cell_type": "code",
      "source": [
        "print('*'*94)\n",
        "print('Programa que mostra os elementos de uma lista encadeada na ordem inversa que aparecem nalista:')\n",
        "print('*'*94)\n",
        "\n",
        "i = int(input('Digite a quantidade de elementos que quer adicionar na lista: '))\n",
        "\n",
        "lista = list()\n",
        "\n",
        "while len(lista) < i:\n",
        "\n",
        "    lista.append(int(input(f'Digite {len(lista) + 1}º número: ')))\n",
        "\n",
        "print('-='*32)\n",
        "\n",
        "while len(lista) >= 1:\n",
        "\n",
        "    print(f'O {len(lista)}º elemento da lista é: {lista[-1]}')\n",
        "\n",
        "    del(lista[-1])\n",
        "\n",
        "print()\n",
        "\n",
        "print('FIM DO PROGRAMA')"
      ],
      "metadata": {
        "colab": {
          "base_uri": "https://localhost:8080/"
        },
        "id": "9A0Udsj8tndm",
        "outputId": "729799be-579f-4758-9379-126d509c5a75"
      },
      "execution_count": null,
      "outputs": [
        {
          "output_type": "stream",
          "name": "stdout",
          "text": [
            "**********************************************************************************************\n",
            "Programa que mostra os elementos de uma lista encadeada na ordem inversa que aparecem nalista:\n",
            "**********************************************************************************************\n",
            "Digite a quantidade de elementos que quer adicionar na lista: 4\n",
            "Digite 1º número: 2\n",
            "Digite 2º número: 3\n",
            "Digite 3º número: 4\n",
            "Digite 4º número: 5\n",
            "-=-=-=-=-=-=-=-=-=-=-=-=-=-=-=-=-=-=-=-=-=-=-=-=-=-=-=-=-=-=-=-=\n",
            "O 4º elemento da lista é: 5\n",
            "O 3º elemento da lista é: 4\n",
            "O 2º elemento da lista é: 3\n",
            "O 1º elemento da lista é: 2\n",
            "\n",
            "FIM DO PROGRAMA\n"
          ]
        }
      ]
    },
    {
      "cell_type": "markdown",
      "source": [
        "Código que usa uma função recursiva para calcular a sequência de Fibonacci. "
      ],
      "metadata": {
        "id": "OJ0Sd6RH-7Vs"
      }
    },
    {
      "cell_type": "code",
      "source": [
        "print('*'*47)\n",
        "print('Programa que calcula a sequ~encia de Fibonacci:')\n",
        "print('*'*47)\n",
        "\n",
        "def sequencia_fibonacci(n):\n",
        "    if n > 1:\n",
        "        return sequencia_fibonacci(n-1) + sequencia_fibonacci(n-2)\n",
        "    return n\n",
        "\n",
        "n = sequencia_fibonacci(i)\n",
        "\n",
        "print(f'Foram calculados {i + 1} números na sequência de Fibonacci.')\n",
        "\n",
        "print()\n",
        "\n",
        "print('A sequência de Fibonacci é:')\n",
        "\n",
        "print()\n",
        "\n",
        "for i in range(35):\n",
        "        \n",
        "        print(sequencia_fibonacci(i))\n",
        "\n",
        "print()\n",
        "\n",
        "print('FIM DO PROGRAMA')"
      ],
      "metadata": {
        "colab": {
          "base_uri": "https://localhost:8080/"
        },
        "id": "nUE1ZGkB2-yk",
        "outputId": "f3a09903-13ac-4cad-ed2d-089c66aafe04"
      },
      "execution_count": null,
      "outputs": [
        {
          "output_type": "stream",
          "name": "stdout",
          "text": [
            "***********************************************\n",
            "Programa que calcula a sequ~encia de Fibonacci:\n",
            "***********************************************\n",
            "Foram calculados 35 números na sequência de Fibonacci.\n",
            "\n",
            "A sequência de Fibonacci é:\n",
            "\n",
            "0\n",
            "1\n",
            "1\n",
            "2\n",
            "3\n",
            "5\n",
            "8\n",
            "13\n",
            "21\n",
            "34\n",
            "55\n",
            "89\n",
            "144\n",
            "233\n",
            "377\n",
            "610\n",
            "987\n",
            "1597\n",
            "2584\n",
            "4181\n",
            "6765\n",
            "10946\n",
            "17711\n",
            "28657\n",
            "46368\n",
            "75025\n",
            "121393\n",
            "196418\n",
            "317811\n",
            "514229\n",
            "832040\n",
            "1346269\n",
            "2178309\n",
            "3524578\n",
            "5702887\n",
            "\n",
            "FIM DO PROGRAMA\n"
          ]
        }
      ]
    },
    {
      "cell_type": "markdown",
      "source": [
        "Código que usa função recursiva para calcular o N ésimo fatorial de um número."
      ],
      "metadata": {
        "id": "9eo0L68Levbh"
      }
    },
    {
      "cell_type": "code",
      "source": [
        "print('*'*56)\n",
        "print('Programa que calcula o fatorial do N ésimo de um número:')\n",
        "print('*'*56)\n",
        "\n",
        "def fatorial(n):                             \n",
        "     \n",
        "    if n==0 or n == 1:       \n",
        "         \n",
        "        print(f\"Fatorial de 1 é: {n}\")   \n",
        "           \n",
        "        return n   \n",
        "\n",
        "    else:   \n",
        "\n",
        "        fat = n * fatorial(n-1)    \n",
        "\n",
        "        print(f\"fatorial de {n} é: {fat}\") \n",
        "\n",
        "    return fat                              \n",
        "\n",
        "fatorial(30)\n",
        "\n",
        "print()\n",
        "\n",
        "print('FIM DO PROGRAMA')\n",
        "\n"
      ],
      "metadata": {
        "colab": {
          "base_uri": "https://localhost:8080/"
        },
        "id": "5A8U9YB5FiBZ",
        "outputId": "5eb96088-74a8-4dda-98e0-38e9c4917a79"
      },
      "execution_count": 4,
      "outputs": [
        {
          "output_type": "stream",
          "name": "stdout",
          "text": [
            "********************************************************\n",
            "Programa que calcula o fatorial do N ésimo de um número:\n",
            "********************************************************\n",
            "Fatorial de 1 é: 1\n",
            "fatorial de 2 é: 2\n",
            "fatorial de 3 é: 6\n",
            "fatorial de 4 é: 24\n",
            "fatorial de 5 é: 120\n",
            "fatorial de 6 é: 720\n",
            "fatorial de 7 é: 5040\n",
            "fatorial de 8 é: 40320\n",
            "fatorial de 9 é: 362880\n",
            "fatorial de 10 é: 3628800\n",
            "fatorial de 11 é: 39916800\n",
            "fatorial de 12 é: 479001600\n",
            "fatorial de 13 é: 6227020800\n",
            "fatorial de 14 é: 87178291200\n",
            "fatorial de 15 é: 1307674368000\n",
            "fatorial de 16 é: 20922789888000\n",
            "fatorial de 17 é: 355687428096000\n",
            "fatorial de 18 é: 6402373705728000\n",
            "fatorial de 19 é: 121645100408832000\n",
            "fatorial de 20 é: 2432902008176640000\n",
            "fatorial de 21 é: 51090942171709440000\n",
            "fatorial de 22 é: 1124000727777607680000\n",
            "fatorial de 23 é: 25852016738884976640000\n",
            "fatorial de 24 é: 620448401733239439360000\n",
            "fatorial de 25 é: 15511210043330985984000000\n",
            "fatorial de 26 é: 403291461126605635584000000\n",
            "fatorial de 27 é: 10888869450418352160768000000\n",
            "fatorial de 28 é: 304888344611713860501504000000\n",
            "fatorial de 29 é: 8841761993739701954543616000000\n",
            "fatorial de 30 é: 265252859812191058636308480000000\n",
            "\n",
            "FIM DO PROGRAMA\n"
          ]
        }
      ]
    },
    {
      "cell_type": "markdown",
      "source": [
        "Código que usa uma função recursiva para calcular os valores numéricos binários para um dado número natural N."
      ],
      "metadata": {
        "id": "oLWNDJt-eSXm"
      }
    },
    {
      "cell_type": "code",
      "source": [
        "print('*'*71)\n",
        "print('Programa que calcula os valores binários para um dado número natural N:')\n",
        "print('*'*71)\n",
        "\n",
        "def Print_Binary_Values(num): \n",
        "    \n",
        "    if(num > 1): \n",
        "        Print_Binary_Values(num // 2) \n",
        "    print(num % 2, end=\"\") \n",
        "  \n",
        "  \n",
        "if __name__ == \"__main__\": \n",
        "    N = int(input('Digite a quantidade de valores binérios: '))\n",
        "    print()\n",
        "    print(f'Os {N} números binários são: ')\n",
        "    print()\n",
        "  \n",
        "    \n",
        "    for i in range(1, N+1): \n",
        "        Print_Binary_Values(i) \n",
        "        print(end=\" \") \n",
        "print()\n",
        "print()\n",
        "print('FIM DO PROGRAMA')"
      ],
      "metadata": {
        "colab": {
          "base_uri": "https://localhost:8080/"
        },
        "id": "YZzzxS7ab-Lb",
        "outputId": "4cdc85ec-b1c2-4dc3-a10d-c93f3af94ca1"
      },
      "execution_count": 7,
      "outputs": [
        {
          "output_type": "stream",
          "name": "stdout",
          "text": [
            "***********************************************************************\n",
            "Programa que calcula os valores binários para um dado número natural N:\n",
            "***********************************************************************\n",
            "Digite a quantidade de valores binérios: 20\n",
            "\n",
            "Os 20 números binários são: \n",
            "\n",
            "1 10 11 100 101 110 111 1000 1001 1010 1011 1100 1101 1110 1111 10000 10001 10010 10011 10100 \n",
            "\n",
            "FIM DO PROGRAMA\n"
          ]
        }
      ]
    }
  ]
}