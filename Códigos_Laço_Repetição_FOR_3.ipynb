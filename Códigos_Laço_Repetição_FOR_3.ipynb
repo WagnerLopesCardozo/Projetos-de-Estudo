{
  "nbformat": 4,
  "nbformat_minor": 0,
  "metadata": {
    "colab": {
      "name": "Códigos_Laço_Repetição_FOR_3.ipynb",
      "provenance": [],
      "authorship_tag": "ABX9TyNY3E6Se3oG070C49rRuf0G",
      "include_colab_link": true
    },
    "kernelspec": {
      "name": "python3",
      "display_name": "Python 3"
    },
    "language_info": {
      "name": "python"
    }
  },
  "cells": [
    {
      "cell_type": "markdown",
      "metadata": {
        "id": "view-in-github",
        "colab_type": "text"
      },
      "source": [
        "<a href=\"https://colab.research.google.com/github/WagnerLopesCardozo/Projetos-de-Estudo-CD-FaTec-Ourinhos/blob/main/C%C3%B3digos_La%C3%A7o_Repeti%C3%A7%C3%A3o_FOR_3.ipynb\" target=\"_parent\"><img src=\"https://colab.research.google.com/assets/colab-badge.svg\" alt=\"Open In Colab\"/></a>"
      ]
    },
    {
      "cell_type": "markdown",
      "source": [
        "#Código de Laços de Repetição com o Comando FOR Nível Avançado"
      ],
      "metadata": {
        "id": "2Whi-eLOef5l"
      }
    },
    {
      "cell_type": "markdown",
      "source": [
        "Código que mostra a conversão de 1 até 10 para polegadas"
      ],
      "metadata": {
        "id": "_r-so2gllzy4"
      }
    },
    {
      "cell_type": "code",
      "source": [
        "'''\n",
        "Código que mostra a conversão de 1 até 10 para polegadas.\n",
        "'''\n",
        "\n",
        "for cont in range (1, 21):\n",
        "\n",
        "    num = cont * 2.54\n",
        "    print(f'{cont}')\n",
        "    print (f'{num}')"
      ],
      "metadata": {
        "colab": {
          "base_uri": "https://localhost:8080/"
        },
        "id": "BzVsBOyLlv1-",
        "outputId": "80c48474-5776-46d3-ab99-5a3e42fde698"
      },
      "execution_count": 5,
      "outputs": [
        {
          "output_type": "stream",
          "name": "stdout",
          "text": [
            "1\n",
            "2.54\n",
            "2\n",
            "5.08\n",
            "3\n",
            "7.62\n",
            "4\n",
            "10.16\n",
            "5\n",
            "12.7\n",
            "6\n",
            "15.24\n",
            "7\n",
            "17.78\n",
            "8\n",
            "20.32\n",
            "9\n",
            "22.86\n",
            "10\n",
            "25.4\n",
            "11\n",
            "27.94\n",
            "12\n",
            "30.48\n",
            "13\n",
            "33.02\n",
            "14\n",
            "35.56\n",
            "15\n",
            "38.1\n",
            "16\n",
            "40.64\n",
            "17\n",
            "43.18\n",
            "18\n",
            "45.72\n",
            "19\n",
            "48.26\n",
            "20\n",
            "50.8\n"
          ]
        }
      ]
    },
    {
      "cell_type": "markdown",
      "source": [
        "Código que calcula a conversão de Celsius-Fahrenheit para um intervalo desejável de temperatura,\n",
        "solicitando intervalo superior, inferior e incremento"
      ],
      "metadata": {
        "id": "LxZ2I2MamHk6"
      }
    },
    {
      "cell_type": "code",
      "source": [
        "'''\n",
        "Código que calcula a conversão de Celsius-Fahrenheit para um intervalo desejável de temperatura,\n",
        "solicitando intervalo superior, inferior e incremento.\n",
        "'''\n",
        "\n",
        "print('-'*40)\n",
        "print('TABELA DE CONVERSÃO - Celsius-Fahrenheit ')\n",
        "print('-'*40)\n",
        "\n",
        "limiteinferior = int(input('Digite o limite inferior em °C: '))\n",
        "limitesuperior = int(input('Digite o limite superior em °C: '))\n",
        "decremento = int(input('Digite o valor do decremento: '))\n",
        "\n",
        "\n",
        "for c in range(limiteinferior, limitesuperior + 1, decremento):\n",
        "    f = c * 9 / 5 + 32\n",
        "    print(f'{c}°C - {f}°F')"
      ],
      "metadata": {
        "colab": {
          "base_uri": "https://localhost:8080/"
        },
        "id": "nrnGBgcwl7Ky",
        "outputId": "871d0412-08fd-4ef5-81ac-ef6b45dca429"
      },
      "execution_count": 6,
      "outputs": [
        {
          "output_type": "stream",
          "name": "stdout",
          "text": [
            "----------------------------------------\n",
            "TABELA DE CONVERSÃO - Celsius-Fahrenheit \n",
            "----------------------------------------\n",
            "Digite o limite inferior em °C: 2\n",
            "Digite o limite superior em °C: 10\n",
            "Digite o valor do decremento: 3\n",
            "2°C - 35.6°F\n",
            "5°C - 41.0°F\n",
            "8°C - 46.4°F\n"
          ]
        }
      ]
    },
    {
      "cell_type": "markdown",
      "source": [
        "Código que lê o nome, idade e sexo de 20 pessoas e mostra o nome da pessoa\n",
        " se esta pessoa for do sexo masculino e tiver mais que 21 anos de idade"
      ],
      "metadata": {
        "id": "lHRJCtpdmsa6"
      }
    },
    {
      "cell_type": "code",
      "source": [
        "'''\n",
        "Código que lê o nome, idade e sexo de 5 pessoas e mostra o nome da pessoa\n",
        " se esta pessoa for do sexo masculino e tiver mais que 21 anos de idade.\n",
        "'''\n",
        "\n",
        "for cont in range (1, 6):\n",
        "\n",
        "    nome = str(input('Digite seu nome: '))\n",
        "    sexo = int(input('Digite 1 para masculino ou 2 para feminino: '))\n",
        "    idade = int(input('Digite sua idade: '))\n",
        "\n",
        "    if sexo == 1 and idade >= 21:\n",
        "        print (f'{nome}')\n",
        "    else:\n",
        "        print ('A pessoa não é do sexo masculino ou não tem mais de 21 anos')"
      ],
      "metadata": {
        "colab": {
          "base_uri": "https://localhost:8080/"
        },
        "id": "4gFuuAwNmXAp",
        "outputId": "0835b189-ca9e-43cb-8bcc-d7392e31d44d"
      },
      "execution_count": 9,
      "outputs": [
        {
          "output_type": "stream",
          "name": "stdout",
          "text": [
            "Digite seu nome: wagner\n",
            "Digite 1 para masculino ou 2 para feminino: 1\n",
            "Digite sua idade: 49\n",
            "wagner\n",
            "Digite seu nome: marcio\n",
            "Digite 1 para masculino ou 2 para feminino: 1\n",
            "Digite sua idade: 18\n",
            "A pessoa não é do sexo masculino ou não tem mais de 21 anos\n",
            "Digite seu nome: maria\n",
            "Digite 1 para masculino ou 2 para feminino: 2\n",
            "Digite sua idade: 34\n",
            "A pessoa não é do sexo masculino ou não tem mais de 21 anos\n",
            "Digite seu nome: lucia\n",
            "Digite 1 para masculino ou 2 para feminino: 2\n",
            "Digite sua idade: 78\n",
            "A pessoa não é do sexo masculino ou não tem mais de 21 anos\n",
            "Digite seu nome: carlos\n",
            "Digite 1 para masculino ou 2 para feminino: 1\n",
            "Digite sua idade: 90\n",
            "carlos\n"
          ]
        }
      ]
    },
    {
      "cell_type": "markdown",
      "source": [
        "Código que lê um número e mostra a soma desses números múltiplos de 5\n",
        "num intervalo aberto começando com maior do que 1"
      ],
      "metadata": {
        "id": "_6JJ01ILny44"
      }
    },
    {
      "cell_type": "code",
      "source": [
        "'''\n",
        "Código que lê um número e mostra a soma desses números múltiplos de 5\n",
        "num intervalo aberto começando com maior do que 1.\n",
        "'''\n",
        "\n",
        "num = int(input('Digite um número: '))\n",
        "\n",
        "for cont in range (1, num+1):\n",
        "    divisor = cont * 5\n",
        "    print (f'{divisor}', end = '  ')"
      ],
      "metadata": {
        "colab": {
          "base_uri": "https://localhost:8080/"
        },
        "id": "UL0N0Tqpnmst",
        "outputId": "5410f9d6-3d84-4ea7-ab7d-d63df1a32754"
      },
      "execution_count": 10,
      "outputs": [
        {
          "output_type": "stream",
          "name": "stdout",
          "text": [
            "Digite um número: 5\n",
            "5  10  15  20  25  "
          ]
        }
      ]
    },
    {
      "cell_type": "markdown",
      "source": [
        "Código que calcula os 15 primeiros números da série de Fibonacci"
      ],
      "metadata": {
        "id": "dNoO-2YloIwx"
      }
    },
    {
      "cell_type": "code",
      "source": [
        "'''\n",
        "Código que calcula os 15 primeiros números da série de Fibonacci.\n",
        "'''\n",
        "\n",
        "#num1 = 1\n",
        "#num2 = 1\n",
        "#num3 = num2 + num1\n",
        "#num4 = num3 + num2\n",
        "#num5 = num4 + num3\n",
        "\n",
        "num = int (input ('Quantos números da Sequencia de Fibonacci você quer mostrar? '))\n",
        "\n",
        "num1 = 0\n",
        "num2 = 1\n",
        "print (f'{num1} {num2}', end = '  ')\n",
        "cont = 3\n",
        "\n",
        "while cont <= num:\n",
        "\n",
        "    num3 = num1 + num2\n",
        "    print (f'{num3}', end = '  ')\n",
        "    num1 = num2\n",
        "    num2 = num3\n",
        "    cont += 1"
      ],
      "metadata": {
        "colab": {
          "base_uri": "https://localhost:8080/"
        },
        "id": "L8TFn2O8n4RJ",
        "outputId": "4049c2c3-cceb-412c-9f7a-1e1123c66276"
      },
      "execution_count": 11,
      "outputs": [
        {
          "output_type": "stream",
          "name": "stdout",
          "text": [
            "Quantos números da Sequencia de Fibonacci você quer mostrar? 10\n",
            "0 1  1  2  3  5  8  13  21  34  "
          ]
        }
      ]
    },
    {
      "cell_type": "markdown",
      "source": [
        "Código que Lê o nome de 15 alunos, a nota da 1ª e 2ª provas e média de cada aluno\n",
        "e em seguida a média geral da turma e mostra todos esses resultados"
      ],
      "metadata": {
        "id": "jzRsWXWJoZFZ"
      }
    },
    {
      "cell_type": "code",
      "source": [
        "'''\n",
        "Código que Lê o nome de 5 alunos, a nota da 1ª e 2ª provas e média de cada aluno\n",
        "e em seguida a média geral da turma e mostra todos esses resultados.\n",
        "'''\n",
        "\n",
        "somamedia = 0\n",
        "\n",
        "for c in range(1, 6):\n",
        "    nome = str(input('Digite o nome do aluno: ')).upper().strip()\n",
        "    p1 = float(input('Digite a nota da Prova 1: '))\n",
        "    p2 = float(input('Digite a nota da Prova 2: '))\n",
        "    media = (p1+p2) / 2\n",
        "    somamedia = somamedia + media\n",
        "    print('-' * 50)\n",
        "    print(f'Nome: {nome} nota da P1: {p1} nota da P2: {p2} Média: {media:.2f}')\n",
        "\n",
        "mediaSala = somamedia / 5\n",
        "\n",
        "print(f'Média geral da sala: {mediaSala :.2f}')"
      ],
      "metadata": {
        "colab": {
          "base_uri": "https://localhost:8080/"
        },
        "id": "yrqSE0oKoOOz",
        "outputId": "a4faf1fe-03fd-4210-a26b-4fb9a13d4e8f"
      },
      "execution_count": 16,
      "outputs": [
        {
          "output_type": "stream",
          "name": "stdout",
          "text": [
            "Digite o nome do aluno: wagner\n",
            "Digite a nota da Prova 1: 9\n",
            "Digite a nota da Prova 2: 8\n",
            "--------------------------------------------------\n",
            "Nome: WAGNER nota da P1: 9.0 nota da P2: 8.0 Média: 8.50\n",
            "Digite o nome do aluno: lucia\n",
            "Digite a nota da Prova 1: 8\n",
            "Digite a nota da Prova 2: 7\n",
            "--------------------------------------------------\n",
            "Nome: LUCIA nota da P1: 8.0 nota da P2: 7.0 Média: 7.50\n",
            "Digite o nome do aluno: marcio\n",
            "Digite a nota da Prova 1: 7\n",
            "Digite a nota da Prova 2: 8\n",
            "--------------------------------------------------\n",
            "Nome: MARCIO nota da P1: 7.0 nota da P2: 8.0 Média: 7.50\n",
            "Digite o nome do aluno: mariana\n",
            "Digite a nota da Prova 1: 8\n",
            "Digite a nota da Prova 2: 6\n",
            "--------------------------------------------------\n",
            "Nome: MARIANA nota da P1: 8.0 nota da P2: 6.0 Média: 7.00\n",
            "Digite o nome do aluno: fabio\n",
            "Digite a nota da Prova 1: 5\n",
            "Digite a nota da Prova 2: 7\n",
            "--------------------------------------------------\n",
            "Nome: FABIO nota da P1: 5.0 nota da P2: 7.0 Média: 6.00\n",
            "Média geral da sala: 7.30\n"
          ]
        }
      ]
    },
    {
      "cell_type": "markdown",
      "source": [
        "Código que Lé um números inteiro e mostra os seus divisores"
      ],
      "metadata": {
        "id": "KNS-Ywg9p-V5"
      }
    },
    {
      "cell_type": "code",
      "source": [
        "'''\n",
        "Código que Lé um números inteiro e mostra os seus divisores.\n",
        "'''\n",
        "\n",
        "num = int (input ('Digite um número inteiro: '))\n",
        "\n",
        "for cont in range (1, num+1):\n",
        "    if num % cont == 0:\n",
        "        print (f'{cont}', end = '  ')"
      ],
      "metadata": {
        "colab": {
          "base_uri": "https://localhost:8080/"
        },
        "id": "aIeOZGlppzKY",
        "outputId": "4ccea561-388a-479c-9632-13bceb5f30d1"
      },
      "execution_count": 17,
      "outputs": [
        {
          "output_type": "stream",
          "name": "stdout",
          "text": [
            "Digite um número inteiro: 8\n",
            "1  2  4  8  "
          ]
        }
      ]
    },
    {
      "cell_type": "markdown",
      "source": [
        "Código que lê 10 números e exibe o maior e menor número lido"
      ],
      "metadata": {
        "id": "ox9qw0SxqLFJ"
      }
    },
    {
      "cell_type": "code",
      "source": [
        "'''\n",
        "Código que lê 10 números e exibe o maior e menor número lido.\n",
        "'''\n",
        "\n",
        "num = int (input ('Digite um número: '))\n",
        "\n",
        "maior = num\n",
        "menor = num\n",
        "\n",
        "for cont in range (1, 11):\n",
        "    num = int (input ('Digite um número: '))\n",
        "    if num > maior:\n",
        "        maior = num\n",
        "    if num < menor:\n",
        "        menor = num\n",
        "\n",
        "print (f'O número digitado maior é: {maior}')\n",
        "print (f'O número digitado menor é: {menor}')"
      ],
      "metadata": {
        "colab": {
          "base_uri": "https://localhost:8080/"
        },
        "id": "9LnRxJ4IqImA",
        "outputId": "843578ab-8d90-4d74-ace0-5f8d264831b6"
      },
      "execution_count": 18,
      "outputs": [
        {
          "output_type": "stream",
          "name": "stdout",
          "text": [
            "Digite um número: 5\n",
            "Digite um número: 8\n",
            "Digite um número: 3\n",
            "Digite um número: 10\n",
            "Digite um número: 14\n",
            "Digite um número: 32\n",
            "Digite um número: 1\n",
            "Digite um número: 6\n",
            "Digite um número: 6\n",
            "Digite um número: 49\n",
            "Digite um número: 32\n",
            "O número digitado maior é: 49\n",
            "O número digitado menor é: 1\n"
          ]
        }
      ]
    },
    {
      "cell_type": "markdown",
      "source": [
        "Código que lê 10 números inteiros e informa quantos são pares e ímpares"
      ],
      "metadata": {
        "id": "jNWUJgR2qjth"
      }
    },
    {
      "cell_type": "code",
      "source": [
        "'''\n",
        "Código que lê 10 números inteiros e informa quantos são pares e ímpares\n",
        "'''\n",
        "\n",
        "contPar = 0\n",
        "contImpar = 0\n",
        "\n",
        "for c in range(1, 11):\n",
        "    num = int(input('Digite um número inteiro: '))\n",
        "\n",
        "    if num % 2 == 0:\n",
        "        contPar = contPar + 1\n",
        "    elif num % 2 != 0:\n",
        "        contImpar = contImpar + 1\n",
        "\n",
        "print(f'Você digitou {contPar} pares e {contImpar} impares.')"
      ],
      "metadata": {
        "colab": {
          "base_uri": "https://localhost:8080/"
        },
        "id": "44DyiXT-qhZ0",
        "outputId": "48d13b8c-3fbb-4d82-96a5-cb819292c924"
      },
      "execution_count": 19,
      "outputs": [
        {
          "output_type": "stream",
          "name": "stdout",
          "text": [
            "Digite um número inteiro: 4\n",
            "Digite um número inteiro: 8\n",
            "Digite um número inteiro: 5\n",
            "Digite um número inteiro: 1\n",
            "Digite um número inteiro: 49\n",
            "Digite um número inteiro: 36\n",
            "Digite um número inteiro: 97\n",
            "Digite um número inteiro: 0\n",
            "Digite um número inteiro: 37\n",
            "Digite um número inteiro: 83\n",
            "Você digitou 4 pares e 6 impares.\n"
          ]
        }
      ]
    },
    {
      "cell_type": "markdown",
      "source": [
        "Código que lê a idade e o peso de 20 pessoas e calcula a média dos pesos dessas pessoas\n",
        "dentro dos limites de idade que são: 01 a 10 anos, 11 a 20 anos, 21 a 30 anos e acima de 30 anos"
      ],
      "metadata": {
        "id": "1i0gy-dFq4Va"
      }
    },
    {
      "cell_type": "code",
      "source": [
        "'''\n",
        "Código que lê a idade e o peso de 5 pessoas e calcula a média dos pesos dessas pessoas\n",
        "dentro dos limites de idade que são: 01 a 10 anos, 11 a 20 anos, 21 a 30 anos e acima de 30 anos.\n",
        "'''\n",
        "\n",
        "cont1 = 0\n",
        "cont2 = 0\n",
        "cont3 = 0\n",
        "cont4 = 0\n",
        "soma1 = 0\n",
        "soma2 = 0\n",
        "soma3 = 0\n",
        "soma4 = 0\n",
        "\n",
        "for c in range(1, 6):\n",
        "    idade = int(input('Digite a idade: '))\n",
        "    peso = float(input('Digite o peso: '))\n",
        "\n",
        "    if 1 <= idade <= 10:\n",
        "        cont1 = cont1 + 1\n",
        "        soma1 = soma1 + peso\n",
        "\n",
        "    elif 11 <= idade <= 20:\n",
        "        cont2 = cont2 + 1\n",
        "        soma2 = soma2 + peso\n",
        "\n",
        "    elif 21 <= idade <= 30:\n",
        "        cont3 = cont3 + 1\n",
        "        soma3 = soma3 + peso\n",
        "\n",
        "    elif idade > 30:\n",
        "        cont4 = cont4 + 1\n",
        "        soma4 = soma4 + peso\n",
        "\n",
        "print(f'A Média de peso das pessoas da faixa de idade de 1 - 10 anos é {soma1/cont1}')\n",
        "print(f'A Média de peso das pessoas da faixa de idade de 11 - 20 anos é {soma2/cont2}')\n",
        "print(f'A Média de peso das pessoas da faixa de idade de 21 - 30 anos é {soma3/cont3}')\n",
        "print(f'A Média de peso das pessoas maiores de 30 anos é {soma4/cont4}')"
      ],
      "metadata": {
        "colab": {
          "base_uri": "https://localhost:8080/"
        },
        "id": "4FEZt6RBqtUI",
        "outputId": "f564166a-a94a-4ab0-a4d7-c38ad89a6619"
      },
      "execution_count": 22,
      "outputs": [
        {
          "output_type": "stream",
          "name": "stdout",
          "text": [
            "Digite a idade: 9\n",
            "Digite o peso: 26\n",
            "Digite a idade: 15\n",
            "Digite o peso: 45\n",
            "Digite a idade: 26\n",
            "Digite o peso: 67\n",
            "Digite a idade: 49\n",
            "Digite o peso: 98\n",
            "Digite a idade: 27\n",
            "Digite o peso: 56\n",
            "A Média de peso das pessoas da faixa de idade de 1 - 10 anos é 26.0\n",
            "A Média de peso das pessoas da faixa de idade de 11 - 20 anos é 45.0\n",
            "A Média de peso das pessoas da faixa de idade de 21 - 30 anos é 61.5\n",
            "A Média de peso das pessoas maiores de 30 anos é 98.0\n"
          ]
        }
      ]
    },
    {
      "cell_type": "code",
      "source": [
        ""
      ],
      "metadata": {
        "id": "-smcoC92sAv9"
      },
      "execution_count": null,
      "outputs": []
    }
  ]
}