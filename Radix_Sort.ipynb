{
  "nbformat": 4,
  "nbformat_minor": 0,
  "metadata": {
    "colab": {
      "name": "Radix_Sort.ipynb",
      "provenance": [],
      "authorship_tag": "ABX9TyNJT4HUmuOkcan1n2xcKc28",
      "include_colab_link": true
    },
    "kernelspec": {
      "name": "python3",
      "display_name": "Python 3"
    },
    "language_info": {
      "name": "python"
    }
  },
  "cells": [
    {
      "cell_type": "markdown",
      "metadata": {
        "id": "view-in-github",
        "colab_type": "text"
      },
      "source": [
        "<a href=\"https://colab.research.google.com/github/WagnerLopesCardozo/Projetos-de-Estudo-CD-FaTec-Ourinhos/blob/main/Radix_Sort.ipynb\" target=\"_parent\"><img src=\"https://colab.research.google.com/assets/colab-badge.svg\" alt=\"Open In Colab\"/></a>"
      ]
    },
    {
      "cell_type": "markdown",
      "source": [
        "#Métodos de Ordenação - Estrutura de Dados"
      ],
      "metadata": {
        "id": "5STUPd8Yeri8"
      }
    },
    {
      "cell_type": "markdown",
      "source": [
        "Código que ordena os elementos de uma lista pelo método Radix Sort:"
      ],
      "metadata": {
        "id": "rDRKez0MeT-O"
      }
    },
    {
      "cell_type": "code",
      "execution_count": 4,
      "metadata": {
        "colab": {
          "base_uri": "https://localhost:8080/"
        },
        "id": "hT4QHA7SRteR",
        "outputId": "9927769d-506a-4d4a-f9b0-671274e10943"
      },
      "outputs": [
        {
          "output_type": "stream",
          "name": "stdout",
          "text": [
            "*********************************************************************\n",
            "Programa que ordena os elementos de uma lista pelo método Radix Sort:\n",
            "*********************************************************************\n",
            "Digite os números que irão ser ordenados (não pode ter números negatvos): 89 49 7 32 1 100 72\n",
            "Sorted list: [1, 7, 32, 49, 72, 89, 100]\n",
            "FIM DO PROGRAMA\n"
          ]
        }
      ],
      "source": [
        "print('*' * 69)\n",
        "print('Programa que ordena os elementos de uma lista pelo método Radix Sort:')\n",
        "print('*' * 69)\n",
        "\n",
        "def radix_sort(lista, base=10):\n",
        "    if lista == []:\n",
        "        return\n",
        " \n",
        "    def fatorchave(elemento, base):\n",
        "        def chave(lista, indice):\n",
        "            return ((lista[indice]//(base**elemento)) % base)\n",
        "        return chave\n",
        "    maior = max(lista)\n",
        "    exp = 0\n",
        "    while base**exp <= maior:\n",
        "        lista = counting_sort(lista, base - 1, fatorchave(exp, base))\n",
        "        exp = exp + 1\n",
        "    return lista\n",
        " \n",
        "def counting_sort(lista, maior, chave):\n",
        "    c = [0]*(maior + 1)\n",
        "    for i in range(len(lista)):\n",
        "        c[chave(lista, i)] = c[chave(lista, i)] + 1\n",
        " \n",
        "    #encontrando o último índice para cada elemento\n",
        "    c[0] = c[0] - 1 # para diminuir cada elemento para indexação baseada em zero\n",
        "    for i in range(1, maior + 1):\n",
        "        c[i] = c[i] + c[i - 1]\n",
        " \n",
        "    result = [None]*len(lista)\n",
        "    for i in range(len(lista) - 1, -1, -1):\n",
        "        result[c[chave(lista, i)]] = lista[i]\n",
        "        c[chave(lista, i)] = c[chave(lista, i)] - 1\n",
        " \n",
        "    return result\n",
        " \n",
        "lista = input('Digite os números que irão ser ordenados (não pode ter números negatvos): ').split()\n",
        "lista = [int(x) for x in lista]\n",
        "sorted_list = radix_sort(lista)\n",
        "print('Sorted list: ', end='')\n",
        "print(sorted_list)\n",
        "print('FIM DO PROGRAMA')"
      ]
    }
  ]
}