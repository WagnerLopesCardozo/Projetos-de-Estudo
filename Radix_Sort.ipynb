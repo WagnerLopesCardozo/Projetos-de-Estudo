{
  "nbformat": 4,
  "nbformat_minor": 0,
  "metadata": {
    "colab": {
      "name": "Radix_Sort.ipynb",
      "provenance": [],
      "authorship_tag": "ABX9TyMjLOb7bwb0EXZSIr1b/p+j",
      "include_colab_link": true
    },
    "kernelspec": {
      "name": "python3",
      "display_name": "Python 3"
    },
    "language_info": {
      "name": "python"
    }
  },
  "cells": [
    {
      "cell_type": "markdown",
      "metadata": {
        "id": "view-in-github",
        "colab_type": "text"
      },
      "source": [
        "<a href=\"https://colab.research.google.com/github/WagnerLopesCardozo/Projetos-de-Estudo-CD-FaTec-Ourinhos/blob/main/Radix_Sort.ipynb\" target=\"_parent\"><img src=\"https://colab.research.google.com/assets/colab-badge.svg\" alt=\"Open In Colab\"/></a>"
      ]
    },
    {
      "cell_type": "markdown",
      "source": [
        "#Métodos de Ordenação - Estrutura de Dados:"
      ],
      "metadata": {
        "id": "Tbv4pWOUuU2E"
      }
    },
    {
      "cell_type": "markdown",
      "source": [
        "Código que ordena os elementos de uma lista com o método de ordenação Radix Sort"
      ],
      "metadata": {
        "id": "ZpwpIFEfuOaz"
      }
    },
    {
      "cell_type": "code",
      "execution_count": 7,
      "metadata": {
        "colab": {
          "base_uri": "https://localhost:8080/"
        },
        "id": "avFlmVMZoGhI",
        "outputId": "7f3a74a8-4553-4196-ffd2-8240220e1e78"
      },
      "outputs": [
        {
          "output_type": "stream",
          "name": "stdout",
          "text": [
            "***********************************************************************\n",
            "Programa que ordena os elementos de uma lista pelo método de Radix Sort\n",
            "***********************************************************************\n",
            "A lista desordenada é:  [89, 49, 7, 72, 100, 576, 0, 325, 10, 734]\n",
            "A lista ordenada é:  [0, 7, 10, 49, 72, 89, 100, 325, 576, 734]\n",
            "FIM DO PROGRAMA\n"
          ]
        }
      ],
      "source": [
        "print('*' * 71)\n",
        "print('Programa que ordena os elementos de uma lista pelo método de Radix Sort')\n",
        "print('*' * 71)\n",
        "\n",
        "# get number of digits in largest item\n",
        "def num_digits(lista):\n",
        "    maxDigit = 0\n",
        "    for num in lista:\n",
        "        maxDigit = max(maxDigit, num)\n",
        "    return len(str(maxDigit))\n",
        " \n",
        " \n",
        "# flatten into a 1D List\n",
        "from functools import reduce\n",
        "def flatten(lista):\n",
        "    return reduce(lambda x, y: x + y, lista)\n",
        " \n",
        " \n",
        "def radix(lista):\n",
        "    digits = num_digits(lista)\n",
        "    for digit in range(0, digits):\n",
        "        temp = [[] for i in range(10)]\n",
        "        for item in lista:\n",
        "            num = (item // (10 ** digit)) % 10\n",
        "            temp[num].append(item)\n",
        "        lista = flatten(temp)\n",
        "    return lista\n",
        " \n",
        " \n",
        "lista = [89, 49, 7, 72, 100, 576, 0, 325, 10, 734]\n",
        "print('A lista desordenada é: ', lista)\n",
        "lista = radix(lista)\n",
        "print('A lista ordenada é: ', lista)\n",
        "print('FIM DO PROGRAMA')"
      ]
    }
  ]
}