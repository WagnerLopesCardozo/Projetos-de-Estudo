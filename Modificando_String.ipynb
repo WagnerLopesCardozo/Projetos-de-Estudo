{
  "nbformat": 4,
  "nbformat_minor": 0,
  "metadata": {
    "colab": {
      "name": "Modificando_String.ipynb",
      "provenance": [],
      "collapsed_sections": [],
      "authorship_tag": "ABX9TyMSVMSqqcGieny8Cl05xlnL",
      "include_colab_link": true
    },
    "kernelspec": {
      "name": "python3",
      "display_name": "Python 3"
    },
    "language_info": {
      "name": "python"
    }
  },
  "cells": [
    {
      "cell_type": "markdown",
      "metadata": {
        "id": "view-in-github",
        "colab_type": "text"
      },
      "source": [
        "<a href=\"https://colab.research.google.com/github/WagnerLopesCardozo/Projetos-de-Estudo-CD-FaTec-Ourinhos/blob/main/Modificando_String.ipynb\" target=\"_parent\"><img src=\"https://colab.research.google.com/assets/colab-badge.svg\" alt=\"Open In Colab\"/></a>"
      ]
    },
    {
      "cell_type": "code",
      "metadata": {
        "colab": {
          "base_uri": "https://localhost:8080/"
        },
        "id": "OGfhaZpZAWx7",
        "outputId": "be02ddb1-2033-43ba-baf3-c5bdc7b47728"
      },
      "source": [
        "'''\n",
        "Código exemplo de STRINS modificadas\n",
        "'''\n",
        "\n",
        "nome = str ( input ('Digite um nome: '))\n",
        "\n",
        "print (f'O nome lido é: {nome}')\n",
        "print (f'O primeiro caracter do nome lido é: {nome[0]}')\n",
        "print (f'O último caracter do nome lido é: {nome[-1]}')\n",
        "print (f'Escolhendo a quantidade de caracteres que quer exibir'\n",
        "       f' começando pelo início: {nome[:3]}')\n",
        "print (f'Escolhendo a quantidade de caracteres que quer exibir'\n",
        "       f' começando pelo final: {nome[3:]}')"
      ],
      "execution_count": 1,
      "outputs": [
        {
          "output_type": "stream",
          "name": "stdout",
          "text": [
            "Digite um nome: Wagner\n",
            "O nome lido é: Wagner\n",
            "O primeiro caracter do nome lido é: W\n",
            "O último caracter do nome lido é: r\n",
            "Escolhendo a quantidade de caracteres que quer exibir começando pelo início: Wag\n",
            "Escolhendo a quantidade de caracteres que quer exibir começando pelo final: ner\n"
          ]
        }
      ]
    },
    {
      "cell_type": "code",
      "metadata": {
        "colab": {
          "base_uri": "https://localhost:8080/"
        },
        "id": "xrRkrX4iAr_3",
        "outputId": "0396b2c5-0501-4772-ea32-513609834c34"
      },
      "source": [
        "'''\n",
        "Código manipulando STRING\n",
        "'''\n",
        "\n",
        "palavra = str ( input ('Digite uma palavra ou frase: ')).upper() #Coloca tudo em letra maiúscula.\n",
        "\n",
        "print (f'Palavra original: {palavra}')\n",
        "print (f'Tamanho da palavra com os espaços em branco: {len(palavra)}')\n",
        "print (f'Quantidade de letras na palavra: {palavra.count(\"E\")}')\n",
        "print (f'Procurar uma substring na palavra: {palavra.find(\"LOP\")}')\n",
        "# Comando FIND retorna onde começa a sequência da substring.\n",
        "# Se retornar -1, siguinifica que não existe substring na palavra principal."
      ],
      "execution_count": 3,
      "outputs": [
        {
          "output_type": "stream",
          "name": "stdout",
          "text": [
            "Digite uma palavra ou frase: Wagner Lopes\n",
            "Palavra original: WAGNER LOPES\n",
            "Tamanho da palavra com os espaços em branco: 12\n",
            "Quantidade de letras na palavra: 2\n",
            "Procurar uma substring na palavra: 7\n"
          ]
        }
      ]
    },
    {
      "cell_type": "code",
      "metadata": {
        "colab": {
          "base_uri": "https://localhost:8080/"
        },
        "id": "mCu3AoErA8Sc",
        "outputId": "90634b8c-ca43-4b13-9c8b-d7af6d4cdbe7"
      },
      "source": [
        "'''\n",
        "Código que procura palavra ou caracter retornando TRU-VERDADEIRO ou FALSE-FALSO.\n",
        "'''\n",
        "\n",
        "palavra = str ( input ('Digite uma palavra ou frase: ')).upper()\n",
        "procura = str ( input ('O que você quer procurar na palavra digitada? ')).upper()\n",
        "\n",
        "print (f'{procura} existe na frase {palavra}: {procura in palavra}')"
      ],
      "execution_count": 4,
      "outputs": [
        {
          "output_type": "stream",
          "name": "stdout",
          "text": [
            "Digite uma palavra ou frase: Wagner Lopes\n",
            "O que você quer procurar na palavra digitada? Lop\n",
            "LOP existe na frase WAGNER LOPES: True\n"
          ]
        }
      ]
    },
    {
      "cell_type": "code",
      "metadata": {
        "colab": {
          "base_uri": "https://localhost:8080/"
        },
        "id": "lc6g1s5OBJN0",
        "outputId": "992f87fc-3364-4641-eceb-e0946fded945"
      },
      "source": [
        "'''\n",
        "Código que substitue caracteres por outros em uma palavra.\n",
        "'''\n",
        "\n",
        "palavra = str ( input ('Digite uma palavra ou frase: ')).upper()\n",
        "palavra = palavra.replace ('LOP','XXX').upper()\n",
        "\n",
        "print (f'A substituição ficou assim: {palavra}')"
      ],
      "execution_count": 5,
      "outputs": [
        {
          "output_type": "stream",
          "name": "stdout",
          "text": [
            "Digite uma palavra ou frase: Wagner Lopes\n",
            "A substituição ficou assim: WAGNER XXXES\n"
          ]
        }
      ]
    },
    {
      "cell_type": "code",
      "metadata": {
        "id": "aTXIxhKEBRj7"
      },
      "source": [
        ""
      ],
      "execution_count": null,
      "outputs": []
    }
  ]
}