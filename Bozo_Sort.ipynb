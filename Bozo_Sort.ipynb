{
  "nbformat": 4,
  "nbformat_minor": 0,
  "metadata": {
    "colab": {
      "name": "Bozo_Sort.ipynb",
      "provenance": [],
      "authorship_tag": "ABX9TyO5BJ5JlU0uGnqNJnzzccaE",
      "include_colab_link": true
    },
    "kernelspec": {
      "name": "python3",
      "display_name": "Python 3"
    },
    "language_info": {
      "name": "python"
    }
  },
  "cells": [
    {
      "cell_type": "markdown",
      "metadata": {
        "id": "view-in-github",
        "colab_type": "text"
      },
      "source": [
        "<a href=\"https://colab.research.google.com/github/WagnerLopesCardozo/Projetos-de-Estudo-CD-FaTec-Ourinhos/blob/main/Bozo_Sort.ipynb\" target=\"_parent\"><img src=\"https://colab.research.google.com/assets/colab-badge.svg\" alt=\"Open In Colab\"/></a>"
      ]
    },
    {
      "cell_type": "markdown",
      "source": [
        "#Métodos de Ordenação - Estrutura de Dados:"
      ],
      "metadata": {
        "id": "-Q0Beoklutg6"
      }
    },
    {
      "cell_type": "markdown",
      "source": [
        "Código que ordena os elementos de uma lista com o método de ordenação Bozo Sort"
      ],
      "metadata": {
        "id": "DN32IdvSujCX"
      }
    },
    {
      "cell_type": "code",
      "execution_count": 7,
      "metadata": {
        "colab": {
          "base_uri": "https://localhost:8080/"
        },
        "id": "kATopQzemem-",
        "outputId": "60920358-9028-47e5-8ce8-53d640b6a673"
      },
      "outputs": [
        {
          "output_type": "stream",
          "name": "stdout",
          "text": [
            "*****************************************************************\n",
            "Programa que ordena uma lista de elementos com o método Bozo Sort\n",
            "*****************************************************************\n",
            "A lista desordenada é:  [89, 49, 7, 8, 72, 100, 265, -7, 921, 1]\n",
            "A lista ordenada é:  [-7, 1, 7, 8, 49, 72, 89, 100, 265, 921]\n"
          ]
        }
      ],
      "source": [
        "print('*' * 65)\n",
        "print('Programa que ordena uma lista de elementos com o método Bozo Sort')\n",
        "print('*' * 65)\n",
        "\n",
        "import random\n",
        "def reordenar(lista):\n",
        "    a = len(lista)\n",
        "    for i in range(a):\n",
        "        r = random.randint(0,a-1)\n",
        "        lista[i],lista[r] = lista[r],lista[i]\n",
        "    return lista    \n",
        "\n",
        "def bozo_sort(lista):\n",
        "    while(True):\n",
        "        for n in range(len(lista)-1):\n",
        "            if lista[n]<=lista[n+1]:\n",
        "                pass\n",
        "            else:\n",
        "                break\n",
        "        else:    \n",
        "            return lista\n",
        "        lista = reordenar(lista)\n",
        "\n",
        "lista=[89, 49, 7, 8, 72, 100, 265, -7, 921, 1]\n",
        "print('A lista desordenada é: ', lista)\n",
        "bozo_sort(lista)\n",
        "print('A lista ordenada é: ', lista)\n",
        "print('FIM DO PROGRAMA')\n",
        " "
      ]
    },
    {
      "cell_type": "code",
      "source": [
        ""
      ],
      "metadata": {
        "id": "C-_qFmJMnDEb"
      },
      "execution_count": null,
      "outputs": []
    }
  ]
}