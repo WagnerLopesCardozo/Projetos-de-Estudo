{
  "nbformat": 4,
  "nbformat_minor": 0,
  "metadata": {
    "colab": {
      "name": "Cópia de Busca_Binária.ipynb",
      "provenance": [],
      "authorship_tag": "ABX9TyM1i3KSWGwE8EPiDX4OJJtn",
      "include_colab_link": true
    },
    "kernelspec": {
      "name": "python3",
      "display_name": "Python 3"
    },
    "language_info": {
      "name": "python"
    }
  },
  "cells": [
    {
      "cell_type": "markdown",
      "metadata": {
        "id": "view-in-github",
        "colab_type": "text"
      },
      "source": [
        "<a href=\"https://colab.research.google.com/github/WagnerLopesCardozo/Projetos-de-Estudo-CD-FaTec-Ourinhos/blob/main/C%C3%B3pia_de_Busca_Bin%C3%A1ria.ipynb\" target=\"_parent\"><img src=\"https://colab.research.google.com/assets/colab-badge.svg\" alt=\"Open In Colab\"/></a>"
      ]
    },
    {
      "cell_type": "markdown",
      "source": [
        "#Busca Binária no Python:"
      ],
      "metadata": {
        "id": "fm_IOHL-SIC0"
      }
    },
    {
      "cell_type": "markdown",
      "source": [
        "Código que faz uma busca binária em uma lista e mostra a posição do elemento procurado pelo usuário"
      ],
      "metadata": {
        "id": "qP29QY-SR54P"
      }
    },
    {
      "cell_type": "code",
      "source": [
        "print('*'*102)\n",
        "print('Programa que faz uma busca binária em uma lista e mostra a posição do elemento procurado pelo usuário:')\n",
        "print('*'*102)\n",
        "\n",
        "def busca_binária(fila, elemento, inicio=0, fim=None):\n",
        "    if fim is None:\n",
        "        fim = len(fila)-1\n",
        "    if inicio <= fim:\n",
        "        m = (inicio + fim)//2\n",
        "        if fila[m] == elemento:\n",
        "            return m\n",
        "        if elemento < fila[m]:\n",
        "            return busca_binária(fila, elemento, inicio, m-1)\n",
        "        else:\n",
        "            return busca_binária(fila, elemento, m+1, fim)\n",
        "    return None\n",
        "\n",
        "fila = [2,3,4,5,6,7,8,9,10]\n",
        "busca_binária(fila, 9, 0, len(fila)-1)\n",
        "busca_binária(fila, 9)\n",
        "\n"
      ],
      "metadata": {
        "id": "ZDJ87GrHtGfe",
        "colab": {
          "base_uri": "https://localhost:8080/"
        },
        "outputId": "f16d120c-eea7-483f-a675-4b0e6077cdeb"
      },
      "execution_count": null,
      "outputs": [
        {
          "output_type": "stream",
          "name": "stdout",
          "text": [
            "******************************************************************************************************\n",
            "programa que faz uma busca binária em uma lista e mostra a posição do elemento procurado pelo usuário:\n",
            "******************************************************************************************************\n"
          ]
        },
        {
          "output_type": "execute_result",
          "data": {
            "text/plain": [
              "7"
            ]
          },
          "metadata": {},
          "execution_count": 34
        }
      ]
    },
    {
      "cell_type": "code",
      "source": [
        ""
      ],
      "metadata": {
        "id": "Es1s9_QTPDLn"
      },
      "execution_count": null,
      "outputs": []
    }
  ]
}