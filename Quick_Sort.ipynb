{
  "nbformat": 4,
  "nbformat_minor": 0,
  "metadata": {
    "colab": {
      "name": "Quick_Sort.ipynb",
      "provenance": [],
      "authorship_tag": "ABX9TyOWU5uIhzoB1dpyV8LHTTIN",
      "include_colab_link": true
    },
    "kernelspec": {
      "name": "python3",
      "display_name": "Python 3"
    },
    "language_info": {
      "name": "python"
    }
  },
  "cells": [
    {
      "cell_type": "markdown",
      "metadata": {
        "id": "view-in-github",
        "colab_type": "text"
      },
      "source": [
        "<a href=\"https://colab.research.google.com/github/WagnerLopesCardozo/Projetos-de-Estudo-CD-FaTec-Ourinhos/blob/main/Quick_Sort.ipynb\" target=\"_parent\"><img src=\"https://colab.research.google.com/assets/colab-badge.svg\" alt=\"Open In Colab\"/></a>"
      ]
    },
    {
      "cell_type": "code",
      "execution_count": 20,
      "metadata": {
        "colab": {
          "base_uri": "https://localhost:8080/"
        },
        "id": "7yNp1QBRM3c_",
        "outputId": "b45329fe-8341-48e0-cd3b-db924ef88946"
      },
      "outputs": [
        {
          "output_type": "stream",
          "name": "stdout",
          "text": [
            "++++++++++++++++++++++++++++++++++++++++++++++++++++++++++++++++++++\n",
            "Programa que ordena os elementos de uma lista pelo método Quick Sort\n",
            "++++++++++++++++++++++++++++++++++++++++++++++++++++++++++++++++++++\n",
            "A lista desordenada é:  [89, 49, 7, 100, 72, -7, 327, 941, 39, 718]\n",
            "A lista ordenada é:  [-7, 7, 39, 49, 72, 89, 100, 327, 718, 941]\n",
            "FIM DO PROGRAMA\n"
          ]
        }
      ],
      "source": [
        "print('+' * 68)\n",
        "print('Programa que ordena os elementos de uma lista pelo método Quick Sort')\n",
        "print('+' * 68)\n",
        "\n",
        "# função para encontrar a posição da partição\n",
        "def partition(array, low, high):\n",
        "\n",
        "  # escolha o elemento mais à direita como pivô\n",
        "  pivot = array[high]\n",
        "\n",
        "  # ponteiro para maior elemento\n",
        "  i = low - 1\n",
        "\n",
        "  # percorrer todos os elementos\n",
        "  # comparar cada elemento com pivô\n",
        "  for j in range(low, high):\n",
        "    if array[j] <= pivot:\n",
        "      # se o elemento menor que o pivô for encontrado\n",
        "      # troque-o pelo maior elemento apontado por i\n",
        "      i = i + 1\n",
        "\n",
        "      # trocando elemento em i com elemento em j\n",
        "      (array[i], array[j]) = (array[j], array[i])\n",
        "\n",
        "  # troque o elemento pivô pelo elemento maior especificado por i\n",
        "  (array[i + 1], array[high]) = (array[high], array[i + 1])\n",
        "\n",
        "  # retorne a posição de onde a partição é feita\n",
        "  return i + 1\n",
        "\n",
        "# função para executar quicksort\n",
        "def quickSort(array, low, high):\n",
        "  if low < high:\n",
        "\n",
        "    # encontre o elemento pivô tal que\n",
        "    # elemento menor que pivô está à esquerda\n",
        "    # elemento maior que pivô está à direita\n",
        "    pi = partition(array, low, high)\n",
        "\n",
        "    # chamada recursiva à esquerda do pivô\n",
        "    quickSort(array, low, pi - 1)\n",
        "\n",
        "    # chamada recursiva à direita do pivô\n",
        "    quickSort(array, pi + 1, high)\n",
        "\n",
        "\n",
        "lista = [89, 49, 7, 100, 72, -7, 327, 941, 39, 718]\n",
        "print(\"A lista desordenada é: \", lista)\n",
        "tamanho = len(lista)\n",
        "quickSort(lista, 0, tamanho - 1)\n",
        "print('A lista ordenada é: ', lista)\n",
        "print('FIM DO PROGRAMA')\n"
      ]
    }
  ]
}