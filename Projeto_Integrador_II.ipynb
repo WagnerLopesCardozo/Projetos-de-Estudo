{
  "nbformat": 4,
  "nbformat_minor": 0,
  "metadata": {
    "colab": {
      "name": "Projeto_Integrador_II.ipynb",
      "provenance": [],
      "authorship_tag": "ABX9TyMVWyr1LcilIDb4AVi8c+HU",
      "include_colab_link": true
    },
    "kernelspec": {
      "name": "python3",
      "display_name": "Python 3"
    },
    "language_info": {
      "name": "python"
    }
  },
  "cells": [
    {
      "cell_type": "markdown",
      "metadata": {
        "id": "view-in-github",
        "colab_type": "text"
      },
      "source": [
        "<a href=\"https://colab.research.google.com/github/WagnerLopesCardozo/Projetos-de-Estudo-CD-FaTec-Ourinhos/blob/main/Projeto_Integrador_II.ipynb\" target=\"_parent\"><img src=\"https://colab.research.google.com/assets/colab-badge.svg\" alt=\"Open In Colab\"/></a>"
      ]
    },
    {
      "cell_type": "markdown",
      "source": [
        "#Para Desenferrujar:"
      ],
      "metadata": {
        "id": "Sx6SDnRQJzor"
      }
    },
    {
      "cell_type": "markdown",
      "source": [
        "1 - Fazer um algoritmo que leia um número inteiro e escreva o seu antecessor e o seu sucessor."
      ],
      "metadata": {
        "id": "FF76yi8qHFO1"
      }
    },
    {
      "cell_type": "code",
      "execution_count": 6,
      "metadata": {
        "colab": {
          "base_uri": "https://localhost:8080/"
        },
        "id": "0FA41NOyG_IH",
        "outputId": "678aead0-2eb3-4534-fd16-76add9c585f4"
      },
      "outputs": [
        {
          "output_type": "stream",
          "name": "stdout",
          "text": [
            "******************************************************************************************\n",
            "Fazer um algoritmo que leia um número inteiro e escreva o seu antecessor e o seu sucessor.\n",
            "******************************************************************************************\n",
            "Digite um número inteiro50\n",
            "\n",
            "O antecessor do número inteiro digitado é: 51.0\n",
            "O sucessor do número inteiro digitado é: 49.0\n",
            "\n",
            "FIM DO PROGRAMA\n"
          ]
        }
      ],
      "source": [
        "print('*'*90)\n",
        "print('Fazer um algoritmo que leia um número inteiro e escreva o seu antecessor e o seu sucessor.')\n",
        "print('*'*90)\n",
        "\n",
        "num = float(input('Digite um número inteiro'))\n",
        "\n",
        "ant = num + 1\n",
        "suc = num -1\n",
        "\n",
        "print()\n",
        "print(f'O antecessor do número inteiro digitado é: {ant}')\n",
        "print(f'O sucessor do número inteiro digitado é: {suc}')\n",
        "\n",
        "print()\n",
        "print('FIM DO PROGRAMA')"
      ]
    },
    {
      "cell_type": "markdown",
      "source": [
        "2 - Ler uma medida em polegadas e imprimir a equivalente em centímetros, sabendo que 2.54 cm equivale a 1 polegada."
      ],
      "metadata": {
        "id": "OdDNqSxdHPx-"
      }
    },
    {
      "cell_type": "code",
      "source": [
        "print('*'*111)\n",
        "print('Ler uma medida em polegadas e imprimir a equivalente em centímetros, sabendo que 2.54 cm equivale a 1 polegada.')\n",
        "print('*'*111)\n",
        "\n",
        "medida = float(input('Digite a medida em polegadas: '))\n",
        "\n",
        "converte = medida * 2.54\n",
        "\n",
        "print()\n",
        "print(f'A medida convertida para centimatros é: {converte}')\n",
        "\n",
        "print()\n",
        "print('FIM DO PROGRAMA')"
      ],
      "metadata": {
        "colab": {
          "base_uri": "https://localhost:8080/"
        },
        "id": "rCH4KQE7HOSP",
        "outputId": "19fe87df-9d62-4eba-8b4e-d06cf2e79e85"
      },
      "execution_count": 10,
      "outputs": [
        {
          "output_type": "stream",
          "name": "stdout",
          "text": [
            "***************************************************************************************************************\n",
            "Ler uma medida em polegadas e imprimir a equivalente em centímetros, sabendo que 2.54 cm equivale a 1 polegada.\n",
            "***************************************************************************************************************\n",
            "Digite a medida em polegadas: 50\n",
            "\n",
            "A medida convertida para centimatros é: 127.0\n",
            "\n",
            "FIM DO PROGRAMA\n"
          ]
        }
      ]
    },
    {
      "cell_type": "markdown",
      "source": [
        "\n",
        "\n",
        "\n",
        "\t\n",
        "3 - O custo de um carro novo ao consumidor é a soma do custo de fábrica com a porcentagem do distribuidor e dos impostos (aplicados ao custo de fábrica). Supondo que o percentual do distribuidor seja de 28% e os impostos de 45%, escrever um algoritmo para ler o custo de fábrica de um carro, calcular e escrever o custo final ao consumidor."
      ],
      "metadata": {
        "id": "j31o6kHLHWUf"
      }
    },
    {
      "cell_type": "code",
      "source": [
        "print('*'*75)\n",
        "print('O custo de um carro novo ao consumidor é a soma do custo de fábrica com a \\nporcentagem do distribuidor e dos impostos (aplicados ao custo de fábrica). \\nSupondo que o percentual do distribuidor seja de 28% e os impostos de 45%, \\nescrever um algoritmo para ler o custo de fábrica de um carro, \\ncalcular e escrever o custo final ao consumidor.')\n",
        "print('*'*75)\n",
        "\n",
        "\n",
        "custo_fabrica = float(input('Digite o custo de fábrica do automóvel: R$ '))\n",
        "\n",
        "print()\n",
        "custo_consumidor = (custo_fabrica * 2.8) + (custo_fabrica * 4.5)\n",
        "\n",
        "print(f'O custo do automóvel para o consumidor é: R$ {custo_consumidor}')\n",
        "\n",
        "print()\n",
        "print('FIM DO PROGRAMA')"
      ],
      "metadata": {
        "colab": {
          "base_uri": "https://localhost:8080/"
        },
        "id": "W8ZloZdkHOtH",
        "outputId": "50e0a7ab-3220-41a0-b77b-60e6806e039b"
      },
      "execution_count": 14,
      "outputs": [
        {
          "output_type": "stream",
          "name": "stdout",
          "text": [
            "***************************************************************************\n",
            "O custo de um carro novo ao consumidor é a soma do custo de fábrica com a \n",
            "porcentagem do distribuidor e dos impostos (aplicados ao custo de fábrica). \n",
            "Supondo que o percentual do distribuidor seja de 28% e os impostos de 45%, \n",
            "escrever um algoritmo para ler o custo de fábrica de um carro, \n",
            "calcular e escrever o custo final ao consumidor.\n",
            "***************************************************************************\n",
            "Digite o custo de fábrica do automóvel: R$ 49.000\n",
            "\n",
            "O custo do automóvel para o consumidor é: R$ 357.7\n",
            "\n",
            "FIM DO PROGRAMA\n"
          ]
        }
      ]
    }
  ]
}