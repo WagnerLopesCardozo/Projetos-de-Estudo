{
  "nbformat": 4,
  "nbformat_minor": 0,
  "metadata": {
    "colab": {
      "name": "Manipulando_Funções_com_Return_Desafios.ipynb",
      "provenance": [],
      "authorship_tag": "ABX9TyOEfh6k4kYTTFRrNowNrB3u",
      "include_colab_link": true
    },
    "kernelspec": {
      "name": "python3",
      "display_name": "Python 3"
    },
    "language_info": {
      "name": "python"
    }
  },
  "cells": [
    {
      "cell_type": "markdown",
      "metadata": {
        "id": "view-in-github",
        "colab_type": "text"
      },
      "source": [
        "<a href=\"https://colab.research.google.com/github/WagnerLopesCardozo/Projetos-de-Estudo-CD-FaTec-Ourinhos/blob/main/Manipulando_Fun%C3%A7%C3%B5es_com_Return_Desafios.ipynb\" target=\"_parent\"><img src=\"https://colab.research.google.com/assets/colab-badge.svg\" alt=\"Open In Colab\"/></a>"
      ]
    },
    {
      "cell_type": "markdown",
      "source": [
        "#Manipilando Funções com Return:"
      ],
      "metadata": {
        "id": "C6V3YjobpYI_"
      }
    },
    {
      "cell_type": "markdown",
      "source": [
        "Código que tenha uma função que receba como parâmetro o ano de nascimento de uma pessoa. A função deve retornar um valor literal, dizendo se a pessoa: não pode votar, o voto é opcional ou voto obrigatório."
      ],
      "metadata": {
        "id": "RX53n9JLn570"
      }
    },
    {
      "cell_type": "code",
      "execution_count": null,
      "metadata": {
        "colab": {
          "base_uri": "https://localhost:8080/"
        },
        "id": "TkmqT8Zgi6bv",
        "outputId": "db82288d-c4ff-4ac6-ac25-277450890996"
      },
      "outputs": [
        {
          "output_type": "stream",
          "name": "stdout",
          "text": [
            "***************************************************************************\n",
            "Programa que tenha uma função que receba como parâmetro o ano de nascimento\n",
            "de uma pessoa. A função deve retornar um valor literal, dizendo se\n",
            "a pessoa: não pode votar, o voto é opcional ou voto obrigatório\n",
            "***************************************************************************\n",
            "Em que ano a pessoa naceu? 1972\n",
            "Com 50 anos essa pessoa VOTA OPCIONALMENTE.\n",
            "\n",
            "FIM DO PROGRAMA\n"
          ]
        }
      ],
      "source": [
        "print('*'*75)\n",
        "print('Programa que tenha uma função que receba como parâmetro o ano de nascimento\\nde uma pessoa. A função deve retornar um valor literal, dizendo se\\na pessoa: não pode votar, o voto é opcional ou voto obrigatório')\n",
        "print('*'*75)\n",
        "\n",
        "\n",
        "def votoCidadao(ano):\n",
        "  from datetime import date\n",
        "  atual = date.today().year\n",
        "  idade = atual - ano\n",
        "  if idade < 16:\n",
        "    return f'Com {idade} anos essa pessoa NÃO VOTA.'\n",
        "  elif 16 <= idade <= 18 or idade > 18:\n",
        "    return f'Com {idade} anos essa pessoa VOTA OPCIONALMENTE.'\n",
        "  else:\n",
        "    return f'Com {idade} anos essa pessoa TEM O VOTO OBRIGATÓRIO.'\n",
        "\n",
        "nascimento = int(input('Em que ano a pessoa naceu? '))\n",
        "print(votoCidadao(nascimento))\n",
        "\n",
        "print()\n",
        "print('FIM DO PROGRAMA')\n",
        "\n"
      ]
    },
    {
      "cell_type": "markdown",
      "source": [
        "Código que tenha uma função que calcule o fatorial de um número que tenha dois parâmetros: num (tipo inteiro) e mostra (tipo lógico). Num será o fatorial a ser calculado e mostra exibirá ou não o calculado executado, de acordo com seu valor"
      ],
      "metadata": {
        "id": "xl5-_aiYv8Cq"
      }
    },
    {
      "cell_type": "code",
      "source": [
        "print('*'*73)\n",
        "print('Código que tenha uma função que calcule o fatorial de um número que tenha\\ndois parâmetros: num (tipo inteiro) e mostra (tipo lógico). Num será\\no fatorial a ser calculado e mostra exibirá ou não o calculado executado,\\nde acordo com seu valor')\n",
        "print('*'*73)\n",
        "\n",
        "def fatorial(n, mostra = False):\n",
        "\n",
        "  fat = 1\n",
        "\n",
        "  for c in range(n, 0, -1):\n",
        "    if mostra:\n",
        "      print(c, end=' ')\n",
        "      if c > 1:\n",
        "        print('X', end=' ')\n",
        "      else:\n",
        "        print('=', end=' ')\n",
        "\n",
        "    fat *= c\n",
        "\n",
        "  return fat\n",
        "\n",
        "num = int(input('Digite um número inteiro para o cálculo do fatorial: '))\n",
        "print(fatorial(num, mostra=True))\n",
        "#help(fatorial)\n",
        "\n",
        "print()\n",
        "print('FIM DO PROGRAMA')\n",
        "\n",
        "\n",
        "  "
      ],
      "metadata": {
        "colab": {
          "base_uri": "https://localhost:8080/"
        },
        "id": "berYrEBnp67M",
        "outputId": "144deeef-7b06-4ff2-b942-2e07203344d0"
      },
      "execution_count": null,
      "outputs": [
        {
          "output_type": "stream",
          "name": "stdout",
          "text": [
            "*************************************************************************\n",
            "Código que tenha uma função que calcule o fatorial de um número que tenha\n",
            "dois parâmetros: num (tipo inteiro) e mostra (tipo lógico). Num será\n",
            "o fatorial a ser calculado e mostra exibirá ou não o calculado executado,\n",
            "de acordo com seu valor\n",
            "*************************************************************************\n",
            "Digite um número inteiro para o cálculo do fatorial: 10\n",
            "10 X 9 X 8 X 7 X 6 X 5 X 4 X 3 X 2 X 1 = 3628800\n",
            "\n",
            "FIM DO PROGRAMA\n"
          ]
        }
      ]
    },
    {
      "cell_type": "markdown",
      "source": [
        "Código que tenha uma função que recebe dois parâmetros opcionais de um jogador. Caso os parâmetros não sejam passados, ele exibirá os valores mesmo assim"
      ],
      "metadata": {
        "id": "uH5R0qhu3xS7"
      }
    },
    {
      "cell_type": "code",
      "source": [
        "print('*'*70)\n",
        "print('Código que tenha uma função que recebe dois parâmetros opcionais de um\\njogador. Caso os parâmetros não sejam passados, ele exibirá os valores\\nmesmo assim')\n",
        "print('*'*70)\n",
        "\n",
        "\n",
        "def registro(jogador = 'não informado', gol = 0):\n",
        "  print()\n",
        "  print(f'O jogador {jogador} fez {gol} gol(s) ao longo do campeaonato!')\n",
        "\n",
        "n = str(input('Digite o nome do jogador: '))\n",
        "g = str(input('Número de gols: '))\n",
        "\n",
        "if g.isnumeric():\n",
        "  g = int(g)\n",
        "else:\n",
        "  g = 0\n",
        "\n",
        "if n.strip() == '':\n",
        "  registro(gol=g)\n",
        "else:\n",
        "  registro(n, g)\n",
        "\n",
        "print()\n",
        "print('FIM DO PROGRAMA')\n"
      ],
      "metadata": {
        "colab": {
          "base_uri": "https://localhost:8080/"
        },
        "id": "g0VjbSdcwmoW",
        "outputId": "3a0c5cb6-1250-4c99-9940-830a0da95d97"
      },
      "execution_count": null,
      "outputs": [
        {
          "output_type": "stream",
          "name": "stdout",
          "text": [
            "**********************************************************************\n",
            "Código que tenha uma função que recebe dois parâmetros opcionais de um\n",
            "jogador. Caso os parâmetros não sejam passados, ele exibirá os valores\n",
            "mesmo assim\n",
            "**********************************************************************\n",
            "Digite o nome do jogador: \n",
            "Número de gols: \n",
            "\n",
            "O jogador não informado fez 0 gol(s) ao longo do campeaonato!\n",
            "\n",
            "FIM DO PROGRAMA\n"
          ]
        }
      ]
    },
    {
      "cell_type": "markdown",
      "source": [
        "script que tenha uma função que exiba um número, mas fazendo uma validação para aceitar somente valor numérico e deve funcionar igual a função input."
      ],
      "metadata": {
        "id": "Smp8t2KP9ThR"
      }
    },
    {
      "cell_type": "code",
      "source": [
        "print('*'*74)\n",
        "print('Código que tenha uma função que exiba um número, mas fazendo uma validação\\npara aceitar somente valor numérico e deve funcionar igual a função input.')\n",
        "print('*'*74)\n",
        "\n",
        "\n",
        "\n",
        "def recebeSomente_numero(valida):\n",
        "  \n",
        "  ok = False\n",
        "  valor = 0\n",
        "\n",
        "  while True:\n",
        "    n = str(input(valida))\n",
        "    if n.isnumeric():\n",
        "      valor = int(n)\n",
        "      ok = True\n",
        "    else:\n",
        "      print('\\033[0;31mERRO! Digite um número inteiro válido. \\033[m')  #formatando cor do texto 033 é a cor vermelha\n",
        "    if ok:\n",
        "      break\n",
        "\n",
        "  return valor\n",
        "\n",
        "n = recebeSomente_numero('Digite um número inteiro: ')\n",
        "print(f'O número digitado foi: {n}')\n",
        "\n",
        "print()\n",
        "print('FIM DO PROGRAMA')\n",
        "\n"
      ],
      "metadata": {
        "colab": {
          "base_uri": "https://localhost:8080/"
        },
        "id": "KRiiO1ME4gP5",
        "outputId": "42678978-ee06-42ac-83a1-2d643d5b8a4f"
      },
      "execution_count": 14,
      "outputs": [
        {
          "output_type": "stream",
          "name": "stdout",
          "text": [
            "**************************************************************************\n",
            "Código que tenha uma função que exiba um número, mas fazendo uma validação\n",
            "para aceitar somente valor numérico e deve funcionar igual a função input.\n",
            "**************************************************************************\n",
            "Digite um número inteiro: 49.9\n",
            "\u001b[0;31mERRO! Digite um número inteiro válido. \u001b[m\n",
            "Digite um número inteiro: 49\n",
            "O número digitado foi: 49\n",
            "\n",
            "FIM DO PROGRAMA\n"
          ]
        }
      ]
    },
    {
      "cell_type": "markdown",
      "source": [
        "Código que tenha uma função que receba várias notas de alunos e vai retornar um dicionário que tenha: quantidade de notas, maior nota, menor nota, média da turma e situação da turma"
      ],
      "metadata": {
        "id": "b_zmvWyiyZbT"
      }
    },
    {
      "cell_type": "code",
      "source": [
        "print('*'*78)\n",
        "print('Programa que tenha uma função que receba várias notas de alunos e vai retornar\\num dicionário que tenha: quantidade de notas, maior nota, menor nota, \\nmédia da turma e situação da turma')\n",
        "print('*'*78)\n",
        "\n",
        "\n",
        "\n",
        "def notasAlunos(*n, sit=False):\n",
        "\n",
        "  r = dict()\n",
        "  r ['total'] = len(n)\n",
        "  r ['maior'] = max(n)\n",
        "  r ['menor'] = min(n)\n",
        "  r ['media'] = sum(n)/len(n)\n",
        "\n",
        "  if sit:\n",
        "    if r['media'] >= 7:\n",
        "      r ['situação'] = 'Aprovado - Exelente'\n",
        "    elif r['media'] >= 5:\n",
        "      r ['situação'] = 'Aprovado - Regular'\n",
        "    else:\n",
        "      r['situação'] = 'Reprovado - Ruim'\n",
        "\n",
        "  return r\n",
        "\n",
        "resp = notasAlunos(9.6, 9.1, 8.9, sit=True)\n",
        "print()\n",
        "print('O histórico do aluno é:')\n",
        "print()\n",
        "print(resp)"
      ],
      "metadata": {
        "id": "ZuoH7s-D96oL",
        "colab": {
          "base_uri": "https://localhost:8080/"
        },
        "outputId": "cb65db09-aa8d-4fe6-e092-33b8b344f73f"
      },
      "execution_count": 12,
      "outputs": [
        {
          "output_type": "stream",
          "name": "stdout",
          "text": [
            "******************************************************************************\n",
            "Programa que tenha uma função que receba várias notas de alunos e vai retornar\n",
            "um dicionário que tenha: quantidade de notas, maior nota, menor nota, \n",
            "média da turma e situação da turma\n",
            "******************************************************************************\n",
            "\n",
            "O histórico do aluno é:\n",
            "\n",
            "{'total': 3, 'maior': 9.6, 'menor': 8.9, 'media': 9.200000000000001, 'situação': 'Aprovado - Exelente'}\n"
          ]
        }
      ]
    },
    {
      "cell_type": "markdown",
      "source": [
        "Código minissistema que utilize o interactive help do Python. O usuário vai digitar o comando e o manual vai aparecer. Quando for digitado FIM o programa vai ser encerrado. Utilize cores."
      ],
      "metadata": {
        "id": "om9xEt4Vy7te"
      }
    },
    {
      "cell_type": "code",
      "source": [
        "print('*'*73)\n",
        "print('Programa minissistema que utilize o interactive help do Python. O usuário\\nvai digitar o comando e o manual vai aparecer. Quando for digitado FIM\\no programa vai ser encerrado. Utilize cores.')\n",
        "print('*'*73)\n",
        "\n",
        "cores = ('\\033[m',\n",
        "     '\\033[0;30;41m',\n",
        "     '\\033[0;30;42m',\n",
        "     '\\033[0;30;43m',\n",
        "     '\\033[0;30;44m',\n",
        "     '\\033[0;30;45m',\n",
        "     '\\033[7;30m'\n",
        "     );\n",
        "\n",
        "def tutorial(comandos):\n",
        "\n",
        "  titulo(f'Acessando o manual de comandos \\'{comandos}\\'', 4)\n",
        "  print(cores[6], end='')\n",
        "  help(comandos)\n",
        "  print(cores[0], end='')\n",
        "\n",
        "def titulo(mensagem, cor=0):\n",
        "\n",
        "  tamanho = len(mensagem) + 4\n",
        "  print(cores[cor], end='')\n",
        "  print('*'*tamanho)\n",
        "  print(f'    {mensagem}')\n",
        "  print('*'*tamanho)\n",
        "  print(cores[0], end='')\n",
        "\n",
        "comandos = ''\n",
        "while True:\n",
        "  titulo('Sistema de Ajuda de Comandos do Python', 2)\n",
        "  comando = str(input('Comando/Função ou Biblioteca -->'))\n",
        "  if comando == 'fim':\n",
        "    break\n",
        "  else:\n",
        "    tutorial(comando)\n",
        "\n",
        "titulo('FIM DO PROGRAMA', 1)"
      ],
      "metadata": {
        "id": "G_rs63aS3gz0",
        "colab": {
          "base_uri": "https://localhost:8080/"
        },
        "outputId": "816fec65-2dd6-4a95-da59-5e0f6b519433"
      },
      "execution_count": 23,
      "outputs": [
        {
          "output_type": "stream",
          "name": "stdout",
          "text": [
            "*************************************************************************\n",
            "Programa minissistema que utilize o interactive help do Python. O usuário\n",
            "vai digitar o comando e o manual vai aparecer. Quando for digitado FIM\n",
            "o programa vai ser encerrado. Utilize cores.\n",
            "*************************************************************************\n",
            "\u001b[0;30;42m******************************************\n",
            "    Sistema de Ajuda de Comandos do Python\n",
            "******************************************\n",
            "\u001b[mComando/Função ou Biblioteca -->help\n",
            "\u001b[0;30;44m*****************************************\n",
            "    Acessando o manual de comandos 'help'\n",
            "*****************************************\n",
            "\u001b[m\u001b[7;30mHelp on _Helper in module _sitebuiltins object:\n",
            "\n",
            "help = class _Helper(builtins.object)\n",
            " |  Define the builtin 'help'.\n",
            " |  \n",
            " |  This is a wrapper around pydoc.help that provides a helpful message\n",
            " |  when 'help' is typed at the Python interactive prompt.\n",
            " |  \n",
            " |  Calling help() at the Python prompt starts an interactive help session.\n",
            " |  Calling help(thing) prints help for the python object 'thing'.\n",
            " |  \n",
            " |  Methods defined here:\n",
            " |  \n",
            " |  __call__(self, *args, **kwds)\n",
            " |      Call self as a function.\n",
            " |  \n",
            " |  __repr__(self)\n",
            " |      Return repr(self).\n",
            " |  \n",
            " |  ----------------------------------------------------------------------\n",
            " |  Data descriptors defined here:\n",
            " |  \n",
            " |  __dict__\n",
            " |      dictionary for instance variables (if defined)\n",
            " |  \n",
            " |  __weakref__\n",
            " |      list of weak references to the object (if defined)\n",
            "\n",
            "\u001b[m\u001b[0;30;42m******************************************\n",
            "    Sistema de Ajuda de Comandos do Python\n",
            "******************************************\n",
            "\u001b[mComando/Função ou Biblioteca -->fim\n",
            "\u001b[0;30;41m*******************\n",
            "    FIM DO PROGRAMA\n",
            "*******************\n",
            "\u001b[m"
          ]
        }
      ]
    }
  ]
}