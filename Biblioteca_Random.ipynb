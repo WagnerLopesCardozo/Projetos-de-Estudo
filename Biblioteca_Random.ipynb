{
  "nbformat": 4,
  "nbformat_minor": 0,
  "metadata": {
    "colab": {
      "name": "Biblioteca_Random.ipynb",
      "provenance": [],
      "collapsed_sections": [],
      "authorship_tag": "ABX9TyM1WrYsXfVJE77guPHSaWE+",
      "include_colab_link": true
    },
    "kernelspec": {
      "name": "python3",
      "display_name": "Python 3"
    },
    "language_info": {
      "name": "python"
    }
  },
  "cells": [
    {
      "cell_type": "markdown",
      "metadata": {
        "id": "view-in-github",
        "colab_type": "text"
      },
      "source": [
        "<a href=\"https://colab.research.google.com/github/WagnerLopesCardozo/Projetos-de-Estudo-CD-FaTec-Ourinhos/blob/main/Biblioteca_Random.ipynb\" target=\"_parent\"><img src=\"https://colab.research.google.com/assets/colab-badge.svg\" alt=\"Open In Colab\"/></a>"
      ]
    },
    {
      "cell_type": "code",
      "metadata": {
        "colab": {
          "base_uri": "https://localhost:8080/"
        },
        "id": "w75Gx83c-Kn0",
        "outputId": "5805f1b8-b04b-4c64-e43a-28360d0ae59a"
      },
      "source": [
        "'''\n",
        "Código que escolhe um número aleatório em uma lista usando a biblioteca RADOM.\n",
        "'''\n",
        "\n",
        "import random\n",
        "\n",
        "n1 = input ('Digite o nome do 1º aluno: ')\n",
        "n2 = input ('Digite o nome do 2º aluno: ')\n",
        "n3 = input ('Digite o nome do 3º aluno: ')\n",
        "\n",
        "lista = [n1, n2, n3] # Lista em Python\n",
        "\n",
        "escolhido = {random.choice(lista)}\n",
        "\n",
        "print (f'A lista com o nome dos alunos é: ',(lista))\n",
        "print (f'O aluno escolhido é: ',(escolhido))"
      ],
      "execution_count": 1,
      "outputs": [
        {
          "output_type": "stream",
          "name": "stdout",
          "text": [
            "Digite o nome do 1º aluno: Wagner\n",
            "Digite o nome do 2º aluno: Marcos\n",
            "Digite o nome do 3º aluno: Jorge\n",
            "A lista com o nome dos alunos é:  ['Wagner', 'Marcos', 'Jorge']\n",
            "O aluno escolhido é:  {'Jorge'}\n"
          ]
        }
      ]
    },
    {
      "cell_type": "code",
      "metadata": {
        "colab": {
          "base_uri": "https://localhost:8080/"
        },
        "id": "Blmo2p0I-v_z",
        "outputId": "2b4cb259-f7ba-4d2b-fcf7-8b2055c72171"
      },
      "source": [
        "'''\n",
        "Código que escolhe um número aleatório em uma lista usando\n",
        "o comando CHOICE da biblioteca RADOM.\n",
        "'''\n",
        "\n",
        "from random import choice\n",
        "\n",
        "n1 = input ('Digite o nome do 1º aluno: ')\n",
        "n2 = input ('Digite o nome do 2º aluno: ')\n",
        "n3 = input ('Digite o nome do 3º aluno: ')\n",
        "\n",
        "lista = [n1, n2, n3] # Lista em Python\n",
        "\n",
        "escolhido = choice(lista)\n",
        "\n",
        "print (f'A lista com o nome dos alunos é: ',(lista))\n",
        "print (f'O aluno escolhido é: ',(escolhido))"
      ],
      "execution_count": 2,
      "outputs": [
        {
          "output_type": "stream",
          "name": "stdout",
          "text": [
            "Digite o nome do 1º aluno: Wagner\n",
            "Digite o nome do 2º aluno: Marcos\n",
            "Digite o nome do 3º aluno: Jorge\n",
            "A lista com o nome dos alunos é:  ['Wagner', 'Marcos', 'Jorge']\n",
            "O aluno escolhido é:  Wagner\n"
          ]
        }
      ]
    },
    {
      "cell_type": "code",
      "metadata": {
        "colab": {
          "base_uri": "https://localhost:8080/"
        },
        "id": "C-vricld_CZ-",
        "outputId": "8f158794-378a-43da-a47b-122cf582bcff"
      },
      "source": [
        "'''\n",
        "Código que embaralha a ordem de uma lista\n",
        "'''\n",
        "\n",
        "import random as rd\n",
        "\n",
        "n1 = input ('Digite o 1º nome: ')\n",
        "n2 = input ('Digite o 2º nome: ')\n",
        "n3 = input ('Digite o 3º nome: ')\n",
        "n4 = input ('Digite o 4º nome: ')\n",
        "\n",
        "lista = [n1, n2, n3, n4]\n",
        "\n",
        "print (f'A ordem dos alunos da lista é: {lista} ')\n",
        "rd.shuffle(lista)\n",
        "print (f'A ordem dos alunos de entrega dos trabalhos é: {lista}')"
      ],
      "execution_count": 3,
      "outputs": [
        {
          "output_type": "stream",
          "name": "stdout",
          "text": [
            "Digite o 1º nome: Wagner\n",
            "Digite o 2º nome: Marcos\n",
            "Digite o 3º nome: Jorge\n",
            "Digite o 4º nome: André\n",
            "A ordem dos alunos da lista é: ['Wagner', 'Marcos', 'Jorge', 'André'] \n",
            "A ordem dos alunos de entrega dos trabalhos é: ['André', 'Jorge', 'Wagner', 'Marcos']\n"
          ]
        }
      ]
    }
  ]
}