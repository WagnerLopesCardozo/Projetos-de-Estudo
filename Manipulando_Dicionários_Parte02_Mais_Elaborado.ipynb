{
  "nbformat": 4,
  "nbformat_minor": 0,
  "metadata": {
    "colab": {
      "name": "Manipulando_Dicionários_Parte02_Mais_Elaborado.ipynb",
      "provenance": [],
      "authorship_tag": "ABX9TyOKv8gRS0XsZYjqjRMWRiZF",
      "include_colab_link": true
    },
    "kernelspec": {
      "name": "python3",
      "display_name": "Python 3"
    },
    "language_info": {
      "name": "python"
    }
  },
  "cells": [
    {
      "cell_type": "markdown",
      "metadata": {
        "id": "view-in-github",
        "colab_type": "text"
      },
      "source": [
        "<a href=\"https://colab.research.google.com/github/WagnerLopesCardozo/Projetos-de-Estudo-CD-FaTec-Ourinhos/blob/main/Manipulando_Dicion%C3%A1rios_Parte02_Mais_Elaborado.ipynb\" target=\"_parent\"><img src=\"https://colab.research.google.com/assets/colab-badge.svg\" alt=\"Open In Colab\"/></a>"
      ]
    },
    {
      "cell_type": "markdown",
      "source": [
        "#Manipulando Dicionários Parte 02 - Mais Elaborado"
      ],
      "metadata": {
        "id": "JfFmzCmdCXYS"
      }
    },
    {
      "cell_type": "markdown",
      "source": [
        "Exercício 1 - Código que inseri uma lista num dicionário"
      ],
      "metadata": {
        "id": "VQym9EAcCh0e"
      }
    },
    {
      "cell_type": "code",
      "execution_count": null,
      "metadata": {
        "colab": {
          "base_uri": "https://localhost:8080/"
        },
        "id": "Dc1ePjRqCLAk",
        "outputId": "572c234d-abbd-43d8-ad7f-0ee74fa1be3a"
      },
      "outputs": [
        {
          "output_type": "stream",
          "name": "stdout",
          "text": [
            "-=-=-=-=-=-=-=-=-=-=-=-=-=-=-=-=-=-=-=-=-=-=-=\n",
            "Programa que inseri uma lista num dicionário.\n",
            "-=-=-=-=-=-=-=-=-=-=-=-=-=-=-=-=-=-=-=-=-=-=-=\n",
            "O dicioário de alunos e suas respectivas idade é: \n",
            "\n",
            "{0: 'aluno(a) - Wagner', 1: 49, 2: 'aluno(a) - Rose', 3: 39, 4: 'aluno(a) - Marink', 5: 28, 6: 'aluno(a) - André', 7: 25}\n",
            "\n",
            "FIM DO PROGRAMA\n"
          ]
        }
      ],
      "source": [
        "print('-='*23)\n",
        "print('Programa que inseri uma lista num dicionário.')\n",
        "print('-='*23)\n",
        "\n",
        "listaAlunos = ['aluno(a) - Wagner', 49,\n",
        "               'aluno(a) - Rose', 39,\n",
        "               'aluno(a) - Marink', 28,\n",
        "               'aluno(a) - André', 25]\n",
        "\n",
        "dic = {}\n",
        "\n",
        "for chave, elemento in enumerate(listaAlunos):\n",
        "  dic[chave] = elemento\n",
        "\n",
        "print('O dicioário de alunos e suas respectivas idade é: ')\n",
        "print()\n",
        "print(dic)\n",
        "print()\n",
        "print('FIM DO PROGRAMA')"
      ]
    },
    {
      "cell_type": "markdown",
      "source": [
        "Melhornado o exercício 1 - parte 1 (usando DICT e ZIP)"
      ],
      "metadata": {
        "id": "nhn3wzJ_MERJ"
      }
    },
    {
      "cell_type": "code",
      "source": [
        "print('-='*23)\n",
        "print('Programa que inseri uma lista num dicionário.')\n",
        "print('-='*23)\n",
        "\n",
        "chaveLista = ['aluno(a)', 'idade', 'média']\n",
        "valorLista = ['Wagner', 49, 10]\n",
        "\n",
        "listaparaDicionario = dict(zip(chaveLista, valorLista))\n",
        "print(listaparaDicionario)\n",
        "\n",
        "print()\n",
        "print('O dicioário de alunos e suas respectivas idade é: ')\n",
        "print()\n",
        "print('FIM DO PROGRAMA')"
      ],
      "metadata": {
        "colab": {
          "base_uri": "https://localhost:8080/"
        },
        "id": "lk8XraTwKC1Z",
        "outputId": "f3c00035-1551-4128-ed2d-d565cb83f5bf"
      },
      "execution_count": null,
      "outputs": [
        {
          "output_type": "stream",
          "name": "stdout",
          "text": [
            "-=-=-=-=-=-=-=-=-=-=-=-=-=-=-=-=-=-=-=-=-=-=-=\n",
            "Programa que inseri uma lista num dicionário.\n",
            "-=-=-=-=-=-=-=-=-=-=-=-=-=-=-=-=-=-=-=-=-=-=-=\n",
            "{'aluno(a)': 'Wagner', 'idade': 49, 'média': 10}\n",
            "\n",
            "O dicioário de alunos e suas respectivas idade é: \n",
            "\n",
            "FIM DO PROGRAMA\n"
          ]
        }
      ]
    },
    {
      "cell_type": "markdown",
      "source": [
        "Melhornado o exercício 1 - parte 2 (uando laço FOR)"
      ],
      "metadata": {
        "id": "eMSdnXPwPsad"
      }
    },
    {
      "cell_type": "code",
      "source": [
        "print('-='*23)\n",
        "print('Programa que inseri uma lista num dicionário.')\n",
        "print('-='*23)\n",
        "\n",
        "chave_Lista = ['aluno(a)', 'idade', 'média']\n",
        "valor_Lista = ['Wagner', 49, 10]\n",
        "\n",
        "listapara_Dicionario = {}\n",
        "\n",
        "for chave in chave_Lista:\n",
        "  \n",
        "  for valor in valor_Lista:\n",
        "    listapara_Dicionario[chave] = valor\n",
        "    valor_Lista.remove(valor)\n",
        "    break\n",
        "\n",
        "print('O dicioário de alunos e suas respectivas idade é: ')\n",
        "print()\n",
        "print(listapara_Dicionario)\n",
        "\n",
        "#print()\n",
        "#print('O dicioário de alunos e suas respectivas idade é: ')\n",
        "print()\n",
        "print('FIM DO PROGRAMA')"
      ],
      "metadata": {
        "colab": {
          "base_uri": "https://localhost:8080/"
        },
        "id": "bZ8laHTqNh02",
        "outputId": "e5effc58-5ccd-487c-9e54-a1b3fa4f1814"
      },
      "execution_count": null,
      "outputs": [
        {
          "output_type": "stream",
          "name": "stdout",
          "text": [
            "-=-=-=-=-=-=-=-=-=-=-=-=-=-=-=-=-=-=-=-=-=-=-=\n",
            "Programa que inseri uma lista num dicionário.\n",
            "-=-=-=-=-=-=-=-=-=-=-=-=-=-=-=-=-=-=-=-=-=-=-=\n",
            "O dicioário de alunos e suas respectivas idade é: \n",
            "\n",
            "{'aluno(a)': 'Wagner', 'idade': 49, 'média': 10}\n",
            "\n",
            "FIM DO PROGRAMA\n"
          ]
        }
      ]
    },
    {
      "cell_type": "markdown",
      "source": [
        "Exercício 2 - Código que inseri um dicionário numa lista"
      ],
      "metadata": {
        "id": "X9-EktN4ZKAE"
      }
    },
    {
      "cell_type": "markdown",
      "source": [
        "1ª forma - usando KEYS (exibindo as chaves)"
      ],
      "metadata": {
        "id": "kYwRY7RGZ9po"
      }
    },
    {
      "cell_type": "code",
      "source": [
        "print('-='*21)\n",
        "print('Programa que inseri um dicionário numa lista')\n",
        "print('-='*21)\n",
        "\n",
        "dicionarioAlunos = {1: 'Wagner', 2: 'Rose', 3: 'Marink', 4: 'André'}\n",
        "\n",
        "listaChaves = dicionarioAlunos.keys()\n",
        "\n",
        "listaChaves = list(listaChaves)\n",
        "\n",
        "print(listaChaves)\n",
        "print()\n",
        "for chave in listaChaves:\n",
        "  print(chave)\n",
        "\n",
        "print()\n",
        "print('FIM DO PROGRAMA')"
      ],
      "metadata": {
        "colab": {
          "base_uri": "https://localhost:8080/"
        },
        "id": "kNCxTw3sSFY9",
        "outputId": "537760e0-088f-4629-ea93-d4c40cae4a84"
      },
      "execution_count": 6,
      "outputs": [
        {
          "output_type": "stream",
          "name": "stdout",
          "text": [
            "-=-=-=-=-=-=-=-=-=-=-=-=-=-=-=-=-=-=-=-=-=\n",
            "Programa que inseri um dicionário numa lista\n",
            "-=-=-=-=-=-=-=-=-=-=-=-=-=-=-=-=-=-=-=-=-=\n",
            "[1, 2, 3, 4]\n",
            "\n",
            "1\n",
            "2\n",
            "3\n",
            "4\n",
            "\n",
            "FIM DO PROGRAMA\n"
          ]
        }
      ]
    },
    {
      "cell_type": "markdown",
      "source": [
        "2ª forma - usando VALUES (exibindo os valores)"
      ],
      "metadata": {
        "id": "TFfuCNcnc4lV"
      }
    },
    {
      "cell_type": "code",
      "source": [
        "print('-='*21)\n",
        "print('Programa que inseri um dicionário numa lista')\n",
        "print('-='*21)\n",
        "\n",
        "dicionarioAlunos = {1: 'Wagner', 2: 'Rose', 3: 'Marink', 4: 'André'}\n",
        "\n",
        "listaValores = dicionarioAlunos.values()\n",
        "\n",
        "listaValores = list(listaValores)\n",
        "\n",
        "print(listaValores)\n",
        "\n",
        "print()\n",
        "for valores in listaValores:\n",
        "  print(valores)\n",
        "\n",
        "print()\n",
        "print('FIM DO PROGRAMA')"
      ],
      "metadata": {
        "colab": {
          "base_uri": "https://localhost:8080/"
        },
        "id": "9C7bIjsQbyfo",
        "outputId": "f5f0f019-36c7-4f6a-c6b8-44dc86107960"
      },
      "execution_count": 7,
      "outputs": [
        {
          "output_type": "stream",
          "name": "stdout",
          "text": [
            "-=-=-=-=-=-=-=-=-=-=-=-=-=-=-=-=-=-=-=-=-=\n",
            "Programa que inseri um dicionário numa lista\n",
            "-=-=-=-=-=-=-=-=-=-=-=-=-=-=-=-=-=-=-=-=-=\n",
            "['Wagner', 'Rose', 'Marink', 'André']\n",
            "\n",
            "Wagner\n",
            "Rose\n",
            "Marink\n",
            "André\n",
            "\n",
            "FIM DO PROGRAMA\n"
          ]
        }
      ]
    },
    {
      "cell_type": "markdown",
      "source": [
        "  3ª forma - inserindo um dicionário numa lista - usando ITEMS (exibindo chaves e valores)"
      ],
      "metadata": {
        "id": "6GiPMoWvdPh5"
      }
    },
    {
      "cell_type": "code",
      "source": [
        "print('-='*21)\n",
        "print('Programa que inseri um dicionário numa lista')\n",
        "print('-='*21)\n",
        "\n",
        "dicionarioAlunos = {1: 'Wagner', 2: 'Rose', 3: 'Marink', 4: 'André'}\n",
        "\n",
        "todaLista = dicionarioAlunos.items()\n",
        "\n",
        "todaLista = list(todaLista)\n",
        "\n",
        "print(todaLista)\n",
        "\n",
        "print()\n",
        "for chave, valores in todaLista:\n",
        "  print(chave, valores)\n",
        "\n",
        "print()\n",
        "print('FIM DO PROGRAMA')"
      ],
      "metadata": {
        "colab": {
          "base_uri": "https://localhost:8080/"
        },
        "id": "hlj0Z8eOcq8R",
        "outputId": "fef87fea-0045-46a1-871e-33dadac8045a"
      },
      "execution_count": 8,
      "outputs": [
        {
          "output_type": "stream",
          "name": "stdout",
          "text": [
            "-=-=-=-=-=-=-=-=-=-=-=-=-=-=-=-=-=-=-=-=-=\n",
            "Programa que inseri um dicionário numa lista\n",
            "-=-=-=-=-=-=-=-=-=-=-=-=-=-=-=-=-=-=-=-=-=\n",
            "[(1, 'Wagner'), (2, 'Rose'), (3, 'Marink'), (4, 'André')]\n",
            "\n",
            "1 Wagner\n",
            "2 Rose\n",
            "3 Marink\n",
            "4 André\n",
            "\n",
            "FIM DO PROGRAMA\n"
          ]
        }
      ]
    },
    {
      "cell_type": "markdown",
      "source": [
        "4ª forma - inserindo um dicionário numa lista - usando ZIP (exibindo chaves e valores)"
      ],
      "metadata": {
        "id": "yENLqhA5fWxM"
      }
    },
    {
      "cell_type": "code",
      "source": [
        "print('-='*21)\n",
        "print('Programa que inseri um dicionário numa lista')\n",
        "print('-='*21)\n",
        "\n",
        "dicionarioAlunos = {1: 'Wagner', 2: 'Rose', 3: 'Marink', 4: 'André'}\n",
        "\n",
        "todaLista = zip(dicionarioAlunos.keys(), dicionarioAlunos.values())\n",
        "\n",
        "todaLista = list(todaLista)\n",
        "\n",
        "print(todaLista)\n",
        "\n",
        "print()\n",
        "for chave, valores in todaLista:\n",
        "  print(chave, valores)\n",
        "\n",
        "print()\n",
        "print('FIM DO PROGRAMA')"
      ],
      "metadata": {
        "colab": {
          "base_uri": "https://localhost:8080/"
        },
        "id": "tRTmQx2sfWG5",
        "outputId": "ffa22593-bfbf-4e47-965e-dbda26022a01"
      },
      "execution_count": 9,
      "outputs": [
        {
          "output_type": "stream",
          "name": "stdout",
          "text": [
            "-=-=-=-=-=-=-=-=-=-=-=-=-=-=-=-=-=-=-=-=-=\n",
            "Programa que inseri um dicionário numa lista\n",
            "-=-=-=-=-=-=-=-=-=-=-=-=-=-=-=-=-=-=-=-=-=\n",
            "[(1, 'Wagner'), (2, 'Rose'), (3, 'Marink'), (4, 'André')]\n",
            "\n",
            "1 Wagner\n",
            "2 Rose\n",
            "3 Marink\n",
            "4 André\n",
            "\n",
            "FIM DO PROGRAMA\n"
          ]
        }
      ]
    },
    {
      "cell_type": "markdown",
      "source": [
        "Exercício 3 - Código que mostra os itens de maior e menor valor em um dicionário"
      ],
      "metadata": {
        "id": "A_ki04VjmLcN"
      }
    },
    {
      "cell_type": "code",
      "source": [
        "print('-='*33)\n",
        "print('Programa que mostra os itens de maior e menor valor em um dicionário')\n",
        "print('-='*33)\n",
        "\n",
        "produtoPreço = {'geladeira': 3800,\n",
        "                'fogão': 1900,\n",
        "                'máquina de lavar roupa': 2700,\n",
        "                'freezer': 3400,\n",
        "                'microondas': 890,\n",
        "                'máquina de lavar louças': 2900}\n",
        "\n",
        "produto_menorValor = min(produtoPreço, key = produtoPreço.get)\n",
        "print('O eletrodoméstico de menor valor é: ')\n",
        "print()\n",
        "print(produto_menorValor)\n",
        "print()\n",
        "produto_maiorValor = max(produtoPreço, key = produtoPreço.get)\n",
        "print('O eletrodoméstico de maior valor é: ')\n",
        "print()\n",
        "print(produto_maiorValor)\n",
        "\n",
        "print()\n",
        "print('FIM DO PROGRAMA')"
      ],
      "metadata": {
        "colab": {
          "base_uri": "https://localhost:8080/"
        },
        "id": "h8Ats97-mJi_",
        "outputId": "5b0cb284-900c-43e2-ec29-0838d077286e"
      },
      "execution_count": 10,
      "outputs": [
        {
          "output_type": "stream",
          "name": "stdout",
          "text": [
            "-=-=-=-=-=-=-=-=-=-=-=-=-=-=-=-=-=-=-=-=-=-=-=-=-=-=-=-=-=-=-=-=-=\n",
            "Programa que mostra os itens de maior e menor valor em um dicionário\n",
            "-=-=-=-=-=-=-=-=-=-=-=-=-=-=-=-=-=-=-=-=-=-=-=-=-=-=-=-=-=-=-=-=-=\n",
            "O eletrodoméstico de menor valor é: \n",
            "\n",
            "microondas\n",
            "\n",
            "O eletrodoméstico de maior valor é: \n",
            "\n",
            "geladeira\n",
            "\n",
            "FIM DO PROGRAMA\n"
          ]
        }
      ]
    },
    {
      "cell_type": "markdown",
      "source": [
        "Exercício 4 - Código que remove valores duplidados de um dicionário"
      ],
      "metadata": {
        "id": "bTNdb4rU3Ptc"
      }
    },
    {
      "cell_type": "code",
      "source": [
        "print('-='*28)\n",
        "print('Programa que remove valores duplidados de um dicionário')\n",
        "print('-='*28)\n",
        "\n",
        "dicionarioAlunosCD = {'Wagner' : 10,\n",
        "             'Rose' : 15,\n",
        "             'Marink' : 20,\n",
        "             'André' : 17,\n",
        "             'Tutia' : 19,\n",
        "             'Rose Prado': 15,\n",
        "             'Rogério Marink': 20,\n",
        "             'Marcelo Tutia': 19,\n",
        "             'Wagner Cardozo': 10,\n",
        "             'André Orlandi': 17} \n",
        "\n",
        "print('O dicionário com valores duplicados é:')\n",
        "print()\n",
        "print((dicionarioAlunosCD)) \n",
        "print()\n",
        "\n",
        "lista = [] \n",
        "\n",
        "dicionario_semDuplicata = dict() \n",
        "\n",
        "for chave, valor in dicionarioAlunosCD.items(): \n",
        "    if valor not in lista: \n",
        "        lista.append(valor) \n",
        "        dicionario_semDuplicata[chave] = valor \n",
        "print('O dicionário sem valores duplicados é: ')     \n",
        "print()   \n",
        "print((dicionario_semDuplicata))\n",
        "\n",
        "print()\n",
        "print('FIM DO PROGRAMA')"
      ],
      "metadata": {
        "id": "tIQ3Bz4H3CVu",
        "colab": {
          "base_uri": "https://localhost:8080/"
        },
        "outputId": "adb7abd1-cc0a-42bc-9650-acb5288fb287"
      },
      "execution_count": 25,
      "outputs": [
        {
          "output_type": "stream",
          "name": "stdout",
          "text": [
            "-=-=-=-=-=-=-=-=-=-=-=-=-=-=-=-=-=-=-=-=-=-=-=-=-=-=-=-=\n",
            "Programa que remove valores duplidados de um dicionário\n",
            "-=-=-=-=-=-=-=-=-=-=-=-=-=-=-=-=-=-=-=-=-=-=-=-=-=-=-=-=\n",
            "O dicionário com valores duplicados é:\n",
            "\n",
            "{'Wagner': 10, 'Rose': 15, 'Marink': 20, 'André': 17, 'Tutia': 19, 'Rose Prado': 15, 'Rogério Marink': 20, 'Marcelo Tutia': 19, 'Wagner Cardozo': 10, 'André Orlandi': 17}\n",
            "\n",
            "O dicionário sem valores duplicados é: \n",
            "\n",
            "{'Wagner': 10, 'Rose': 15, 'Marink': 20, 'André': 17, 'Tutia': 19}\n",
            "\n",
            "FIM DO PROGRAMA\n"
          ]
        }
      ]
    },
    {
      "cell_type": "markdown",
      "source": [
        "Exercício 5 - Código que ordena os dados de um dicionário"
      ],
      "metadata": {
        "id": "rjVyps0NH4Lb"
      }
    },
    {
      "cell_type": "markdown",
      "source": [
        "1ª Forma - Pela ordem alfabética da primeira letra da chave"
      ],
      "metadata": {
        "id": "COC97GsrJO4v"
      }
    },
    {
      "cell_type": "code",
      "source": [
        "print('-='*23)\n",
        "print('Programa que ordena os dados de um dicionário')\n",
        "print('-='*23)\n",
        "\n",
        "dicionarioAlunos_CD = {'Wagner':2,\n",
        "                       'rose':3,\n",
        "                       'Marink':1,\n",
        "                       'André:': 4,\n",
        "                       'Tutia': 5,\n",
        "                       'Marcela': 6} #ordenado de acordo com a primeira letra de cada chave, ordem alfabética\n",
        "\n",
        "print('O dicionário de alunos CD em ordem alfabética é: ')\n",
        "print()\n",
        "print(sorted(dicionarioAlunos_CD))  \n",
        "\n",
        "print()\n",
        "print('FIM DO PROGRAMA')"
      ],
      "metadata": {
        "colab": {
          "base_uri": "https://localhost:8080/"
        },
        "id": "60I4zFhAH3Ij",
        "outputId": "8bb92b1c-a8a6-463e-9b32-864f33589e66"
      },
      "execution_count": 31,
      "outputs": [
        {
          "output_type": "stream",
          "name": "stdout",
          "text": [
            "-=-=-=-=-=-=-=-=-=-=-=-=-=-=-=-=-=-=-=-=-=-=-=\n",
            "Programa que ordena os dados de um dicionário\n",
            "-=-=-=-=-=-=-=-=-=-=-=-=-=-=-=-=-=-=-=-=-=-=-=\n",
            "O dicionário de alunos CD em ordem alfabética é: \n",
            "\n",
            "['André:', 'Marcela', 'Marink', 'Tutia', 'Wagner', 'rose']\n",
            "\n",
            "FIM DO PROGRAMA\n"
          ]
        }
      ]
    },
    {
      "cell_type": "markdown",
      "source": [
        "2ª Forma - Pelos Valores de cada chave (crescente)"
      ],
      "metadata": {
        "id": "_SpdMtkFLN15"
      }
    },
    {
      "cell_type": "code",
      "source": [
        "print('-='*23)\n",
        "print('Programa que ordena os dados de um dicionário')\n",
        "print('-='*23)\n",
        "\n",
        "dicionario_AlunosCD_fatec = {'Wagner':2,\n",
        "                             'Rose':3,\n",
        "                             'Marink':1,\n",
        "                             'André': 4,\n",
        "                             'Tutia': 5,\n",
        "                             'Marcela': 6} #pelos valores de forma crescente\n",
        "\n",
        "for i in sorted(dicionario_AlunosCD_fatec, key = dicionario_AlunosCD_fatec.get):\n",
        "    print(i, dicionario_AlunosCD_fatec[i])\n",
        "\n",
        "print()\n",
        "print('FIM DO PROGRAMA')\n",
        "\n"
      ],
      "metadata": {
        "colab": {
          "base_uri": "https://localhost:8080/"
        },
        "id": "np8gYt4fLBgp",
        "outputId": "20f1b8fb-37aa-469e-f6e8-dd3c8f9f859d"
      },
      "execution_count": 34,
      "outputs": [
        {
          "output_type": "stream",
          "name": "stdout",
          "text": [
            "-=-=-=-=-=-=-=-=-=-=-=-=-=-=-=-=-=-=-=-=-=-=-=\n",
            "Programa que ordena os dados de um dicionário\n",
            "-=-=-=-=-=-=-=-=-=-=-=-=-=-=-=-=-=-=-=-=-=-=-=\n",
            "Marink 1\n",
            "Wagner 2\n",
            "Rose 3\n",
            "André 4\n",
            "Tutia 5\n",
            "Marcela 6\n",
            "\n",
            "FIM DO PROGRAMA\n"
          ]
        }
      ]
    },
    {
      "cell_type": "markdown",
      "source": [
        "3ª Forma - Pelos valores de cada chave (decrescente)"
      ],
      "metadata": {
        "id": "bko6bUntM-P7"
      }
    },
    {
      "cell_type": "code",
      "source": [
        "print('-='*23)\n",
        "print('Programa que ordena os dados de um dicionário')\n",
        "print('-='*23)\n",
        "\n",
        "dicAlunosCD = {'Wagner':2,\n",
        "               'Rose':3,\n",
        "               'Marink':1,\n",
        "               'Marcela': 4,\n",
        "               'André': 5,\n",
        "               'Tutia': 6} #pelos valores de forma decrescente\n",
        "\n",
        "for i in sorted(dicAlunosCD, key = dicAlunosCD.get, reverse=True):\n",
        "    print(i, dicAlunosCD[i])\n",
        "\n",
        "print()\n",
        "print('FIM DO PROGRAMA')\n",
        "\n"
      ],
      "metadata": {
        "colab": {
          "base_uri": "https://localhost:8080/"
        },
        "id": "cJax9soNM8bP",
        "outputId": "cad0cd00-e538-4c53-f4a6-84314fdf0ced"
      },
      "execution_count": 37,
      "outputs": [
        {
          "output_type": "stream",
          "name": "stdout",
          "text": [
            "-=-=-=-=-=-=-=-=-=-=-=-=-=-=-=-=-=-=-=-=-=-=-=\n",
            "Programa que ordena os dados de um dicionário\n",
            "-=-=-=-=-=-=-=-=-=-=-=-=-=-=-=-=-=-=-=-=-=-=-=\n",
            "Tutia 6\n",
            "André 5\n",
            "Marcela 4\n",
            "Rose 3\n",
            "Wagner 2\n",
            "Marink 1\n",
            "\n",
            "FIM DO PROGRAMA\n"
          ]
        }
      ]
    },
    {
      "cell_type": "markdown",
      "source": [
        "Exercício 6 - Código que armazena um dicionário num arquivo JSON"
      ],
      "metadata": {
        "id": "7Z4k9ZazPuMw"
      }
    },
    {
      "cell_type": "markdown",
      "source": [
        "1ª Forma - Usando a biblioteca PICKLE e o comando DUMP"
      ],
      "metadata": {
        "id": "xjNwv2AMQBJw"
      }
    },
    {
      "cell_type": "code",
      "source": [
        "print('-='*26)\n",
        "print('Código que armazena um dicionário num arquivo JSON')\n",
        "print('-='*26)\n",
        "\n",
        "import pickle\n",
        "\n",
        "dic_CD_Alunos = { 1: 'Wagner',\n",
        "                 2: 'Rose',\n",
        "                 3: 'Marink',\n",
        "                 4: 'Marcela',\n",
        "                 5: 'André',\n",
        "                 6: 'Tutia'}\n",
        "                 \n",
        "with open('alunos_curso_CD.json', 'wb') as fp:\n",
        "    pickle.dump(dic_CD_Alunos, fp)\n",
        "\n",
        "with open('alunos_curso_CD.json', 'rb') as fp:\n",
        "    dados = pickle.load(fp)\n",
        "\n",
        "print('O conteúdo do arquivo .JSON é: ')\n",
        "\n",
        "print()\n",
        "print(dados)\n",
        "print(type(dados))\n",
        "\n",
        "print()\n",
        "print('FIM DO PROGRAMA')"
      ],
      "metadata": {
        "colab": {
          "base_uri": "https://localhost:8080/"
        },
        "id": "CtE9E0DnOUyJ",
        "outputId": "9ebf4015-7187-4627-9042-300b98457744"
      },
      "execution_count": 52,
      "outputs": [
        {
          "output_type": "stream",
          "name": "stdout",
          "text": [
            "-=-=-=-=-=-=-=-=-=-=-=-=-=-=-=-=-=-=-=-=-=-=-=-=-=-=\n",
            "Código que armazena um dicionário num arquivo JSON\n",
            "-=-=-=-=-=-=-=-=-=-=-=-=-=-=-=-=-=-=-=-=-=-=-=-=-=-=\n",
            "O conteúdo do arquivo .JSON é: \n",
            "\n",
            "{1: 'Wagner', 2: 'Rose', 3: 'Marink', 4: 'Marcela', 5: 'André', 6: 'Tutia'}\n",
            "<class 'dict'>\n",
            "\n",
            "FIM DO PROGRAMA\n"
          ]
        }
      ]
    },
    {
      "cell_type": "markdown",
      "source": [
        "2ª Forma - Usando a biblioteca JSON e os comando DUMP e LOAD"
      ],
      "metadata": {
        "id": "YtN81TonQfDw"
      }
    },
    {
      "cell_type": "code",
      "source": [
        "print('-='*26)\n",
        "print('Código que armazena um dicionário num arquivo JSON')\n",
        "print('-='*26)\n",
        "\n",
        "import json\n",
        "\n",
        "my_dict = {1: 'Rose Prado',\n",
        "           2: 'Rogério Marink',\n",
        "           3: 'Marcela',\n",
        "           4: 'Marcelo Tutia',\n",
        "           5: 'Wagner Cardozo',\n",
        "           6: 'André Orlandi'}\n",
        "           \n",
        "with open('data.json', 'w') as fp:\n",
        "    json.dump(my_dict, fp)\n",
        "\n",
        "with open('data.json', 'r') as fp:\n",
        "    data = json.load(fp)\n",
        "\n",
        "print('O conteúdo do arquivo .JSON é: ')\n",
        "\n",
        "print()\n",
        "print(data)\n",
        "print(type(data))\n",
        "\n",
        "print()\n",
        "print('FIM DO PROGRAMA')"
      ],
      "metadata": {
        "colab": {
          "base_uri": "https://localhost:8080/"
        },
        "id": "9TkhJjieQOSO",
        "outputId": "6af55d7c-1750-44d7-c663-d04f219eaa04"
      },
      "execution_count": 53,
      "outputs": [
        {
          "output_type": "stream",
          "name": "stdout",
          "text": [
            "-=-=-=-=-=-=-=-=-=-=-=-=-=-=-=-=-=-=-=-=-=-=-=-=-=-=\n",
            "Código que armazena um dicionário num arquivo JSON\n",
            "-=-=-=-=-=-=-=-=-=-=-=-=-=-=-=-=-=-=-=-=-=-=-=-=-=-=\n",
            "O conteúdo do arquivo .JSON é: \n",
            "\n",
            "{'1': 'Rose Prado', '2': 'Rogério Marink', '3': 'Marcela', '4': 'Marcelo Tutia', '5': 'Wagner Cardozo', '6': 'André Orlandi'}\n",
            "<class 'dict'>\n",
            "\n",
            "FIM DO PROGRAMA\n"
          ]
        }
      ]
    },
    {
      "cell_type": "markdown",
      "source": [
        "#Anexos:"
      ],
      "metadata": {
        "id": "cUg4QhpQVMvA"
      }
    },
    {
      "cell_type": "markdown",
      "source": [
        "##Aplicações:"
      ],
      "metadata": {
        "id": "gJ__XA6zWZ4H"
      }
    },
    {
      "cell_type": "markdown",
      "source": [
        "Código que une dois dicionários de produtos e seus respectivos preços por kilo de um Hortifruti"
      ],
      "metadata": {
        "id": "_Yj19Rz5WgSS"
      }
    },
    {
      "cell_type": "code",
      "source": [
        "print('-='*24)\n",
        "print('Programa que une dois dicionários de um Hortifruti')\n",
        "print('-='*24)\n",
        "\n",
        "organicosOurinhos = []\n",
        "frutas = {\n",
        "            'pera': 4.89,\n",
        "            'tomate': 13.29, \n",
        "            'uva': 2.49, \n",
        "            'maçã':5.59, \n",
        "            'abacaxi': 2.55,\n",
        "            'melancia': 2.79,\n",
        "            'manga espada': 5.39,\n",
        "            'pêsego': 5.29,\n",
        "            'morango': 6.99,\n",
        "            'figo': 7.49,\n",
        "            'bana': 2.29\n",
        "            }\n",
        "organicosOurinhos.append(frutas)\n",
        "\n",
        "legumes = {\n",
        "            'cenoura': 3.49,\n",
        "            'alface': 1.50,\n",
        "            'giló': 3.49,\n",
        "            'inhãme': 3.89,\n",
        "            'abóbora': 4.69,\n",
        "            'quiabo': 3.29,\n",
        "            'aimpim': 3.19,\n",
        "            'batata doce': 5.19,\n",
        "            'batata inglêsa': 3.99,\n",
        "            'beringela': 4.59\n",
        "            }\n",
        "organicosOurinhos.append(legumes)\n",
        "\n",
        "for compra in organicosOurinhos:\n",
        "    for k, v in compra.items():\n",
        "        print(k +\": \" +str(v))\n",
        "\n",
        "print()\n",
        "print('FIM DO PROGRAMA')\n",
        "\n"
      ],
      "metadata": {
        "colab": {
          "base_uri": "https://localhost:8080/"
        },
        "id": "JoCU9CaTg3tX",
        "outputId": "16a85d1f-af58-4cad-a260-11edb2156e55"
      },
      "execution_count": 73,
      "outputs": [
        {
          "output_type": "stream",
          "name": "stdout",
          "text": [
            "-=-=-=-=-=-=-=-=-=-=-=-=-=-=-=-=-=-=-=-=-=-=-=-=\n",
            "Programa que une dois dicionários de um Hortifruti\n",
            "-=-=-=-=-=-=-=-=-=-=-=-=-=-=-=-=-=-=-=-=-=-=-=-=\n",
            "pera: 4.89\n",
            "tomate: 13.29\n",
            "uva: 2.49\n",
            "maçã: 5.59\n",
            "abacaxi: 2.55\n",
            "melancia: 2.79\n",
            "manga espada: 5.39\n",
            "pêsego: 5.29\n",
            "morango: 6.99\n",
            "figo: 7.49\n",
            "bana: 2.29\n",
            "cenoura: 3.49\n",
            "alface: 1.5\n",
            "giló: 3.49\n",
            "inhãme: 3.89\n",
            "abóbora: 4.69\n",
            "quiabo: 3.29\n",
            "aimpim: 3.19\n",
            "batata doce: 5.19\n",
            "batata inglêsa: 3.99\n",
            "beringela: 4.59\n",
            "\n",
            "FIM DO PROGRAMA\n"
          ]
        }
      ]
    }
  ]
}