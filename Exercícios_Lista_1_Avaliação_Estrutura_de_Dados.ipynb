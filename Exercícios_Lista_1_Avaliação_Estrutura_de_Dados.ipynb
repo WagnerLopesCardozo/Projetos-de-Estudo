{
  "nbformat": 4,
  "nbformat_minor": 0,
  "metadata": {
    "colab": {
      "name": "Exercícios_Lista_1_Avaliação_Estrutura_de_Dados.ipynb",
      "provenance": [],
      "authorship_tag": "ABX9TyOCr891qzBrXBvgRhBR732/",
      "include_colab_link": true
    },
    "kernelspec": {
      "name": "python3",
      "display_name": "Python 3"
    },
    "language_info": {
      "name": "python"
    }
  },
  "cells": [
    {
      "cell_type": "markdown",
      "metadata": {
        "id": "view-in-github",
        "colab_type": "text"
      },
      "source": [
        "<a href=\"https://colab.research.google.com/github/WagnerLopesCardozo/Projetos-de-Estudo-CD-FaTec-Ourinhos/blob/main/Exerc%C3%ADcios_Lista_1_Avalia%C3%A7%C3%A3o_Estrutura_de_Dados.ipynb\" target=\"_parent\"><img src=\"https://colab.research.google.com/assets/colab-badge.svg\" alt=\"Open In Colab\"/></a>"
      ]
    },
    {
      "cell_type": "markdown",
      "source": [
        "Código que em um função recebe as 3 notas de um aluno por parâmetro e uma letra. Se a letra for A o função calcula a média aritmética das notas\n",
        "do aluno, se for P, a sua média ponderada (pesos: 5, 3 e 2) e se for H, a sua média harmônica.\n",
        "A média calculada também deve retornar por parâmetro"
      ],
      "metadata": {
        "id": "j2645q4P8lT8"
      }
    },
    {
      "cell_type": "code",
      "execution_count": 3,
      "metadata": {
        "id": "AlHtfbYs8kTy",
        "colab": {
          "base_uri": "https://localhost:8080/"
        },
        "outputId": "6f5ebb43-f3c3-4a10-e7b3-4b1dca2d549d"
      },
      "outputs": [
        {
          "output_type": "stream",
          "name": "stdout",
          "text": [
            "***************************************************************************************************************\n",
            "Programa que calcula a média aritimética, ponderada ou harmonica das notas de um aluno conforme escolha do manu\n",
            "***************************************************************************************************************\n",
            "Digite a 1ª nota do aluno: 8.9\n",
            "Digite a 2ª nota do aluno: 9.5\n",
            "Digite a 3ª nota do aluno: 7.4\n",
            "Digite 1 para média ARITIMÉTICA, 2 para média PONDERADA ou 3 para média HARMôNICA: 1\n",
            "8.6\n",
            "FIM DO PROGRAMA\n"
          ]
        }
      ],
      "source": [
        "print('*' * 111)\n",
        "print('Programa que calcula a média aritimética, ponderada ou harmonica das notas de um aluno conforme escolha do manu')\n",
        "print('*' * 111)\n",
        "\n",
        "n1 = float(input('Digite a 1ª nota do aluno: '))\n",
        "n2 = float(input('Digite a 2ª nota do aluno: '))\n",
        "n3 = float(input('Digite a 3ª nota do aluno: '))\n",
        "\n",
        "media = str(input('Digite 1 para média ARITIMÉTICA, 2 para média PONDERADA ou 3 para média HARMôNICA: '))\n",
        "\n",
        "def aluno(nota1,nota2,nota3,media):\n",
        "    if media == '1':\n",
        "        parametro = (nota1 + nota2 +nota3)/3\n",
        "\n",
        "    if media == '2':\n",
        "        parametro = (nota1 * 5 + nota2 * 3 + nota3 * 2)/10\n",
        "\n",
        "    elif media == '3':\n",
        "        parametro = ((1/nota1) + (1/nota2) + (1/nota3))/3\n",
        "\n",
        "    return parametro\n",
        "\n",
        "\n",
        "print (aluno(n1,n2,n3,media))\n",
        "print ('FIM DO PROGRAMA')"
      ]
    },
    {
      "cell_type": "markdown",
      "source": [
        "Código que recebe a idade de um nadador por parâmetro em uma função e retorne a categoria desse nadador de acordo com a tabela abaixo:\n",
        "\n",
        "Idade                           Categoria\n",
        "5 a 7 anos                      Infantil A\n",
        "8 a 10 anos                     Infantil B\n",
        "11-13 anos                      Juvenil A\n",
        "14-17 anos                      Juvenil B\n",
        "Maiores de 18 anos (inclusive)  Adulto"
      ],
      "metadata": {
        "id": "JTpEDDBe9Bva"
      }
    },
    {
      "cell_type": "code",
      "source": [
        "print('=' * 131)\n",
        "print('Programa que recebe a idade de um nadador por parâmetro em uma função e retorne a categoria desse nadador de acordo com classificação')\n",
        "print('=' * 131)\n",
        "\n",
        "idade = int(input('Digite a sua idade: '))\n",
        "\n",
        "def nadador(idade):\n",
        "    if 5 <= idade <= 7:\n",
        "        categoria = 'infantil A'\n",
        "    if 8 <= idade <= 10:\n",
        "        categoria = 'infantil B'\n",
        "    if 11 <= idade <= 13:\n",
        "        categoria = 'juvenil A'\n",
        "    if 14 <= idade <= 17:\n",
        "        categoria = 'juvenil B'\n",
        "    elif idade >= 18:\n",
        "        categoria = 'Maiores de 18 anos (inclusive) - Adultos'\n",
        "\n",
        "    return categoria\n",
        "\n",
        "print (nadador(idade))\n",
        "print ('FIM DO PROGRAMA')"
      ],
      "metadata": {
        "colab": {
          "base_uri": "https://localhost:8080/"
        },
        "id": "bwl1wLIf89q8",
        "outputId": "960066eb-f95e-4ef8-9531-35be7aaae14c"
      },
      "execution_count": null,
      "outputs": [
        {
          "output_type": "stream",
          "name": "stdout",
          "text": [
            "===================================================================================================================================\n",
            "Programa que recebe a idade de um nadador por parâmetro em uma função e retorne a categoria desse nadador de acordo com classificação\n",
            "===================================================================================================================================\n",
            "Digite a sua idade: 49\n",
            "Maiores de 18 anos (inclusive) - Adultos\n",
            "FIM DO PROGRAMA\n"
          ]
        }
      ]
    },
    {
      "cell_type": "markdown",
      "source": [
        "Código que recebe a média final de um aluno por parâmetro em uma função e retorna o seu conceito, conforme a tabela abaixo:\n",
        "Nota                 Conceito\n",
        "de 0,0 a 4,9            D\n",
        "de 5,0 a 6,9            C\n",
        "de 7,0 a 8,9            B\n",
        "de 9,0 a 10,0           A"
      ],
      "metadata": {
        "id": "-IkHXUM_9TuL"
      }
    },
    {
      "cell_type": "code",
      "source": [
        "print ('*' * 124)\n",
        "print ('Programa que recebe a média final de um aluno por parâmetro em uma função e retorna o seu conceito, conforme a tabela abaixo')\n",
        "print ('*' * 124)\n",
        "\n",
        "\n",
        "nota = float ( input ('Digite a média do aluno: '))\n",
        "\n",
        "def media (nota):\n",
        "    if 0 <= nota <= 4.9:\n",
        "        conceito = 'Conceito D'\n",
        "    elif 5 <= nota <= 6.9:\n",
        "        conceito = 'Conceito C'\n",
        "    elif 7 <= nota <= 8.9:\n",
        "        conceito = 'Conceito B'\n",
        "    elif 9 <= nota <= 10:\n",
        "        conceito = 'Conceito A'\n",
        "    else:\n",
        "        conceito = 'Média Inesistente'\n",
        "\n",
        "    return conceito\n",
        "\n",
        "print (media(nota))\n",
        "print ('FIM DO PROGRAMA')"
      ],
      "metadata": {
        "colab": {
          "base_uri": "https://localhost:8080/"
        },
        "id": "6E2dLbje9Pup",
        "outputId": "0006be96-6b5b-40a5-a1a1-0e7a3cb1d8a4"
      },
      "execution_count": null,
      "outputs": [
        {
          "output_type": "stream",
          "name": "stdout",
          "text": [
            "****************************************************************************************************************************\n",
            "Programa que recebe a média final de um aluno por parâmetro em uma função e retorna o seu conceito, conforme a tabela abaixo\n",
            "****************************************************************************************************************************\n",
            "Digite a média do aluno: 9.4\n",
            "Conceito A\n",
            "FIM DO PROGRAMA\n"
          ]
        }
      ]
    },
    {
      "cell_type": "markdown",
      "source": [
        "Código que lê 50 valores inteiros em uma função e retorna o maior e o menor deles"
      ],
      "metadata": {
        "id": "hr78ivwO9jsg"
      }
    },
    {
      "cell_type": "code",
      "source": [
        "print ('=' * 83)\n",
        "print ('Programa que lê 50 valores inteiros em uma função e retorna o maior e o menor deles')\n",
        "print ('=' * 83)\n",
        "\n",
        "from random import randint\n",
        "def numeros(listaNum):\n",
        "    return (f' O Maior número é {max(listaNum)}!\\nO Menor número é {min(listaNum)}!')\n",
        "\n",
        "lista = []\n",
        "\n",
        "for c in range(0, 50):\n",
        "   lista.append(randint(0, 200))\n",
        "\n",
        "print(lista)\n",
        "print(numeros(lista))\n",
        "\n",
        "print('FUM DO PROGRAMA')"
      ],
      "metadata": {
        "colab": {
          "base_uri": "https://localhost:8080/"
        },
        "id": "2z5qrAPL9fPx",
        "outputId": "389e428b-342f-44f9-eea3-04697b9130db"
      },
      "execution_count": null,
      "outputs": [
        {
          "output_type": "stream",
          "name": "stdout",
          "text": [
            "===================================================================================\n",
            "Programa que lê 50 valores inteiros em uma função e retorna o maior e o menor deles\n",
            "===================================================================================\n",
            "[75, 154, 66, 197, 13, 192, 39, 122, 175, 150, 145, 88, 40, 43, 78, 143, 59, 139, 24, 119, 47, 141, 119, 164, 122, 151, 114, 8, 8, 78, 183, 62, 78, 33, 191, 152, 118, 167, 177, 59, 2, 4, 109, 99, 182, 95, 55, 94, 97, 79]\n",
            " O Maior número é 197!\n",
            "O Menor número é 2!\n",
            "FUM DO PROGRAMA\n"
          ]
        }
      ]
    },
    {
      "cell_type": "markdown",
      "source": [
        ""
      ],
      "metadata": {
        "id": "x8z4NAiO8lSD"
      }
    }
  ]
}