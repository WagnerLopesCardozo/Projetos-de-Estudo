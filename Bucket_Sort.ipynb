{
  "nbformat": 4,
  "nbformat_minor": 0,
  "metadata": {
    "colab": {
      "name": "Bucket_Sort.ipynb",
      "provenance": [],
      "authorship_tag": "ABX9TyOWdgJSHN5thT/atTuze58F",
      "include_colab_link": true
    },
    "kernelspec": {
      "name": "python3",
      "display_name": "Python 3"
    },
    "language_info": {
      "name": "python"
    }
  },
  "cells": [
    {
      "cell_type": "markdown",
      "metadata": {
        "id": "view-in-github",
        "colab_type": "text"
      },
      "source": [
        "<a href=\"https://colab.research.google.com/github/WagnerLopesCardozo/Projetos-de-Estudo-CD-FaTec-Ourinhos/blob/main/Bucket_Sort.ipynb\" target=\"_parent\"><img src=\"https://colab.research.google.com/assets/colab-badge.svg\" alt=\"Open In Colab\"/></a>"
      ]
    },
    {
      "cell_type": "markdown",
      "source": [
        "#Métodos de Ordenação - Estrutura de Dados:"
      ],
      "metadata": {
        "id": "VP2rw6qm99Kq"
      }
    },
    {
      "cell_type": "markdown",
      "source": [
        "Código que ordena os elementos de uma lista com o método de ordenação Bucket Sort"
      ],
      "metadata": {
        "id": "K05s8bEK9xlg"
      }
    },
    {
      "cell_type": "code",
      "execution_count": 10,
      "metadata": {
        "colab": {
          "base_uri": "https://localhost:8080/"
        },
        "id": "kQMt6P7B9ZjC",
        "outputId": "787c45b2-e7a7-401a-82f4-7bd1176e071b"
      },
      "outputs": [
        {
          "output_type": "stream",
          "name": "stdout",
          "text": [
            "********************************************************************\n",
            "Programa que Ordena uma Lista de Elementos com o Método Bucket Sort:\n",
            "********************************************************************\n",
            "A lista desordenada é:  [98, 49, 7, 8, 72, 9, 0, 100, 32, 49]\n",
            "A lista ordenada é:  [0, 7, 8, 9, 32, 49, 49, 72, 98, 100]\n",
            "FIM DO PROGRAMA\n"
          ]
        }
      ],
      "source": [
        "print('*' * 68)\n",
        "print('Programa que Ordena uma Lista de Elementos com o Método Bucket Sort:')\n",
        "print('*' * 68)\n",
        "\n",
        "def bucketSort(lista):\n",
        "    maior = max(lista) #maior\n",
        "    comprimento = len(lista) #comprimento\n",
        "    tamanho = maior / comprimento #tamanho\n",
        "\n",
        "    #criando o compartimento\n",
        "    buckets = [[] for i in range(comprimento)] #compartimento, algo do tipo um balde\n",
        "\n",
        "    #ordenando o pacote o método bucket sort propiamente dito\n",
        "    for i in range(comprimento):\n",
        "        indice = int(lista[i] / tamanho) #índice\n",
        "        if indice != comprimento:\n",
        "            buckets[indice].append(lista[i])\n",
        "        else:\n",
        "            buckets[comprimento - 1].append(lista[i])\n",
        "\n",
        "    #clasificando os pacotes individualmente\n",
        "    for i in range(len(lista)):\n",
        "        buckets[i] = sorted(buckets[i])\n",
        "\n",
        "    #encontrando a lista\n",
        "    resultado = [] #resultado\n",
        "    for i in range(comprimento):\n",
        "        resultado = resultado + buckets[i]\n",
        "\n",
        "    return resultado\n",
        "\n",
        "lista = [98, 49, 7, 8, 72, 9, 0, 100, 32, 49]\n",
        "print('A lista desordenada é: ', lista)\n",
        "lista = bucketSort(lista)\n",
        "print('A lista ordenada é: ', lista)\n",
        "print('FIM DO PROGRAMA')"
      ]
    }
  ]
}