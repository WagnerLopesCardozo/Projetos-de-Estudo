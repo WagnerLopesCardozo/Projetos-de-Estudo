{
  "nbformat": 4,
  "nbformat_minor": 0,
  "metadata": {
    "colab": {
      "name": "comandos da Biblioteca MATH.ipynb",
      "provenance": [],
      "authorship_tag": "ABX9TyOjWiBQNB0waMwXOf89sT4Y",
      "include_colab_link": true
    },
    "kernelspec": {
      "name": "python3",
      "display_name": "Python 3"
    },
    "language_info": {
      "name": "python"
    }
  },
  "cells": [
    {
      "cell_type": "markdown",
      "metadata": {
        "id": "view-in-github",
        "colab_type": "text"
      },
      "source": [
        "<a href=\"https://colab.research.google.com/github/WagnerLopesCardozo/Projetos-de-Estudo-CD-FaTec-Ourinhos/blob/main/comandos_da_Biblioteca_MATH.ipynb\" target=\"_parent\"><img src=\"https://colab.research.google.com/assets/colab-badge.svg\" alt=\"Open In Colab\"/></a>"
      ]
    },
    {
      "cell_type": "markdown",
      "source": [
        "#Primeiros Comandos da Biblioteca MATH"
      ],
      "metadata": {
        "id": "rxvfvi3HbxYd"
      }
    },
    {
      "cell_type": "markdown",
      "source": [
        "Script que lê um número real e faz o arredondamento para mais, para menos ou elimina as casas decimais"
      ],
      "metadata": {
        "id": "W8-2qZRzb7MZ"
      }
    },
    {
      "cell_type": "code",
      "execution_count": 8,
      "metadata": {
        "colab": {
          "base_uri": "https://localhost:8080/"
        },
        "id": "KcyndkPOW8Np",
        "outputId": "8cd1f1d1-2c3a-47b6-8920-4e23fb7333ec"
      },
      "outputs": [
        {
          "output_type": "stream",
          "name": "stdout",
          "text": [
            "Digite um número: 39.53\n",
            "O número arredondado para cima é: 40\n",
            "O número arredondado para baixo é: 39\n",
            "O número sem as casas decimais é: 39\n"
          ]
        }
      ],
      "source": [
        "import math\n",
        "\n",
        "num1 = float ( input ('Digite um número: '))\n",
        "\n",
        "print (f'O número arredondado para cima é: {math.ceil(num1)}')\n",
        "print (f'O número arredondado para baixo é: {math.floor(num1)}')\n",
        "print (f'O número sem as casas decimais é: {math.trunc(num1)}')"
      ]
    },
    {
      "cell_type": "markdown",
      "source": [
        "Script que lê um número e calcula a sua raiz quadrada"
      ],
      "metadata": {
        "id": "ilsJbz05ftwM"
      }
    },
    {
      "cell_type": "code",
      "source": [
        "num1 = int ( input ('Digite um número: '))\n",
        "\n",
        "print (f' A raiz quadrada do número é: {math.sqrt(num1)}')"
      ],
      "metadata": {
        "colab": {
          "base_uri": "https://localhost:8080/"
        },
        "id": "owQpHCuQcsuo",
        "outputId": "36302763-6af6-4fac-99b1-6e588c4e4ed9"
      },
      "execution_count": 10,
      "outputs": [
        {
          "output_type": "stream",
          "name": "stdout",
          "text": [
            "Digite um número: 81\n",
            " A raiz quadrada do número é: 9.0\n"
          ]
        }
      ]
    },
    {
      "cell_type": "markdown",
      "source": [
        "Scrip que lê um número e calcula o seu fatorial"
      ],
      "metadata": {
        "id": "ttQmAWG-gN0V"
      }
    },
    {
      "cell_type": "code",
      "source": [
        "num1 = float ( input ('Digite um número: '))\n",
        "\n",
        "print (f'O fatorial do número é: {math.factorial(num1)}')"
      ],
      "metadata": {
        "colab": {
          "base_uri": "https://localhost:8080/"
        },
        "id": "tc8zrnTSfWxD",
        "outputId": "c5bdf9b5-585d-40a1-aa51-d6abfd513e64"
      },
      "execution_count": 25,
      "outputs": [
        {
          "output_type": "stream",
          "name": "stdout",
          "text": [
            "Digite um número: 5\n",
            "O fatorial do número é: 120\n"
          ]
        }
      ]
    },
    {
      "cell_type": "markdown",
      "source": [
        "Script que calcula a hipotenusa de um triângulo retangulo pelo método tradicional"
      ],
      "metadata": {
        "id": "NV3spwWtrQBT"
      }
    },
    {
      "cell_type": "code",
      "source": [
        "cat_oposto = int ( input ('Digite cateto oposto: '))\n",
        "cat_adjacente = int ( input ('Digite cateto adjacente: '))\n",
        "\n",
        "hipotenusa = ((cat_oposto) ** 2 + (cat_adjacente) ** 2) ** (1/2) #Teorema de pitágoras A² = B² + C²\n",
        "\n",
        "print (f'O valor da hipotenusa do triãngulo retangulo é: {hipotenusa :.2f}.')"
      ],
      "metadata": {
        "colab": {
          "base_uri": "https://localhost:8080/"
        },
        "id": "5d-pARt9gqWE",
        "outputId": "224c722d-d7c0-47d9-9424-f4619aa10794"
      },
      "execution_count": 33,
      "outputs": [
        {
          "output_type": "stream",
          "name": "stdout",
          "text": [
            "Digite cateto oposto: 7\n",
            "Digite cateto adjacente: 11\n",
            "O valor da hipotenusa do triãngulo retangulo é: 13.04.\n"
          ]
        }
      ]
    },
    {
      "cell_type": "markdown",
      "source": [
        "Script que calcula a hipotenusa de um triângulo retangulo pelo método da biblioteca MATH"
      ],
      "metadata": {
        "id": "S4BdwXrVt-7U"
      }
    },
    {
      "cell_type": "code",
      "source": [
        "cat_oposto = int ( input ('Digite cateto oposto: '))\n",
        "cat_adjacente = int ( input ('Digite cateto adjacente: '))\n",
        "\n",
        "print (f'Ovalor da hipotenusa do triângulo retangulo é: {math.hypot(cat_oposto,cat_adjacente):.2f}')"
      ],
      "metadata": {
        "colab": {
          "base_uri": "https://localhost:8080/"
        },
        "id": "CVorY4ETrf9x",
        "outputId": "6fc225c4-6acf-466f-ce48-ccfd913b4739"
      },
      "execution_count": 31,
      "outputs": [
        {
          "output_type": "stream",
          "name": "stdout",
          "text": [
            "Digite cateto oposto: 7\n",
            "Digite cateto adjacente: 11\n",
            "Ovalor da hipotenusa do triângulo retangulo é: 13.04\n"
          ]
        }
      ]
    },
    {
      "cell_type": "markdown",
      "source": [
        "Script que lê um ângulo e calcula e mostra o seno, coseno e a tengente deste ângulo qualquer"
      ],
      "metadata": {
        "id": "IeNMCDDwt72W"
      }
    },
    {
      "cell_type": "code",
      "source": [
        "angulo = float ( input ('Digite um ângulo: '))\n",
        "\n",
        "print(f'O ângulo em radiananos é: {math.radians(angulo) :.2f}')\n",
        "print(f'O seno do ângulo é: {math.sin(angulo) :.2f}')\n",
        "print(f'O cosseo do ângulo é: {math.cos(angulo) :.2f}')\n",
        "print(f'A tangente do ângulo é: {math.tan(angulo) :.2f}')\n",
        "\n"
      ],
      "metadata": {
        "colab": {
          "base_uri": "https://localhost:8080/"
        },
        "id": "69nlv38UsN9O",
        "outputId": "9ff943dc-829a-4a81-b839-66e97fefe427"
      },
      "execution_count": 41,
      "outputs": [
        {
          "output_type": "stream",
          "name": "stdout",
          "text": [
            "Digite um ângulo: 30\n",
            "O ângulo em radiananos é: 0.52\n",
            "O seno do ângulo é: -0.99\n",
            "O cosseo do ângulo é: 0.15\n",
            "A tangente do ângulo é: -6.41\n"
          ]
        }
      ]
    },
    {
      "cell_type": "markdown",
      "source": [
        "Script que lê um ângulo e calcula e mostra o seno, coseno e a tengente deste ângulo qualquer em radianos"
      ],
      "metadata": {
        "id": "g5Bg5V1CzaDp"
      }
    },
    {
      "cell_type": "code",
      "source": [
        "angulo = float ( input ('Digite um ângulo: '))\n",
        "\n",
        "print(f'O ângulo em radiananos é: {math.radians(angulo) :.2f}')\n",
        "print(f'O seno do ângulo é: {math.sin(math.radians(angulo)) :.2f}')\n",
        "print(f'O cosseo do ângulo é: {math.cos(math.radians(angulo)) :.2f}')\n",
        "print(f'A tangente do ângulo é: {math.tan(math.radians(angulo)) :.2f}')"
      ],
      "metadata": {
        "colab": {
          "base_uri": "https://localhost:8080/"
        },
        "id": "W8oefx8ByOhW",
        "outputId": "83e753c0-053e-41b5-d957-c5f8c9379c59"
      },
      "execution_count": 42,
      "outputs": [
        {
          "output_type": "stream",
          "name": "stdout",
          "text": [
            "Digite um ângulo: 30\n",
            "O ângulo em radiananos é: 0.52\n",
            "O seno do ângulo é: 0.50\n",
            "O cosseo do ângulo é: 0.87\n",
            "A tangente do ângulo é: 0.58\n"
          ]
        }
      ]
    }
  ]
}