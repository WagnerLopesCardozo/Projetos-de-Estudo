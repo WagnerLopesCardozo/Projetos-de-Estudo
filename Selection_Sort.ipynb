{
  "nbformat": 4,
  "nbformat_minor": 0,
  "metadata": {
    "colab": {
      "name": "Selection_Sort.ipynb",
      "provenance": [],
      "authorship_tag": "ABX9TyN8Pdf+IMgF5VqSu7Mhrlg0",
      "include_colab_link": true
    },
    "kernelspec": {
      "name": "python3",
      "display_name": "Python 3"
    },
    "language_info": {
      "name": "python"
    }
  },
  "cells": [
    {
      "cell_type": "markdown",
      "metadata": {
        "id": "view-in-github",
        "colab_type": "text"
      },
      "source": [
        "<a href=\"https://colab.research.google.com/github/WagnerLopesCardozo/Projetos-de-Estudo-CD-FaTec-Ourinhos/blob/main/Selection_Sort.ipynb\" target=\"_parent\"><img src=\"https://colab.research.google.com/assets/colab-badge.svg\" alt=\"Open In Colab\"/></a>"
      ]
    },
    {
      "cell_type": "markdown",
      "source": [
        "#Métodos de Ordenação - Estrutura de Dados:"
      ],
      "metadata": {
        "id": "veHVbck3SXM3"
      }
    },
    {
      "cell_type": "markdown",
      "source": [
        "Código que ordena os elementos de uma lista com o método selection Sort"
      ],
      "metadata": {
        "id": "tZ3ECCHGSMhF"
      }
    },
    {
      "cell_type": "code",
      "execution_count": null,
      "metadata": {
        "colab": {
          "base_uri": "https://localhost:8080/"
        },
        "id": "HXqBnI4PMyKt",
        "outputId": "3b208680-d372-4db8-9fa3-77c1e39857b3"
      },
      "outputs": [
        {
          "output_type": "stream",
          "name": "stdout",
          "text": [
            "**************************************************************************\n",
            "Programa que ordena os elementos de uma lista com o método Selection Sort:\n",
            "**************************************************************************\n",
            "Digite os números da lista para serem ordenados: 89 49 72 7 -9 -12\n",
            "A lista de elementos ordenados será: [-12, -9, 7, 49, 72, 89]\n",
            "FIM DO PROGRAMA\n"
          ]
        }
      ],
      "source": [
        "print('*' * 74)\n",
        "print('Programa que ordena os elementos de uma lista com o método Selection Sort:')\n",
        "print('*' * 74)\n",
        "\n",
        "\n",
        "def selectionsort(lista):\n",
        "    for i in range(0, len(lista) - 1):\n",
        "        o_menor = i\n",
        "        for j in range(i + 1, len(lista)):\n",
        "            if lista[j] < lista[o_menor]:\n",
        "                o_menor = j\n",
        "        lista[i], lista[o_menor] = lista[o_menor], lista[i]\n",
        " \n",
        " \n",
        "lista = input('Digite os números da lista para serem ordenados: ').split()\n",
        "lista = [int(x) for x in lista]\n",
        "selectionsort(lista)\n",
        "print('A lista de elementos ordenados será: ', end='')\n",
        "print(lista)\n",
        "print('FIM DO PROGRAMA')\n"
      ]
    }
  ]
}