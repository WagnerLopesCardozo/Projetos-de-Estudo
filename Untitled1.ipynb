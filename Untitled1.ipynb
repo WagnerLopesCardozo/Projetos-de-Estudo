{
  "nbformat": 4,
  "nbformat_minor": 0,
  "metadata": {
    "colab": {
      "name": "Untitled1.ipynb",
      "provenance": [],
      "authorship_tag": "ABX9TyMRkqlGplSwg6nG79lKzfNx",
      "include_colab_link": true
    },
    "kernelspec": {
      "name": "python3",
      "display_name": "Python 3"
    },
    "language_info": {
      "name": "python"
    }
  },
  "cells": [
    {
      "cell_type": "markdown",
      "metadata": {
        "id": "view-in-github",
        "colab_type": "text"
      },
      "source": [
        "<a href=\"https://colab.research.google.com/github/WagnerLopesCardozo/Projetos-de-Estudo-CD-FaTec-Ourinhos/blob/main/Untitled1.ipynb\" target=\"_parent\"><img src=\"https://colab.research.google.com/assets/colab-badge.svg\" alt=\"Open In Colab\"/></a>"
      ]
    },
    {
      "cell_type": "markdown",
      "source": [
        "Ordem de Precedência"
      ],
      "metadata": {
        "id": "yrC6RQd4xekW"
      }
    },
    {
      "cell_type": "markdown",
      "source": [
        "#Operadores Matemáticos (Desafios)"
      ],
      "metadata": {
        "id": "TPp-EczWxSt_"
      }
    },
    {
      "cell_type": "code",
      "execution_count": null,
      "metadata": {
        "id": "9XKU28DUxRjE"
      },
      "outputs": [],
      "source": [
        "()\n",
        "**\n",
        "* / // %\n",
        "+ -"
      ]
    },
    {
      "cell_type": "markdown",
      "source": [
        "Operações matemática"
      ],
      "metadata": {
        "id": "TWz6UwN_yFa7"
      }
    },
    {
      "cell_type": "code",
      "source": [
        "5 + 3 * 2"
      ],
      "metadata": {
        "colab": {
          "base_uri": "https://localhost:8080/"
        },
        "id": "BfIPsL4SyDCj",
        "outputId": "22fffd8f-1cd1-4b4f-f975-26bd65c507b0"
      },
      "execution_count": 1,
      "outputs": [
        {
          "output_type": "execute_result",
          "data": {
            "text/plain": [
              "11"
            ]
          },
          "metadata": {},
          "execution_count": 1
        }
      ]
    },
    {
      "cell_type": "code",
      "source": [
        "3 * 5 + 4 ** 2"
      ],
      "metadata": {
        "colab": {
          "base_uri": "https://localhost:8080/"
        },
        "id": "wEU3o9M6yTXR",
        "outputId": "66eb8cb0-695e-4b25-c331-726773a3e131"
      },
      "execution_count": 2,
      "outputs": [
        {
          "output_type": "execute_result",
          "data": {
            "text/plain": [
              "31"
            ]
          },
          "metadata": {},
          "execution_count": 2
        }
      ]
    },
    {
      "cell_type": "code",
      "source": [
        "3 * (5 + 4) ** 2"
      ],
      "metadata": {
        "colab": {
          "base_uri": "https://localhost:8080/"
        },
        "id": "7iKf--_kycOB",
        "outputId": "859d0d4b-4b30-4cfd-a028-eb61a26c5181"
      },
      "execution_count": 3,
      "outputs": [
        {
          "output_type": "execute_result",
          "data": {
            "text/plain": [
              "243"
            ]
          },
          "metadata": {},
          "execution_count": 3
        }
      ]
    },
    {
      "cell_type": "markdown",
      "source": [
        "Desafio 1: Com operadores matemáticos, com formatação de duas casas decimais para a divisão :.2f"
      ],
      "metadata": {
        "id": "m4oC4lYeymYL"
      }
    },
    {
      "cell_type": "code",
      "source": [
        "num1 = int ( input ('Digite o primeiro número: '))\n",
        "num2 = int ( input ('Digite o segundo némero: '))\n",
        "\n",
        "soma = num1 + num2\n",
        "subtraçao = num1 - num2\n",
        "multiplicaçao = num1 * num2\n",
        "divisao = num1 / num2\n",
        "\n",
        "print(f'A soma dos dois número é: {soma}')\n",
        "print(f'A subtração dos dois número é: {subtraçao}')\n",
        "print(f'A multiplicação dos dois número é: {multiplicaçao}')\n",
        "print(f'A divisão dos dois número é: {divisao :.2f}')"
      ],
      "metadata": {
        "colab": {
          "base_uri": "https://localhost:8080/"
        },
        "id": "wypQ0_G_yhl4",
        "outputId": "47bd4e9d-fa47-4cfb-830f-982d56a66dd3"
      },
      "execution_count": 8,
      "outputs": [
        {
          "output_type": "stream",
          "name": "stdout",
          "text": [
            "Digite o primeiro número: 30\n",
            "Digite o segundo némero: 19\n",
            "A soma dos dois número é: 49\n",
            "A subtração dos dois número é: 11\n",
            "A multiplicação dos dois número é: 570\n",
            "A divisão dos dois número é: 1.58\n"
          ]
        }
      ]
    },
    {
      "cell_type": "markdown",
      "source": [
        "Desafio 2: Para Potência, Resto da Divisão e Divisão Inteira"
      ],
      "metadata": {
        "id": "nM0QFh_D5mUk"
      }
    },
    {
      "cell_type": "code",
      "source": [
        "n1 = int ( input ('Digite o primeiro número: '))\n",
        "n2 = int ( input ('Digite o segundo número: '))\n",
        "\n",
        "potencia = n1 ** n2\n",
        "resto_da_divisão = n1 % n2\n",
        "divisao_inteira = n1 // n2\n",
        "\n",
        "print(f'A potência entre os dois números é: {potencia}')\n",
        "print(f'O resto da divisão entre os dois números é: {resto_da_divisão}')\n",
        "print(f'A divisão inteira entre os dois números é: {divisao_inteira}') "
      ],
      "metadata": {
        "colab": {
          "base_uri": "https://localhost:8080/"
        },
        "id": "_KqKFiot1BZb",
        "outputId": "999c83bd-2b38-4a5d-ad93-01696e80869b"
      },
      "execution_count": 13,
      "outputs": [
        {
          "output_type": "stream",
          "name": "stdout",
          "text": [
            "Digite o primeiro número: 30\n",
            "Digite o segundo número: 4\n",
            "A potência entre os dois números é: 810000\n",
            "O resto da divisão entre os dois números é: 2\n",
            "A divisão inteira entre os dois números é: 7\n"
          ]
        }
      ]
    },
    {
      "cell_type": "markdown",
      "source": [
        "Desafio 3: Para Raiz Quadrada e Raiz Cúbica"
      ],
      "metadata": {
        "id": "hq75dbz_876_"
      }
    },
    {
      "cell_type": "code",
      "source": [
        "numero = int ( input ('Digite um número: '))\n",
        "\n",
        "raiz_quadrada = numero ** (1/2)\n",
        "raiz_cubica = numero ** (1/3)\n",
        "\n",
        "print (f'A raiz quadrada do número é: {raiz_quadrada :.2f}')\n",
        "print (f'A raiz cúbica do número é: {raiz_cubica :.2f}')"
      ],
      "metadata": {
        "colab": {
          "base_uri": "https://localhost:8080/"
        },
        "id": "XqzVpVq74a7l",
        "outputId": "af874b59-ea7d-4172-c772-75685078eb1d"
      },
      "execution_count": 19,
      "outputs": [
        {
          "output_type": "stream",
          "name": "stdout",
          "text": [
            "Digite um número: 81\n",
            "A raiz quadrada do número é: 9.00\n",
            "A raiz cúbica do número é: 4.33\n"
          ]
        }
      ]
    },
    {
      "cell_type": "markdown",
      "source": [
        "Formatação da posição do nome a esquerda, a direita, centralizado ou centralizado com caracteres a esquerda e a direita"
      ],
      "metadata": {
        "id": "VALsfXCo_oGF"
      }
    },
    {
      "cell_type": "code",
      "source": [
        "nome = input ('Digite seu nome: ')\n",
        "\n",
        "print (f'Bem vindo {nome}!')\n",
        "print (f'Bem vindo {nome :20}!')\n",
        "print (f'Bem vindo {nome :>20}!')\n",
        "print (f'Bem vindo {nome :<20}!')\n",
        "print (f'Bem vindo {nome :^20}!')\n",
        "print (f'Bem vindo {nome :=^20}!')"
      ],
      "metadata": {
        "colab": {
          "base_uri": "https://localhost:8080/"
        },
        "id": "qEhxC7mg8Hfh",
        "outputId": "035f6b39-43d5-4777-e193-7c2c49a36492"
      },
      "execution_count": 20,
      "outputs": [
        {
          "output_type": "stream",
          "name": "stdout",
          "text": [
            "Digite seu nome: Wagner\n",
            "Bem vindo Wagner!\n",
            "Bem vindo Wagner              !\n",
            "Bem vindo               Wagner!\n",
            "Bem vindo Wagner              !\n",
            "Bem vindo        Wagner       !\n",
            "Bem vindo =======Wagner=======!\n"
          ]
        }
      ]
    }
  ]
}