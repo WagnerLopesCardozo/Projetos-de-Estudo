{
  "nbformat": 4,
  "nbformat_minor": 0,
  "metadata": {
    "colab": {
      "name": "Determinante de Matrizes.ipynb",
      "provenance": [],
      "authorship_tag": "ABX9TyNKegZKv9VXaQ/RmMP6xdP1",
      "include_colab_link": true
    },
    "kernelspec": {
      "name": "python3",
      "display_name": "Python 3"
    },
    "language_info": {
      "name": "python"
    }
  },
  "cells": [
    {
      "cell_type": "markdown",
      "metadata": {
        "id": "view-in-github",
        "colab_type": "text"
      },
      "source": [
        "<a href=\"https://colab.research.google.com/github/WagnerLopesCardozo/Projetos-de-Estudo-CD-FaTec-Ourinhos/blob/main/Determinante_de_Matrizes.ipynb\" target=\"_parent\"><img src=\"https://colab.research.google.com/assets/colab-badge.svg\" alt=\"Open In Colab\"/></a>"
      ]
    },
    {
      "cell_type": "markdown",
      "source": [
        "Código que lê uma matriz 2X2 e calcula o determinante"
      ],
      "metadata": {
        "id": "kDvtcR7gZJa4"
      }
    },
    {
      "cell_type": "markdown",
      "source": [
        "#Códigos que Calculam o Determinante de uma Matris de Ordem 2X2 e 3X3 e Mostra os Elementos da Diagonal Principal, Secundária e Demais Elementos"
      ],
      "metadata": {
        "id": "X6FGOqmDIIi9"
      }
    },
    {
      "cell_type": "code",
      "execution_count": 14,
      "metadata": {
        "colab": {
          "base_uri": "https://localhost:8080/"
        },
        "id": "PGqqbYaKZIa9",
        "outputId": "d3f96e39-7789-4cfd-81da-710b4d48511f"
      },
      "outputs": [
        {
          "output_type": "stream",
          "name": "stdout",
          "text": [
            "**************************************************************************************************************************\n",
            "Programa que calcula o determinante de uma matriz 2X2 e exibe a 1ª linha e a 2ª linha e a diagonal principal e secundária:\n",
            "**************************************************************************************************************************\n",
            "Digite o 1º elemento da matriz: 4\n",
            "Digite o 2º elemento da matriz: 3\n",
            "Digite o 3º elemento da matriz: 2\n",
            "Digite o 4º elemento da matriz: 1\n",
            "O determinante da matriz 2X2 é: [-2]\n",
            "A primeira linha da matriz 2X2 é:(4, 3)\n",
            "A segunda linha da matriz 2X2 é: (2, 1)\n",
            "Diagonal principal é: (4, 1) e a diagonal secundária é: (3, 2)\n",
            "FIM DO PROGRAMA\n"
          ]
        }
      ],
      "source": [
        "print('*'*122)\n",
        "print('Programa que calcula o determinante de uma matriz 2X2 e exibe a 1ª linha e a 2ª linha e a diagonal principal e secundária:')\n",
        "print('*'*122)\n",
        "\n",
        "\n",
        "elemento1 = int(input('Digite o 1º elemento da matriz: '))\n",
        "elemento2 = int(input('Digite o 2º elemento da matriz: '))\n",
        "elemento3 = int(input('Digite o 3º elemento da matriz: '))\n",
        "elemento4 = int(input('Digite o 4º elemento da matriz: '))\n",
        "\n",
        "matriz = [[elemento1, elemento2], [elemento3, elemento4]]\n",
        "\n",
        "det=[elemento1 * elemento4 - elemento2 * elemento3]\n",
        "\n",
        "print(f'O determinante da matriz 2X2 é: {det}')\n",
        "\n",
        "print(f'A primeira linha da matriz 2X2 é:{elemento1, elemento2}')\n",
        "print(f'A segunda linha da matriz 2X2 é: {elemento3, elemento4}')   \n",
        "\n",
        "print(f'Diagonal principal é: {elemento1, elemento4} e a diagonal secundária é: {elemento2, elemento3}')\n",
        "print('FIM DO PROGRAMA')\n"
      ]
    },
    {
      "cell_type": "markdown",
      "source": [
        "Código que calcula o determinante de uma matriz 3X3:"
      ],
      "metadata": {
        "id": "4qYrEoY8H-nF"
      }
    },
    {
      "cell_type": "code",
      "source": [
        "print('*'*54)\n",
        "print('Programa que calcula o determinante de uma matriz 3X3:')\n",
        "print('*'*54)\n",
        "\n",
        "elemento1 = int(input('Digite o 1º elemento da matriz: '))\n",
        "elemento2 = int(input('Digite o 2º elemento da matriz: '))\n",
        "elemento3 = int(input('Digite o 3º elemento da matriz: '))\n",
        "elemento4 = int(input('Digite o 4º elemento da matriz: '))\n",
        "elemento5 = int(input('Digite o 5º elemento da matriz: '))\n",
        "elemento6 = int(input('Digite o 6º elemento da matriz: '))\n",
        "elemento7 = int(input('Digite o 7º elemento da matriz: '))\n",
        "elemento8 = int(input('Digite o 8º elemento da matriz: '))\n",
        "elemento9 = int(input('Digite o 9º elemento da matriz: '))\n",
        "\n",
        "matriz = [[elemento1, elemento2, elemento3], [elemento4, elemento5, elemento6], [elemento7, elemento8, elemento9]]\n",
        "\n",
        "det = [elemento1 * elemento5 * elemento9 + elemento2 * elemento6 * elemento7 + elemento3 * elemento4 * elemento8 - elemento3 * elemento5 * elemento7 - elemento1 * elemento6 * elemento8 - elemento2 * elemento4 * elemento9]\n",
        "\n",
        "print(f'O determinante da matriz 3X3 é: {det}')\n",
        "print('FIM DO PROGRAMA')"
      ],
      "metadata": {
        "id": "A_jZNvgqc0RA",
        "colab": {
          "base_uri": "https://localhost:8080/"
        },
        "outputId": "fa407198-8e1c-4aa4-e397-026d6115448f"
      },
      "execution_count": 7,
      "outputs": [
        {
          "output_type": "stream",
          "name": "stdout",
          "text": [
            "******************************************************\n",
            "Programa que calcula o determinante de uma matriz 3X3:\n",
            "******************************************************\n",
            "Digite o 1º elemento da matriz: 3\n",
            "Digite o 2º elemento da matriz: 4\n",
            "Digite o 3º elemento da matriz: 5\n",
            "Digite o 4º elemento da matriz: 6\n",
            "Digite o 5º elemento da matriz: 2\n",
            "Digite o 6º elemento da matriz: 6\n",
            "Digite o 7º elemento da matriz: 7\n",
            "Digite o 8º elemento da matriz: 3\n",
            "Digite o 9º elemento da matriz: 4\n",
            "O determinante da matriz 3X3 é: [62]\n",
            "FIM DO PROGRAMA\n"
          ]
        }
      ]
    },
    {
      "cell_type": "code",
      "source": [
        "print('*'*148)\n",
        "print('Programa que lê uma matriz 3X3 e exibe os elementos da diagonal principal, secundária e os elementos que estão acima e abaixo da diagonal principal:')\n",
        "print('*'*148)\n",
        "\n",
        "elemento1 = int(input('Digite o 1º elemento da matriz: '))\n",
        "elemento2 = int(input('Digite o 2º elemento da matriz: '))\n",
        "elemento3 = int(input('Digite o 3º elemento da matriz: '))\n",
        "elemento4 = int(input('Digite o 4º elemento da matriz: '))\n",
        "elemento5 = int(input('Digite o 5º elemento da matriz: '))\n",
        "elemento6 = int(input('Digite o 6º elemento da matriz: '))\n",
        "elemento7 = int(input('Digite o 7º elemento da matriz: '))\n",
        "elemento8 = int(input('Digite o 8º elemento da matriz: '))\n",
        "elemento9 = int(input('Digite o 9º elemento da matriz: '))\n",
        "\n",
        "matriz = [[elemento1, elemento2, elemento3], [elemento4, elemento5, elemento6], [elemento7, elemento8, elemento9]]\n",
        "\n",
        "print(f'Os elementos da diagonal principal são: {elemento1, elemento5, elemento9}')\n",
        "print(f'Os elementos da diagonal secundária são: {elemento3, elemento5, elemento7}')\n",
        "\n",
        "print(f'Os elementos que estão acima da diagonal principal são: {elemento2, elemento3, elemento6}')\n",
        "print(f'Os elementos que estão abaixo da diagonal principal são: {elemento4, elemento7, elemento8}')\n",
        "print('FIM DO PROGRAMA')\n"
      ],
      "metadata": {
        "colab": {
          "base_uri": "https://localhost:8080/"
        },
        "id": "gMFoL71i-eMz",
        "outputId": "5ac4dac0-d77a-4374-cfb1-d50ab1aab457"
      },
      "execution_count": 12,
      "outputs": [
        {
          "output_type": "stream",
          "name": "stdout",
          "text": [
            "****************************************************************************************************************************************************\n",
            "Programa que lê uma matriz 3X3 e exibe os elementos da diagonal principal, secundária e os elementos que estão acima e abaixo da diagonal principal:\n",
            "****************************************************************************************************************************************************\n",
            "Digite o 1º elemento da matriz: 3\n",
            "Digite o 2º elemento da matriz: 4\n",
            "Digite o 3º elemento da matriz: 5\n",
            "Digite o 4º elemento da matriz: 1\n",
            "Digite o 5º elemento da matriz: 0\n",
            "Digite o 6º elemento da matriz: 9\n",
            "Digite o 7º elemento da matriz: 7\n",
            "Digite o 8º elemento da matriz: 5\n",
            "Digite o 9º elemento da matriz: 6\n",
            "Os elementos da diagonal principal são: (3, 0, 6)\n",
            "Os elementos da diagonal secundária são: (5, 0, 7)\n",
            "Os elementos que estão acima da diagonal principal são: (4, 5, 9)\n",
            "Os elementos que estão abaixo da diagonal principal são: (1, 7, 5)\n",
            "FIM DO PROGRAMA\n"
          ]
        }
      ]
    }
  ]
}