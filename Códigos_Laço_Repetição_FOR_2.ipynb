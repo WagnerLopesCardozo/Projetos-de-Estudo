{
  "nbformat": 4,
  "nbformat_minor": 0,
  "metadata": {
    "colab": {
      "name": "Códigos_Laço_Repetição_FOR_2.ipynb",
      "provenance": [],
      "authorship_tag": "ABX9TyN8SYVDfMzEF535RT9rFcZI",
      "include_colab_link": true
    },
    "kernelspec": {
      "name": "python3",
      "display_name": "Python 3"
    },
    "language_info": {
      "name": "python"
    }
  },
  "cells": [
    {
      "cell_type": "markdown",
      "metadata": {
        "id": "view-in-github",
        "colab_type": "text"
      },
      "source": [
        "<a href=\"https://colab.research.google.com/github/WagnerLopesCardozo/Projetos-de-Estudo-CD-FaTec-Ourinhos/blob/main/C%C3%B3digos_La%C3%A7o_Repeti%C3%A7%C3%A3o_FOR_2.ipynb\" target=\"_parent\"><img src=\"https://colab.research.google.com/assets/colab-badge.svg\" alt=\"Open In Colab\"/></a>"
      ]
    },
    {
      "cell_type": "markdown",
      "source": [
        "#Código de Laços de Repetição com o Comando FOR Nível Intermediário"
      ],
      "metadata": {
        "id": "L14B7CdEY9Og"
      }
    },
    {
      "cell_type": "markdown",
      "source": [
        "Código que Lê 5 números e calcula o quadrado de cada número"
      ],
      "metadata": {
        "id": "-coGadImatyY"
      }
    },
    {
      "cell_type": "code",
      "execution_count": 1,
      "metadata": {
        "colab": {
          "base_uri": "https://localhost:8080/"
        },
        "id": "H6U41KIpY8DA",
        "outputId": "6dadfa89-4c24-4d6f-b328-14698ba20c72"
      },
      "outputs": [
        {
          "output_type": "stream",
          "name": "stdout",
          "text": [
            "Digite um número: 4\n",
            "O quadrado de 4 é: 16\n",
            "Digite um número: 8\n",
            "O quadrado de 8 é: 64\n",
            "Digite um número: 3\n",
            "O quadrado de 3 é: 9\n",
            "Digite um número: 9\n",
            "O quadrado de 9 é: 81\n",
            "Digite um número: 5\n",
            "O quadrado de 5 é: 25\n"
          ]
        }
      ],
      "source": [
        "'''\n",
        "Código que Lê 5 números e calcula o quadrado de cada número.\n",
        "'''\n",
        "\n",
        "for cont in range (1, 6):\n",
        "    num = int (input ('Digite um número: '))\n",
        "    print (f'O quadrado de {num} é: {num * num}')"
      ]
    },
    {
      "cell_type": "markdown",
      "source": [
        "Código que mostra os números pares no intervalo de 1 até 10"
      ],
      "metadata": {
        "id": "wQnXAksWbAcW"
      }
    },
    {
      "cell_type": "code",
      "source": [
        "'''\n",
        "Código que mostra os números pares no intervalo de 1 até 10.\n",
        "'''\n",
        "\n",
        "print ('Os números pares no intervalo de 1 até 10 são:')\n",
        "\n",
        "for cont in range (2, 11, 2):\n",
        "    print (f'{cont}', end = '  ')"
      ],
      "metadata": {
        "colab": {
          "base_uri": "https://localhost:8080/"
        },
        "id": "t8R4yBbva6DZ",
        "outputId": "c46df9d2-fcae-4197-bd52-3e5c4ee96580"
      },
      "execution_count": 2,
      "outputs": [
        {
          "output_type": "stream",
          "name": "stdout",
          "text": [
            "Os números pares no intervalo de 1 até 10 são:\n",
            "2  4  6  8  10  "
          ]
        }
      ]
    },
    {
      "cell_type": "markdown",
      "source": [
        "Código que mostra todos os números de 1 até 100"
      ],
      "metadata": {
        "id": "6zvHxxbMbOlo"
      }
    },
    {
      "cell_type": "code",
      "source": [
        "'''\n",
        "Código que mostra todos os números de 1 até 100.\n",
        "'''\n",
        "\n",
        "print ('Os números de 1 até 100 são:')\n",
        "\n",
        "for cont in range (1, 101):\n",
        "    print (f'{cont}', end = ' ')"
      ],
      "metadata": {
        "colab": {
          "base_uri": "https://localhost:8080/"
        },
        "id": "MZyygHsubHx0",
        "outputId": "8ada1f61-2c0b-4e52-c2bd-38ffb250d4fb"
      },
      "execution_count": 3,
      "outputs": [
        {
          "output_type": "stream",
          "name": "stdout",
          "text": [
            "Os números de 1 até 100 são:\n",
            "1 2 3 4 5 6 7 8 9 10 11 12 13 14 15 16 17 18 19 20 21 22 23 24 25 26 27 28 29 30 31 32 33 34 35 36 37 38 39 40 41 42 43 44 45 46 47 48 49 50 51 52 53 54 55 56 57 58 59 60 61 62 63 64 65 66 67 68 69 70 71 72 73 74 75 76 77 78 79 80 81 82 83 84 85 86 87 88 89 90 91 92 93 94 95 96 97 98 99 100 "
          ]
        }
      ]
    },
    {
      "cell_type": "markdown",
      "source": [
        "Código que mostra os números de 100 até 1 de forma decrescente"
      ],
      "metadata": {
        "id": "iSN2J27ZbeYA"
      }
    },
    {
      "cell_type": "code",
      "source": [
        "'''\n",
        "Código que mostra os números de 100 até 1 de forma decrescente.\n",
        "'''\n",
        "\n",
        "print ('Os números de 100 até 1 de forma decrescente são:')\n",
        "for cont in range (100, 0, -1): # o incremento -1 porque é para mostrar os números de forma decrescente\n",
        "    print (f'{cont}', end = ' ')"
      ],
      "metadata": {
        "colab": {
          "base_uri": "https://localhost:8080/"
        },
        "id": "Lyx5NT_dbWDK",
        "outputId": "4150dacc-495a-443f-8685-8bcc4ce2f1d9"
      },
      "execution_count": 4,
      "outputs": [
        {
          "output_type": "stream",
          "name": "stdout",
          "text": [
            "Os números de 100 até 1 de forma decrescente são:\n",
            "100 99 98 97 96 95 94 93 92 91 90 89 88 87 86 85 84 83 82 81 80 79 78 77 76 75 74 73 72 71 70 69 68 67 66 65 64 63 62 61 60 59 58 57 56 55 54 53 52 51 50 49 48 47 46 45 44 43 42 41 40 39 38 37 36 35 34 33 32 31 30 29 28 27 26 25 24 23 22 21 20 19 18 17 16 15 14 13 12 11 10 9 8 7 6 5 4 3 2 1 "
          ]
        }
      ]
    },
    {
      "cell_type": "markdown",
      "source": [
        "Código que calcula os multiplos de 5 no intervalo de 1 até 500"
      ],
      "metadata": {
        "id": "CHP7Takfb31J"
      }
    },
    {
      "cell_type": "code",
      "source": [
        "'''\n",
        "Código que calcula os multiplos de 5 no intervalo de 1 até 500.\n",
        "'''\n",
        "\n",
        "print ('Os múltiplos de 5 no intervalo de 1 até 500 são:')\n",
        "\n",
        "for cont in range (1, 501):\n",
        "    multiplo = 5 * cont\n",
        "    print (f'{multiplo}', end = ' ')"
      ],
      "metadata": {
        "colab": {
          "base_uri": "https://localhost:8080/"
        },
        "id": "ItDJKP8CbvQm",
        "outputId": "fb402e0a-e67b-4c03-c2d6-8daba1ac6ee6"
      },
      "execution_count": 5,
      "outputs": [
        {
          "output_type": "stream",
          "name": "stdout",
          "text": [
            "Os múltiplos de 5 no intervalo de 1 até 500 são:\n",
            "5 10 15 20 25 30 35 40 45 50 55 60 65 70 75 80 85 90 95 100 105 110 115 120 125 130 135 140 145 150 155 160 165 170 175 180 185 190 195 200 205 210 215 220 225 230 235 240 245 250 255 260 265 270 275 280 285 290 295 300 305 310 315 320 325 330 335 340 345 350 355 360 365 370 375 380 385 390 395 400 405 410 415 420 425 430 435 440 445 450 455 460 465 470 475 480 485 490 495 500 505 510 515 520 525 530 535 540 545 550 555 560 565 570 575 580 585 590 595 600 605 610 615 620 625 630 635 640 645 650 655 660 665 670 675 680 685 690 695 700 705 710 715 720 725 730 735 740 745 750 755 760 765 770 775 780 785 790 795 800 805 810 815 820 825 830 835 840 845 850 855 860 865 870 875 880 885 890 895 900 905 910 915 920 925 930 935 940 945 950 955 960 965 970 975 980 985 990 995 1000 1005 1010 1015 1020 1025 1030 1035 1040 1045 1050 1055 1060 1065 1070 1075 1080 1085 1090 1095 1100 1105 1110 1115 1120 1125 1130 1135 1140 1145 1150 1155 1160 1165 1170 1175 1180 1185 1190 1195 1200 1205 1210 1215 1220 1225 1230 1235 1240 1245 1250 1255 1260 1265 1270 1275 1280 1285 1290 1295 1300 1305 1310 1315 1320 1325 1330 1335 1340 1345 1350 1355 1360 1365 1370 1375 1380 1385 1390 1395 1400 1405 1410 1415 1420 1425 1430 1435 1440 1445 1450 1455 1460 1465 1470 1475 1480 1485 1490 1495 1500 1505 1510 1515 1520 1525 1530 1535 1540 1545 1550 1555 1560 1565 1570 1575 1580 1585 1590 1595 1600 1605 1610 1615 1620 1625 1630 1635 1640 1645 1650 1655 1660 1665 1670 1675 1680 1685 1690 1695 1700 1705 1710 1715 1720 1725 1730 1735 1740 1745 1750 1755 1760 1765 1770 1775 1780 1785 1790 1795 1800 1805 1810 1815 1820 1825 1830 1835 1840 1845 1850 1855 1860 1865 1870 1875 1880 1885 1890 1895 1900 1905 1910 1915 1920 1925 1930 1935 1940 1945 1950 1955 1960 1965 1970 1975 1980 1985 1990 1995 2000 2005 2010 2015 2020 2025 2030 2035 2040 2045 2050 2055 2060 2065 2070 2075 2080 2085 2090 2095 2100 2105 2110 2115 2120 2125 2130 2135 2140 2145 2150 2155 2160 2165 2170 2175 2180 2185 2190 2195 2200 2205 2210 2215 2220 2225 2230 2235 2240 2245 2250 2255 2260 2265 2270 2275 2280 2285 2290 2295 2300 2305 2310 2315 2320 2325 2330 2335 2340 2345 2350 2355 2360 2365 2370 2375 2380 2385 2390 2395 2400 2405 2410 2415 2420 2425 2430 2435 2440 2445 2450 2455 2460 2465 2470 2475 2480 2485 2490 2495 2500 "
          ]
        }
      ]
    },
    {
      "cell_type": "markdown",
      "source": [
        "Código que calcula o quadrado de um número de 1 até 20"
      ],
      "metadata": {
        "id": "rRHWrmK1cHgB"
      }
    },
    {
      "cell_type": "code",
      "source": [
        "'''\n",
        "Código que calcula o quadrado de um número de 1 até 20.\n",
        "'''\n",
        "\n",
        "print ('O quadrado de 1 até 20 é:')\n",
        "\n",
        "for cont in range (1, 21):\n",
        "    quadrado = cont ** 2\n",
        "    print (f'{quadrado}', end = '  ')"
      ],
      "metadata": {
        "colab": {
          "base_uri": "https://localhost:8080/"
        },
        "id": "1OYr0IfvcBIV",
        "outputId": "b37e2708-b434-47ff-c429-cfe1ad5ab7a6"
      },
      "execution_count": 6,
      "outputs": [
        {
          "output_type": "stream",
          "name": "stdout",
          "text": [
            "O quadrado de 1 até 20 é:\n",
            "1  4  9  16  25  36  49  64  81  100  121  144  169  196  225  256  289  324  361  400  "
          ]
        }
      ]
    },
    {
      "cell_type": "markdown",
      "source": [
        "Código que mostra os números de 120 a 300"
      ],
      "metadata": {
        "id": "7xQLdYABcWNo"
      }
    },
    {
      "cell_type": "code",
      "source": [
        "'''\n",
        "Código que mostra os números de 120 a 300.\n",
        "'''\n",
        "\n",
        "print ('Os números de 120 até 300 são:')\n",
        "\n",
        "for cont in range (120, 301):\n",
        "    print (f'{cont}', end = '  ')"
      ],
      "metadata": {
        "colab": {
          "base_uri": "https://localhost:8080/"
        },
        "id": "Ve4nV29RcPqO",
        "outputId": "786af50b-90b0-4f07-e239-bb30ad522e6d"
      },
      "execution_count": 7,
      "outputs": [
        {
          "output_type": "stream",
          "name": "stdout",
          "text": [
            "Os números de 120 até 300 são:\n",
            "120  121  122  123  124  125  126  127  128  129  130  131  132  133  134  135  136  137  138  139  140  141  142  143  144  145  146  147  148  149  150  151  152  153  154  155  156  157  158  159  160  161  162  163  164  165  166  167  168  169  170  171  172  173  174  175  176  177  178  179  180  181  182  183  184  185  186  187  188  189  190  191  192  193  194  195  196  197  198  199  200  201  202  203  204  205  206  207  208  209  210  211  212  213  214  215  216  217  218  219  220  221  222  223  224  225  226  227  228  229  230  231  232  233  234  235  236  237  238  239  240  241  242  243  244  245  246  247  248  249  250  251  252  253  254  255  256  257  258  259  260  261  262  263  264  265  266  267  268  269  270  271  272  273  274  275  276  277  278  279  280  281  282  283  284  285  286  287  288  289  290  291  292  293  294  295  296  297  298  299  300  "
          ]
        }
      ]
    },
    {
      "cell_type": "markdown",
      "source": [
        "Código que mostra os números de 1 até 100 e a soma deles"
      ],
      "metadata": {
        "id": "DVSk8gcxcjWo"
      }
    },
    {
      "cell_type": "code",
      "source": [
        "'''\n",
        "Código que mostra os números de 1 até 100 e a soma deles.\n",
        "'''\n",
        "\n",
        "print ('Os números de 1 até 100 e a soma entre eles é:')\n",
        "\n",
        "soma = 0\n",
        "for cont in range (1, 101):\n",
        "    soma = soma + cont\n",
        "    print (f'{cont}', end = '  ')\n",
        "    print (f'{soma}')"
      ],
      "metadata": {
        "colab": {
          "base_uri": "https://localhost:8080/"
        },
        "id": "H2cU2ZtmccIr",
        "outputId": "b88ac54f-f089-438c-dee2-fc04c10dd0bd"
      },
      "execution_count": 10,
      "outputs": [
        {
          "output_type": "stream",
          "name": "stdout",
          "text": [
            "Os números de 1 até 100 e a soma entre eles é:\n",
            "1  1\n",
            "2  3\n",
            "3  6\n",
            "4  10\n",
            "5  15\n",
            "6  21\n",
            "7  28\n",
            "8  36\n",
            "9  45\n",
            "10  55\n",
            "11  66\n",
            "12  78\n",
            "13  91\n",
            "14  105\n",
            "15  120\n",
            "16  136\n",
            "17  153\n",
            "18  171\n",
            "19  190\n",
            "20  210\n",
            "21  231\n",
            "22  253\n",
            "23  276\n",
            "24  300\n",
            "25  325\n",
            "26  351\n",
            "27  378\n",
            "28  406\n",
            "29  435\n",
            "30  465\n",
            "31  496\n",
            "32  528\n",
            "33  561\n",
            "34  595\n",
            "35  630\n",
            "36  666\n",
            "37  703\n",
            "38  741\n",
            "39  780\n",
            "40  820\n",
            "41  861\n",
            "42  903\n",
            "43  946\n",
            "44  990\n",
            "45  1035\n",
            "46  1081\n",
            "47  1128\n",
            "48  1176\n",
            "49  1225\n",
            "50  1275\n",
            "51  1326\n",
            "52  1378\n",
            "53  1431\n",
            "54  1485\n",
            "55  1540\n",
            "56  1596\n",
            "57  1653\n",
            "58  1711\n",
            "59  1770\n",
            "60  1830\n",
            "61  1891\n",
            "62  1953\n",
            "63  2016\n",
            "64  2080\n",
            "65  2145\n",
            "66  2211\n",
            "67  2278\n",
            "68  2346\n",
            "69  2415\n",
            "70  2485\n",
            "71  2556\n",
            "72  2628\n",
            "73  2701\n",
            "74  2775\n",
            "75  2850\n",
            "76  2926\n",
            "77  3003\n",
            "78  3081\n",
            "79  3160\n",
            "80  3240\n",
            "81  3321\n",
            "82  3403\n",
            "83  3486\n",
            "84  3570\n",
            "85  3655\n",
            "86  3741\n",
            "87  3828\n",
            "88  3916\n",
            "89  4005\n",
            "90  4095\n",
            "91  4186\n",
            "92  4278\n",
            "93  4371\n",
            "94  4465\n",
            "95  4560\n",
            "96  4656\n",
            "97  4753\n",
            "98  4851\n",
            "99  4950\n",
            "100  5050\n"
          ]
        }
      ]
    },
    {
      "cell_type": "markdown",
      "source": [
        "Código que lê 8 números e mostra o logaritimo de cada número na base 10"
      ],
      "metadata": {
        "id": "iL85jmGDdLmA"
      }
    },
    {
      "cell_type": "code",
      "source": [
        "'''\n",
        "Código que lê 8 números e mostra o logaritimo de cada número na base 10.\n",
        "'''\n",
        "\n",
        "print ('Os 8 números e seus respectivos logaritimos na base 10 são:')\n",
        "\n",
        "from math import log10\n",
        "\n",
        "for count in range (1, 9):\n",
        "    num = int (input ('Digite um número: '))\n",
        "    print (f'O logaritimo de {num} na base 10 é: {log10(num) :.2f}')12"
      ],
      "metadata": {
        "colab": {
          "base_uri": "https://localhost:8080/"
        },
        "id": "1fOfB4WTdBEy",
        "outputId": "678f2427-ffd2-4a32-c367-ce188bd70807"
      },
      "execution_count": 12,
      "outputs": [
        {
          "output_type": "stream",
          "name": "stdout",
          "text": [
            "Os 8 números e seus respectivos logaritimos na base 10 são:\n",
            "Digite um número: 49\n",
            "O logaritimo de 49 na base 10 é: 1.69\n",
            "Digite um número: 72\n",
            "O logaritimo de 72 na base 10 é: 1.86\n",
            "Digite um número: 7\n",
            "O logaritimo de 7 na base 10 é: 0.85\n",
            "Digite um número: 1\n",
            "O logaritimo de 1 na base 10 é: 0.00\n",
            "Digite um número: 10\n",
            "O logaritimo de 10 na base 10 é: 1.00\n",
            "Digite um número: 89\n",
            "O logaritimo de 89 na base 10 é: 1.95\n",
            "Digite um número: 47\n",
            "O logaritimo de 47 na base 10 é: 1.67\n",
            "Digite um número: 36\n",
            "O logaritimo de 36 na base 10 é: 1.56\n"
          ]
        }
      ]
    },
    {
      "cell_type": "markdown",
      "source": [
        "Código que lê 15 números e calcula a raiz quadrada de cada número"
      ],
      "metadata": {
        "id": "nm8m5ntidpeZ"
      }
    },
    {
      "cell_type": "code",
      "source": [
        "'''\n",
        "Código que lê 15 números e calcula a raiz quadrada de cada número.\n",
        "'''\n",
        "\n",
        "print ('A raiz quadrada dos 15 números são:')\n",
        "\n",
        "from math import sqrt\n",
        "\n",
        "for count in range (1, 16):\n",
        "    num = int (input ('Digite um número: '))\n",
        "    print (f'A raiz quadrada de {num} é: {sqrt(num) :.2f}')"
      ],
      "metadata": {
        "colab": {
          "base_uri": "https://localhost:8080/"
        },
        "id": "34T4yYjYdkff",
        "outputId": "c5e2bb73-45bb-4c23-ed7d-ad2fe8f9e589"
      },
      "execution_count": 13,
      "outputs": [
        {
          "output_type": "stream",
          "name": "stdout",
          "text": [
            "A raiz quadrada dos 15 números são:\n",
            "Digite um número: 25\n",
            "A raiz quadrada de 25 é: 5.00\n",
            "Digite um número: 81\n",
            "A raiz quadrada de 81 é: 9.00\n",
            "Digite um número: 49\n",
            "A raiz quadrada de 49 é: 7.00\n",
            "Digite um número: 89\n",
            "A raiz quadrada de 89 é: 9.43\n",
            "Digite um número: 23\n",
            "A raiz quadrada de 23 é: 4.80\n",
            "Digite um número: 46\n",
            "A raiz quadrada de 46 é: 6.78\n",
            "Digite um número: 11\n",
            "A raiz quadrada de 11 é: 3.32\n",
            "Digite um número: 10\n",
            "A raiz quadrada de 10 é: 3.16\n",
            "Digite um número: 49\n",
            "A raiz quadrada de 49 é: 7.00\n",
            "Digite um número: 38\n",
            "A raiz quadrada de 38 é: 6.16\n",
            "Digite um número: 59\n",
            "A raiz quadrada de 59 é: 7.68\n",
            "Digite um número: 60\n",
            "A raiz quadrada de 60 é: 7.75\n",
            "Digite um número: 779\n",
            "A raiz quadrada de 779 é: 27.91\n",
            "Digite um número: 356\n",
            "A raiz quadrada de 356 é: 18.87\n",
            "Digite um número: 460\n",
            "A raiz quadrada de 460 é: 21.45\n"
          ]
        }
      ]
    },
    {
      "cell_type": "code",
      "source": [
        ""
      ],
      "metadata": {
        "id": "1q4jrTOkd-M8"
      },
      "execution_count": null,
      "outputs": []
    }
  ]
}