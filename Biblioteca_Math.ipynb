{
  "nbformat": 4,
  "nbformat_minor": 0,
  "metadata": {
    "colab": {
      "name": "Biblioteca_Math.ipynb",
      "provenance": [],
      "collapsed_sections": [],
      "authorship_tag": "ABX9TyNNot6Q5FUxQ3xY1Hy6sKVV",
      "include_colab_link": true
    },
    "kernelspec": {
      "name": "python3",
      "display_name": "Python 3"
    },
    "language_info": {
      "name": "python"
    }
  },
  "cells": [
    {
      "cell_type": "markdown",
      "metadata": {
        "id": "view-in-github",
        "colab_type": "text"
      },
      "source": [
        "<a href=\"https://colab.research.google.com/github/WagnerLopesCardozo/Projetos-de-Estudo-CD-FaTec-Ourinhos/blob/main/Biblioteca_Math.ipynb\" target=\"_parent\"><img src=\"https://colab.research.google.com/assets/colab-badge.svg\" alt=\"Open In Colab\"/></a>"
      ]
    },
    {
      "cell_type": "code",
      "metadata": {
        "colab": {
          "base_uri": "https://localhost:8080/"
        },
        "id": "yDe431-l6syg",
        "outputId": "4c4ead20-1edd-454d-8686-f8173b44ff07"
      },
      "source": [
        "'''\n",
        "Código que escolhe um número aleatório em uma lista.\n",
        "'''\n",
        "\n",
        "import random\n",
        "\n",
        "n1 = input ('Digite o nome do 1º aluno: ')\n",
        "n2 = input ('Digite o nome do 2º aluno: ')\n",
        "n3 = input ('Digite o nome do 3º aluno: ')\n",
        "\n",
        "lista = [n1, n2, n3] # List em Python\n",
        "\n",
        "escolhido = {random.choice(lista)}\n",
        "\n",
        "print (f'A lista com o nome dos alunos é: ',(lista))\n",
        "print (f'O aluno escolhido é: ',(escolhido))"
      ],
      "execution_count": 1,
      "outputs": [
        {
          "output_type": "stream",
          "name": "stdout",
          "text": [
            "Digite o nome do 1º aluno: Wagner\n",
            "Digite o nome do 2º aluno: Marcos\n",
            "Digite o nome do 3º aluno: Jorge\n",
            "A lista com o nome dos alunos é:  ['Wagner', 'Marcos', 'Jorge']\n",
            "O aluno escolhido é:  {'Marcos'}\n"
          ]
        }
      ]
    },
    {
      "cell_type": "code",
      "metadata": {
        "colab": {
          "base_uri": "https://localhost:8080/"
        },
        "id": "CXfyOcrM7mbl",
        "outputId": "d85327a6-a23e-4b63-d763-c63c36f75244"
      },
      "source": [
        "'''\n",
        "Código que calcula a raiz quadrada de um número real usando biblioteca MATH\n",
        "'''\n",
        "\n",
        "import math # Importando a biblioteca toda\n",
        "\n",
        "num = float ( input ('Digite um número real: '))\n",
        "\n",
        "print (f'A raiz quadrada do número {num} real digitado é: {math.sqrt(num):.2f}')"
      ],
      "execution_count": 2,
      "outputs": [
        {
          "output_type": "stream",
          "name": "stdout",
          "text": [
            "Digite um número real: 25\n",
            "A raiz quadrada do número 25.0 real digitado é: 5.00\n"
          ]
        }
      ]
    },
    {
      "cell_type": "code",
      "metadata": {
        "colab": {
          "base_uri": "https://localhost:8080/"
        },
        "id": "UEm_Hmcj71YD",
        "outputId": "a66c8eab-b234-4b05-e616-b03ab1d9caaf"
      },
      "source": [
        "'''\n",
        "Código que calcula a raiz quadrada de um número real usando o comando sqrt da biblioteca MATH\n",
        "não precisando importar toda a biblioteca\n",
        "'''\n",
        "\n",
        "from math import sqrt\n",
        "\n",
        "num = float ( input ('Digite um número real: '))\n",
        "\n",
        "print (f'A raiz quadrada do {num} real é: {sqrt(num):.2f}')"
      ],
      "execution_count": 3,
      "outputs": [
        {
          "output_type": "stream",
          "name": "stdout",
          "text": [
            "Digite um número real: 36\n",
            "A raiz quadrada do 36.0 real é: 6.00\n"
          ]
        }
      ]
    },
    {
      "cell_type": "code",
      "metadata": {
        "colab": {
          "base_uri": "https://localhost:8080/"
        },
        "id": "NA1T6Uf88BKL",
        "outputId": "644d894f-2603-4fff-a820-986d8ea832bb"
      },
      "source": [
        "'''\n",
        "Código que calcula o fatorial e raiz quadrada de um número real\n",
        "'''\n",
        "\n",
        "import math\n",
        "\n",
        "num = int ( input ('Digite um número real: '))\n",
        "\n",
        "print (f'O fatorial do {num} é: {math.factorial(num)}') # Fatoria n!=n*(n-1)*(n-2)*...\n",
        "print (f'A raiz quadrada do {num} real é: {math.sqrt(num):}') # Raiz quadrada."
      ],
      "execution_count": 4,
      "outputs": [
        {
          "output_type": "stream",
          "name": "stdout",
          "text": [
            "Digite um número real: 4\n",
            "O fatorial do 4 é: 24\n",
            "A raiz quadrada do 4 real é: 2.0\n"
          ]
        }
      ]
    },
    {
      "cell_type": "code",
      "metadata": {
        "colab": {
          "base_uri": "https://localhost:8080/"
        },
        "id": "E2_g7He18JLs",
        "outputId": "ee2dba0a-61c9-4ce8-af96-3213103daf31"
      },
      "source": [
        "'''\n",
        "Código que calcula o fatorial e a raiz quadrada de um número real importando somente\n",
        "os dois comandos da biblioteca math\n",
        "'''\n",
        "\n",
        "from math import factorial, sqrt\n",
        "\n",
        "num = int ( input ('Digite um número real: '))\n",
        "\n",
        "print (f'O fatorial do {num} real é: {factorial(num)}')\n",
        "print (f'A raiz quadrada do {num} real é: {sqrt(num)}')"
      ],
      "execution_count": 5,
      "outputs": [
        {
          "output_type": "stream",
          "name": "stdout",
          "text": [
            "Digite um número real: 4\n",
            "O fatorial do 4 real é: 24\n",
            "A raiz quadrada do 4 real é: 2.0\n"
          ]
        }
      ]
    },
    {
      "cell_type": "code",
      "metadata": {
        "colab": {
          "base_uri": "https://localhost:8080/"
        },
        "id": "zPoiMW7T8UNM",
        "outputId": "7b52dcbd-d70d-434d-b439-3b7c4a7b11fd"
      },
      "source": [
        "'''\n",
        "Código que calcula  a hipotenusa sem a biblioteca MATH\n",
        "'''\n",
        "\n",
        "cat_oposto = float ( input ('Digite o valor do cateto oposto: '))\n",
        "cat_adjacente = float ( input ('Digite o valor do cateto adjacente: '))\n",
        "\n",
        "hipo = (cat_oposto ** 2 + cat_adjacente ** 2) ** (1/2)\n",
        "\n",
        "print (f'O valor numérico da hipotenusa é: {hipo:.2f}')"
      ],
      "execution_count": 6,
      "outputs": [
        {
          "output_type": "stream",
          "name": "stdout",
          "text": [
            "Digite o valor do cateto oposto: 2\n",
            "Digite o valor do cateto adjacente: 4\n",
            "O valor numérico da hipotenusa é: 4.47\n"
          ]
        }
      ]
    },
    {
      "cell_type": "code",
      "metadata": {
        "colab": {
          "base_uri": "https://localhost:8080/"
        },
        "id": "TyKrbJ7O8aEb",
        "outputId": "b686295b-f314-430b-e996-3160d647ecff"
      },
      "source": [
        "'''\n",
        "Código que calcula a hipotenusa com a biblioteca MATH\n",
        "'''\n",
        "import math\n",
        "\n",
        "cat_oposto = float ( input ('Digite o valor numérico do cateto oposto: '))\n",
        "cat_adjacente = float ( input ('Digite o valor numérico do cateto adjacente: '))\n",
        "\n",
        "print (f'O valor numérico da hipotenusa é: {math.hypot(cat_oposto, cat_adjacente):.2f}')"
      ],
      "execution_count": 7,
      "outputs": [
        {
          "output_type": "stream",
          "name": "stdout",
          "text": [
            "Digite o valor numérico do cateto oposto: 2\n",
            "Digite o valor numérico do cateto adjacente: 4\n",
            "O valor numérico da hipotenusa é: 4.47\n"
          ]
        }
      ]
    },
    {
      "cell_type": "code",
      "metadata": {
        "colab": {
          "base_uri": "https://localhost:8080/"
        },
        "id": "2J8CB-x78sV-",
        "outputId": "38f40168-47a4-4d6c-f82c-150598822fab"
      },
      "source": [
        "'''\n",
        "Código que calcula o seno, cosseno e tangente de um número.\n",
        "'''\n",
        "\n",
        "from math import cos, sin, tan, radians, ceil\n",
        "\n",
        "ang = float ( input ('digite um angulo: '))\n",
        "\n",
        "seno = sin (radians(ang))\n",
        "cossen = cos (radians(ang))\n",
        "tang = tan (radians(ang))\n",
        "\n",
        "print (f'o seno do {ang} é: {ceil(seno)}')\n",
        "print (f'o cosseno do {ang} é: {ceil(cossen)}')\n",
        "print (f'o tangente do {ang} é: {ceil(tang)}')"
      ],
      "execution_count": 11,
      "outputs": [
        {
          "output_type": "stream",
          "name": "stdout",
          "text": [
            "digite um angulo: 90\n",
            "o seno do 90.0 é: 1\n",
            "o cosseno do 90.0 é: 1\n",
            "o tangente do 90.0 é: 16331239353195370\n"
          ]
        }
      ]
    },
    {
      "cell_type": "code",
      "metadata": {
        "colab": {
          "base_uri": "https://localhost:8080/"
        },
        "id": "IyMzOroz9FSp",
        "outputId": "50432b29-11f0-4e5c-c1ff-3493aa33846f"
      },
      "source": [
        "'''\n",
        "Código que escolhe um número aleatório em uma lista.\n",
        "'''\n",
        "\n",
        "import random\n",
        "\n",
        "n1 = input ('Digite o nome do 1º aluno: ')\n",
        "n2 = input ('Digite o nome do 2º aluno: ')\n",
        "n3 = input ('Digite o nome do 3º aluno: ')\n",
        "\n",
        "lista = [n1, n2, n3] # List em Python\n",
        "\n",
        "escolhido = {random.choice(lista)}\n",
        "\n",
        "print (f'A lista com o nome dos alunos é: ',(lista))\n",
        "print (f'O aluno escolhido é: ',(escolhido))"
      ],
      "execution_count": 12,
      "outputs": [
        {
          "output_type": "stream",
          "name": "stdout",
          "text": [
            "Digite o nome do 1º aluno: Wagner\n",
            "Digite o nome do 2º aluno: Marcos\n",
            "Digite o nome do 3º aluno: Jorge\n",
            "A lista com o nome dos alunos é:  ['Wagner', 'Marcos', 'Jorge']\n",
            "O aluno escolhido é:  {'Marcos'}\n"
          ]
        }
      ]
    }
  ]
}