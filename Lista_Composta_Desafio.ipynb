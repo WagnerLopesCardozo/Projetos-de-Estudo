{
  "nbformat": 4,
  "nbformat_minor": 0,
  "metadata": {
    "colab": {
      "name": "Lista_Composta_Desafio.ipynb",
      "provenance": [],
      "authorship_tag": "ABX9TyOcchlDhdOPsCtA04eIrclm",
      "include_colab_link": true
    },
    "kernelspec": {
      "name": "python3",
      "display_name": "Python 3"
    },
    "language_info": {
      "name": "python"
    }
  },
  "cells": [
    {
      "cell_type": "markdown",
      "metadata": {
        "id": "view-in-github",
        "colab_type": "text"
      },
      "source": [
        "<a href=\"https://colab.research.google.com/github/WagnerLopesCardozo/Projetos-de-Estudo-CD-FaTec-Ourinhos/blob/main/Lista_Composta_Desafio.ipynb\" target=\"_parent\"><img src=\"https://colab.research.google.com/assets/colab-badge.svg\" alt=\"Open In Colab\"/></a>"
      ]
    },
    {
      "cell_type": "markdown",
      "source": [
        "Desafio 1 - Código que lê o nome e a idade e armazena numa lista composta e ao final exibe a maior idade e o nome e a menor idade e o nome."
      ],
      "metadata": {
        "id": "QSMqti4sqKct"
      }
    },
    {
      "cell_type": "code",
      "execution_count": 3,
      "metadata": {
        "colab": {
          "base_uri": "https://localhost:8080/"
        },
        "id": "8Sl8SqbeiYu8",
        "outputId": "92bb8082-673a-40f4-e186-9e0fbd2f6fe6"
      },
      "outputs": [
        {
          "output_type": "stream",
          "name": "stdout",
          "text": [
            "Digite seu nome: Wagner\n",
            "Digite sua idade; 39\n",
            "Você que continuar S ou N? s\n",
            "Digite seu nome: André\n",
            "Digite sua idade; 48\n",
            "Você que continuar S ou N? s\n",
            "Digite seu nome: Rose\n",
            "Digite sua idade; 28\n",
            "Você que continuar S ou N? s\n",
            "Digite seu nome: Rogério\n",
            "Digite sua idade; 55\n",
            "Você que continuar S ou N? n\n",
            "Ao todo foi cadastrado 4 pessoas\n",
            "A maior idade cadastrada foi de 55 anos e o peso de[Rogério]\n",
            "A menor idade cadastrada foi de 28 anos e o peso de[Rose]\n"
          ]
        }
      ],
      "source": [
        "temp = []\n",
        "princ = []\n",
        "mai = men = 0\n",
        "while True:\n",
        "  temp.append(str(input('Digite seu nome: ')))\n",
        "  temp.append(int(input('Digite sua idade; ')))\n",
        "  if len(princ) == 0:\n",
        "    mai = men = temp[1]\n",
        "  else:\n",
        "    if temp[1]>mai:\n",
        "      mai=temp[1]\n",
        "    if temp[1]<men:\n",
        "      men=temp[1]\n",
        "  princ.append(temp[:])\n",
        "  temp.clear()\n",
        "  resp=str(input('Você que continuar S ou N? '))\n",
        "  if resp in 'Nn':\n",
        "    break\n",
        "\n",
        "print(f'Ao todo foi cadastrado {len(princ)} pessoas')\n",
        "print(f'A maior idade cadastrada foi de {mai} anos para o/a:', end='')\n",
        "for p in princ:\n",
        "  if p[1]==mai:\n",
        "    print(f'[{p[0]}]', end='')\n",
        "print()\n",
        "print(f'A menor idade cadastrada foi de {men} anos para o/a:', end='')\n",
        "for p in princ:\n",
        "  if p[1]==men:\n",
        "    print(f'[{p[0]}]', end='')\n",
        "print()"
      ]
    },
    {
      "cell_type": "code",
      "source": [
        ""
      ],
      "metadata": {
        "id": "k5r1tm55oovw"
      },
      "execution_count": null,
      "outputs": []
    }
  ]
}