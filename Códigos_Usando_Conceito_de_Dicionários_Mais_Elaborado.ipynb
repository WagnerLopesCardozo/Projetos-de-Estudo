{
  "nbformat": 4,
  "nbformat_minor": 0,
  "metadata": {
    "colab": {
      "name": "Códigos_Usando_Conceito_de_Dicionários_Mais_Elaborado.ipynb",
      "provenance": [],
      "authorship_tag": "ABX9TyOCjnwrPpNWXSgK/UijUM/G",
      "include_colab_link": true
    },
    "kernelspec": {
      "name": "python3",
      "display_name": "Python 3"
    },
    "language_info": {
      "name": "python"
    }
  },
  "cells": [
    {
      "cell_type": "markdown",
      "metadata": {
        "id": "view-in-github",
        "colab_type": "text"
      },
      "source": [
        "<a href=\"https://colab.research.google.com/github/WagnerLopesCardozo/Projetos-de-Estudo-CD-FaTec-Ourinhos/blob/main/C%C3%B3digos_Usando_Conceito_de_Dicion%C3%A1rios_Mais_Elaborado.ipynb\" target=\"_parent\"><img src=\"https://colab.research.google.com/assets/colab-badge.svg\" alt=\"Open In Colab\"/></a>"
      ]
    },
    {
      "cell_type": "markdown",
      "source": [
        "#Códigos em Python usando Conceitos de Dicionários Mais Elaborados"
      ],
      "metadata": {
        "id": "z_J9Jqlw9852"
      }
    },
    {
      "cell_type": "markdown",
      "source": [
        "Exercício 01 - Código que cria um dicionário com 2 chaves, adiciona dados ao dicionário e adiciona uma chave ao dicionário criado anteriormente."
      ],
      "metadata": {
        "id": "BQpUYXZm-J3s"
      }
    },
    {
      "cell_type": "code",
      "execution_count": 38,
      "metadata": {
        "colab": {
          "base_uri": "https://localhost:8080/"
        },
        "id": "8dMwZeDi9Zsf",
        "outputId": "0b3a92d7-1d1e-4c49-85e2-4d0fe58acf33"
      },
      "outputs": [
        {
          "output_type": "stream",
          "name": "stdout",
          "text": [
            "-=-=-=-=-=-=-=-=-=-=-=-=-=-=-=-=-=-=-=-=-=-=-=-=-=-=-=-=-=-=-=-=-=-=-=-=-=-=-=-=-=-=-=-=-=-=-=-=-=-=-=-=-=-=-=-=-=-=-=-=-=-=-=-=-=\n",
            "Programa que cria um dicionário com 2 chaves, adiciona dados ao dicionário e adiciona uma chave ao dicionário criado anteriormente.\n",
            "-=-=-=-=-=-=-=-=-=-=-=-=-=-=-=-=-=-=-=-=-=-=-=-=-=-=-=-=-=-=-=-=-=-=-=-=-=-=-=-=-=-=-=-=-=-=-=-=-=-=-=-=-=-=-=-=-=-=-=-=-=-=-=-=-=\n",
            "{'nome': 'Wagner', 'curso': 'Ciência de Dados'}\n",
            "\n",
            "FIM DO PROGRAMA\n"
          ]
        }
      ],
      "source": [
        "print('-='*65)\n",
        "print('Programa que cria um dicionário com 2 chaves, adiciona dados ao dicionário e adiciona uma chave ao dicionário criado anteriormente.')\n",
        "print('-='*65)\n",
        "\n",
        "\n",
        "pessoas = {'nome':'Wagner', 'curso':'Ciência de Dados'}\n",
        "\n",
        "print(pessoas)\n",
        "\n",
        "print()\n",
        "\n",
        "print('FIM DO PROGRAMA')\n"
      ]
    },
    {
      "cell_type": "markdown",
      "source": [
        "Exercício 02 - Código que lê N valores (informado pelo usuário) e armazena num dicionário. Observação: o dicionário deve conter 3 chaves."
      ],
      "metadata": {
        "id": "ExbfkDOFGahT"
      }
    },
    {
      "cell_type": "code",
      "source": [
        "print('-='*62)\n",
        "print('Programa que lê N valores (informado pelo usuário) e armazena num dicionário. Observação: o dicionário deve conter 3 chaves.')\n",
        "print('-='*62)\n",
        "\n",
        "dados = dict()\n",
        "dadosLista = list()\n",
        "\n",
        "while True:\n",
        "  dados.clear()\n",
        "  dados ['nome'] = str(input('Digite o seu nome: '))\n",
        "  dados ['curso'] = str(input('Digite o seu curso: '))\n",
        "  dadosLista.append(dados.copy())\n",
        "  while True:\n",
        "    resposta = str(input('Você que continuar (S ou N)?')).upper()[0]\n",
        "    print()\n",
        "\n",
        "    if resposta in 'SN':\n",
        "      break      \n",
        "    print('Você ERROU, responda apenas S ou N.')\n",
        "\n",
        "  if resposta == 'N':\n",
        "      break\n",
        "\n",
        "print(dadosLista)\n",
        "print()\n",
        "\n",
        "print(f'Foram cadastradas {len(dadosLista)} pessoas.')\n",
        "\n",
        "print()\n",
        "\n",
        "print('FIM DO PROGRAMA')"
      ],
      "metadata": {
        "colab": {
          "base_uri": "https://localhost:8080/"
        },
        "id": "XUEspQ-mFRYY",
        "outputId": "15428ab9-bf1c-4c27-e4c5-32062db9d650"
      },
      "execution_count": 42,
      "outputs": [
        {
          "output_type": "stream",
          "name": "stdout",
          "text": [
            "-=-=-=-=-=-=-=-=-=-=-=-=-=-=-=-=-=-=-=-=-=-=-=-=-=-=-=-=-=-=-=-=-=-=-=-=-=-=-=-=-=-=-=-=-=-=-=-=-=-=-=-=-=-=-=-=-=-=-=-=-=-=\n",
            "Programa que lê N valores (informado pelo usuário) e armazena num dicionário. Observação: o dicionário deve conter 3 chaves.\n",
            "-=-=-=-=-=-=-=-=-=-=-=-=-=-=-=-=-=-=-=-=-=-=-=-=-=-=-=-=-=-=-=-=-=-=-=-=-=-=-=-=-=-=-=-=-=-=-=-=-=-=-=-=-=-=-=-=-=-=-=-=-=-=\n",
            "Digite o seu nome: Wagner\n",
            "Digite o seu curso: Ciência de Dados\n",
            "Você que continuar (S ou N)?s\n",
            "\n",
            "Digite o seu nome: Marink\n",
            "Digite o seu curso: Ciência da Computação\n",
            "Você que continuar (S ou N)?s\n",
            "\n",
            "Digite o seu nome: Rose\n",
            "Digite o seu curso: Matemática\n",
            "Você que continuar (S ou N)?n\n",
            "\n",
            "[{'nome': 'Wagner', 'curso': 'Ciência de Dados'}, {'nome': 'Marink', 'curso': 'Ciência da Computação'}, {'nome': 'Rose', 'curso': 'Matemática'}]\n",
            "\n",
            "Foram cadastradas 3 pessoas.\n",
            "\n",
            "FIM DO PROGRAMA\n"
          ]
        }
      ]
    },
    {
      "cell_type": "markdown",
      "source": [
        "Exercício 03 (Desempacotamento) - Código que faz a junção de dois dicionários - com operador de desempacotamento.\n"
      ],
      "metadata": {
        "id": "tQd5rVegIHn9"
      }
    },
    {
      "cell_type": "code",
      "source": [
        "print('-='*62)\n",
        "print('Programa que lê N valores (informado pelo usuário) e armazena num dicionário. Observação: o dicionário deve conter 3 chaves.')\n",
        "print('-='*62)\n",
        "\n",
        "dicionario1 = {'nome':'Wagner', 'curso':'Ciência de Dados', 'instituição':'FaTec'}\n",
        "dicionario2 = {'município':'Ourinhos', 'estaado':'São Paulo'}\n",
        "\n",
        "dic_concatenado = {**dicionario1, **dicionario2}  #vantagem deste método e que aos dois dicionários iniciais ficam inalterados.\n",
        "\n",
        "print(dic_concatenado)\n",
        "\n",
        "print()\n",
        "\n",
        "print('FIM DO PROGRAMA')"
      ],
      "metadata": {
        "colab": {
          "base_uri": "https://localhost:8080/"
        },
        "id": "TfsuY9HRIGqY",
        "outputId": "30bacd52-5949-4257-a43f-646a0e5bd55a"
      },
      "execution_count": 43,
      "outputs": [
        {
          "output_type": "stream",
          "name": "stdout",
          "text": [
            "-=-=-=-=-=-=-=-=-=-=-=-=-=-=-=-=-=-=-=-=-=-=-=-=-=-=-=-=-=-=-=-=-=-=-=-=-=-=-=-=-=-=-=-=-=-=-=-=-=-=-=-=-=-=-=-=-=-=-=-=-=-=\n",
            "Programa que lê N valores (informado pelo usuário) e armazena num dicionário. Observação: o dicionário deve conter 3 chaves.\n",
            "-=-=-=-=-=-=-=-=-=-=-=-=-=-=-=-=-=-=-=-=-=-=-=-=-=-=-=-=-=-=-=-=-=-=-=-=-=-=-=-=-=-=-=-=-=-=-=-=-=-=-=-=-=-=-=-=-=-=-=-=-=-=\n",
            "{'nome': 'Wagner', 'curso': 'Ciência de Dados', 'instituição': 'FaTec', 'município': 'Ourinhos', 'estaado': 'São Paulo'}\n",
            "\n",
            "FIM DO PROGRAMA\n"
          ]
        }
      ]
    },
    {
      "cell_type": "markdown",
      "source": [
        "Exercício 03 (update()) - Código que faz a junção de dois dicionários - com operador de desempacotamento."
      ],
      "metadata": {
        "id": "CvznJfsAQeGd"
      }
    },
    {
      "cell_type": "code",
      "source": [
        "print('-='*62)\n",
        "print('Programa que lê N valores (informado pelo usuário) e armazena num dicionário. Observação: o dicionário deve conter 3 chaves.')\n",
        "print('-='*62)\n",
        "\n",
        "dicionario1 = {'nome':'Wagner', 'curso':'Ciência de Dados', 'instituição':'FaTec'}\n",
        "dicionario2 = {'município':'Ourinhos', 'estaado':'São Paulo'}\n",
        "\n",
        "dicionario1.update(dicionario2)\n",
        "\n",
        "print(dicionario1)\n",
        "\n",
        "print()\n",
        "\n",
        "print('FIM DO PROGRAMA')"
      ],
      "metadata": {
        "colab": {
          "base_uri": "https://localhost:8080/"
        },
        "id": "jgyk477pQbBn",
        "outputId": "1315d199-5e46-4ad1-c590-d7ef52399c4d"
      },
      "execution_count": 44,
      "outputs": [
        {
          "output_type": "stream",
          "name": "stdout",
          "text": [
            "-=-=-=-=-=-=-=-=-=-=-=-=-=-=-=-=-=-=-=-=-=-=-=-=-=-=-=-=-=-=-=-=-=-=-=-=-=-=-=-=-=-=-=-=-=-=-=-=-=-=-=-=-=-=-=-=-=-=-=-=-=-=\n",
            "Programa que lê N valores (informado pelo usuário) e armazena num dicionário. Observação: o dicionário deve conter 3 chaves.\n",
            "-=-=-=-=-=-=-=-=-=-=-=-=-=-=-=-=-=-=-=-=-=-=-=-=-=-=-=-=-=-=-=-=-=-=-=-=-=-=-=-=-=-=-=-=-=-=-=-=-=-=-=-=-=-=-=-=-=-=-=-=-=-=\n",
            "{'nome': 'Wagner', 'curso': 'Ciência de Dados', 'instituição': 'FaTec', 'município': 'Ourinhos', 'estaado': 'São Paulo'}\n",
            "\n",
            "FIM DO PROGRAMA\n"
          ]
        }
      ]
    },
    {
      "cell_type": "markdown",
      "source": [
        "Exercício 04 - Código que verifica se uma determinada chave já existe no dicionário."
      ],
      "metadata": {
        "id": "5gXg0NxRUIzd"
      }
    },
    {
      "cell_type": "code",
      "source": [
        "print('-='*35)\n",
        "print('Código que verifica se uma determinada chave já existe no dicionário.')\n",
        "print('-='*35)\n",
        "\n",
        "dicionario = {'nome':'Wagner', 'curso':'Ciência de Dados', 'instituiçao':'FaTec', 'cidade':'Ourinhos'}\n",
        "\n",
        "k = str(input('Digite a chave que se deseja verificar a existência: '))\n",
        "\n",
        "print()\n",
        "\n",
        "if k in dicionario:\n",
        "  print(f'A chave {k} existe no dicionário.')\n",
        "\n",
        "else:\n",
        "  print(f'A chave {k} não existe no dicionário.')\n",
        "\n",
        "print()\n",
        "\n",
        "print('FIM DO PROGRAMA')"
      ],
      "metadata": {
        "colab": {
          "base_uri": "https://localhost:8080/"
        },
        "id": "Cd7kFO3uTsNO",
        "outputId": "b01332ca-e36e-496f-f6fb-c73b63230175"
      },
      "execution_count": 48,
      "outputs": [
        {
          "output_type": "stream",
          "name": "stdout",
          "text": [
            "-=-=-=-=-=-=-=-=-=-=-=-=-=-=-=-=-=-=-=-=-=-=-=-=-=-=-=-=-=-=-=-=-=-=-=\n",
            "Código que verifica se uma determinada chave já existe no dicionário.\n",
            "-=-=-=-=-=-=-=-=-=-=-=-=-=-=-=-=-=-=-=-=-=-=-=-=-=-=-=-=-=-=-=-=-=-=-=\n",
            "Digite a chave que se deseja verificar a existência: estado\n",
            "\n",
            "A chave estado não existe no dicionário.\n",
            "\n",
            "FIM DO PROGRAMA\n"
          ]
        }
      ]
    },
    {
      "cell_type": "markdown",
      "source": [
        "Exercício 05 - Código que exibe os dados de um dicionário utilizando 3 formas diferentes de iteração (loops)."
      ],
      "metadata": {
        "id": "cgwEGcEpUYx7"
      }
    },
    {
      "cell_type": "code",
      "source": [
        "print('-='*47)\n",
        "print('Código que exibe os dados de um dicionário utilizando 3 formas diferentes de iteração (loops).')\n",
        "print('-='*47)\n",
        "\n",
        "dicionarioCadastro = {'nome':'Wagner', 'curso':'Ciência de Dados', \n",
        "                      'instituiçao':'FaTec', 'cidade':'Ourinhos', 'estado':'São Paulo'}\n",
        "\n",
        "for k in dicionarioCadastro.keys(): #exibindo somente as chaves\n",
        "  print(k)\n",
        "print('-='*47)\n",
        "\n",
        "for v in dicionarioCadastro.values():  #exibindo somente os valores\n",
        "  print(v)\n",
        "print('-='*47)\n",
        "\n",
        "for k, v in dicionarioCadastro.items():  #exibindo chaves e valores\n",
        "  print(f'{k} = {v}.')\n",
        "print('-='*47)\n",
        "\n",
        "dicionarioCadastro = dict()\n",
        "\n",
        "for c in range (0, 2):\n",
        "  dicionarioCadastro ['nome'] = str(input('O nome é:'))  #exibindo os valores (dados) pela entrada no teclado feito pelo usuário\n",
        "  dicionarioCadastro ['curso'] = str(input('O curso é:'))\n",
        "  dicionarioCadastro ['instituiçao'] = str(input('A instituição é:'))\n",
        "  dicionarioCadastro ['cidade'] = str(input('A cidade é:'))\n",
        "  dicionarioCadastro ['estado'] = str(input('O estado é:'))\n",
        "  print()\n",
        "  print(dicionarioCadastro)\n",
        "\n",
        "print()\n",
        "\n",
        "print('FIM DO PROGRAMA')"
      ],
      "metadata": {
        "colab": {
          "base_uri": "https://localhost:8080/"
        },
        "id": "614YUp00UXt-",
        "outputId": "2c021fa5-75d1-4070-c049-cc5ba3ad141f"
      },
      "execution_count": 54,
      "outputs": [
        {
          "output_type": "stream",
          "name": "stdout",
          "text": [
            "-=-=-=-=-=-=-=-=-=-=-=-=-=-=-=-=-=-=-=-=-=-=-=-=-=-=-=-=-=-=-=-=-=-=-=-=-=-=-=-=-=-=-=-=-=-=-=\n",
            "Código que exibe os dados de um dicionário utilizando 3 formas diferentes de iteração (loops).\n",
            "-=-=-=-=-=-=-=-=-=-=-=-=-=-=-=-=-=-=-=-=-=-=-=-=-=-=-=-=-=-=-=-=-=-=-=-=-=-=-=-=-=-=-=-=-=-=-=\n",
            "nome\n",
            "curso\n",
            "instituiçao\n",
            "cidade\n",
            "estado\n",
            "-=-=-=-=-=-=-=-=-=-=-=-=-=-=-=-=-=-=-=-=-=-=-=-=-=-=-=-=-=-=-=-=-=-=-=-=-=-=-=-=-=-=-=-=-=-=-=\n",
            "Wagner\n",
            "Ciência de Dados\n",
            "FaTec\n",
            "Ourinhos\n",
            "São Paulo\n",
            "-=-=-=-=-=-=-=-=-=-=-=-=-=-=-=-=-=-=-=-=-=-=-=-=-=-=-=-=-=-=-=-=-=-=-=-=-=-=-=-=-=-=-=-=-=-=-=\n",
            "nome = Wagner.\n",
            "curso = Ciência de Dados.\n",
            "instituiçao = FaTec.\n",
            "cidade = Ourinhos.\n",
            "estado = São Paulo.\n",
            "-=-=-=-=-=-=-=-=-=-=-=-=-=-=-=-=-=-=-=-=-=-=-=-=-=-=-=-=-=-=-=-=-=-=-=-=-=-=-=-=-=-=-=-=-=-=-=\n",
            "O nome é:Wagner\n",
            "O curso é:CD\n",
            "A instituição é:FaTec\n",
            "A cidade é:Ourinhos\n",
            "O estado é:São Paulo\n",
            "\n",
            "{'nome': 'Wagner', 'curso': 'CD', 'instituiçao': 'FaTec', 'cidade': 'Ourinhos', 'estado': 'São Paulo'}\n",
            "O nome é:Marink\n",
            "O curso é:Ciência da Computação\n",
            "A instituição é:FaTec\n",
            "A cidade é:Ourinhos\n",
            "O estado é:São Paulo\n",
            "\n",
            "{'nome': 'Marink', 'curso': 'Ciência da Computação', 'instituiçao': 'FaTec', 'cidade': 'Ourinhos', 'estado': 'São Paulo'}\n",
            "\n",
            "FIM DO PROGRAMA\n"
          ]
        }
      ]
    },
    {
      "cell_type": "markdown",
      "source": [
        "Exercício 06 - Código que exibe a soma dos valores de um dicionário (considere um dicionário com dados de uma lista de preços de produtos)."
      ],
      "metadata": {
        "id": "pbHCaQk6Ul09"
      }
    },
    {
      "cell_type": "code",
      "source": [
        "print('-='*62)\n",
        "print('Código que exibe a soma dos valores de um dicionário (considere um dicionário com dados de uma lista de preços de produtos).')\n",
        "print('-='*62)\n",
        "\n",
        "eletrodomestico = {'geladeira': 3700, 'fogão': 1800, \n",
        "                   'máquina de lavar': 2900, 'microondas': 790, \n",
        "                   'freezer': 3100}\n",
        "\n",
        "somaTotal = 0\n",
        "\n",
        "for i in eletrodomestico.values():  #somado os valores (custo) de cada eletro doméstico\n",
        "  somaTotal += i\n",
        "for k, v in eletrodomestico.items():  \n",
        "  print(f'{k} = {v}.')\n",
        "print('-='*25)\n",
        "print(f'A soma total dos valores dos produtos é: R$ {somaTotal}.')\n",
        "\n",
        "print()\n",
        "\n",
        "print('FIM DO PROGRAMA')\n"
      ],
      "metadata": {
        "colab": {
          "base_uri": "https://localhost:8080/"
        },
        "id": "T4-ZpZz3UlOx",
        "outputId": "71bcb3c9-facf-4c7f-ceaf-bdc85396007c"
      },
      "execution_count": 59,
      "outputs": [
        {
          "output_type": "stream",
          "name": "stdout",
          "text": [
            "-=-=-=-=-=-=-=-=-=-=-=-=-=-=-=-=-=-=-=-=-=-=-=-=-=-=-=-=-=-=-=-=-=-=-=-=-=-=-=-=-=-=-=-=-=-=-=-=-=-=-=-=-=-=-=-=-=-=-=-=-=-=\n",
            "Código que exibe a soma dos valores de um dicionário (considere um dicionário com dados de uma lista de preços de produtos).\n",
            "-=-=-=-=-=-=-=-=-=-=-=-=-=-=-=-=-=-=-=-=-=-=-=-=-=-=-=-=-=-=-=-=-=-=-=-=-=-=-=-=-=-=-=-=-=-=-=-=-=-=-=-=-=-=-=-=-=-=-=-=-=-=\n",
            "geladeira = 3700.\n",
            "fogão = 1800.\n",
            "máquina de lavar = 2900.\n",
            "microondas = 790.\n",
            "freezer = 3100.\n",
            "-=-=-=-=-=-=-=-=-=-=-=-=-=-=-=-=-=-=-=-=-=-=-=-=-=\n",
            "A soma total dos valores dos produtos é: R$ 12290.\n",
            "\n",
            "FIM DO PROGRAMA\n"
          ]
        }
      ]
    }
  ]
}