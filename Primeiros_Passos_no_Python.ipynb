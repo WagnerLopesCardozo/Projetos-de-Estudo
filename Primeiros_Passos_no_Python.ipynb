{
  "nbformat": 4,
  "nbformat_minor": 0,
  "metadata": {
    "colab": {
      "name": "Primeiros Passos no Python.ipynb",
      "provenance": [],
      "authorship_tag": "ABX9TyMhCxeeZn/Q/aYVS0Rymye9",
      "include_colab_link": true
    },
    "kernelspec": {
      "name": "python3",
      "display_name": "Python 3"
    },
    "language_info": {
      "name": "python"
    }
  },
  "cells": [
    {
      "cell_type": "markdown",
      "metadata": {
        "id": "view-in-github",
        "colab_type": "text"
      },
      "source": [
        "<a href=\"https://colab.research.google.com/github/WagnerLopesCardozo/Projetos-de-Estudo-CD-FaTec-Ourinhos/blob/main/Primeiros_Passos_no_Python.ipynb\" target=\"_parent\"><img src=\"https://colab.research.google.com/assets/colab-badge.svg\" alt=\"Open In Colab\"/></a>"
      ]
    },
    {
      "cell_type": "markdown",
      "source": [
        "Primeiras Linhas de Código"
      ],
      "metadata": {
        "id": "8ahRxyhdnrgJ"
      }
    },
    {
      "cell_type": "code",
      "execution_count": 1,
      "metadata": {
        "colab": {
          "base_uri": "https://localhost:8080/"
        },
        "id": "uasEzZfWkabQ",
        "outputId": "238f9213-3622-4fc2-bbd0-191259eb843c"
      },
      "outputs": [
        {
          "output_type": "stream",
          "name": "stdout",
          "text": [
            "Olá como vai você? Espero que você esteja bem!!!\n"
          ]
        }
      ],
      "source": [
        "print ('Olá como vai você? Espero que você esteja bem!!!')"
      ]
    },
    {
      "cell_type": "code",
      "source": [
        "print (2+3)"
      ],
      "metadata": {
        "colab": {
          "base_uri": "https://localhost:8080/"
        },
        "id": "oa57wPjnnloQ",
        "outputId": "461b0804-dc3f-4358-f085-ff428d99e70c"
      },
      "execution_count": 2,
      "outputs": [
        {
          "output_type": "stream",
          "name": "stdout",
          "text": [
            "5\n"
          ]
        }
      ]
    },
    {
      "cell_type": "code",
      "source": [
        "print ('2'+'3')"
      ],
      "metadata": {
        "colab": {
          "base_uri": "https://localhost:8080/"
        },
        "id": "abGJWT06n2Ao",
        "outputId": "4edc5074-f255-4abe-9673-eb8e7f7bb4d2"
      },
      "execution_count": 3,
      "outputs": [
        {
          "output_type": "stream",
          "name": "stdout",
          "text": [
            "23\n"
          ]
        }
      ]
    },
    {
      "cell_type": "code",
      "source": [
        "print ('Olá',4)"
      ],
      "metadata": {
        "colab": {
          "base_uri": "https://localhost:8080/"
        },
        "id": "PtcaSAIKn8QQ",
        "outputId": "23346416-1bda-4fa1-a2f6-bffd42770303"
      },
      "execution_count": 5,
      "outputs": [
        {
          "output_type": "stream",
          "name": "stdout",
          "text": [
            "Olá 4\n"
          ]
        }
      ]
    },
    {
      "cell_type": "markdown",
      "source": [
        "Definindo Variáveis"
      ],
      "metadata": {
        "id": "MS2qaaYit3rF"
      }
    },
    {
      "cell_type": "code",
      "source": [
        "nome = 'Wagner'"
      ],
      "metadata": {
        "id": "nZZxyqn7oFEB"
      },
      "execution_count": 6,
      "outputs": []
    },
    {
      "cell_type": "code",
      "source": [
        "idade = 49"
      ],
      "metadata": {
        "id": "gJDZqaNluAX6"
      },
      "execution_count": 7,
      "outputs": []
    },
    {
      "cell_type": "code",
      "source": [
        "altura = 1.84"
      ],
      "metadata": {
        "id": "wdzT1xDGuFhL"
      },
      "execution_count": 8,
      "outputs": []
    },
    {
      "cell_type": "code",
      "source": [
        "sexo = 'M'"
      ],
      "metadata": {
        "id": "QNzo9FyfuJXF"
      },
      "execution_count": 9,
      "outputs": []
    },
    {
      "cell_type": "code",
      "source": [
        "Estado_civil = 'solteiro'"
      ],
      "metadata": {
        "id": "00MVykDOuMk_"
      },
      "execution_count": 12,
      "outputs": []
    },
    {
      "cell_type": "markdown",
      "source": [
        "Recuperando os Valores da Variável"
      ],
      "metadata": {
        "id": "8p7fUkJTvYnc"
      }
    },
    {
      "cell_type": "code",
      "source": [
        "nome"
      ],
      "metadata": {
        "colab": {
          "base_uri": "https://localhost:8080/",
          "height": 35
        },
        "id": "WrTqHZgkuUaH",
        "outputId": "b0a81db8-4b9e-46b7-dbc2-dc034ce25132"
      },
      "execution_count": 13,
      "outputs": [
        {
          "output_type": "execute_result",
          "data": {
            "application/vnd.google.colaboratory.intrinsic+json": {
              "type": "string"
            },
            "text/plain": [
              "'Wagner'"
            ]
          },
          "metadata": {},
          "execution_count": 13
        }
      ]
    },
    {
      "cell_type": "code",
      "source": [
        "idade"
      ],
      "metadata": {
        "colab": {
          "base_uri": "https://localhost:8080/"
        },
        "id": "5Z-_R3c0u14q",
        "outputId": "a26bb146-cfb4-4ea5-8c8c-23f9434591a5"
      },
      "execution_count": 14,
      "outputs": [
        {
          "output_type": "execute_result",
          "data": {
            "text/plain": [
              "49"
            ]
          },
          "metadata": {},
          "execution_count": 14
        }
      ]
    },
    {
      "cell_type": "code",
      "source": [
        "altura"
      ],
      "metadata": {
        "colab": {
          "base_uri": "https://localhost:8080/"
        },
        "id": "Ux58r05Ou4oB",
        "outputId": "6873d378-b804-4da6-f6ed-227f1331d14d"
      },
      "execution_count": 15,
      "outputs": [
        {
          "output_type": "execute_result",
          "data": {
            "text/plain": [
              "1.84"
            ]
          },
          "metadata": {},
          "execution_count": 15
        }
      ]
    },
    {
      "cell_type": "code",
      "source": [
        "sexo"
      ],
      "metadata": {
        "colab": {
          "base_uri": "https://localhost:8080/",
          "height": 35
        },
        "id": "0Eig5zzhu6bw",
        "outputId": "4b4b9b58-8e30-4840-c211-e98d7992c3f0"
      },
      "execution_count": 16,
      "outputs": [
        {
          "output_type": "execute_result",
          "data": {
            "application/vnd.google.colaboratory.intrinsic+json": {
              "type": "string"
            },
            "text/plain": [
              "'M'"
            ]
          },
          "metadata": {},
          "execution_count": 16
        }
      ]
    },
    {
      "cell_type": "code",
      "source": [
        "Estado_civil"
      ],
      "metadata": {
        "colab": {
          "base_uri": "https://localhost:8080/",
          "height": 35
        },
        "id": "_GCD47TIvET7",
        "outputId": "308107e7-95b4-4dbc-8b3a-6084b30676cb"
      },
      "execution_count": 19,
      "outputs": [
        {
          "output_type": "execute_result",
          "data": {
            "application/vnd.google.colaboratory.intrinsic+json": {
              "type": "string"
            },
            "text/plain": [
              "'solteiro'"
            ]
          },
          "metadata": {},
          "execution_count": 19
        }
      ]
    },
    {
      "cell_type": "markdown",
      "source": [
        "Recuperando Variáveis com o Comando Print"
      ],
      "metadata": {
        "id": "stqRJ8YGwOUt"
      }
    },
    {
      "cell_type": "code",
      "source": [
        "print(nome,idade)"
      ],
      "metadata": {
        "colab": {
          "base_uri": "https://localhost:8080/"
        },
        "id": "FsggI7AmwNjj",
        "outputId": "91a881a1-093f-4fad-993d-8d6a383e24dc"
      },
      "execution_count": 20,
      "outputs": [
        {
          "output_type": "stream",
          "name": "stdout",
          "text": [
            "Wagner 49\n"
          ]
        }
      ]
    },
    {
      "cell_type": "code",
      "source": [
        "print('O nome digitado é:',nome)"
      ],
      "metadata": {
        "colab": {
          "base_uri": "https://localhost:8080/"
        },
        "id": "_CbrmRMx2kw_",
        "outputId": "4a804bab-9318-40a6-ca0a-61245085a7bf"
      },
      "execution_count": 22,
      "outputs": [
        {
          "output_type": "stream",
          "name": "stdout",
          "text": [
            "O nome digitado é: Wagner\n"
          ]
        }
      ]
    },
    {
      "cell_type": "code",
      "source": [
        "print('O nome, a idade, a altura, o sexo e o estado civil são:',nome,idade,altura,sexo,Estado_civil)"
      ],
      "metadata": {
        "colab": {
          "base_uri": "https://localhost:8080/"
        },
        "id": "3LpLSJMt2_cd",
        "outputId": "24acf146-579a-4bf3-8190-17781e3e7dc3"
      },
      "execution_count": 26,
      "outputs": [
        {
          "output_type": "stream",
          "name": "stdout",
          "text": [
            "O nome, a idade, a altura, o sexo e o estado civil são: Wagner 49 1.84 M solteiro\n"
          ]
        }
      ]
    },
    {
      "cell_type": "markdown",
      "source": [
        "Exibindo as variáveis com print formatado"
      ],
      "metadata": {
        "id": "Ca0fbF874IgD"
      }
    },
    {
      "cell_type": "code",
      "source": [
        "print(f'O nome é: {nome}, a idade é: {idade}, o sexo é: {sexo}, e o estado civil é: {Estado_civil}')"
      ],
      "metadata": {
        "colab": {
          "base_uri": "https://localhost:8080/"
        },
        "id": "FsVu9vy037d7",
        "outputId": "40f37f27-9c31-44b4-948e-d76339bf2420"
      },
      "execution_count": 27,
      "outputs": [
        {
          "output_type": "stream",
          "name": "stdout",
          "text": [
            "O nome é: Wagner, a idade é: 49, o sexo é: M, e o estado civil é: solteiro\n"
          ]
        }
      ]
    },
    {
      "cell_type": "markdown",
      "source": [
        "Definindo variáveis pelo comando input através do que o usuário digita"
      ],
      "metadata": {
        "id": "NbBb9FzM5nyh"
      }
    },
    {
      "cell_type": "code",
      "source": [
        "nome=input('qual é o seu nome? ')"
      ],
      "metadata": {
        "colab": {
          "base_uri": "https://localhost:8080/"
        },
        "id": "SZwYEVBl4tUv",
        "outputId": "45ae150b-3308-4b7d-b57e-0f362bc22be0"
      },
      "execution_count": 28,
      "outputs": [
        {
          "name": "stdout",
          "output_type": "stream",
          "text": [
            "qual é o seu nome: Wagner\n"
          ]
        }
      ]
    },
    {
      "cell_type": "code",
      "source": [
        "altura=input('Qual é sua altura? ')"
      ],
      "metadata": {
        "colab": {
          "base_uri": "https://localhost:8080/"
        },
        "id": "WBc2_1k_6KRo",
        "outputId": "5357267e-ac21-4509-e5b0-2bb195606013"
      },
      "execution_count": 30,
      "outputs": [
        {
          "name": "stdout",
          "output_type": "stream",
          "text": [
            "Qual é sua altura: 1.89\n"
          ]
        }
      ]
    },
    {
      "cell_type": "code",
      "source": [
        "idade=input('Qual é a sua idade? ')"
      ],
      "metadata": {
        "colab": {
          "base_uri": "https://localhost:8080/"
        },
        "id": "uttE5uGM6kMw",
        "outputId": "f71e63c7-3706-4c19-88ec-d181a04978c2"
      },
      "execution_count": 32,
      "outputs": [
        {
          "name": "stdout",
          "output_type": "stream",
          "text": [
            "Qual é a sua idade: 49\n"
          ]
        }
      ]
    },
    {
      "cell_type": "code",
      "source": [
        "sexo=input('Qual é o seu sexo M ou F? ')"
      ],
      "metadata": {
        "colab": {
          "base_uri": "https://localhost:8080/"
        },
        "id": "SsdT4KLs6tqm",
        "outputId": "977eb567-aff0-4b5f-8a93-437746112f7b"
      },
      "execution_count": 33,
      "outputs": [
        {
          "name": "stdout",
          "output_type": "stream",
          "text": [
            "Qual é o seu sexo M ou F? M\n"
          ]
        }
      ]
    },
    {
      "cell_type": "code",
      "source": [
        "Estado_civil=input('Você é solteiro (a) ou casado (a)? ')"
      ],
      "metadata": {
        "colab": {
          "base_uri": "https://localhost:8080/"
        },
        "id": "LfCJE1T07F50",
        "outputId": "f8594cb5-d70b-4d6c-e660-e3878dbcc0ea"
      },
      "execution_count": 34,
      "outputs": [
        {
          "name": "stdout",
          "output_type": "stream",
          "text": [
            "Você é solteiro (a) ou casado (a)? solteiro\n"
          ]
        }
      ]
    },
    {
      "cell_type": "markdown",
      "source": [
        "Criando um Scrip em Python com variáveis definidas pelo usuário"
      ],
      "metadata": {
        "id": "fjcctAUM9FKS"
      }
    },
    {
      "cell_type": "code",
      "source": [
        "nome=input('Qual é o seu nome? ')\n",
        "idade=input('Qual é a sua idade? ')\n",
        "altura=input('Qual é a sua altura? ')\n",
        "sexo=input('Qual é o seu sexo (M) ou (F)? ')\n",
        "Estado_civil=input('Qual é o seu estado civil? ')"
      ],
      "metadata": {
        "colab": {
          "base_uri": "https://localhost:8080/"
        },
        "id": "H8AZIBFW83Qt",
        "outputId": "00c88644-d2d2-4cb8-fab8-7b68ef74b880"
      },
      "execution_count": 8,
      "outputs": [
        {
          "name": "stdout",
          "output_type": "stream",
          "text": [
            "Qual é o seu nome? Wagner\n",
            "Qual é a sua idade? 49\n",
            "Qual é a sua altura? 1.84\n",
            "Qual é o seu sexo (M) ou (F)? M\n",
            "Qual é o seu estado civil? solteiro\n"
          ]
        }
      ]
    }
  ]
}