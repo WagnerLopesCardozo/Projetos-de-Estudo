{
  "nbformat": 4,
  "nbformat_minor": 0,
  "metadata": {
    "colab": {
      "name": "Merge_Sort.ipynb",
      "provenance": [],
      "authorship_tag": "ABX9TyOaYQUQVTafJfPCEgAdcLz6",
      "include_colab_link": true
    },
    "kernelspec": {
      "name": "python3",
      "display_name": "Python 3"
    },
    "language_info": {
      "name": "python"
    }
  },
  "cells": [
    {
      "cell_type": "markdown",
      "metadata": {
        "id": "view-in-github",
        "colab_type": "text"
      },
      "source": [
        "<a href=\"https://colab.research.google.com/github/WagnerLopesCardozo/Projetos-de-Estudo-CD-FaTec-Ourinhos/blob/main/Merge_Sort.ipynb\" target=\"_parent\"><img src=\"https://colab.research.google.com/assets/colab-badge.svg\" alt=\"Open In Colab\"/></a>"
      ]
    },
    {
      "cell_type": "markdown",
      "source": [
        "#Método de Ordenação - Estrutura de Dados:"
      ],
      "metadata": {
        "id": "CJJVebMcbE-a"
      }
    },
    {
      "cell_type": "markdown",
      "source": [
        "Código que ordena os elementos de uma lista pelo método Merge Sort"
      ],
      "metadata": {
        "id": "PefKiyNWbLgZ"
      }
    },
    {
      "cell_type": "code",
      "execution_count": 11,
      "metadata": {
        "colab": {
          "base_uri": "https://localhost:8080/"
        },
        "id": "spX_kwzyHUhI",
        "outputId": "1311adb7-31f5-4358-d68a-3c8b48ef151c"
      },
      "outputs": [
        {
          "output_type": "stream",
          "name": "stdout",
          "text": [
            "+++++++++++++++++++++++++++++++++++++++++++++++++++++++++++++++++++++\n",
            "Programa que ordena os elementos de uma lista com o método Merge Sort\n",
            "+++++++++++++++++++++++++++++++++++++++++++++++++++++++++++++++++++++\n",
            "Lista desordenada é:  [34, 12, 20, 7, 13, 15, 2, 23, -7]\n",
            "Lista ordenada é:  [-7, 2, 7, 12, 13, 15, 20, 23, 34]\n",
            "FIM DO PROGRAMA\n"
          ]
        }
      ],
      "source": [
        "print('+' * 69)\n",
        "print('Programa que ordena os elementos de uma lista com o método Merge Sort')\n",
        "print('+' * 69)\n",
        "\n",
        "\n",
        "\n",
        "def shell_sort(lista, n):\n",
        " \n",
        "    h = n // 2\n",
        "    while h > 0:\n",
        "        for i in range(h, n):\n",
        "            t = lista[i]\n",
        "            j = i\n",
        "            while j >= h and lista[j - h] > t:\n",
        "                lista[j] = lista[j - h]\n",
        "                j -= h\n",
        " \n",
        "            lista[j] = t\n",
        "        h = h // 2\n",
        " \n",
        " \n",
        "lista = [34, 12, 20, 7, 13, 15, 2, 23, -7]\n",
        "n = len(lista)\n",
        "print('Lista desordenada é: ', lista)\n",
        "shell_sort(lista, n)\n",
        "print('Lista ordenada é: ', lista) \n",
        "print('FIM DO PROGRAMA') "
      ]
    }
  ]
}