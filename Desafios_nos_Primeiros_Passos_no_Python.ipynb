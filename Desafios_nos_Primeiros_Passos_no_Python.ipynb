{
  "nbformat": 4,
  "nbformat_minor": 0,
  "metadata": {
    "colab": {
      "name": "Desafios nos Primeiros Passos no Python.ipynb",
      "provenance": [],
      "authorship_tag": "ABX9TyOZYWTzIrpHYKT07x/cEG9/",
      "include_colab_link": true
    },
    "kernelspec": {
      "name": "python3",
      "display_name": "Python 3"
    },
    "language_info": {
      "name": "python"
    }
  },
  "cells": [
    {
      "cell_type": "markdown",
      "metadata": {
        "id": "view-in-github",
        "colab_type": "text"
      },
      "source": [
        "<a href=\"https://colab.research.google.com/github/WagnerLopesCardozo/Projetos-de-Estudo-CD-FaTec-Ourinhos/blob/main/Desafios_nos_Primeiros_Passos_no_Python.ipynb\" target=\"_parent\"><img src=\"https://colab.research.google.com/assets/colab-badge.svg\" alt=\"Open In Colab\"/></a>"
      ]
    },
    {
      "cell_type": "markdown",
      "source": [
        "#Desafios com Declaração de Variáveis com o comando INPUT e Exibição com o Comando PRINT Usando PRINT Formatado"
      ],
      "metadata": {
        "id": "sX0siUTNyxST"
      }
    },
    {
      "cell_type": "markdown",
      "source": [
        "Desafio 1: Criar um script que recebe o nome de uma pessoa e apareça a seguinte mensagem: Olá (nome digitado) seja bem vindo a FaTec Ourinhos!!!"
      ],
      "metadata": {
        "id": "JYs60eTyjdBB"
      }
    },
    {
      "cell_type": "code",
      "execution_count": 1,
      "metadata": {
        "colab": {
          "base_uri": "https://localhost:8080/"
        },
        "id": "HH7s2M9ziP-O",
        "outputId": "9a96b6cf-a097-44e5-f4f4-aa0abd7dbeac"
      },
      "outputs": [
        {
          "output_type": "stream",
          "name": "stdout",
          "text": [
            "Digite o seu nome: Wagner\n",
            "Olá Wagner, seja bem vido (a) a FaTec Ourinhos\n"
          ]
        }
      ],
      "source": [
        "nome=input('Digite o seu nome: ')\n",
        "print(f'Olá {nome}, seja bem vido (a) a FaTec Ourinhos')"
      ]
    },
    {
      "cell_type": "markdown",
      "source": [
        "Desafia 2: Criar um scrip que recebe o dia, o mês e o ano de nascimento de uma pessoa separadamente e deve exibir no final a seguinte mensagem: você nasceu no dia (dia), do mês (mes) no ano (ano)."
      ],
      "metadata": {
        "id": "vpytMYjajlK_"
      }
    },
    {
      "cell_type": "code",
      "source": [
        "dia=input('Digite o dia do mês que você nasceu: ')\n",
        "mes=input('Digite o mês do ano que você nasceu: ')\n",
        "ano=input('Digite o ano em que você nasceu: ')\n",
        "print(f'Você nasceu no dia {dia} do mês {mes} no ano {ano}.')"
      ],
      "metadata": {
        "colab": {
          "base_uri": "https://localhost:8080/"
        },
        "id": "c7fuzX2likTh",
        "outputId": "d4c70e45-a002-4f6e-82db-0c010bbefaf0"
      },
      "execution_count": 2,
      "outputs": [
        {
          "output_type": "stream",
          "name": "stdout",
          "text": [
            "Digite o dia do mês que você nasceu: 7\n",
            "Digite o mês do ano que você nasceu: 8\n",
            "Digite o ano em que você nasceu: 1972\n",
            "Você nasceu no dia 7 do mês 8 no ano 1972.\n"
          ]
        }
      ]
    },
    {
      "cell_type": "markdown",
      "source": [
        "Desafio 3: Criar um scrip que recebe dois números, faz a some desses dois números e depois mostra o valor da soma."
      ],
      "metadata": {
        "id": "m-Lv18C6j1Hc"
      }
    },
    {
      "cell_type": "code",
      "source": [
        "num1 = float ( input ('Digite o promeiro número: '))\n",
        "num2 = float ( input ('Digite o segundo número: '))\n",
        "soma = num1 + num2\n",
        "print(f'A soma dos dois números é: {soma}.')"
      ],
      "metadata": {
        "colab": {
          "base_uri": "https://localhost:8080/"
        },
        "id": "uiUu4QCijBHa",
        "outputId": "4bcf96dc-1e69-4ee3-f04b-248bd08ced69"
      },
      "execution_count": 3,
      "outputs": [
        {
          "output_type": "stream",
          "name": "stdout",
          "text": [
            "Digite o promeiro número: 30\n",
            "Digite o segundo número: 19\n",
            "A soma dos dois números é: 49.0.\n"
          ]
        }
      ]
    },
    {
      "cell_type": "markdown",
      "source": [
        "Desafio 4: Criar um scrip que recebe doi números e exibe a soma desses dois números e os dois números digitados."
      ],
      "metadata": {
        "id": "H4WH2sbOj849"
      }
    },
    {
      "cell_type": "code",
      "source": [
        "num1 = int(input('Digite o primeiro número: '))\n",
        "num2 = int(input('Digite o segundo número: '))\n",
        "soma = num1 + num2\n",
        "print(f'O número {num1} e o número {num2} somados vai dar: {soma}.')"
      ],
      "metadata": {
        "colab": {
          "base_uri": "https://localhost:8080/"
        },
        "id": "6Zb4Mw4fjKYu",
        "outputId": "dd6bc1d3-52a2-410b-8a99-240d38953cbe"
      },
      "execution_count": 4,
      "outputs": [
        {
          "output_type": "stream",
          "name": "stdout",
          "text": [
            "Digite o primeiro número: 30\n",
            "Digite o segundo número: 19\n",
            "O número 30 e o número 19 somados vai dar: 49.\n"
          ]
        }
      ]
    }
  ]
}