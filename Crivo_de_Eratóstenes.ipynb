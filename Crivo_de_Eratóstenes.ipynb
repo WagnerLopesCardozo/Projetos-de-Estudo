{
  "nbformat": 4,
  "nbformat_minor": 0,
  "metadata": {
    "colab": {
      "name": "Crivo de Eratóstenes.ipynb",
      "provenance": [],
      "authorship_tag": "ABX9TyOjoLNQdo5pW2hqSesXIj1y",
      "include_colab_link": true
    },
    "kernelspec": {
      "name": "python3",
      "display_name": "Python 3"
    },
    "language_info": {
      "name": "python"
    }
  },
  "cells": [
    {
      "cell_type": "markdown",
      "metadata": {
        "id": "view-in-github",
        "colab_type": "text"
      },
      "source": [
        "<a href=\"https://colab.research.google.com/github/WagnerLopesCardozo/Projetos-de-Estudo-CD-FaTec-Ourinhos/blob/main/Crivo_de_Erat%C3%B3stenes.ipynb\" target=\"_parent\"><img src=\"https://colab.research.google.com/assets/colab-badge.svg\" alt=\"Open In Colab\"/></a>"
      ]
    },
    {
      "cell_type": "markdown",
      "source": [
        "#Método de Eratóstenes no Python"
      ],
      "metadata": {
        "id": "56lXRWXZ_kXs"
      }
    },
    {
      "cell_type": "markdown",
      "source": [
        "Código que calcula números primos pelo Método de Eratóstenes."
      ],
      "metadata": {
        "id": "SwTt_LFb_Ybz"
      }
    },
    {
      "cell_type": "code",
      "source": [
        "print('*'*88)\n",
        "print('Programa que calcula a quantidade de números primos pelo método de Crivo de Eratóstenes:')\n",
        "print('*'*88)\n",
        "\n",
        "\n",
        "from math import floor\n",
        "import time\n",
        "\n",
        "def crivo(n):\n",
        "  numeros = list(range(2, n+1))\n",
        "  primo = [True] * (n-1)\n",
        "\n",
        "  calcular_maximo = floor(numeros[-1] ** (1/2))\n",
        "\n",
        "  for i in range (2, calcular_maximo +1):\n",
        "\n",
        "    for j in numeros:\n",
        "\n",
        "      if i != j:\n",
        "\n",
        "        if j % i == 0:\n",
        "\n",
        "          primo[j-2] = False\n",
        "    \n",
        "    primo = [numeros[i] for i,j in enumerate(primo) if j == True]\n",
        "\n",
        "    return primo\n",
        "\n",
        "start=time.time()\n",
        "\n",
        "quantidade_primo=int(input('Digite a quantidade de números que se quer verificar os números primos: '))\n",
        "\n",
        "primo=crivo(quantidade_primo)\n",
        "end=time.time()\n",
        "print(f'Tempo:{end-start}')\n",
        "print(f'Os números primos são:{primo}')\n",
        "print('FIM DO PROGRAMA')\n",
        "\n",
        "\n",
        "\n",
        "\n"
      ],
      "metadata": {
        "colab": {
          "base_uri": "https://localhost:8080/"
        },
        "id": "oy4D3Cz_nMfd",
        "outputId": "8f6a62ee-5c60-41e8-e0d1-d75cda219288"
      },
      "execution_count": 31,
      "outputs": [
        {
          "output_type": "stream",
          "name": "stdout",
          "text": [
            "****************************************************************************************\n",
            "Programa que calcula a quantidade de números primos pelo método de Crivo de Eratóstenes:\n",
            "****************************************************************************************\n",
            "Digite a quantidade de números que se quer verificar os números primos: 100\n",
            "Tempo:9.345849990844727\n",
            "Os números primos são:[2, 3, 5, 7, 9, 11, 13, 15, 17, 19, 21, 23, 25, 27, 29, 31, 33, 35, 37, 39, 41, 43, 45, 47, 49, 51, 53, 55, 57, 59, 61, 63, 65, 67, 69, 71, 73, 75, 77, 79, 81, 83, 85, 87, 89, 91, 93, 95, 97, 99]\n",
            "FIM DO PROGRAMA\n"
          ]
        }
      ]
    },
    {
      "cell_type": "code",
      "source": [
        ""
      ],
      "metadata": {
        "id": "e6fzBU6OvZ6b"
      },
      "execution_count": null,
      "outputs": []
    }
  ]
}