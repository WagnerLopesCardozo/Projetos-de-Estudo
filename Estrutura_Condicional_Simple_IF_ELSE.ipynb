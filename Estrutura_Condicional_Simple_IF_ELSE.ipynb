{
  "nbformat": 4,
  "nbformat_minor": 0,
  "metadata": {
    "colab": {
      "name": "Estrutura_Condicional_Simple_IF_ELSE.ipynb",
      "provenance": [],
      "collapsed_sections": [],
      "authorship_tag": "ABX9TyOSOwrdwFVjSR/8/+WylAUS",
      "include_colab_link": true
    },
    "kernelspec": {
      "name": "python3",
      "display_name": "Python 3"
    },
    "language_info": {
      "name": "python"
    }
  },
  "cells": [
    {
      "cell_type": "markdown",
      "metadata": {
        "id": "view-in-github",
        "colab_type": "text"
      },
      "source": [
        "<a href=\"https://colab.research.google.com/github/WagnerLopesCardozo/Projetos-de-Estudo-CD-FaTec-Ourinhos/blob/main/Estrutura_Condicional_Simple_IF_ELSE.ipynb\" target=\"_parent\"><img src=\"https://colab.research.google.com/assets/colab-badge.svg\" alt=\"Open In Colab\"/></a>"
      ]
    },
    {
      "cell_type": "code",
      "metadata": {
        "colab": {
          "base_uri": "https://localhost:8080/"
        },
        "id": "m6_yy1BnB1_1",
        "outputId": "1592703d-e6ff-4d71-96ea-947d7b5d548a"
      },
      "source": [
        "'''\n",
        "Código que lê a idade de uma pessoa e verifica se é maior ou menor de idade.\n",
        "'''\n",
        "\n",
        "idade = int ( input ('Digite a sua idade: '))\n",
        "if idade >= 18:\n",
        "    print ('Você é maior de idade.')\n",
        "\n",
        "else:\n",
        "    print ('Você é menor de idade.')"
      ],
      "execution_count": 2,
      "outputs": [
        {
          "output_type": "stream",
          "name": "stdout",
          "text": [
            "Digite a sua idade: 49\n",
            "Você é maior de idade.\n"
          ]
        }
      ]
    },
    {
      "cell_type": "code",
      "metadata": {
        "colab": {
          "base_uri": "https://localhost:8080/"
        },
        "id": "VDbeU1kLCUDJ",
        "outputId": "05c36fee-a2ac-4ebd-992d-93a0c0e2e4f0"
      },
      "source": [
        "'''\n",
        "Código que lê a idade de uma pessoa e verifica se é maior ou menor de idade (feito de uma outra forma).\n",
        "'''\n",
        "\n",
        "idade = int ( input ('Digite a sua idade: '))\n",
        "\n",
        "if idade <18:\n",
        "    print ('Você é menor de idade.')\n",
        "\n",
        "else:\n",
        "    print ('Você é maior de idade.')"
      ],
      "execution_count": 3,
      "outputs": [
        {
          "output_type": "stream",
          "name": "stdout",
          "text": [
            "Digite a sua idade: 17\n",
            "Você é menor de idade.\n"
          ]
        }
      ]
    },
    {
      "cell_type": "code",
      "metadata": {
        "colab": {
          "base_uri": "https://localhost:8080/"
        },
        "id": "PazSmZrtC4-7",
        "outputId": "cacaf049-7577-492c-dc37-f03533dd2246"
      },
      "source": [
        "'''\n",
        "Código que recebe duas notas, calcula a média e mostra se o aluno está aprovado ou reprovado.\n",
        "'''\n",
        "\n",
        "nota1 = float ( input ('Digite a nota da P1: '))\n",
        "nota2 = float ( input ('Digite a nota da P2: '))\n",
        "\n",
        "media = (nota1 + nota2)/2\n",
        "\n",
        "if media >= 6:\n",
        "    print (f'O aluno está aprovado com média = {media :.2f}')\n",
        "\n",
        "else:\n",
        "    print (f'O aluno está reprovado com média = {media :.2f}')"
      ],
      "execution_count": 4,
      "outputs": [
        {
          "output_type": "stream",
          "name": "stdout",
          "text": [
            "Digite a nota da P1: 9.0\n",
            "Digite a nota da P2: 8.5\n",
            "O aluno está aprovado com média = 8.75\n"
          ]
        }
      ]
    },
    {
      "cell_type": "code",
      "metadata": {
        "colab": {
          "base_uri": "https://localhost:8080/"
        },
        "id": "tPw5VDlbDD5G",
        "outputId": "cbd6bc01-42c3-40cb-c13d-5a8aa69d4851"
      },
      "source": [
        "'''\n",
        "Código que verifica se um número real é par ou ímpar.\n",
        "'''\n",
        "\n",
        "n = int ( input ('Digite um número: '))\n",
        "\n",
        "if (n % 2)!= 0:\n",
        "    print ('O número é ímpar.')\n",
        "\n",
        "else:\n",
        "    print ('O número é par.')"
      ],
      "execution_count": 5,
      "outputs": [
        {
          "output_type": "stream",
          "name": "stdout",
          "text": [
            "Digite um número: 7\n",
            "O número é ímpar.\n"
          ]
        }
      ]
    }
  ]
}