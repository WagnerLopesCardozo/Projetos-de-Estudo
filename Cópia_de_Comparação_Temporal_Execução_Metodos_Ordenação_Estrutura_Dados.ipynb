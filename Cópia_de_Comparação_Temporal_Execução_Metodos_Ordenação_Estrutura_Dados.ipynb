{
  "nbformat": 4,
  "nbformat_minor": 0,
  "metadata": {
    "colab": {
      "name": "Cópia de Comparação_Temporal_Execução_Metodos_Ordenação_Estrutura_Dados.ipynb",
      "provenance": [],
      "collapsed_sections": [],
      "include_colab_link": true
    },
    "kernelspec": {
      "name": "python3",
      "display_name": "Python 3"
    },
    "language_info": {
      "name": "python"
    }
  },
  "cells": [
    {
      "cell_type": "markdown",
      "metadata": {
        "id": "view-in-github",
        "colab_type": "text"
      },
      "source": [
        "<a href=\"https://colab.research.google.com/github/WagnerLopesCardozo/Projetos-de-Estudo-CD-FaTec-Ourinhos/blob/main/C%C3%B3pia_de_Compara%C3%A7%C3%A3o_Temporal_Execu%C3%A7%C3%A3o_Metodos_Ordena%C3%A7%C3%A3o_Estrutura_Dados.ipynb\" target=\"_parent\"><img src=\"https://colab.research.google.com/assets/colab-badge.svg\" alt=\"Open In Colab\"/></a>"
      ]
    },
    {
      "cell_type": "markdown",
      "source": [
        "#Comparativo do Tempo de Processamento Para uma Determinada Quantidade de Elementos Crescente de Sete Códigos distintos de Métodos de Ordenação Pesquisados em Estrutura de Dados "
      ],
      "metadata": {
        "id": "iXr2xpqP7Ux-"
      }
    },
    {
      "cell_type": "markdown",
      "source": [
        "Definindo a quantidade de elementos a serem ordenados:"
      ],
      "metadata": {
        "id": "ih4F4XtC23FV"
      }
    },
    {
      "cell_type": "code",
      "source": [
        "# Definição Tamanho(n)\n",
        "\n",
        "#[100, 1000, 5000, 10000, 20000, 50000, 100000, 200000, 500000 ]\n",
        "\n",
        "import random\n",
        "import numpy as np\n",
        "n = 100000\n",
        "X = list(np.random.random(n))\n",
        "\n",
        "#print(X) # para testar com poucos elementos e poder observar a criação\n",
        "print()\n",
        "print('Vetor não ordenado de tamanho', len(X), 'realizado com sucesso!')"
      ],
      "metadata": {
        "colab": {
          "base_uri": "https://localhost:8080/"
        },
        "id": "pwY1bdupa3sb",
        "outputId": "63a03efd-e79b-469d-80c7-0c9611453f88"
      },
      "execution_count": null,
      "outputs": [
        {
          "output_type": "stream",
          "name": "stdout",
          "text": [
            "\n",
            "Vetor não ordenado de tamanho 100000 realizado com sucesso!\n"
          ]
        }
      ]
    },
    {
      "cell_type": "markdown",
      "source": [
        "Código de ordenação Merge Sort:"
      ],
      "metadata": {
        "id": "2LDQkNz63Cas"
      }
    },
    {
      "cell_type": "code",
      "source": [
        "# Implementação em Python do algoritmo de ordenação MergeSort (comum a todos)\n",
        "\n",
        "import time\n",
        "import random\n",
        "import numpy as np\n",
        "\n",
        "def MergeSort(L):\n",
        "\n",
        "  if len(L) > 1:\n",
        "    meio = len(L)//2\n",
        "    LE = L[:meio] # Lista Esquerda\n",
        "    LD = L[meio:] # Lista Direita\n",
        "    # Aplica recursivamente nas sublistas\n",
        "    MergeSort(LE)\n",
        "    MergeSort(LD)\n",
        "    # Quando volta da recursão inicia aqui!\n",
        "    i, j, k = 0, 0, 0\n",
        "    # Faz a intercalação das duas listas (merge)\n",
        "    while i < len(LE) and j < len(LD):\n",
        "        if LE[i] < LD[j]:\n",
        "            L[k] = LE[i]\n",
        "            i += 1\n",
        "        else:\n",
        "            L[k] = LD[j]\n",
        "            j += 1\n",
        "        k += 1\n",
        "    while i < len(LE):\n",
        "        L[k] = LE[i]\n",
        "        i += 1\n",
        "        k += 1\n",
        "    while j < len(LD):\n",
        "        L[k] = LD[j]\n",
        "        j += 1\n",
        "        k += 1\n",
        "\n",
        "# Aplica MergSort\n",
        "inicio = time.time()\n",
        "MergeSort(X)\n",
        "fim = time.time()\n",
        "\n",
        "print('Método aplicado: MergSort')\n",
        "print()\n",
        "print('Tamanho do vetor:', n)\n",
        "#print('Vetor ordenado: ')\n",
        "#print(X)\n",
        "print()\n",
        "print('Tempo de processamento: %.3f s' %(fim - inicio))"
      ],
      "metadata": {
        "colab": {
          "base_uri": "https://localhost:8080/"
        },
        "id": "Ix4sQvJJwnIt",
        "outputId": "c6ad5253-9c98-41ae-a7af-51aa4c4295d6"
      },
      "execution_count": null,
      "outputs": [
        {
          "output_type": "stream",
          "name": "stdout",
          "text": [
            "Método aplicado: MergSort\n",
            "\n",
            "Tamanho do vetor: 100000\n",
            "\n",
            "Tempo de processamento: 0.837 s\n"
          ]
        }
      ]
    },
    {
      "cell_type": "markdown",
      "source": [
        "Código de ordenação Quick Sort:"
      ],
      "metadata": {
        "id": "ya-vDa2O3QSK"
      }
    },
    {
      "cell_type": "code",
      "source": [
        "# Implementação em Python do algoritmo de ordenação QuickSort (comum a todos)\n",
        "\n",
        "def QuickSort(L):\n",
        "\n",
        "    if len(L) <= 1:\n",
        "        return L\n",
        "    # Pivô é o primeiro elemento da lista pode ser último ou do meio)\n",
        "    m = L[0]\n",
        "    # Chamada recursiva\n",
        "    return QuickSort([x for x in L if x < m]) + \\\n",
        "                      [x for x in L if x == m] + \\\n",
        "          QuickSort([x for x in L if x > m])\n",
        "\n",
        "\n",
        "# Aplica QuickSort\n",
        "inicio = time.time()\n",
        "MergeSort(X)\n",
        "fim = time.time()\n",
        "\n",
        "print('Método aplicado: QuickSort')\n",
        "print()\n",
        "print('Tamanho do vetor:', n)\n",
        "#print('Vetor ordenado: ')\n",
        "#print(X)\n",
        "print()\n",
        "print('Tempo de processamento: %.3f s' %(fim - inicio))\n"
      ],
      "metadata": {
        "colab": {
          "base_uri": "https://localhost:8080/"
        },
        "id": "zJU_rNYX0fXF",
        "outputId": "2f99581d-2a8b-47d0-b682-4edfa912dc64"
      },
      "execution_count": null,
      "outputs": [
        {
          "output_type": "stream",
          "name": "stdout",
          "text": [
            "Método aplicado: QuickSort\n",
            "\n",
            "Tamanho do vetor: 100000\n",
            "\n",
            "Tempo de processamento: 0.668 s\n"
          ]
        }
      ]
    },
    {
      "cell_type": "markdown",
      "source": [
        "Código de ordenação Shell Sort:"
      ],
      "metadata": {
        "id": "uQLsS3vF3a7i"
      }
    },
    {
      "cell_type": "code",
      "source": [
        "# Implementação em Python do algoritmo de ordenação ShellSort (comum a todos)\n",
        "\n",
        "def shellSort(array, n):\n",
        "\n",
        "    # Reorganizar os elementos em cada intervalo n/2, n/4, n/8, ...\n",
        "    interval = n // 2\n",
        "    while interval > 0:\n",
        "        for i in range(interval, n):\n",
        "            temp = array[i]\n",
        "            j = i\n",
        "            while j >= interval and array[j - interval] > temp:\n",
        "                array[j] = array[j - interval]\n",
        "                j -= interval\n",
        "\n",
        "            array[j] = temp\n",
        "        interval //= 2\n",
        "\n",
        "\n",
        "# Aplica ShellSort\n",
        "inicio = time.time()\n",
        "size = len(X)\n",
        "shellSort(X, size)\n",
        "fim = time.time()\n",
        "\n",
        "print('Método aplicado: ShellSort')\n",
        "print()\n",
        "print('Tamanho do vetor:', n)\n",
        "#print('Vetor ordenado: ')\n",
        "#print(X)\n",
        "print()\n",
        "print('Tempo de processamento: %.3f s' %(fim - inicio))\n"
      ],
      "metadata": {
        "colab": {
          "base_uri": "https://localhost:8080/"
        },
        "id": "hLbd1JD3R1Yc",
        "outputId": "19565a75-c44a-47c5-b7d2-daa04f7ae822"
      },
      "execution_count": null,
      "outputs": [
        {
          "output_type": "stream",
          "name": "stdout",
          "text": [
            "Método aplicado: ShellSort\n",
            "\n",
            "Tamanho do vetor: 100000\n",
            "\n",
            "Tempo de processamento: 0.525 s\n"
          ]
        }
      ]
    },
    {
      "cell_type": "markdown",
      "source": [
        "Código de ordenação Bucket Sort:"
      ],
      "metadata": {
        "id": "WGbumg1f3i1U"
      }
    },
    {
      "cell_type": "code",
      "source": [
        "# Implementação em Python do algoritmo de ordenação BucketSort\n",
        "\n",
        "def bucketSort(lista):\n",
        "    maior = max(lista) #maior\n",
        "    comprimento = len(lista) #comprimento\n",
        "    tamanho = maior / comprimento #tamanho\n",
        "\n",
        "    #criando o compartimento\n",
        "    buckets = [[] for i in range(comprimento)] #compartimento, algo do tipo um balde\n",
        "\n",
        "    #ordenando o pacote o método bucket sort propiamente dito\n",
        "    for i in range(comprimento):\n",
        "        indice = int(lista[i] / tamanho) #índice\n",
        "        if indice != comprimento:\n",
        "            buckets[indice].append(lista[i])\n",
        "        else:\n",
        "            buckets[comprimento - 1].append(lista[i])\n",
        "\n",
        "    #clasificando os pacotes individualmente\n",
        "    for i in range(len(lista)):\n",
        "        buckets[i] = sorted(buckets[i])\n",
        "\n",
        "    #encontrando a lista\n",
        "    resultado = [] #resultado\n",
        "    for i in range(comprimento):\n",
        "        resultado = resultado + buckets[i]\n",
        "\n",
        "    return resultado\n",
        "\n",
        "# Aplica BucketSort\n",
        "inicio = time.time()\n",
        "bucketSort(X)\n",
        "fim = time.time()\n",
        "\n",
        "print('Método aplicado: BucketSort')\n",
        "print()\n",
        "print('Tamanho do vetor:', n)\n",
        "#print('Vetor ordenado: ')\n",
        "#print(X)\n",
        "print()\n",
        "print('Tempo de processamento: %.3f s' %(fim - inicio))\n"
      ],
      "metadata": {
        "colab": {
          "base_uri": "https://localhost:8080/"
        },
        "id": "ktWI77kvb7Ho",
        "outputId": "9077ad3a-0d7b-4ce4-b533-e713d6530685"
      },
      "execution_count": null,
      "outputs": [
        {
          "output_type": "stream",
          "name": "stdout",
          "text": [
            "Método aplicado: BucketSort\n",
            "\n",
            "Tamanho do vetor: 100000\n",
            "\n",
            "Tempo de processamento: 36.241 s\n"
          ]
        }
      ]
    },
    {
      "cell_type": "markdown",
      "source": [
        "Código de Ordenação Selection Sort:"
      ],
      "metadata": {
        "id": "xFxSLTDX3rMi"
      }
    },
    {
      "cell_type": "code",
      "source": [
        "# Implementação em Python do algoritmo de ordenação Selectionsort\n",
        "\n",
        "def selectionsort(lista):\n",
        "    for i in range(0, len(lista) - 1):\n",
        "        o_menor = i\n",
        "        for j in range(i + 1, len(lista)):\n",
        "            if lista[j] < lista[o_menor]:\n",
        "                o_menor = j\n",
        "        lista[i], lista[o_menor] = lista[o_menor], lista[i]\n",
        " \n",
        " # Aplica Selectionsort\n",
        "inicio = time.time()\n",
        "selectionsort(X)\n",
        "fim = time.time()\n",
        "\n",
        "print('Método aplicado: SelectionSort')\n",
        "print()\n",
        "print('Tamanho do vetor:', n)\n",
        "#print('Vetor ordenado: ')\n",
        "#print(X)\n",
        "print()\n",
        "print('Tempo de processamento: %.3f s' %(fim - inicio))\n"
      ],
      "metadata": {
        "id": "HpeqM4MThzpy",
        "colab": {
          "base_uri": "https://localhost:8080/"
        },
        "outputId": "77c80445-6782-4792-cac8-e6021ce89086"
      },
      "execution_count": null,
      "outputs": [
        {
          "output_type": "stream",
          "name": "stdout",
          "text": [
            "Método aplicado: SelectionSort\n",
            "\n",
            "Tamanho do vetor: 100000\n",
            "\n",
            "Tempo de processamento: 988.522 s\n"
          ]
        }
      ]
    },
    {
      "cell_type": "markdown",
      "source": [
        "Código de Ordenação Bozo Sort:"
      ],
      "metadata": {
        "id": "xgqxf1H73ysi"
      }
    },
    {
      "cell_type": "code",
      "source": [
        "# Implementação em Python do algoritmo de ordenação BozoSort\n",
        "\n",
        "import random\n",
        "def reordenar(lista):\n",
        "    a = len(lista)\n",
        "    for i in range(a):\n",
        "        r = random.randint(0,a-1)\n",
        "        lista[i],lista[r] = lista[r],lista[i]\n",
        "    return lista    \n",
        "\n",
        "def bozo_sort(lista):\n",
        "    while(True):\n",
        "        for n in range(len(lista)-1):\n",
        "            if lista[n]<=lista[n+1]:\n",
        "                pass\n",
        "            else:\n",
        "                break\n",
        "        else:    \n",
        "            return lista\n",
        "        lista = reordenar(lista)\n",
        "\n",
        " # Aplica BozoSort\n",
        "inicio = time.time()\n",
        "bozo_sort(X)\n",
        "fim = time.time()\n",
        "\n",
        "print('Método aplicado: BozoSort')\n",
        "print()\n",
        "print('Tamanho do vetor:', n)\n",
        "#print('Vetor ordenado: ')\n",
        "#print(X)\n",
        "print()\n",
        "print('Tempo de processamento: %.3f s' %(fim - inicio))"
      ],
      "metadata": {
        "colab": {
          "base_uri": "https://localhost:8080/"
        },
        "id": "0vt2lBcniy-O",
        "outputId": "32a861cb-57f6-4a7c-cc5d-f1f3fbc2b372"
      },
      "execution_count": null,
      "outputs": [
        {
          "output_type": "stream",
          "name": "stdout",
          "text": [
            "Método aplicado: BozoSort\n",
            "\n",
            "Tamanho do vetor: 100000\n",
            "\n",
            "Tempo de processamento: 0.027 s\n"
          ]
        }
      ]
    },
    {
      "cell_type": "markdown",
      "source": [
        "Código de ordenação Radix Sort:"
      ],
      "metadata": {
        "id": "l1tIcRRl4Dyh"
      }
    },
    {
      "cell_type": "code",
      "source": [
        "# Implementação em Python do algoritmo de ordenação RadixSort\n",
        "\n",
        "\n",
        "# Using counting sort to sort the elements in the basis of significant places\n",
        "def countingSort(array, place):\n",
        "    size = len(array)\n",
        "    output = [0] * size\n",
        "    count = [0] * 10\n",
        "\n",
        "    # Calculate count of elements\n",
        "    for i in range(0, size):\n",
        "        index = array[i] // place\n",
        "        count[index % 10] += 1\n",
        "\n",
        "    # Calculate cumulative count\n",
        "    for i in range(1, 10):\n",
        "        count[i] += count[i - 1]\n",
        "\n",
        "    # Place the elements in sorted order\n",
        "    i = size - 1\n",
        "    while i >= 0:\n",
        "        index = array[i] // place\n",
        "        output[count[index % 10] - 1] = array[i]\n",
        "        count[index % 10] -= 1\n",
        "        i -= 1\n",
        "\n",
        "    for i in range(0, size):\n",
        "        array[i] = output[i]\n",
        "\n",
        "\n",
        "# Main function to implement radix sort\n",
        "def radixSort(array):\n",
        "    # Get maximum element\n",
        "    max_element = max(array)\n",
        "\n",
        "    # Apply counting sort to sort elements based on place value.\n",
        "    place = 1\n",
        "    while max_element // place > 0:\n",
        "        countingSort(array, place)\n",
        "        place *= 10\n",
        "\n",
        "\n",
        "# Aplica RadixSort\n",
        "inicio = time.time()\n",
        "radixSort(X)\n",
        "fim = time.time()\n",
        "\n",
        "print('Método aplicado: RadixSort')\n",
        "print()\n",
        "print('Tamanho do vetor:', n)\n",
        "#print('Vetor ordenado: ')\n",
        "#print(X)\n",
        "print()\n",
        "print('Tempo de processamento: %.3f s' %(fim - inicio))\n",
        "\n"
      ],
      "metadata": {
        "colab": {
          "base_uri": "https://localhost:8080/"
        },
        "id": "WDfBFVKmjUsW",
        "outputId": "d72cdcec-0820-4b1a-a21c-29c8b63fc384"
      },
      "execution_count": null,
      "outputs": [
        {
          "output_type": "stream",
          "name": "stdout",
          "text": [
            "Método aplicado: RadixSort\n",
            "\n",
            "Tamanho do vetor: 100000\n",
            "\n",
            "Tempo de processamento: 0.007 s\n"
          ]
        }
      ]
    },
    {
      "cell_type": "markdown",
      "source": [
        "Biblioteca MatPlotLib para plotar o gráfico comparativo do tempo de execução para cada código:"
      ],
      "metadata": {
        "id": "py2AG-bu4XTC"
      }
    },
    {
      "cell_type": "code",
      "source": [
        "import matplotlib.pyplot as plt\n",
        "from matplotlib import pyplot\n",
        "\n",
        "\n",
        "#L = [100, 1000, 5000, 10000, 20000, 50000, 100000, 200000, 500000 ]\n",
        "\n",
        "L = [100, 1000, 5000, 10000, 20000, 50000, 100000]\n",
        "\n",
        "\n",
        "#MergeSort  \n",
        "t1 = [ 1, 2, 3, 4, 5, 6, 7 ]\n",
        "\n",
        "#QuickSort\n",
        "t2 = [ 2, 4, 6, 8, 10, 12, 14]\n",
        "\n",
        "#ShellSort\n",
        "t3 = [ 3, 6, 9, 12, 15, 18, 21 ]\n",
        "\n",
        "#BucketSort\n",
        "t4 = [ 4, 8, 12, 16, 20, 24, 28]\n",
        "\n",
        "#Selectionsort\n",
        "t5 = [ 5, 10, 15, 20, 25, 30, 35 ]\n",
        "\n",
        "#BozoSort\n",
        "t6 = [ 6, 12, 18, 24, 30, 36, 42 ]\n",
        "\n",
        "#RadixSort\n",
        "t7 = [ 7, 14, 21, 28, 35, 42, 49]\n",
        "\n",
        "plt.title(\"Gráfico comparativo Métodos de Ordenação\")\n",
        "plt.xlabel(\"Elementos\")\n",
        "plt.ylabel(\"Tempo(s)\")\n",
        "\n",
        "plt.plot(L, t1)\n",
        "plt.plot(L, t2)\n",
        "plt.plot(L, t3)\n",
        "plt.plot(L, t4)\n",
        "plt.plot(L, t5)\n",
        "plt.plot(L, t6)\n",
        "plt.plot(L, t7)\n",
        "\n",
        "pyplot.plot(L, t1, label='RadixSort')     #Radix\n",
        "pyplot.plot(L, t2, label='BozoSort')      #Bozo\n",
        "pyplot.plot(L, t3, label='ShellSort')     #Shell\n",
        "pyplot.plot(L, t4, label='QuickSort')     #Quick\n",
        "pyplot.plot(L, t5, label='MergeSort')     #Merg\n",
        "pyplot.plot(L, t6, label='BucketSort')    #Bucket\n",
        "pyplot.plot(L, t7, label='SelectionSort') #Selection\n",
        "pyplot.legend()\n",
        "plt.show()\n",
        "\n",
        "\n"
      ],
      "metadata": {
        "colab": {
          "base_uri": "https://localhost:8080/",
          "height": 295
        },
        "id": "eR1pnWlrNsu_",
        "outputId": "75ec1a91-4e0d-43c8-8a08-8a3c04a9ff11"
      },
      "execution_count": null,
      "outputs": [
        {
          "output_type": "display_data",
          "data": {
            "text/plain": [
              "<Figure size 432x288 with 1 Axes>"
            ],
            "image/png": "[encoded data removed]"
          },
          "metadata": {
            "needs_background": "light"
          }
        }
      ]
    }
  ]
}