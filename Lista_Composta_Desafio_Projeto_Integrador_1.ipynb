{
  "nbformat": 4,
  "nbformat_minor": 0,
  "metadata": {
    "colab": {
      "name": "Lista_Composta_Desafio_Projeto_Integrador_1.ipynb",
      "provenance": [],
      "authorship_tag": "ABX9TyPhLujPuy1eyLF8uBUH6mP8",
      "include_colab_link": true
    },
    "kernelspec": {
      "name": "python3",
      "display_name": "Python 3"
    },
    "language_info": {
      "name": "python"
    }
  },
  "cells": [
    {
      "cell_type": "markdown",
      "metadata": {
        "id": "view-in-github",
        "colab_type": "text"
      },
      "source": [
        "<a href=\"https://colab.research.google.com/github/WagnerLopesCardozo/Projetos-de-Estudo-CD-FaTec-Ourinhos/blob/main/Lista_Composta_Desafio_Projeto_Integrador_1.ipynb\" target=\"_parent\"><img src=\"https://colab.research.google.com/assets/colab-badge.svg\" alt=\"Open In Colab\"/></a>"
      ]
    },
    {
      "cell_type": "markdown",
      "source": [
        "Desafio 1 - Código que lê o nome e a idade e armazena numa lista composta e ao final exibe a maior idade e o nome e a menor idade e o nome."
      ],
      "metadata": {
        "id": "QSMqti4sqKct"
      }
    },
    {
      "cell_type": "code",
      "execution_count": null,
      "metadata": {
        "colab": {
          "base_uri": "https://localhost:8080/"
        },
        "id": "8Sl8SqbeiYu8",
        "outputId": "186b50c3-c42d-4a33-b4e7-607123d01002"
      },
      "outputs": [
        {
          "output_type": "stream",
          "name": "stdout",
          "text": [
            "****************************************************************************************\n",
            "Programa que lê o nome e idade e mostra a maior idade e o nome e a menor idade e o nome:\n",
            "****************************************************************************************\n",
            "Digite seu nome: Wagner\n",
            "Digite sua idade; 39\n",
            "Você que continuar S ou N? s\n",
            "Digite seu nome: André\n",
            "Digite sua idade; 48\n",
            "Você que continuar S ou N? s\n",
            "Digite seu nome: Rose\n",
            "Digite sua idade; 28\n",
            "Você que continuar S ou N? n\n",
            "Ao todo foi cadastrado 3 pessoas\n",
            "A maior idade cadastrada foi de 48 anos para o/a:[André]\n",
            "A menor idade cadastrada foi de 28 anos para o/a:[Rose]\n",
            "FIM DO PROGRAMA\n"
          ]
        }
      ],
      "source": [
        "print('*' * 88)\n",
        "print('Programa que lê o nome e idade e mostra a maior idade e o nome e a menor idade e o nome:')\n",
        "print('*' * 88)\n",
        "\n",
        "temp = []\n",
        "princ = []\n",
        "mai = men = 0\n",
        "while True:\n",
        "  temp.append(str(input('Digite seu nome: ')))\n",
        "  temp.append(int(input('Digite sua idade; ')))\n",
        "  if len(princ) == 0:\n",
        "    mai = men = temp[1]\n",
        "  else:\n",
        "    if temp[1]>mai:\n",
        "      mai=temp[1]\n",
        "    if temp[1]<men:\n",
        "      men=temp[1]\n",
        "  princ.append(temp[:])\n",
        "  temp.clear()\n",
        "  resp=str(input('Você que continuar S ou N? '))\n",
        "  if resp in 'Nn':\n",
        "    break\n",
        "\n",
        "print(f'Ao todo foi cadastrado {len(princ)} pessoas')\n",
        "print(f'A maior idade cadastrada foi de {mai} anos para o/a:', end='')\n",
        "for p in princ:\n",
        "  if p[1]==mai:\n",
        "    print(f'[{p[0]}]', end='')\n",
        "print()\n",
        "print(f'A menor idade cadastrada foi de {men} anos para o/a:', end='')\n",
        "for p in princ:\n",
        "  if p[1]==men:\n",
        "    print(f'[{p[0]}]', end='')\n",
        "print()\n",
        "print('FIM DO PROGRAMA')"
      ]
    },
    {
      "cell_type": "markdown",
      "source": [
        "Desafio 2 - Código que lê 10 números inteiros e coloca-os dentro de uma lista composta separados por lista de números positivos, negativos e neutros e exibe esses números em listas em ordem crescente."
      ],
      "metadata": {
        "id": "orGNow5x6Hc6"
      }
    },
    {
      "cell_type": "code",
      "source": [
        "print('*' * 87)\n",
        "print('Programa que lê 10 números interiros e mostra os números positivos, negativos e neutro:')\n",
        "print('*' * 87)\n",
        "\n",
        "num = [[], [], []]\n",
        "valor = 0\n",
        "\n",
        "for c in range (0, 10):\n",
        "  valor = int(input(f'Digite o {c}º valor: '))\n",
        "  if valor > 0:\n",
        "    num[0].append(valor)\n",
        "  elif valor == 0:\n",
        "    num[1].append(valor)\n",
        "  else:\n",
        "    num[2].append(valor)\n",
        "\n",
        "num[0].sort()\n",
        "num[1].sort()\n",
        "num[2].sort()\n",
        "\n",
        "print(f'Os valores positivos digitados foram: {num[0]}')\n",
        "print(f'O valor neutro digitado foi: {num[1]}')\n",
        "print(f'Os valores negativos digitados foram: {num[2]}')\n",
        "print('FIM DO PROGRAMA')"
      ],
      "metadata": {
        "id": "k5r1tm55oovw",
        "colab": {
          "base_uri": "https://localhost:8080/"
        },
        "outputId": "07d7718a-916e-44e5-9698-27fb893be14e"
      },
      "execution_count": null,
      "outputs": [
        {
          "output_type": "stream",
          "name": "stdout",
          "text": [
            "***************************************************************************************\n",
            "Programa que lê 10 números interiros e mostra os números positivos, negativos e neutro:\n",
            "***************************************************************************************\n",
            "Digite o 0º valor: 78\n",
            "Digite o 1º valor: 89\n",
            "Digite o 2º valor: -7\n",
            "Digite o 3º valor: 0\n",
            "Digite o 4º valor: 100\n",
            "Digite o 5º valor: 49\n",
            "Digite o 6º valor: 784\n",
            "Digite o 7º valor: 329\n",
            "Digite o 8º valor: -34\n",
            "Digite o 9º valor: -11\n",
            "Os valores positivos digitados foram: [49, 78, 89, 100, 329, 784]\n",
            "O valor neutro digitado foi: [0]\n",
            "Os valores negativos digitados foram: [-34, -11, -7]\n",
            "FIM DO PROGRAMA\n"
          ]
        }
      ]
    },
    {
      "cell_type": "markdown",
      "source": [
        "Desafio 3 - Código que recebe uma matriz 2X2 e mostra esta matriz na formatação correta de matriz 2X2."
      ],
      "metadata": {
        "id": "pzK3pBUqDaiD"
      }
    },
    {
      "cell_type": "code",
      "source": [
        "print('*' * 82)\n",
        "print('Programa que recebe uma matriz 2X2 e mostra esta matriz na formatação correta 2X2:')\n",
        "print('*' * 82)\n",
        "\n",
        "\n",
        "matriz = [[0, 0], [0, 0],]\n",
        "\n",
        "for linha in range(0, 2):\n",
        "  for coluna in range(0, 2):\n",
        "    matriz[linha][coluna] = int(input(f'Digite o valor para [{linha}{coluna}]: '))\n",
        "\n",
        "for linha in range(0, 2):\n",
        "  for coluna in range(0, 2):\n",
        "    print(f'[{matriz[linha][coluna]:^4}]', end='')\n",
        "  print()\n",
        "print('FIM DO PROGRAMA')"
      ],
      "metadata": {
        "colab": {
          "base_uri": "https://localhost:8080/"
        },
        "id": "mdy2WnTV83dG",
        "outputId": "4f8ea2bb-d7c5-4dbe-aad9-b1a7c05ba354"
      },
      "execution_count": null,
      "outputs": [
        {
          "output_type": "stream",
          "name": "stdout",
          "text": [
            "**********************************************************************************\n",
            "Programa que recebe uma matriz 2X2 e mostra esta matriz na formatação correta 2X2:\n",
            "**********************************************************************************\n",
            "Digite o valor para [00]: 89\n",
            "Digite o valor para [01]: 49\n",
            "Digite o valor para [10]: 7\n",
            "Digite o valor para [11]: 8\n",
            "[ 89 ][ 49 ]\n",
            "[ 7  ][ 8  ]\n",
            "FIM DO PROGRAMA\n"
          ]
        }
      ]
    },
    {
      "cell_type": "markdown",
      "source": [
        "Desafio 4 - Código que recebe uma matriz 2X2, soma todos os valores desta matriz, soma todos os valores da segunda coluna e mostra o maior valor da primeira linha."
      ],
      "metadata": {
        "id": "iVh5e8t1Se2b"
      }
    },
    {
      "cell_type": "code",
      "source": [
        "print('*' * 153)\n",
        "print('Programa que recebe uma matriz 2X2, soma todos os valores desta matriz, soma todos os valores da segunda coluna e mostra o maior valor da primeira linha:')\n",
        "print('*' * 153)\n",
        "\n",
        "matriz = [[0,0], [0, 0]]\n",
        "\n",
        "somatodos = somavalorsegcoluna = maiornumprimlinha = 0\n",
        "\n",
        "for linha in range (0, 2):\n",
        "  for coluna in range (0, 2):\n",
        "    matriz [linha][coluna] = int(input(f'Digite o valor para a [{linha}{coluna}]: '))\n",
        "\n",
        "for linha in range (0, 2):\n",
        "  for coluna in range (0, 2):\n",
        "    print(f'[{matriz[linha][coluna]:^4}]', end='')\n",
        "    somatodos += matriz[linha][coluna]\n",
        "  print()\n",
        "\n",
        "print(f'A soma de todos os valores da matriz é: {somatodos}')\n",
        "\n",
        "for linha in range (0, 2):\n",
        "  somavalorsegcoluna += matriz[linha][1]\n",
        "\n",
        "print(f'A soma dos valores da segunda coluna é: {somavalorsegcoluna}')\n",
        "\n",
        "for coluna in range (0, 2):\n",
        "  if coluna == 0:\n",
        "    maiornumprimlinha = matriz[0][coluna]\n",
        "  elif matriz [0][coluna] > maiornumprimlinha:\n",
        "    maiornumprimlinha = matriz[0][coluna]\n",
        "\n",
        "print(f'O maior valor da primeira linha é: {maiornumprimlinha}')\n",
        "print('FIM DO PROGRAMA')"
      ],
      "metadata": {
        "colab": {
          "base_uri": "https://localhost:8080/"
        },
        "id": "9ZqoONV0Cn68",
        "outputId": "948dd185-e43c-4105-9350-0a9fd2d8cb92"
      },
      "execution_count": null,
      "outputs": [
        {
          "output_type": "stream",
          "name": "stdout",
          "text": [
            "*********************************************************************************************************************************************************\n",
            "Programa que recebe uma matriz 2X2, soma todos os valores desta matriz, soma todos os valores da segunda coluna e mostra o maior valor da primeira linha:\n",
            "*********************************************************************************************************************************************************\n",
            "Digite o valor para a [00]: 89\n",
            "Digite o valor para a [01]: 49\n",
            "Digite o valor para a [10]: 7\n",
            "Digite o valor para a [11]: 8\n",
            "[ 89 ][ 49 ]\n",
            "[ 7  ][ 8  ]\n",
            "A soma de todos os valores da matriz é: 153\n",
            "A soma dos valores da segunda coluna é: 57\n",
            "O maior valor da primeira linha é: 89\n",
            "FIM DO PROGRAMA\n"
          ]
        }
      ]
    },
    {
      "cell_type": "markdown",
      "source": [
        "Desafio 5 - Código que sorteia aleatoriamente a quantidade de jogos da Megasena escolhidos pelo usuário. "
      ],
      "metadata": {
        "id": "zWBNPuj0gb21"
      }
    },
    {
      "cell_type": "code",
      "source": [
        "print('*' * 149)\n",
        "print('Programa que calcula a média das notas de um conjunto de alunos e mostra a lista das médias e permite saber a nota individual de um determinado aluno')\n",
        "print('*' * 149)\n",
        "\n",
        "listaaluno = list ()\n",
        "\n",
        "while True:\n",
        "  nome = str(input('Digite o nome do aluno: '))\n",
        "  nota1 = float(input('Digite a primeira nota: '))\n",
        "  nota2 = float(input('Digite a segunda nota: '))\n",
        "  media = (nota1 + nota2) / 2\n",
        "  listaaluno.append([nome, [nota1, nota2], media])\n",
        "  pergunta = str(input('Você quer continuar S ou N? ')) \n",
        "  if pergunta in 'Nn':\n",
        "    break\n",
        "\n",
        "print(f'{\"N Aluno\":<4}{\"Nome\":<10}{\"Média\":>8}')\n",
        "\n",
        "for i, x in enumerate(listaaluno):\n",
        "  print(f'{i:<4}{x[0]:<10}{x[2]:>8.1f}')\n",
        "\n",
        "while True:\n",
        "  opcao = int(input('Você quer mostrar a nota de qual aluno? '))\n",
        "  if opcao == 000:\n",
        "    print('FIM DO PRGRAMA')\n",
        "    break\n",
        "  if opcao <= len(listaaluno) - 1:\n",
        "    print(f'As notas do aluno {listaaluno[opcao][0]} são {listaaluno[opcao][1]}')\n",
        "print('OBRIGADO')\n"
      ],
      "metadata": {
        "id": "WuLsmz0mWp2t",
        "colab": {
          "base_uri": "https://localhost:8080/"
        },
        "outputId": "1c237b02-0827-4001-dcd8-563a1565976d"
      },
      "execution_count": 19,
      "outputs": [
        {
          "output_type": "stream",
          "name": "stdout",
          "text": [
            "*****************************************************************************************************************************************************\n",
            "Programa que calcula a média das notas de um conjunto de alunos e mostra a lista das médias e permite saber a nota individual de um determinado aluno\n",
            "*****************************************************************************************************************************************************\n",
            "Digite o nome do aluno: Wagner\n",
            "Digite a primeira nota: 9.7\n",
            "Digite a segunda nota: 8.9\n",
            "Você quer continuar S ou N? s\n",
            "Digite o nome do aluno: André\n",
            "Digite a primeira nota: 9.5\n",
            "Digite a segunda nota: 8.5\n",
            "Você quer continuar S ou N? s\n",
            "Digite o nome do aluno: Rose\n",
            "Digite a primeira nota: 9.8\n",
            "Digite a segunda nota: 8.9\n",
            "Você quer continuar S ou N? n\n",
            "N AlunoNome         Média\n",
            "0   Wagner         9.3\n",
            "1   André          9.0\n",
            "2   Rose           9.4\n",
            "Você quer mostrar a nota de qual aluno? 1\n",
            "As notas do aluno André são [9.5, 8.5]\n",
            "Você quer mostrar a nota de qual aluno? 2\n",
            "As notas do aluno Rose são [9.8, 8.9]\n",
            "Você quer mostrar a nota de qual aluno? 000\n",
            "FIM DO PRGRAMA\n",
            "OBRIGADO\n"
          ]
        }
      ]
    },
    {
      "cell_type": "markdown",
      "source": [
        "Desafio 6 - Código que calcula a média dos alunos e mostra a listagem destas médias e permite visualizar as notas separadamente para cada aluno."
      ],
      "metadata": {
        "id": "nmEjogFSpnT7"
      }
    },
    {
      "cell_type": "code",
      "source": [
        "print('*' * 77)\n",
        "print('Programa que sorteia a quantidade de jogos da Measena desejados pelo usuário:')\n",
        "print('*' * 77)\n",
        "\n",
        "from random import randint\n",
        "from time import sleep\n",
        "\n",
        "lista = list()\n",
        "listajogos = list()\n",
        "\n",
        "quantidadejogos = int(input('Qunatos jogos da Megasena você quer que eu sorteie? '))\n",
        "\n",
        "totaljogos = 1\n",
        "while totaljogos <= quantidadejogos:\n",
        "  contador = 0\n",
        "  while True:\n",
        "    num = randint (1, 60)\n",
        "    if num not in lista:\n",
        "      lista.append(num)\n",
        "      contador += 1\n",
        "    if contador >= 6:\n",
        "      break\n",
        "  lista.sort()\n",
        "  listajogos.append(lista[:])\n",
        "  lista.clear()\n",
        "  totaljogos += 1\n",
        "\n",
        "for i, x in enumerate (listajogos):\n",
        "    print(f'Jogo {i+1}: {x}')\n",
        "    sleep(1)\n",
        "print('BOA SOETE E FIM DO PROGRAMA')\n"
      ],
      "metadata": {
        "id": "l5dYJboGP7-o",
        "colab": {
          "base_uri": "https://localhost:8080/"
        },
        "outputId": "484c717b-a1c1-4978-a245-014e3dda1ce4"
      },
      "execution_count": null,
      "outputs": [
        {
          "output_type": "stream",
          "name": "stdout",
          "text": [
            "*****************************************************************************\n",
            "Programa que sorteia a quantidade de jogos da Measena desejados pelo usuário:\n",
            "*****************************************************************************\n",
            "Qunatos jogos da Megasena você quer que eu sorteie? 10\n",
            "Jogo 1: [4, 33, 40, 42, 52, 54]\n",
            "Jogo 2: [2, 16, 17, 24, 43, 57]\n",
            "Jogo 3: [5, 10, 11, 20, 31, 41]\n",
            "Jogo 4: [27, 33, 38, 42, 55, 58]\n",
            "Jogo 5: [10, 15, 17, 22, 31, 40]\n",
            "Jogo 6: [1, 9, 11, 12, 37, 52]\n",
            "Jogo 7: [2, 10, 15, 36, 42, 45]\n",
            "Jogo 8: [10, 18, 19, 27, 38, 40]\n",
            "Jogo 9: [3, 5, 30, 43, 50, 54]\n",
            "Jogo 10: [2, 18, 40, 47, 53, 56]\n",
            "BOA SOETE E FIM DO PROGRAMA\n"
          ]
        }
      ]
    },
    {
      "cell_type": "code",
      "source": [
        ""
      ],
      "metadata": {
        "id": "oCMTbaRihkkv"
      },
      "execution_count": 11,
      "outputs": []
    }
  ]
}