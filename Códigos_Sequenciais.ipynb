{
  "nbformat": 4,
  "nbformat_minor": 0,
  "metadata": {
    "colab": {
      "name": "Códigos Sequenciais.ipynb",
      "provenance": [],
      "authorship_tag": "ABX9TyPnBq8p4knY0JE4mx/nbMKm",
      "include_colab_link": true
    },
    "kernelspec": {
      "name": "python3",
      "display_name": "Python 3"
    },
    "language_info": {
      "name": "python"
    }
  },
  "cells": [
    {
      "cell_type": "markdown",
      "metadata": {
        "id": "view-in-github",
        "colab_type": "text"
      },
      "source": [
        "<a href=\"https://colab.research.google.com/github/WagnerLopesCardozo/Projetos-de-Estudo-CD-FaTec-Ourinhos/blob/main/C%C3%B3digos_Sequenciais.ipynb\" target=\"_parent\"><img src=\"https://colab.research.google.com/assets/colab-badge.svg\" alt=\"Open In Colab\"/></a>"
      ]
    },
    {
      "cell_type": "markdown",
      "source": [
        "#Códigos Sequenciais"
      ],
      "metadata": {
        "id": "RVnZOHdFPAu6"
      }
    },
    {
      "cell_type": "markdown",
      "source": [
        "Código que recebe as dimenções de um terreno e calcula sua área"
      ],
      "metadata": {
        "id": "sYFLfMuvPZ-h"
      }
    },
    {
      "cell_type": "code",
      "execution_count": 3,
      "metadata": {
        "colab": {
          "base_uri": "https://localhost:8080/"
        },
        "id": "H_OQnjt1OiE6",
        "outputId": "76be8906-a10e-4751-a1e9-ec9752d79832"
      },
      "outputs": [
        {
          "output_type": "stream",
          "name": "stdout",
          "text": [
            "Digite o comprimento do terreno: 80\n",
            "Digite a largura do terreno: 25.5\n",
            "A área do terreno é: 2040.0 m².\n"
          ]
        }
      ],
      "source": [
        "comprimento = float ( input ('Digite o comprimento do terreno: '))\n",
        "largura = float ( input ('Digite a largura do terreno: '))\n",
        "\n",
        "area = comprimento * largura\n",
        "\n",
        "print (f'A área do terreno é: {area} m².')"
      ]
    },
    {
      "cell_type": "markdown",
      "source": [
        "Código que calcula quantas ferraduras um proprietário de um haras precisa comprar para os novos cavalos"
      ],
      "metadata": {
        "id": "Kdy0hDDaRXox"
      }
    },
    {
      "cell_type": "code",
      "source": [
        "quantidade_cavalos = int ( input ('Quantos cavalos novos foram adquiridos? '))\n",
        "\n",
        "quantidade_ferradura = quantidade_cavalos * 4\n",
        "\n",
        "print (f'A quantidade de ferraduras necessárias para os novos cavalos adquiridos pelo haras é: {quantidade_ferradura} ferraduras.')"
      ],
      "metadata": {
        "colab": {
          "base_uri": "https://localhost:8080/"
        },
        "id": "KawgdReWQfOn",
        "outputId": "734fd31c-6ef4-4b7b-b216-d11d9cce8396"
      },
      "execution_count": 6,
      "outputs": [
        {
          "output_type": "stream",
          "name": "stdout",
          "text": [
            "Quantos cavalos novos foram adquiridos? 14\n",
            "A quantidade de ferraduras necessárias para os novos cavalos adquiridos pelo haras é: 56 ferraduras.\n"
          ]
        }
      ]
    },
    {
      "cell_type": "markdown",
      "source": [
        "Código que calcula no final do dia a quantidade de pães franceses e broas vendidos por uma padaria e calcula 10% do rendimento para investimento na caderneta de poupança"
      ],
      "metadata": {
        "id": "FNoKAJPTTUEc"
      }
    },
    {
      "cell_type": "code",
      "source": [
        "quantidade_pfrances = int ( input ('Quantos pães franceses foram vendidos hoje? '))\n",
        "quantidade_pbroa = int ( input ('Quantos pães broa foram vendidos hoje? '))\n",
        "\n",
        "lucro_pfrances = quantidade_pfrances * 0.25\n",
        "lucro_pbroa = quantidade_pbroa * 0.40\n",
        "\n",
        "percentual_investimento = (lucro_pfrances + lucro_pbroa) * 0.10\n",
        "\n",
        "print (f'Ao final do dia foram vendidos {quantidade_pfrances} pães franceses, dando um lucro de R$ {lucro_pfrances} e '\n",
        "       f'{quantidade_pbroa} pães broas, dando um lucro de R$ {lucro_pbroa}, e 10% do lucro total para investimento é de R$ {percentual_investimento}.')"
      ],
      "metadata": {
        "colab": {
          "base_uri": "https://localhost:8080/"
        },
        "id": "_z_M7i3KSi0o",
        "outputId": "8535b1c9-2516-474e-e0af-a617ae2306bf"
      },
      "execution_count": 9,
      "outputs": [
        {
          "output_type": "stream",
          "name": "stdout",
          "text": [
            "Quantos pães franceses foram vendidos hoje? 500\n",
            "Quantos pães broa foram vendidos hoje? 300\n",
            "Ao final do dia foram vendidos 500 pães franceses, dando um lucro de R$ 125.0 e 300 pães broas, dando um lucro de R$ 120.0, e 10% do lucro total para investimento é de R$ 24.5.\n"
          ]
        }
      ]
    },
    {
      "cell_type": "markdown",
      "source": [
        "Código que recebe o nome e idade de uma pessoa e informa quantos dias de viada essa pessoa já teve"
      ],
      "metadata": {
        "id": "OMdUPDb2Xxur"
      }
    },
    {
      "cell_type": "code",
      "source": [
        "nome = str ( input ('Qual é o seu nome? '))\n",
        "idade = int ( input ('qual é a sua idade? '))\n",
        "\n",
        "dias_vividos = idade * 365\n",
        "\n",
        "print (f'Você {nome}, já viveu {dias_vividos} ao longo de sua vida.')"
      ],
      "metadata": {
        "colab": {
          "base_uri": "https://localhost:8080/"
        },
        "id": "oOjUXGoyWbtB",
        "outputId": "7d2039e3-bf2d-4cb2-ec31-f9ad82b25738"
      },
      "execution_count": 12,
      "outputs": [
        {
          "output_type": "stream",
          "name": "stdout",
          "text": [
            "Qual é o seu nome? Wagner\n",
            "qual é a sua idade? 49\n",
            "Você Wagner, já viveu 17885 ao longo de sua vida.\n"
          ]
        }
      ]
    },
    {
      "cell_type": "markdown",
      "source": [
        "Código que calcula a quantidade de litros que uma pessoa consegue abastecer de acordo com o valor que se pretende investir"
      ],
      "metadata": {
        "id": "mpUzz-DIct9W"
      }
    },
    {
      "cell_type": "code",
      "source": [
        "valor_investido = float (input ('Digite o valor que pretende investir para o abastecimento: '))\n",
        "\n",
        "quantidade_litros_gasolina = valor_investido / 3.79\n",
        "quantidade_litros_etanol = valor_investido / 2.79\n",
        "\n",
        "print (f'A quantidade de litros de gasolina e etanol para R$ {valor_investido} investido será de {quantidade_litros_gasolina :.2f} litros e {quantidade_litros_etanol :.2f} litros respectivamente.')"
      ],
      "metadata": {
        "colab": {
          "base_uri": "https://localhost:8080/"
        },
        "id": "1pC3fHT6Yv_G",
        "outputId": "f4314823-65ba-4c8c-aa0a-e459d9f4fbd3"
      },
      "execution_count": 14,
      "outputs": [
        {
          "output_type": "stream",
          "name": "stdout",
          "text": [
            "Digite o valor que pretende investir para o abastecimento: 100\n",
            "A quantidade de litros de gasolina e etanol para R$ 100.0 investido será de 26.39 litros e 35.84 litros respectivamente.\n"
          ]
        }
      ]
    },
    {
      "cell_type": "markdown",
      "source": [
        "Código que calcula o valor a ser pago pelos cliente de um restaurante a quilo"
      ],
      "metadata": {
        "id": "RED_Hxd8gZXs"
      }
    },
    {
      "cell_type": "code",
      "source": [
        "peso_prato = float ( input ('Digite o peso do prato (g): '))\n",
        "\n",
        "valor_pago = peso_prato / 38.00\n",
        "\n",
        "print (f'O valor a ser pago referente a {peso_prato} g é de R$ {valor_pago :.2f}')"
      ],
      "metadata": {
        "colab": {
          "base_uri": "https://localhost:8080/"
        },
        "id": "S4mZynbXfuAK",
        "outputId": "76c64356-eeb4-4288-85dd-28b37da0b1f7"
      },
      "execution_count": 16,
      "outputs": [
        {
          "output_type": "stream",
          "name": "stdout",
          "text": [
            "Digite o peso do prato (g): 800\n",
            "O valor a ser pago referente a 800.0 g é de R$ 21.05\n"
          ]
        }
      ]
    },
    {
      "cell_type": "code",
      "source": [
        ""
      ],
      "metadata": {
        "id": "IStnPmBphZYD"
      },
      "execution_count": null,
      "outputs": []
    }
  ]
}